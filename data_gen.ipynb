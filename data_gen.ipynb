{
 "cells": [
  {
   "cell_type": "code",
   "execution_count": 1,
   "id": "342dfd3b-48e3-4008-8458-da4020f95bcd",
   "metadata": {
    "pycharm": {
     "name": "#%%\n"
    }
   },
   "outputs": [],
   "source": [
    "import pandas as pd\n",
    "import numpy as np\n",
    "import random\n",
    "from datetime import timedelta\n",
    "from datetime import datetime\n",
    "\n"
   ]
  },
  {
   "cell_type": "markdown",
   "id": "3485f5d5-3281-495f-8112-29c4c5d8989e",
   "metadata": {
    "pycharm": {
     "name": "#%% md\n"
    }
   },
   "source": [
    "## Load Task Duration Config\n",
    "For each task type that could be generated we need an average duration and a maximum duration."
   ]
  },
  {
   "cell_type": "code",
   "execution_count": 2,
   "id": "6fdd533e-7b55-4574-9d8e-55cd54441d2c",
   "metadata": {
    "pycharm": {
     "name": "#%%\n"
    },
    "tags": []
   },
   "outputs": [],
   "source": [
    "#Load task duration dataframe\n",
    "#task_duration_df = pd.read_csv('task_duration_config.csv')\n",
    "#task_duration_df.set_index('Task', inplace=True)\n",
    "\n",
    "data = [['New Client Onboarding Request', 0.5,1.5], \n",
    "        ['Review Documents', 0.25,  2.5], \n",
    "        ['Automated Scoreboarding', 0.1, 0.15],\n",
    "        ['Manual Scoreboarding', 1.0, 3.0],\n",
    "        ['Update Backend Systems', 0.25, 0.5],\n",
    "        ['Notification Review Request Completed', 0.1, 0.15]\n",
    "       ]\n",
    "\n",
    "task_duration_df = pd.DataFrame(data, columns=['Task', 'Avg', 'Max'])\n",
    "task_duration_df.set_index('Task', inplace=True)"
   ]
  },
  {
   "cell_type": "code",
   "execution_count": 3,
   "id": "d21a097b-e4f6-4108-9270-1d27249c99db",
   "metadata": {
    "pycharm": {
     "name": "#%%\n"
    },
    "scrolled": true,
    "tags": []
   },
   "outputs": [
    {
     "data": {
      "text/html": [
       "<div>\n",
       "<style scoped>\n",
       "    .dataframe tbody tr th:only-of-type {\n",
       "        vertical-align: middle;\n",
       "    }\n",
       "\n",
       "    .dataframe tbody tr th {\n",
       "        vertical-align: top;\n",
       "    }\n",
       "\n",
       "    .dataframe thead th {\n",
       "        text-align: right;\n",
       "    }\n",
       "</style>\n",
       "<table border=\"1\" class=\"dataframe\">\n",
       "  <thead>\n",
       "    <tr style=\"text-align: right;\">\n",
       "      <th></th>\n",
       "      <th>Avg</th>\n",
       "      <th>Max</th>\n",
       "    </tr>\n",
       "    <tr>\n",
       "      <th>Task</th>\n",
       "      <th></th>\n",
       "      <th></th>\n",
       "    </tr>\n",
       "  </thead>\n",
       "  <tbody>\n",
       "    <tr>\n",
       "      <th>New Client Onboarding Request</th>\n",
       "      <td>0.50</td>\n",
       "      <td>1.50</td>\n",
       "    </tr>\n",
       "    <tr>\n",
       "      <th>Review Documents</th>\n",
       "      <td>0.25</td>\n",
       "      <td>2.50</td>\n",
       "    </tr>\n",
       "    <tr>\n",
       "      <th>Automated Scoreboarding</th>\n",
       "      <td>0.10</td>\n",
       "      <td>0.15</td>\n",
       "    </tr>\n",
       "    <tr>\n",
       "      <th>Manual Scoreboarding</th>\n",
       "      <td>1.00</td>\n",
       "      <td>3.00</td>\n",
       "    </tr>\n",
       "    <tr>\n",
       "      <th>Update Backend Systems</th>\n",
       "      <td>0.25</td>\n",
       "      <td>0.50</td>\n",
       "    </tr>\n",
       "    <tr>\n",
       "      <th>Notification Review Request Completed</th>\n",
       "      <td>0.10</td>\n",
       "      <td>0.15</td>\n",
       "    </tr>\n",
       "  </tbody>\n",
       "</table>\n",
       "</div>"
      ],
      "text/plain": [
       "                                        Avg   Max\n",
       "Task                                             \n",
       "New Client Onboarding Request          0.50  1.50\n",
       "Review Documents                       0.25  2.50\n",
       "Automated Scoreboarding                0.10  0.15\n",
       "Manual Scoreboarding                   1.00  3.00\n",
       "Update Backend Systems                 0.25  0.50\n",
       "Notification Review Request Completed  0.10  0.15"
      ]
     },
     "execution_count": 3,
     "metadata": {},
     "output_type": "execute_result"
    }
   ],
   "source": [
    "task_duration_df.head(10)"
   ]
  },
  {
   "cell_type": "markdown",
   "id": "355b283c",
   "metadata": {
    "pycharm": {
     "name": "#%% md\n"
    }
   },
   "source": [
    "## Utility Functions"
   ]
  },
  {
   "cell_type": "markdown",
   "id": "f953f41d",
   "metadata": {
    "pycharm": {
     "name": "#%% md\n"
    }
   },
   "source": [
    "### Generate Process Instances\n",
    "This function manages the creation of process instances for a specific process variant. A process variant is simply the list of tasks in execution order, including any loops. For example ['Wake Up', 'Breakfast', 'Work', 'Dinner' 'Sleep']"
   ]
  },
  {
   "cell_type": "code",
   "execution_count": 4,
   "id": "d9e25211",
   "metadata": {
    "pycharm": {
     "name": "#%%\n"
    }
   },
   "outputs": [],
   "source": [
    "def generate_process_instances(process_variant, qty):\n",
    "\n",
    "    global start_date_time\n",
    "    global instance_counter\n",
    "    task_list = []\n",
    "    for x in range(0, qty):\n",
    "        tasks = build_task_list(instance_counter, process_variant, start_date_time, task_duration_df)\n",
    "        for task in tasks:\n",
    "            task_list.append(task)\n",
    "\n",
    "        # Increment the start time by 24 hour\n",
    "        start_date_time = start_date_time + timedelta(hours=24)\n",
    "        # Increment the process_id\n",
    "        instance_counter = instance_counter +1\n",
    "        \n",
    "    return task_list"
   ]
  },
  {
   "cell_type": "markdown",
   "id": "45b76785-3ae6-4d95-aabf-f730fb83fa35",
   "metadata": {
    "pycharm": {
     "name": "#%% md\n"
    }
   },
   "source": [
    "## Build Task List\n",
    "The build_task_list function creates a list of tasks for a specific instance of a process. The sequence of tasks is defined in the variable called process_variant. Random task durations are calculated using the task_durations_df that contains the task name, the average duration and the max duration.  \n",
    "\n",
    "This code generates a random duration by leveraging the numpy lognormal function that gives a random\n",
    "number drawn from a log normal distribution. Look up a picture of log normal distributions and you'll see \n",
    "why this is useful for generating random durations based on a mean and std deviation.\n",
    "most samples are near the average with a long tail stretching towards infinity.\n"
   ]
  },
  {
   "cell_type": "code",
   "execution_count": 5,
   "id": "0e4b8baa-ca9a-4425-ac52-91ba6f9effe9",
   "metadata": {
    "pycharm": {
     "name": "#%%\n"
    }
   },
   "outputs": [],
   "source": [
    "def build_task_list(instance_id, process_variant, start_date_time, task_duration_df):\n",
    "    instance_task_list = []\n",
    "    rnd = np.random.default_rng()  # a random number generator\n",
    "\n",
    "    # process_variant is a series\n",
    "    for task_type in process_variant:\n",
    "        # get the avg and max durations from the task_df dataframe using task_type as the key\n",
    "        avg_dur = task_duration_df.loc[task_type, 'Avg']\n",
    "        max_dur = task_duration_df.loc[task_type, 'Max']\n",
    "\n",
    "        sigma = (max_dur - avg_dur) / max_dur  # std dev\n",
    "        log_mean = np.log(avg_dur)  # can't pass the mean duration into lognormal until it has been logged itself \n",
    "        delta = rnd.lognormal(log_mean, sigma)  # get a random sample from a log normal distribution with a std dev\n",
    "        end_time = start_date_time + timedelta(hours=delta)\n",
    "        task = [instance_id, task_type, start_date_time, end_time]\n",
    "        instance_task_list.append(task)\n",
    "\n",
    "        # set the start time of the next tasks to be 5 mins after the end time of this task\n",
    "        start_date_time = end_time + timedelta(minutes=5)\n",
    "\n",
    "    return instance_task_list"
   ]
  },
  {
   "cell_type": "markdown",
   "id": "3ca40d08",
   "metadata": {
    "pycharm": {
     "name": "#%% md\n"
    }
   },
   "source": [
    "## Delay Task Start Time\n",
    "This function shifts the task start time for a specific task with a specific attribute set to a specific value. For example, to delay the start time of breakfast by 1hour \"task_list, User, Gerry, Eat Breakfast, 1\"\n",
    "\n",
    "This function will apply the same delay to every subsequent task of the process instance. "
   ]
  },
  {
   "cell_type": "code",
   "execution_count": 6,
   "id": "4ddcee7b-e027-4b81-bfea-a0d79ff239aa",
   "metadata": {
    "pycharm": {
     "name": "#%%\n"
    }
   },
   "outputs": [],
   "source": [
    "def delayStartTime(tasks, target_attribute, target_value, target_task, timeShift):\n",
    "\n",
    "    # Logic requires we sort by process_id and start_date\n",
    "    tasks = tasks.sort_values(['process_id', 'start_time'])\n",
    "    tasks = tasks.reset_index(drop=True)\n",
    "    process_being_modified = -1\n",
    "\n",
    "    # iterate through the dataframe using the index value\n",
    "    for x in tasks.index:\n",
    "        row = tasks.loc[x]\n",
    "        task_attribute = row[target_attribute]\n",
    "        row_task = row['task']\n",
    "        current_process = row['process_id']\n",
    "\n",
    "\n",
    "        # Have we found the target activity\n",
    "        if row_task == target_task and task_attribute == target_value:\n",
    "            process_being_modified = current_process\n",
    "\n",
    "        # Are we still processing the same process that we were when we found the target activity ?\n",
    "        # If so we are moving all subsequent tasks back by the value of the timeshift parameter,\n",
    "        # this means shifting the start time and the end time\n",
    "        if current_process == process_being_modified:\n",
    "            # shift the start time\n",
    "            current_start = row['start_time']\n",
    "            shifted_start = current_start + timedelta(hours=timeShift)\n",
    "            tasks.loc[x, 'start_time'] = shifted_start\n",
    "            \n",
    "            # shift the end time\n",
    "            current_end = row['end_time']\n",
    "            shifted_end = current_end + timedelta(hours=timeShift)\n",
    "            tasks.loc[x, 'end_time'] = shifted_end\n",
    "            \n",
    "    return tasks"
   ]
  },
  {
   "cell_type": "markdown",
   "id": "66be8c5c",
   "metadata": {
    "pycharm": {
     "name": "#%% md\n"
    }
   },
   "source": [
    "## Increase Duration\n",
    "This will increase the duration of the target task for each process and alter the timings of any subsequent tasks\n",
    "When iterating over tasks there are four potential conditions:\n",
    "1. We haven't found the target task in the tasks of a process - do nothing.\n",
    "2. We have found the target task so just increase the end time\n",
    "3. We have found a task the follows the target task, increase the start time and end time by the timedelta\n",
    "\n",
    "This logic treats repeat target tasks just like any other task that follows the first target, it only delays the first encounter with \n",
    "the target task. "
   ]
  },
  {
   "cell_type": "code",
   "execution_count": 7,
   "id": "a8c989fd",
   "metadata": {
    "pycharm": {
     "name": "#%%\n"
    }
   },
   "outputs": [],
   "source": [
    "def increaseDuration(tasks, target_attribute, target_value, target_task, timeShift):\n",
    "\n",
    "    # Logic requires we sort by process_id and start_date\n",
    "    tasks = tasks.sort_values(['process_id', 'start_time'])\n",
    "    tasks = tasks.reset_index(drop=True)\n",
    "    process_being_modified = -1\n",
    "    target_task_counter = 0\n",
    "    \n",
    "    # iterate through the dataframe using the index value\n",
    "    for x in tasks.index:\n",
    "        row = tasks.loc[x]\n",
    "        task_attribute = row[target_attribute]\n",
    "        row_task = row['task']\n",
    "        current_process = row['process_id']\n",
    "        processing_target_task = False\n",
    "        \n",
    "        # reset the target task counter when we come across a new process\n",
    "        if current_process !=  process_being_modified:\n",
    "            target_task_counter = 0\n",
    "\n",
    "        # Have we found a task of the target type with a target attribute matching the target value?\n",
    "        if row_task == target_task and task_attribute == target_value:\n",
    "            process_being_modified = current_process\n",
    "            target_task_counter = target_task_counter + 1\n",
    "            \n",
    "            # If this is the first target task in this process then\n",
    "            # just increase the duration by increasing the end_time\n",
    "            if target_task_counter == 1: \n",
    "                current_end = row['end_time']\n",
    "                shifted_end = current_end + timedelta(hours=timeShift)\n",
    "                tasks.loc[x, 'end_time'] = shifted_end\n",
    "            else:\n",
    "                current_start = row['start_time']\n",
    "                shifted_start = current_start + timedelta(hours=timeShift)\n",
    "                tasks.loc[x, 'start_time'] = shifted_start\n",
    "            \n",
    "                current_end = row['end_time']\n",
    "                shifted_end = current_end + timedelta(hours=timeShift)\n",
    "                tasks.loc[x, 'end_time'] = shifted_end\n",
    "                \n",
    "        # If we are processing ANY subsequent task that follows the target task \n",
    "        # this means shifting the start time and the end time.\n",
    "        elif target_task_counter > 0:\n",
    "                current_start = row['start_time']\n",
    "                shifted_start = current_start + timedelta(hours=timeShift)\n",
    "                tasks.loc[x, 'start_time'] = shifted_start\n",
    "            \n",
    "                current_end = row['end_time']\n",
    "                shifted_end = current_end + timedelta(hours=timeShift)\n",
    "                tasks.loc[x, 'end_time'] = shifted_end\n",
    "            \n",
    "    return tasks"
   ]
  },
  {
   "cell_type": "markdown",
   "id": "ecd6ee13",
   "metadata": {
    "pycharm": {
     "name": "#%% md\n"
    }
   },
   "source": [
    "## Initialise Data Generator"
   ]
  },
  {
   "cell_type": "code",
   "execution_count": 8,
   "id": "5054916d",
   "metadata": {
    "pycharm": {
     "name": "#%%\n"
    }
   },
   "outputs": [],
   "source": [
    "start_date_time = datetime(2017, 11, 28, 18, 00, 00)\n",
    "instance_time_offset = 24\n",
    "instance_counter = 1\n"
   ]
  },
  {
   "cell_type": "markdown",
   "id": "72d85bea",
   "metadata": {
    "pycharm": {
     "name": "#%% md\n"
    }
   },
   "source": [
    "## Create Happy Path Instances"
   ]
  },
  {
   "cell_type": "code",
   "execution_count": 9,
   "id": "c65d3be6",
   "metadata": {
    "pycharm": {
     "name": "#%%\n"
    }
   },
   "outputs": [],
   "source": [
    "\n",
    "qty = 900\n",
    "happy_path = [\"New Client Onboarding Request\", \n",
    "               \"Review Documents\", \n",
    "               \"Automated Scoreboarding\",\n",
    "               \"Update Backend Systems\", \n",
    "               \"Notification Review Request Completed\"]\n",
    "\n",
    "happy_path_task_list = []\n",
    "happy_path_task_list = generate_process_instances(happy_path, qty)\n",
    "happy_path_task_list_df = pd.DataFrame(happy_path_task_list)\n",
    "\n",
    "# Increment the start time by 24 hour\n",
    "start_date_time = start_date_time + timedelta(hours=24)"
   ]
  },
  {
   "cell_type": "code",
   "execution_count": 10,
   "id": "d13275be",
   "metadata": {
    "pycharm": {
     "name": "#%%\n"
    }
   },
   "outputs": [
    {
     "data": {
      "text/html": [
       "<div>\n",
       "<style scoped>\n",
       "    .dataframe tbody tr th:only-of-type {\n",
       "        vertical-align: middle;\n",
       "    }\n",
       "\n",
       "    .dataframe tbody tr th {\n",
       "        vertical-align: top;\n",
       "    }\n",
       "\n",
       "    .dataframe thead th {\n",
       "        text-align: right;\n",
       "    }\n",
       "</style>\n",
       "<table border=\"1\" class=\"dataframe\">\n",
       "  <thead>\n",
       "    <tr style=\"text-align: right;\">\n",
       "      <th></th>\n",
       "      <th>0</th>\n",
       "      <th>1</th>\n",
       "      <th>2</th>\n",
       "      <th>3</th>\n",
       "    </tr>\n",
       "  </thead>\n",
       "  <tbody>\n",
       "    <tr>\n",
       "      <th>0</th>\n",
       "      <td>1</td>\n",
       "      <td>New Client Onboarding Request</td>\n",
       "      <td>2017-11-28 18:00:00.000000</td>\n",
       "      <td>2017-11-28 18:24:31.705541</td>\n",
       "    </tr>\n",
       "    <tr>\n",
       "      <th>1</th>\n",
       "      <td>1</td>\n",
       "      <td>Review Documents</td>\n",
       "      <td>2017-11-28 18:29:31.705541</td>\n",
       "      <td>2017-11-28 19:05:19.125159</td>\n",
       "    </tr>\n",
       "    <tr>\n",
       "      <th>2</th>\n",
       "      <td>1</td>\n",
       "      <td>Automated Scoreboarding</td>\n",
       "      <td>2017-11-28 19:10:19.125159</td>\n",
       "      <td>2017-11-28 19:15:37.475968</td>\n",
       "    </tr>\n",
       "    <tr>\n",
       "      <th>3</th>\n",
       "      <td>1</td>\n",
       "      <td>Update Backend Systems</td>\n",
       "      <td>2017-11-28 19:20:37.475968</td>\n",
       "      <td>2017-11-28 19:32:25.774766</td>\n",
       "    </tr>\n",
       "    <tr>\n",
       "      <th>4</th>\n",
       "      <td>1</td>\n",
       "      <td>Notification Review Request Completed</td>\n",
       "      <td>2017-11-28 19:37:25.774766</td>\n",
       "      <td>2017-11-28 19:44:15.431480</td>\n",
       "    </tr>\n",
       "  </tbody>\n",
       "</table>\n",
       "</div>"
      ],
      "text/plain": [
       "   0                                      1                          2  \\\n",
       "0  1          New Client Onboarding Request 2017-11-28 18:00:00.000000   \n",
       "1  1                       Review Documents 2017-11-28 18:29:31.705541   \n",
       "2  1                Automated Scoreboarding 2017-11-28 19:10:19.125159   \n",
       "3  1                 Update Backend Systems 2017-11-28 19:20:37.475968   \n",
       "4  1  Notification Review Request Completed 2017-11-28 19:37:25.774766   \n",
       "\n",
       "                           3  \n",
       "0 2017-11-28 18:24:31.705541  \n",
       "1 2017-11-28 19:05:19.125159  \n",
       "2 2017-11-28 19:15:37.475968  \n",
       "3 2017-11-28 19:32:25.774766  \n",
       "4 2017-11-28 19:44:15.431480  "
      ]
     },
     "execution_count": 10,
     "metadata": {},
     "output_type": "execute_result"
    }
   ],
   "source": [
    "happy_path_task_list_df.head()"
   ]
  },
  {
   "cell_type": "markdown",
   "id": "3ae25bff",
   "metadata": {
    "pycharm": {
     "name": "#%% md\n"
    }
   },
   "source": [
    "## Create Instances Requiring Manual Scoreboarding"
   ]
  },
  {
   "cell_type": "code",
   "execution_count": 11,
   "id": "2dee127f",
   "metadata": {
    "pycharm": {
     "name": "#%%\n"
    }
   },
   "outputs": [],
   "source": [
    "\n",
    "qty = 80\n",
    "manual_path = [\"New Client Onboarding Request\", \n",
    "               \"Review Documents\", \n",
    "               \"Automated Scoreboarding\",\n",
    "               \"Manual Scoreboarding\",\n",
    "               \"Update Backend Systems\", \n",
    "               \"Notification Review Request Completed\"]\n",
    "\n",
    "manual_path_task_list = []\n",
    "manual_path_task_list = generate_process_instances(manual_path, qty)\n",
    "manual_path_task_list_df = pd.DataFrame(manual_path_task_list)\n",
    "\n",
    "# Increment the start time by 24 hour\n",
    "start_date_time = start_date_time + timedelta(hours=24)"
   ]
  },
  {
   "cell_type": "code",
   "execution_count": 12,
   "id": "26f3b6ab",
   "metadata": {
    "pycharm": {
     "name": "#%%\n"
    }
   },
   "outputs": [
    {
     "data": {
      "text/html": [
       "<div>\n",
       "<style scoped>\n",
       "    .dataframe tbody tr th:only-of-type {\n",
       "        vertical-align: middle;\n",
       "    }\n",
       "\n",
       "    .dataframe tbody tr th {\n",
       "        vertical-align: top;\n",
       "    }\n",
       "\n",
       "    .dataframe thead th {\n",
       "        text-align: right;\n",
       "    }\n",
       "</style>\n",
       "<table border=\"1\" class=\"dataframe\">\n",
       "  <thead>\n",
       "    <tr style=\"text-align: right;\">\n",
       "      <th></th>\n",
       "      <th>0</th>\n",
       "      <th>1</th>\n",
       "      <th>2</th>\n",
       "      <th>3</th>\n",
       "    </tr>\n",
       "  </thead>\n",
       "  <tbody>\n",
       "    <tr>\n",
       "      <th>0</th>\n",
       "      <td>901</td>\n",
       "      <td>New Client Onboarding Request</td>\n",
       "      <td>2020-05-17 18:00:00.000000</td>\n",
       "      <td>2020-05-17 18:39:44.664783</td>\n",
       "    </tr>\n",
       "    <tr>\n",
       "      <th>1</th>\n",
       "      <td>901</td>\n",
       "      <td>Review Documents</td>\n",
       "      <td>2020-05-17 18:44:44.664783</td>\n",
       "      <td>2020-05-17 19:12:01.179872</td>\n",
       "    </tr>\n",
       "    <tr>\n",
       "      <th>2</th>\n",
       "      <td>901</td>\n",
       "      <td>Automated Scoreboarding</td>\n",
       "      <td>2020-05-17 19:17:01.179872</td>\n",
       "      <td>2020-05-17 19:23:38.866205</td>\n",
       "    </tr>\n",
       "    <tr>\n",
       "      <th>3</th>\n",
       "      <td>901</td>\n",
       "      <td>Manual Scoreboarding</td>\n",
       "      <td>2020-05-17 19:28:38.866205</td>\n",
       "      <td>2020-05-17 20:44:13.742581</td>\n",
       "    </tr>\n",
       "    <tr>\n",
       "      <th>4</th>\n",
       "      <td>901</td>\n",
       "      <td>Update Backend Systems</td>\n",
       "      <td>2020-05-17 20:49:13.742581</td>\n",
       "      <td>2020-05-17 21:00:40.366571</td>\n",
       "    </tr>\n",
       "  </tbody>\n",
       "</table>\n",
       "</div>"
      ],
      "text/plain": [
       "     0                              1                          2  \\\n",
       "0  901  New Client Onboarding Request 2020-05-17 18:00:00.000000   \n",
       "1  901               Review Documents 2020-05-17 18:44:44.664783   \n",
       "2  901        Automated Scoreboarding 2020-05-17 19:17:01.179872   \n",
       "3  901           Manual Scoreboarding 2020-05-17 19:28:38.866205   \n",
       "4  901         Update Backend Systems 2020-05-17 20:49:13.742581   \n",
       "\n",
       "                           3  \n",
       "0 2020-05-17 18:39:44.664783  \n",
       "1 2020-05-17 19:12:01.179872  \n",
       "2 2020-05-17 19:23:38.866205  \n",
       "3 2020-05-17 20:44:13.742581  \n",
       "4 2020-05-17 21:00:40.366571  "
      ]
     },
     "execution_count": 12,
     "metadata": {},
     "output_type": "execute_result"
    }
   ],
   "source": [
    "manual_path_task_list_df.head()"
   ]
  },
  {
   "cell_type": "markdown",
   "id": "5088ebfe",
   "metadata": {
    "pycharm": {
     "name": "#%% md\n"
    }
   },
   "source": [
    "## Create Instance that loop\n",
    "Create processes that loop back to Review Docs from Manual Scoreboarding."
   ]
  },
  {
   "cell_type": "code",
   "execution_count": 13,
   "id": "6920ad20",
   "metadata": {
    "pycharm": {
     "name": "#%%\n"
    }
   },
   "outputs": [],
   "source": [
    "qty = 20\n",
    "loop_path = [\"New Client Onboarding Request\", \n",
    "               \"Review Documents\", \n",
    "               \"Automated Scoreboarding\",\n",
    "               \"Manual Scoreboarding\",\n",
    "               \"Review Documents\",\n",
    "               \"Update Backend Systems\", \n",
    "               \"Notification Review Request Completed\"]\n",
    "\n",
    "loop_path_task_list = []\n",
    "loop_path_task_list = generate_process_instances(loop_path, qty)\n",
    "loop_path_task_list_df = pd.DataFrame(loop_path_task_list)\n",
    "\n",
    "# Increment the start time by 24 hour\n",
    "start_date_time = start_date_time + timedelta(hours=24)"
   ]
  },
  {
   "cell_type": "code",
   "execution_count": 14,
   "id": "c3aa80f2",
   "metadata": {
    "pycharm": {
     "name": "#%%\n"
    }
   },
   "outputs": [],
   "source": [
    "# Can only concat two dataframes at a time\n",
    "df = pd.concat([happy_path_task_list_df,manual_path_task_list_df], axis=0)\n",
    "df = pd.concat([df,loop_path_task_list_df], axis=0)"
   ]
  },
  {
   "cell_type": "code",
   "execution_count": 15,
   "id": "f2f5df33",
   "metadata": {
    "pycharm": {
     "name": "#%%\n"
    }
   },
   "outputs": [],
   "source": [
    "df.columns = ['process_id', 'task', 'start_time', 'end_time']"
   ]
  },
  {
   "cell_type": "code",
   "execution_count": 16,
   "id": "8b58822c",
   "metadata": {
    "pycharm": {
     "name": "#%%\n"
    }
   },
   "outputs": [
    {
     "name": "stdout",
     "output_type": "stream",
     "text": [
      "<class 'pandas.core.frame.DataFrame'>\n",
      "Int64Index: 5120 entries, 0 to 139\n",
      "Data columns (total 4 columns):\n",
      " #   Column      Non-Null Count  Dtype         \n",
      "---  ------      --------------  -----         \n",
      " 0   process_id  5120 non-null   int64         \n",
      " 1   task        5120 non-null   object        \n",
      " 2   start_time  5120 non-null   datetime64[ns]\n",
      " 3   end_time    5120 non-null   datetime64[ns]\n",
      "dtypes: datetime64[ns](2), int64(1), object(1)\n",
      "memory usage: 200.0+ KB\n"
     ]
    }
   ],
   "source": [
    "df.info()"
   ]
  },
  {
   "cell_type": "code",
   "execution_count": 17,
   "id": "b002eaa8",
   "metadata": {
    "pycharm": {
     "name": "#%%\n"
    }
   },
   "outputs": [
    {
     "data": {
      "text/plain": [
       "1000"
      ]
     },
     "execution_count": 17,
     "metadata": {},
     "output_type": "execute_result"
    }
   ],
   "source": [
    "# Confirm how many processes\n",
    "len(df[\"process_id\"].unique())"
   ]
  },
  {
   "cell_type": "code",
   "execution_count": 18,
   "id": "a39aedca",
   "metadata": {
    "pycharm": {
     "name": "#%%\n"
    }
   },
   "outputs": [
    {
     "data": {
      "text/html": [
       "<div>\n",
       "<style scoped>\n",
       "    .dataframe tbody tr th:only-of-type {\n",
       "        vertical-align: middle;\n",
       "    }\n",
       "\n",
       "    .dataframe tbody tr th {\n",
       "        vertical-align: top;\n",
       "    }\n",
       "\n",
       "    .dataframe thead th {\n",
       "        text-align: right;\n",
       "    }\n",
       "</style>\n",
       "<table border=\"1\" class=\"dataframe\">\n",
       "  <thead>\n",
       "    <tr style=\"text-align: right;\">\n",
       "      <th></th>\n",
       "      <th>process_id</th>\n",
       "      <th>task</th>\n",
       "      <th>start_time</th>\n",
       "      <th>end_time</th>\n",
       "    </tr>\n",
       "  </thead>\n",
       "  <tbody>\n",
       "    <tr>\n",
       "      <th>0</th>\n",
       "      <td>1</td>\n",
       "      <td>New Client Onboarding Request</td>\n",
       "      <td>2017-11-28 18:00:00.000000</td>\n",
       "      <td>2017-11-28 18:24:31.705541</td>\n",
       "    </tr>\n",
       "    <tr>\n",
       "      <th>1</th>\n",
       "      <td>1</td>\n",
       "      <td>Review Documents</td>\n",
       "      <td>2017-11-28 18:29:31.705541</td>\n",
       "      <td>2017-11-28 19:05:19.125159</td>\n",
       "    </tr>\n",
       "    <tr>\n",
       "      <th>2</th>\n",
       "      <td>1</td>\n",
       "      <td>Automated Scoreboarding</td>\n",
       "      <td>2017-11-28 19:10:19.125159</td>\n",
       "      <td>2017-11-28 19:15:37.475968</td>\n",
       "    </tr>\n",
       "    <tr>\n",
       "      <th>3</th>\n",
       "      <td>1</td>\n",
       "      <td>Update Backend Systems</td>\n",
       "      <td>2017-11-28 19:20:37.475968</td>\n",
       "      <td>2017-11-28 19:32:25.774766</td>\n",
       "    </tr>\n",
       "    <tr>\n",
       "      <th>4</th>\n",
       "      <td>1</td>\n",
       "      <td>Notification Review Request Completed</td>\n",
       "      <td>2017-11-28 19:37:25.774766</td>\n",
       "      <td>2017-11-28 19:44:15.431480</td>\n",
       "    </tr>\n",
       "    <tr>\n",
       "      <th>5</th>\n",
       "      <td>2</td>\n",
       "      <td>New Client Onboarding Request</td>\n",
       "      <td>2017-11-29 18:00:00.000000</td>\n",
       "      <td>2017-11-29 18:11:13.263380</td>\n",
       "    </tr>\n",
       "    <tr>\n",
       "      <th>6</th>\n",
       "      <td>2</td>\n",
       "      <td>Review Documents</td>\n",
       "      <td>2017-11-29 18:16:13.263380</td>\n",
       "      <td>2017-11-29 18:24:50.850333</td>\n",
       "    </tr>\n",
       "    <tr>\n",
       "      <th>7</th>\n",
       "      <td>2</td>\n",
       "      <td>Automated Scoreboarding</td>\n",
       "      <td>2017-11-29 18:29:50.850333</td>\n",
       "      <td>2017-11-29 18:37:19.760233</td>\n",
       "    </tr>\n",
       "    <tr>\n",
       "      <th>8</th>\n",
       "      <td>2</td>\n",
       "      <td>Update Backend Systems</td>\n",
       "      <td>2017-11-29 18:42:19.760233</td>\n",
       "      <td>2017-11-29 19:00:57.035926</td>\n",
       "    </tr>\n",
       "    <tr>\n",
       "      <th>9</th>\n",
       "      <td>2</td>\n",
       "      <td>Notification Review Request Completed</td>\n",
       "      <td>2017-11-29 19:05:57.035926</td>\n",
       "      <td>2017-11-29 19:10:15.819603</td>\n",
       "    </tr>\n",
       "  </tbody>\n",
       "</table>\n",
       "</div>"
      ],
      "text/plain": [
       "   process_id                                   task  \\\n",
       "0           1          New Client Onboarding Request   \n",
       "1           1                       Review Documents   \n",
       "2           1                Automated Scoreboarding   \n",
       "3           1                 Update Backend Systems   \n",
       "4           1  Notification Review Request Completed   \n",
       "5           2          New Client Onboarding Request   \n",
       "6           2                       Review Documents   \n",
       "7           2                Automated Scoreboarding   \n",
       "8           2                 Update Backend Systems   \n",
       "9           2  Notification Review Request Completed   \n",
       "\n",
       "                  start_time                   end_time  \n",
       "0 2017-11-28 18:00:00.000000 2017-11-28 18:24:31.705541  \n",
       "1 2017-11-28 18:29:31.705541 2017-11-28 19:05:19.125159  \n",
       "2 2017-11-28 19:10:19.125159 2017-11-28 19:15:37.475968  \n",
       "3 2017-11-28 19:20:37.475968 2017-11-28 19:32:25.774766  \n",
       "4 2017-11-28 19:37:25.774766 2017-11-28 19:44:15.431480  \n",
       "5 2017-11-29 18:00:00.000000 2017-11-29 18:11:13.263380  \n",
       "6 2017-11-29 18:16:13.263380 2017-11-29 18:24:50.850333  \n",
       "7 2017-11-29 18:29:50.850333 2017-11-29 18:37:19.760233  \n",
       "8 2017-11-29 18:42:19.760233 2017-11-29 19:00:57.035926  \n",
       "9 2017-11-29 19:05:57.035926 2017-11-29 19:10:15.819603  "
      ]
     },
     "execution_count": 18,
     "metadata": {},
     "output_type": "execute_result"
    }
   ],
   "source": [
    "df.head(10)"
   ]
  },
  {
   "cell_type": "markdown",
   "id": "a91e712d",
   "metadata": {
    "pycharm": {
     "name": "#%% md\n"
    }
   },
   "source": [
    "## Add Task Level Business Data : User"
   ]
  },
  {
   "cell_type": "code",
   "execution_count": 19,
   "id": "5318f6c8",
   "metadata": {
    "pycharm": {
     "name": "#%%\n"
    }
   },
   "outputs": [],
   "source": [
    "\n",
    "# Add a column for User\n",
    "df[\"user\"] = \"\""
   ]
  },
  {
   "cell_type": "code",
   "execution_count": 20,
   "id": "972aa8a1",
   "metadata": {
    "pycharm": {
     "name": "#%%\n"
    }
   },
   "outputs": [],
   "source": [
    "def setRandomUser(row):\n",
    "    match row[\"task\"]:\n",
    "        case \"Review Documents\":\n",
    "            return random.choice(['Rod','Jane','Freddy'])\n",
    "        case \"New Client Onboarding Request\":\n",
    "            return random.choice(['Clive','Francis','Nick','Seb','Tom'])\n",
    "        case \"Manual Scoreboarding\":\n",
    "            return random.choice(['Sharon','Susan', 'Sam'])\n",
    "        case \"Update Backend Systems\":\n",
    "            return \"RPA\"\n",
    "        case \"Automated Scoreboarding\":\n",
    "            return \"SYSTEM\"\n",
    "        case \"Notification Review Request Completed\":\n",
    "            return \"SYSTEM\"\n",
    "        case _:\n",
    "            return row[\"user\"]"
   ]
  },
  {
   "cell_type": "code",
   "execution_count": 21,
   "id": "3411420a",
   "metadata": {
    "pycharm": {
     "name": "#%%\n"
    }
   },
   "outputs": [],
   "source": [
    "df[\"user\"] = df.apply(setRandomUser, axis=1)"
   ]
  },
  {
   "cell_type": "code",
   "execution_count": 22,
   "id": "e7d86bde",
   "metadata": {
    "pycharm": {
     "name": "#%%\n"
    }
   },
   "outputs": [
    {
     "data": {
      "text/html": [
       "<div>\n",
       "<style scoped>\n",
       "    .dataframe tbody tr th:only-of-type {\n",
       "        vertical-align: middle;\n",
       "    }\n",
       "\n",
       "    .dataframe tbody tr th {\n",
       "        vertical-align: top;\n",
       "    }\n",
       "\n",
       "    .dataframe thead th {\n",
       "        text-align: right;\n",
       "    }\n",
       "</style>\n",
       "<table border=\"1\" class=\"dataframe\">\n",
       "  <thead>\n",
       "    <tr style=\"text-align: right;\">\n",
       "      <th></th>\n",
       "      <th>process_id</th>\n",
       "      <th>task</th>\n",
       "      <th>start_time</th>\n",
       "      <th>end_time</th>\n",
       "      <th>user</th>\n",
       "    </tr>\n",
       "  </thead>\n",
       "  <tbody>\n",
       "    <tr>\n",
       "      <th>0</th>\n",
       "      <td>1</td>\n",
       "      <td>New Client Onboarding Request</td>\n",
       "      <td>2017-11-28 18:00:00.000000</td>\n",
       "      <td>2017-11-28 18:24:31.705541</td>\n",
       "      <td>Francis</td>\n",
       "    </tr>\n",
       "    <tr>\n",
       "      <th>1</th>\n",
       "      <td>1</td>\n",
       "      <td>Review Documents</td>\n",
       "      <td>2017-11-28 18:29:31.705541</td>\n",
       "      <td>2017-11-28 19:05:19.125159</td>\n",
       "      <td>Jane</td>\n",
       "    </tr>\n",
       "    <tr>\n",
       "      <th>2</th>\n",
       "      <td>1</td>\n",
       "      <td>Automated Scoreboarding</td>\n",
       "      <td>2017-11-28 19:10:19.125159</td>\n",
       "      <td>2017-11-28 19:15:37.475968</td>\n",
       "      <td>SYSTEM</td>\n",
       "    </tr>\n",
       "    <tr>\n",
       "      <th>3</th>\n",
       "      <td>1</td>\n",
       "      <td>Update Backend Systems</td>\n",
       "      <td>2017-11-28 19:20:37.475968</td>\n",
       "      <td>2017-11-28 19:32:25.774766</td>\n",
       "      <td>RPA</td>\n",
       "    </tr>\n",
       "    <tr>\n",
       "      <th>4</th>\n",
       "      <td>1</td>\n",
       "      <td>Notification Review Request Completed</td>\n",
       "      <td>2017-11-28 19:37:25.774766</td>\n",
       "      <td>2017-11-28 19:44:15.431480</td>\n",
       "      <td>SYSTEM</td>\n",
       "    </tr>\n",
       "    <tr>\n",
       "      <th>5</th>\n",
       "      <td>2</td>\n",
       "      <td>New Client Onboarding Request</td>\n",
       "      <td>2017-11-29 18:00:00.000000</td>\n",
       "      <td>2017-11-29 18:11:13.263380</td>\n",
       "      <td>Francis</td>\n",
       "    </tr>\n",
       "    <tr>\n",
       "      <th>6</th>\n",
       "      <td>2</td>\n",
       "      <td>Review Documents</td>\n",
       "      <td>2017-11-29 18:16:13.263380</td>\n",
       "      <td>2017-11-29 18:24:50.850333</td>\n",
       "      <td>Jane</td>\n",
       "    </tr>\n",
       "    <tr>\n",
       "      <th>7</th>\n",
       "      <td>2</td>\n",
       "      <td>Automated Scoreboarding</td>\n",
       "      <td>2017-11-29 18:29:50.850333</td>\n",
       "      <td>2017-11-29 18:37:19.760233</td>\n",
       "      <td>SYSTEM</td>\n",
       "    </tr>\n",
       "    <tr>\n",
       "      <th>8</th>\n",
       "      <td>2</td>\n",
       "      <td>Update Backend Systems</td>\n",
       "      <td>2017-11-29 18:42:19.760233</td>\n",
       "      <td>2017-11-29 19:00:57.035926</td>\n",
       "      <td>RPA</td>\n",
       "    </tr>\n",
       "    <tr>\n",
       "      <th>9</th>\n",
       "      <td>2</td>\n",
       "      <td>Notification Review Request Completed</td>\n",
       "      <td>2017-11-29 19:05:57.035926</td>\n",
       "      <td>2017-11-29 19:10:15.819603</td>\n",
       "      <td>SYSTEM</td>\n",
       "    </tr>\n",
       "    <tr>\n",
       "      <th>10</th>\n",
       "      <td>3</td>\n",
       "      <td>New Client Onboarding Request</td>\n",
       "      <td>2017-11-30 18:00:00.000000</td>\n",
       "      <td>2017-11-30 18:10:04.056125</td>\n",
       "      <td>Nick</td>\n",
       "    </tr>\n",
       "    <tr>\n",
       "      <th>11</th>\n",
       "      <td>3</td>\n",
       "      <td>Review Documents</td>\n",
       "      <td>2017-11-30 18:15:04.056125</td>\n",
       "      <td>2017-11-30 18:17:08.395928</td>\n",
       "      <td>Freddy</td>\n",
       "    </tr>\n",
       "    <tr>\n",
       "      <th>12</th>\n",
       "      <td>3</td>\n",
       "      <td>Automated Scoreboarding</td>\n",
       "      <td>2017-11-30 18:22:08.395928</td>\n",
       "      <td>2017-11-30 18:27:25.851185</td>\n",
       "      <td>SYSTEM</td>\n",
       "    </tr>\n",
       "    <tr>\n",
       "      <th>13</th>\n",
       "      <td>3</td>\n",
       "      <td>Update Backend Systems</td>\n",
       "      <td>2017-11-30 18:32:25.851185</td>\n",
       "      <td>2017-11-30 18:47:43.866663</td>\n",
       "      <td>RPA</td>\n",
       "    </tr>\n",
       "    <tr>\n",
       "      <th>14</th>\n",
       "      <td>3</td>\n",
       "      <td>Notification Review Request Completed</td>\n",
       "      <td>2017-11-30 18:52:43.866663</td>\n",
       "      <td>2017-11-30 18:59:03.968584</td>\n",
       "      <td>SYSTEM</td>\n",
       "    </tr>\n",
       "    <tr>\n",
       "      <th>15</th>\n",
       "      <td>4</td>\n",
       "      <td>New Client Onboarding Request</td>\n",
       "      <td>2017-12-01 18:00:00.000000</td>\n",
       "      <td>2017-12-01 18:43:44.178429</td>\n",
       "      <td>Nick</td>\n",
       "    </tr>\n",
       "    <tr>\n",
       "      <th>16</th>\n",
       "      <td>4</td>\n",
       "      <td>Review Documents</td>\n",
       "      <td>2017-12-01 18:48:44.178429</td>\n",
       "      <td>2017-12-01 19:07:34.895552</td>\n",
       "      <td>Jane</td>\n",
       "    </tr>\n",
       "    <tr>\n",
       "      <th>17</th>\n",
       "      <td>4</td>\n",
       "      <td>Automated Scoreboarding</td>\n",
       "      <td>2017-12-01 19:12:34.895552</td>\n",
       "      <td>2017-12-01 19:20:49.628808</td>\n",
       "      <td>SYSTEM</td>\n",
       "    </tr>\n",
       "    <tr>\n",
       "      <th>18</th>\n",
       "      <td>4</td>\n",
       "      <td>Update Backend Systems</td>\n",
       "      <td>2017-12-01 19:25:49.628808</td>\n",
       "      <td>2017-12-01 19:32:20.893086</td>\n",
       "      <td>RPA</td>\n",
       "    </tr>\n",
       "    <tr>\n",
       "      <th>19</th>\n",
       "      <td>4</td>\n",
       "      <td>Notification Review Request Completed</td>\n",
       "      <td>2017-12-01 19:37:20.893086</td>\n",
       "      <td>2017-12-01 19:45:14.830472</td>\n",
       "      <td>SYSTEM</td>\n",
       "    </tr>\n",
       "  </tbody>\n",
       "</table>\n",
       "</div>"
      ],
      "text/plain": [
       "    process_id                                   task  \\\n",
       "0            1          New Client Onboarding Request   \n",
       "1            1                       Review Documents   \n",
       "2            1                Automated Scoreboarding   \n",
       "3            1                 Update Backend Systems   \n",
       "4            1  Notification Review Request Completed   \n",
       "5            2          New Client Onboarding Request   \n",
       "6            2                       Review Documents   \n",
       "7            2                Automated Scoreboarding   \n",
       "8            2                 Update Backend Systems   \n",
       "9            2  Notification Review Request Completed   \n",
       "10           3          New Client Onboarding Request   \n",
       "11           3                       Review Documents   \n",
       "12           3                Automated Scoreboarding   \n",
       "13           3                 Update Backend Systems   \n",
       "14           3  Notification Review Request Completed   \n",
       "15           4          New Client Onboarding Request   \n",
       "16           4                       Review Documents   \n",
       "17           4                Automated Scoreboarding   \n",
       "18           4                 Update Backend Systems   \n",
       "19           4  Notification Review Request Completed   \n",
       "\n",
       "                   start_time                   end_time     user  \n",
       "0  2017-11-28 18:00:00.000000 2017-11-28 18:24:31.705541  Francis  \n",
       "1  2017-11-28 18:29:31.705541 2017-11-28 19:05:19.125159     Jane  \n",
       "2  2017-11-28 19:10:19.125159 2017-11-28 19:15:37.475968   SYSTEM  \n",
       "3  2017-11-28 19:20:37.475968 2017-11-28 19:32:25.774766      RPA  \n",
       "4  2017-11-28 19:37:25.774766 2017-11-28 19:44:15.431480   SYSTEM  \n",
       "5  2017-11-29 18:00:00.000000 2017-11-29 18:11:13.263380  Francis  \n",
       "6  2017-11-29 18:16:13.263380 2017-11-29 18:24:50.850333     Jane  \n",
       "7  2017-11-29 18:29:50.850333 2017-11-29 18:37:19.760233   SYSTEM  \n",
       "8  2017-11-29 18:42:19.760233 2017-11-29 19:00:57.035926      RPA  \n",
       "9  2017-11-29 19:05:57.035926 2017-11-29 19:10:15.819603   SYSTEM  \n",
       "10 2017-11-30 18:00:00.000000 2017-11-30 18:10:04.056125     Nick  \n",
       "11 2017-11-30 18:15:04.056125 2017-11-30 18:17:08.395928   Freddy  \n",
       "12 2017-11-30 18:22:08.395928 2017-11-30 18:27:25.851185   SYSTEM  \n",
       "13 2017-11-30 18:32:25.851185 2017-11-30 18:47:43.866663      RPA  \n",
       "14 2017-11-30 18:52:43.866663 2017-11-30 18:59:03.968584   SYSTEM  \n",
       "15 2017-12-01 18:00:00.000000 2017-12-01 18:43:44.178429     Nick  \n",
       "16 2017-12-01 18:48:44.178429 2017-12-01 19:07:34.895552     Jane  \n",
       "17 2017-12-01 19:12:34.895552 2017-12-01 19:20:49.628808   SYSTEM  \n",
       "18 2017-12-01 19:25:49.628808 2017-12-01 19:32:20.893086      RPA  \n",
       "19 2017-12-01 19:37:20.893086 2017-12-01 19:45:14.830472   SYSTEM  "
      ]
     },
     "execution_count": 22,
     "metadata": {},
     "output_type": "execute_result"
    }
   ],
   "source": [
    "df.head(20)"
   ]
  },
  {
   "cell_type": "markdown",
   "id": "dc0f5460",
   "metadata": {
    "pycharm": {
     "name": "#%% md\n"
    }
   },
   "source": []
  },
  {
   "cell_type": "markdown",
   "id": "718558cf",
   "metadata": {
    "pycharm": {
     "name": "#%% md\n"
    }
   },
   "source": [
    "## Add Task Level Business Data : UserGroup"
   ]
  },
  {
   "cell_type": "code",
   "execution_count": 23,
   "id": "1098ef11",
   "metadata": {
    "pycharm": {
     "name": "#%%\n"
    }
   },
   "outputs": [],
   "source": [
    "# Add a column for UserGroup\n",
    "df[\"user_group\"] = \"\""
   ]
  },
  {
   "cell_type": "code",
   "execution_count": 24,
   "id": "9d6bbef0",
   "metadata": {
    "pycharm": {
     "name": "#%%\n"
    }
   },
   "outputs": [],
   "source": [
    "def setUserGroup(row):\n",
    "    match row[\"task\"]:\n",
    "        case \"Review Documents\":\n",
    "            return \"Operations\"\n",
    "        case \"New Client Onboarding Request\":\n",
    "            return \"Sales\" \n",
    "        case \"Manual Scoreboarding\":\n",
    "            return \"Risk\"\n",
    "        case \"Update Backend Systems\":\n",
    "            return \"SYSTEM\"\n",
    "        case \"Automated Scoreboarding\":\n",
    "            return \"SYSTEM\"\n",
    "        case \"Notification Review Request Completed\":\n",
    "            return \"SYSTEM\"\n",
    "        case _:\n",
    "            return \"\""
   ]
  },
  {
   "cell_type": "code",
   "execution_count": 25,
   "id": "a3fbafc8",
   "metadata": {
    "pycharm": {
     "name": "#%%\n"
    }
   },
   "outputs": [],
   "source": [
    "df[\"user_group\"] = df.apply(setUserGroup, axis=1)"
   ]
  },
  {
   "cell_type": "code",
   "execution_count": 26,
   "id": "48329b81",
   "metadata": {
    "pycharm": {
     "name": "#%%\n"
    }
   },
   "outputs": [
    {
     "data": {
      "text/html": [
       "<div>\n",
       "<style scoped>\n",
       "    .dataframe tbody tr th:only-of-type {\n",
       "        vertical-align: middle;\n",
       "    }\n",
       "\n",
       "    .dataframe tbody tr th {\n",
       "        vertical-align: top;\n",
       "    }\n",
       "\n",
       "    .dataframe thead th {\n",
       "        text-align: right;\n",
       "    }\n",
       "</style>\n",
       "<table border=\"1\" class=\"dataframe\">\n",
       "  <thead>\n",
       "    <tr style=\"text-align: right;\">\n",
       "      <th></th>\n",
       "      <th>process_id</th>\n",
       "      <th>task</th>\n",
       "      <th>start_time</th>\n",
       "      <th>end_time</th>\n",
       "      <th>user</th>\n",
       "      <th>user_group</th>\n",
       "    </tr>\n",
       "  </thead>\n",
       "  <tbody>\n",
       "    <tr>\n",
       "      <th>0</th>\n",
       "      <td>1</td>\n",
       "      <td>New Client Onboarding Request</td>\n",
       "      <td>2017-11-28 18:00:00.000000</td>\n",
       "      <td>2017-11-28 18:24:31.705541</td>\n",
       "      <td>Francis</td>\n",
       "      <td>Sales</td>\n",
       "    </tr>\n",
       "    <tr>\n",
       "      <th>1</th>\n",
       "      <td>1</td>\n",
       "      <td>Review Documents</td>\n",
       "      <td>2017-11-28 18:29:31.705541</td>\n",
       "      <td>2017-11-28 19:05:19.125159</td>\n",
       "      <td>Jane</td>\n",
       "      <td>Operations</td>\n",
       "    </tr>\n",
       "    <tr>\n",
       "      <th>2</th>\n",
       "      <td>1</td>\n",
       "      <td>Automated Scoreboarding</td>\n",
       "      <td>2017-11-28 19:10:19.125159</td>\n",
       "      <td>2017-11-28 19:15:37.475968</td>\n",
       "      <td>SYSTEM</td>\n",
       "      <td>SYSTEM</td>\n",
       "    </tr>\n",
       "    <tr>\n",
       "      <th>3</th>\n",
       "      <td>1</td>\n",
       "      <td>Update Backend Systems</td>\n",
       "      <td>2017-11-28 19:20:37.475968</td>\n",
       "      <td>2017-11-28 19:32:25.774766</td>\n",
       "      <td>RPA</td>\n",
       "      <td>SYSTEM</td>\n",
       "    </tr>\n",
       "    <tr>\n",
       "      <th>4</th>\n",
       "      <td>1</td>\n",
       "      <td>Notification Review Request Completed</td>\n",
       "      <td>2017-11-28 19:37:25.774766</td>\n",
       "      <td>2017-11-28 19:44:15.431480</td>\n",
       "      <td>SYSTEM</td>\n",
       "      <td>SYSTEM</td>\n",
       "    </tr>\n",
       "    <tr>\n",
       "      <th>5</th>\n",
       "      <td>2</td>\n",
       "      <td>New Client Onboarding Request</td>\n",
       "      <td>2017-11-29 18:00:00.000000</td>\n",
       "      <td>2017-11-29 18:11:13.263380</td>\n",
       "      <td>Francis</td>\n",
       "      <td>Sales</td>\n",
       "    </tr>\n",
       "    <tr>\n",
       "      <th>6</th>\n",
       "      <td>2</td>\n",
       "      <td>Review Documents</td>\n",
       "      <td>2017-11-29 18:16:13.263380</td>\n",
       "      <td>2017-11-29 18:24:50.850333</td>\n",
       "      <td>Jane</td>\n",
       "      <td>Operations</td>\n",
       "    </tr>\n",
       "    <tr>\n",
       "      <th>7</th>\n",
       "      <td>2</td>\n",
       "      <td>Automated Scoreboarding</td>\n",
       "      <td>2017-11-29 18:29:50.850333</td>\n",
       "      <td>2017-11-29 18:37:19.760233</td>\n",
       "      <td>SYSTEM</td>\n",
       "      <td>SYSTEM</td>\n",
       "    </tr>\n",
       "    <tr>\n",
       "      <th>8</th>\n",
       "      <td>2</td>\n",
       "      <td>Update Backend Systems</td>\n",
       "      <td>2017-11-29 18:42:19.760233</td>\n",
       "      <td>2017-11-29 19:00:57.035926</td>\n",
       "      <td>RPA</td>\n",
       "      <td>SYSTEM</td>\n",
       "    </tr>\n",
       "    <tr>\n",
       "      <th>9</th>\n",
       "      <td>2</td>\n",
       "      <td>Notification Review Request Completed</td>\n",
       "      <td>2017-11-29 19:05:57.035926</td>\n",
       "      <td>2017-11-29 19:10:15.819603</td>\n",
       "      <td>SYSTEM</td>\n",
       "      <td>SYSTEM</td>\n",
       "    </tr>\n",
       "    <tr>\n",
       "      <th>10</th>\n",
       "      <td>3</td>\n",
       "      <td>New Client Onboarding Request</td>\n",
       "      <td>2017-11-30 18:00:00.000000</td>\n",
       "      <td>2017-11-30 18:10:04.056125</td>\n",
       "      <td>Nick</td>\n",
       "      <td>Sales</td>\n",
       "    </tr>\n",
       "    <tr>\n",
       "      <th>11</th>\n",
       "      <td>3</td>\n",
       "      <td>Review Documents</td>\n",
       "      <td>2017-11-30 18:15:04.056125</td>\n",
       "      <td>2017-11-30 18:17:08.395928</td>\n",
       "      <td>Freddy</td>\n",
       "      <td>Operations</td>\n",
       "    </tr>\n",
       "    <tr>\n",
       "      <th>12</th>\n",
       "      <td>3</td>\n",
       "      <td>Automated Scoreboarding</td>\n",
       "      <td>2017-11-30 18:22:08.395928</td>\n",
       "      <td>2017-11-30 18:27:25.851185</td>\n",
       "      <td>SYSTEM</td>\n",
       "      <td>SYSTEM</td>\n",
       "    </tr>\n",
       "    <tr>\n",
       "      <th>13</th>\n",
       "      <td>3</td>\n",
       "      <td>Update Backend Systems</td>\n",
       "      <td>2017-11-30 18:32:25.851185</td>\n",
       "      <td>2017-11-30 18:47:43.866663</td>\n",
       "      <td>RPA</td>\n",
       "      <td>SYSTEM</td>\n",
       "    </tr>\n",
       "    <tr>\n",
       "      <th>14</th>\n",
       "      <td>3</td>\n",
       "      <td>Notification Review Request Completed</td>\n",
       "      <td>2017-11-30 18:52:43.866663</td>\n",
       "      <td>2017-11-30 18:59:03.968584</td>\n",
       "      <td>SYSTEM</td>\n",
       "      <td>SYSTEM</td>\n",
       "    </tr>\n",
       "    <tr>\n",
       "      <th>15</th>\n",
       "      <td>4</td>\n",
       "      <td>New Client Onboarding Request</td>\n",
       "      <td>2017-12-01 18:00:00.000000</td>\n",
       "      <td>2017-12-01 18:43:44.178429</td>\n",
       "      <td>Nick</td>\n",
       "      <td>Sales</td>\n",
       "    </tr>\n",
       "    <tr>\n",
       "      <th>16</th>\n",
       "      <td>4</td>\n",
       "      <td>Review Documents</td>\n",
       "      <td>2017-12-01 18:48:44.178429</td>\n",
       "      <td>2017-12-01 19:07:34.895552</td>\n",
       "      <td>Jane</td>\n",
       "      <td>Operations</td>\n",
       "    </tr>\n",
       "    <tr>\n",
       "      <th>17</th>\n",
       "      <td>4</td>\n",
       "      <td>Automated Scoreboarding</td>\n",
       "      <td>2017-12-01 19:12:34.895552</td>\n",
       "      <td>2017-12-01 19:20:49.628808</td>\n",
       "      <td>SYSTEM</td>\n",
       "      <td>SYSTEM</td>\n",
       "    </tr>\n",
       "    <tr>\n",
       "      <th>18</th>\n",
       "      <td>4</td>\n",
       "      <td>Update Backend Systems</td>\n",
       "      <td>2017-12-01 19:25:49.628808</td>\n",
       "      <td>2017-12-01 19:32:20.893086</td>\n",
       "      <td>RPA</td>\n",
       "      <td>SYSTEM</td>\n",
       "    </tr>\n",
       "    <tr>\n",
       "      <th>19</th>\n",
       "      <td>4</td>\n",
       "      <td>Notification Review Request Completed</td>\n",
       "      <td>2017-12-01 19:37:20.893086</td>\n",
       "      <td>2017-12-01 19:45:14.830472</td>\n",
       "      <td>SYSTEM</td>\n",
       "      <td>SYSTEM</td>\n",
       "    </tr>\n",
       "  </tbody>\n",
       "</table>\n",
       "</div>"
      ],
      "text/plain": [
       "    process_id                                   task  \\\n",
       "0            1          New Client Onboarding Request   \n",
       "1            1                       Review Documents   \n",
       "2            1                Automated Scoreboarding   \n",
       "3            1                 Update Backend Systems   \n",
       "4            1  Notification Review Request Completed   \n",
       "5            2          New Client Onboarding Request   \n",
       "6            2                       Review Documents   \n",
       "7            2                Automated Scoreboarding   \n",
       "8            2                 Update Backend Systems   \n",
       "9            2  Notification Review Request Completed   \n",
       "10           3          New Client Onboarding Request   \n",
       "11           3                       Review Documents   \n",
       "12           3                Automated Scoreboarding   \n",
       "13           3                 Update Backend Systems   \n",
       "14           3  Notification Review Request Completed   \n",
       "15           4          New Client Onboarding Request   \n",
       "16           4                       Review Documents   \n",
       "17           4                Automated Scoreboarding   \n",
       "18           4                 Update Backend Systems   \n",
       "19           4  Notification Review Request Completed   \n",
       "\n",
       "                   start_time                   end_time     user  user_group  \n",
       "0  2017-11-28 18:00:00.000000 2017-11-28 18:24:31.705541  Francis       Sales  \n",
       "1  2017-11-28 18:29:31.705541 2017-11-28 19:05:19.125159     Jane  Operations  \n",
       "2  2017-11-28 19:10:19.125159 2017-11-28 19:15:37.475968   SYSTEM      SYSTEM  \n",
       "3  2017-11-28 19:20:37.475968 2017-11-28 19:32:25.774766      RPA      SYSTEM  \n",
       "4  2017-11-28 19:37:25.774766 2017-11-28 19:44:15.431480   SYSTEM      SYSTEM  \n",
       "5  2017-11-29 18:00:00.000000 2017-11-29 18:11:13.263380  Francis       Sales  \n",
       "6  2017-11-29 18:16:13.263380 2017-11-29 18:24:50.850333     Jane  Operations  \n",
       "7  2017-11-29 18:29:50.850333 2017-11-29 18:37:19.760233   SYSTEM      SYSTEM  \n",
       "8  2017-11-29 18:42:19.760233 2017-11-29 19:00:57.035926      RPA      SYSTEM  \n",
       "9  2017-11-29 19:05:57.035926 2017-11-29 19:10:15.819603   SYSTEM      SYSTEM  \n",
       "10 2017-11-30 18:00:00.000000 2017-11-30 18:10:04.056125     Nick       Sales  \n",
       "11 2017-11-30 18:15:04.056125 2017-11-30 18:17:08.395928   Freddy  Operations  \n",
       "12 2017-11-30 18:22:08.395928 2017-11-30 18:27:25.851185   SYSTEM      SYSTEM  \n",
       "13 2017-11-30 18:32:25.851185 2017-11-30 18:47:43.866663      RPA      SYSTEM  \n",
       "14 2017-11-30 18:52:43.866663 2017-11-30 18:59:03.968584   SYSTEM      SYSTEM  \n",
       "15 2017-12-01 18:00:00.000000 2017-12-01 18:43:44.178429     Nick       Sales  \n",
       "16 2017-12-01 18:48:44.178429 2017-12-01 19:07:34.895552     Jane  Operations  \n",
       "17 2017-12-01 19:12:34.895552 2017-12-01 19:20:49.628808   SYSTEM      SYSTEM  \n",
       "18 2017-12-01 19:25:49.628808 2017-12-01 19:32:20.893086      RPA      SYSTEM  \n",
       "19 2017-12-01 19:37:20.893086 2017-12-01 19:45:14.830472   SYSTEM      SYSTEM  "
      ]
     },
     "execution_count": 26,
     "metadata": {},
     "output_type": "execute_result"
    }
   ],
   "source": [
    "df.head(20)"
   ]
  },
  {
   "cell_type": "markdown",
   "id": "c8dc92a9",
   "metadata": {
    "pycharm": {
     "name": "#%% md\n"
    }
   },
   "source": [
    "## Add Process Instance Business Data : Industry\n",
    "Industy won't change during the process so all tasks for a given process ID must have the same value"
   ]
  },
  {
   "cell_type": "code",
   "execution_count": 27,
   "id": "46b8ed6a",
   "metadata": {
    "pycharm": {
     "name": "#%%\n"
    }
   },
   "outputs": [],
   "source": [
    "df[\"industry\"] = \"\""
   ]
  },
  {
   "cell_type": "code",
   "execution_count": 28,
   "id": "7bffa4bf",
   "metadata": {
    "pycharm": {
     "name": "#%%\n"
    }
   },
   "outputs": [],
   "source": [
    "process_id_list = df[\"process_id\"].unique()\n",
    "\n",
    "for process_id in process_id_list:\n",
    "    industry = random.choice(['Federal','Finance','Healthcare','Insurance','Telecom'])\n",
    "    df.loc[df[\"process_id\"].eq(process_id), \"industry\"] = industry\n",
    "    \n",
    "                          \n",
    "    "
   ]
  },
  {
   "cell_type": "code",
   "execution_count": 29,
   "id": "6828efec",
   "metadata": {
    "pycharm": {
     "name": "#%%\n"
    }
   },
   "outputs": [
    {
     "data": {
      "text/html": [
       "<div>\n",
       "<style scoped>\n",
       "    .dataframe tbody tr th:only-of-type {\n",
       "        vertical-align: middle;\n",
       "    }\n",
       "\n",
       "    .dataframe tbody tr th {\n",
       "        vertical-align: top;\n",
       "    }\n",
       "\n",
       "    .dataframe thead th {\n",
       "        text-align: right;\n",
       "    }\n",
       "</style>\n",
       "<table border=\"1\" class=\"dataframe\">\n",
       "  <thead>\n",
       "    <tr style=\"text-align: right;\">\n",
       "      <th></th>\n",
       "      <th>process_id</th>\n",
       "      <th>task</th>\n",
       "      <th>start_time</th>\n",
       "      <th>end_time</th>\n",
       "      <th>user</th>\n",
       "      <th>user_group</th>\n",
       "      <th>industry</th>\n",
       "    </tr>\n",
       "  </thead>\n",
       "  <tbody>\n",
       "    <tr>\n",
       "      <th>0</th>\n",
       "      <td>1</td>\n",
       "      <td>New Client Onboarding Request</td>\n",
       "      <td>2017-11-28 18:00:00.000000</td>\n",
       "      <td>2017-11-28 18:24:31.705541</td>\n",
       "      <td>Francis</td>\n",
       "      <td>Sales</td>\n",
       "      <td>Finance</td>\n",
       "    </tr>\n",
       "    <tr>\n",
       "      <th>1</th>\n",
       "      <td>1</td>\n",
       "      <td>Review Documents</td>\n",
       "      <td>2017-11-28 18:29:31.705541</td>\n",
       "      <td>2017-11-28 19:05:19.125159</td>\n",
       "      <td>Jane</td>\n",
       "      <td>Operations</td>\n",
       "      <td>Finance</td>\n",
       "    </tr>\n",
       "    <tr>\n",
       "      <th>2</th>\n",
       "      <td>1</td>\n",
       "      <td>Automated Scoreboarding</td>\n",
       "      <td>2017-11-28 19:10:19.125159</td>\n",
       "      <td>2017-11-28 19:15:37.475968</td>\n",
       "      <td>SYSTEM</td>\n",
       "      <td>SYSTEM</td>\n",
       "      <td>Finance</td>\n",
       "    </tr>\n",
       "    <tr>\n",
       "      <th>3</th>\n",
       "      <td>1</td>\n",
       "      <td>Update Backend Systems</td>\n",
       "      <td>2017-11-28 19:20:37.475968</td>\n",
       "      <td>2017-11-28 19:32:25.774766</td>\n",
       "      <td>RPA</td>\n",
       "      <td>SYSTEM</td>\n",
       "      <td>Finance</td>\n",
       "    </tr>\n",
       "    <tr>\n",
       "      <th>4</th>\n",
       "      <td>1</td>\n",
       "      <td>Notification Review Request Completed</td>\n",
       "      <td>2017-11-28 19:37:25.774766</td>\n",
       "      <td>2017-11-28 19:44:15.431480</td>\n",
       "      <td>SYSTEM</td>\n",
       "      <td>SYSTEM</td>\n",
       "      <td>Finance</td>\n",
       "    </tr>\n",
       "    <tr>\n",
       "      <th>5</th>\n",
       "      <td>2</td>\n",
       "      <td>New Client Onboarding Request</td>\n",
       "      <td>2017-11-29 18:00:00.000000</td>\n",
       "      <td>2017-11-29 18:11:13.263380</td>\n",
       "      <td>Francis</td>\n",
       "      <td>Sales</td>\n",
       "      <td>Healthcare</td>\n",
       "    </tr>\n",
       "    <tr>\n",
       "      <th>6</th>\n",
       "      <td>2</td>\n",
       "      <td>Review Documents</td>\n",
       "      <td>2017-11-29 18:16:13.263380</td>\n",
       "      <td>2017-11-29 18:24:50.850333</td>\n",
       "      <td>Jane</td>\n",
       "      <td>Operations</td>\n",
       "      <td>Healthcare</td>\n",
       "    </tr>\n",
       "    <tr>\n",
       "      <th>7</th>\n",
       "      <td>2</td>\n",
       "      <td>Automated Scoreboarding</td>\n",
       "      <td>2017-11-29 18:29:50.850333</td>\n",
       "      <td>2017-11-29 18:37:19.760233</td>\n",
       "      <td>SYSTEM</td>\n",
       "      <td>SYSTEM</td>\n",
       "      <td>Healthcare</td>\n",
       "    </tr>\n",
       "    <tr>\n",
       "      <th>8</th>\n",
       "      <td>2</td>\n",
       "      <td>Update Backend Systems</td>\n",
       "      <td>2017-11-29 18:42:19.760233</td>\n",
       "      <td>2017-11-29 19:00:57.035926</td>\n",
       "      <td>RPA</td>\n",
       "      <td>SYSTEM</td>\n",
       "      <td>Healthcare</td>\n",
       "    </tr>\n",
       "    <tr>\n",
       "      <th>9</th>\n",
       "      <td>2</td>\n",
       "      <td>Notification Review Request Completed</td>\n",
       "      <td>2017-11-29 19:05:57.035926</td>\n",
       "      <td>2017-11-29 19:10:15.819603</td>\n",
       "      <td>SYSTEM</td>\n",
       "      <td>SYSTEM</td>\n",
       "      <td>Healthcare</td>\n",
       "    </tr>\n",
       "    <tr>\n",
       "      <th>10</th>\n",
       "      <td>3</td>\n",
       "      <td>New Client Onboarding Request</td>\n",
       "      <td>2017-11-30 18:00:00.000000</td>\n",
       "      <td>2017-11-30 18:10:04.056125</td>\n",
       "      <td>Nick</td>\n",
       "      <td>Sales</td>\n",
       "      <td>Finance</td>\n",
       "    </tr>\n",
       "    <tr>\n",
       "      <th>11</th>\n",
       "      <td>3</td>\n",
       "      <td>Review Documents</td>\n",
       "      <td>2017-11-30 18:15:04.056125</td>\n",
       "      <td>2017-11-30 18:17:08.395928</td>\n",
       "      <td>Freddy</td>\n",
       "      <td>Operations</td>\n",
       "      <td>Finance</td>\n",
       "    </tr>\n",
       "    <tr>\n",
       "      <th>12</th>\n",
       "      <td>3</td>\n",
       "      <td>Automated Scoreboarding</td>\n",
       "      <td>2017-11-30 18:22:08.395928</td>\n",
       "      <td>2017-11-30 18:27:25.851185</td>\n",
       "      <td>SYSTEM</td>\n",
       "      <td>SYSTEM</td>\n",
       "      <td>Finance</td>\n",
       "    </tr>\n",
       "    <tr>\n",
       "      <th>13</th>\n",
       "      <td>3</td>\n",
       "      <td>Update Backend Systems</td>\n",
       "      <td>2017-11-30 18:32:25.851185</td>\n",
       "      <td>2017-11-30 18:47:43.866663</td>\n",
       "      <td>RPA</td>\n",
       "      <td>SYSTEM</td>\n",
       "      <td>Finance</td>\n",
       "    </tr>\n",
       "    <tr>\n",
       "      <th>14</th>\n",
       "      <td>3</td>\n",
       "      <td>Notification Review Request Completed</td>\n",
       "      <td>2017-11-30 18:52:43.866663</td>\n",
       "      <td>2017-11-30 18:59:03.968584</td>\n",
       "      <td>SYSTEM</td>\n",
       "      <td>SYSTEM</td>\n",
       "      <td>Finance</td>\n",
       "    </tr>\n",
       "    <tr>\n",
       "      <th>15</th>\n",
       "      <td>4</td>\n",
       "      <td>New Client Onboarding Request</td>\n",
       "      <td>2017-12-01 18:00:00.000000</td>\n",
       "      <td>2017-12-01 18:43:44.178429</td>\n",
       "      <td>Nick</td>\n",
       "      <td>Sales</td>\n",
       "      <td>Federal</td>\n",
       "    </tr>\n",
       "    <tr>\n",
       "      <th>16</th>\n",
       "      <td>4</td>\n",
       "      <td>Review Documents</td>\n",
       "      <td>2017-12-01 18:48:44.178429</td>\n",
       "      <td>2017-12-01 19:07:34.895552</td>\n",
       "      <td>Jane</td>\n",
       "      <td>Operations</td>\n",
       "      <td>Federal</td>\n",
       "    </tr>\n",
       "    <tr>\n",
       "      <th>17</th>\n",
       "      <td>4</td>\n",
       "      <td>Automated Scoreboarding</td>\n",
       "      <td>2017-12-01 19:12:34.895552</td>\n",
       "      <td>2017-12-01 19:20:49.628808</td>\n",
       "      <td>SYSTEM</td>\n",
       "      <td>SYSTEM</td>\n",
       "      <td>Federal</td>\n",
       "    </tr>\n",
       "    <tr>\n",
       "      <th>18</th>\n",
       "      <td>4</td>\n",
       "      <td>Update Backend Systems</td>\n",
       "      <td>2017-12-01 19:25:49.628808</td>\n",
       "      <td>2017-12-01 19:32:20.893086</td>\n",
       "      <td>RPA</td>\n",
       "      <td>SYSTEM</td>\n",
       "      <td>Federal</td>\n",
       "    </tr>\n",
       "    <tr>\n",
       "      <th>19</th>\n",
       "      <td>4</td>\n",
       "      <td>Notification Review Request Completed</td>\n",
       "      <td>2017-12-01 19:37:20.893086</td>\n",
       "      <td>2017-12-01 19:45:14.830472</td>\n",
       "      <td>SYSTEM</td>\n",
       "      <td>SYSTEM</td>\n",
       "      <td>Federal</td>\n",
       "    </tr>\n",
       "  </tbody>\n",
       "</table>\n",
       "</div>"
      ],
      "text/plain": [
       "    process_id                                   task  \\\n",
       "0            1          New Client Onboarding Request   \n",
       "1            1                       Review Documents   \n",
       "2            1                Automated Scoreboarding   \n",
       "3            1                 Update Backend Systems   \n",
       "4            1  Notification Review Request Completed   \n",
       "5            2          New Client Onboarding Request   \n",
       "6            2                       Review Documents   \n",
       "7            2                Automated Scoreboarding   \n",
       "8            2                 Update Backend Systems   \n",
       "9            2  Notification Review Request Completed   \n",
       "10           3          New Client Onboarding Request   \n",
       "11           3                       Review Documents   \n",
       "12           3                Automated Scoreboarding   \n",
       "13           3                 Update Backend Systems   \n",
       "14           3  Notification Review Request Completed   \n",
       "15           4          New Client Onboarding Request   \n",
       "16           4                       Review Documents   \n",
       "17           4                Automated Scoreboarding   \n",
       "18           4                 Update Backend Systems   \n",
       "19           4  Notification Review Request Completed   \n",
       "\n",
       "                   start_time                   end_time     user  user_group  \\\n",
       "0  2017-11-28 18:00:00.000000 2017-11-28 18:24:31.705541  Francis       Sales   \n",
       "1  2017-11-28 18:29:31.705541 2017-11-28 19:05:19.125159     Jane  Operations   \n",
       "2  2017-11-28 19:10:19.125159 2017-11-28 19:15:37.475968   SYSTEM      SYSTEM   \n",
       "3  2017-11-28 19:20:37.475968 2017-11-28 19:32:25.774766      RPA      SYSTEM   \n",
       "4  2017-11-28 19:37:25.774766 2017-11-28 19:44:15.431480   SYSTEM      SYSTEM   \n",
       "5  2017-11-29 18:00:00.000000 2017-11-29 18:11:13.263380  Francis       Sales   \n",
       "6  2017-11-29 18:16:13.263380 2017-11-29 18:24:50.850333     Jane  Operations   \n",
       "7  2017-11-29 18:29:50.850333 2017-11-29 18:37:19.760233   SYSTEM      SYSTEM   \n",
       "8  2017-11-29 18:42:19.760233 2017-11-29 19:00:57.035926      RPA      SYSTEM   \n",
       "9  2017-11-29 19:05:57.035926 2017-11-29 19:10:15.819603   SYSTEM      SYSTEM   \n",
       "10 2017-11-30 18:00:00.000000 2017-11-30 18:10:04.056125     Nick       Sales   \n",
       "11 2017-11-30 18:15:04.056125 2017-11-30 18:17:08.395928   Freddy  Operations   \n",
       "12 2017-11-30 18:22:08.395928 2017-11-30 18:27:25.851185   SYSTEM      SYSTEM   \n",
       "13 2017-11-30 18:32:25.851185 2017-11-30 18:47:43.866663      RPA      SYSTEM   \n",
       "14 2017-11-30 18:52:43.866663 2017-11-30 18:59:03.968584   SYSTEM      SYSTEM   \n",
       "15 2017-12-01 18:00:00.000000 2017-12-01 18:43:44.178429     Nick       Sales   \n",
       "16 2017-12-01 18:48:44.178429 2017-12-01 19:07:34.895552     Jane  Operations   \n",
       "17 2017-12-01 19:12:34.895552 2017-12-01 19:20:49.628808   SYSTEM      SYSTEM   \n",
       "18 2017-12-01 19:25:49.628808 2017-12-01 19:32:20.893086      RPA      SYSTEM   \n",
       "19 2017-12-01 19:37:20.893086 2017-12-01 19:45:14.830472   SYSTEM      SYSTEM   \n",
       "\n",
       "      industry  \n",
       "0      Finance  \n",
       "1      Finance  \n",
       "2      Finance  \n",
       "3      Finance  \n",
       "4      Finance  \n",
       "5   Healthcare  \n",
       "6   Healthcare  \n",
       "7   Healthcare  \n",
       "8   Healthcare  \n",
       "9   Healthcare  \n",
       "10     Finance  \n",
       "11     Finance  \n",
       "12     Finance  \n",
       "13     Finance  \n",
       "14     Finance  \n",
       "15     Federal  \n",
       "16     Federal  \n",
       "17     Federal  \n",
       "18     Federal  \n",
       "19     Federal  "
      ]
     },
     "execution_count": 29,
     "metadata": {},
     "output_type": "execute_result"
    }
   ],
   "source": [
    "df.head(20)"
   ]
  },
  {
   "cell_type": "markdown",
   "id": "383eb240",
   "metadata": {
    "pycharm": {
     "name": "#%% md\n"
    }
   },
   "source": [
    "## Add Process Instance Business Data : Service Charge\n",
    "Service charge will be a random choice based on industry."
   ]
  },
  {
   "cell_type": "code",
   "execution_count": 30,
   "id": "12c314c9",
   "metadata": {
    "pycharm": {
     "name": "#%%\n"
    }
   },
   "outputs": [],
   "source": [
    "df[\"service_charge\"] = 0"
   ]
  },
  {
   "cell_type": "code",
   "execution_count": 31,
   "id": "58bd9b93",
   "metadata": {
    "pycharm": {
     "name": "#%%\n"
    }
   },
   "outputs": [],
   "source": [
    "def getServiceChargeByIndustry(industry):\n",
    "    match industry:\n",
    "        case \"Federal\":\n",
    "            return random.choice([3000, 6000, 8000])\n",
    "        case \"Finance\":\n",
    "            return random.choice([10000, 12000, 20000])\n",
    "        case \"Healthcare\":\n",
    "            return random.choice([15000, 20000, 25000])\n",
    "        case \"Insurance\":\n",
    "            return 45000\n",
    "        case \"Telecom\":\n",
    "            return 49000\n",
    "        case _:\n",
    "            return 64000"
   ]
  },
  {
   "cell_type": "code",
   "execution_count": 32,
   "id": "ce0e7573",
   "metadata": {
    "pycharm": {
     "name": "#%%\n"
    }
   },
   "outputs": [],
   "source": [
    "last_process = -1\n",
    "service_charge = 0\n",
    "\n",
    "process_id_list = df[\"process_id\"].unique()\n",
    "\n",
    "for process_id in process_id_list:\n",
    "        # get the tasks for this process instance, use copy() to make it clear to the interpreter we know\n",
    "        # this is a copy to supress any warnings about updating copies\n",
    "        process_instance_tasks = df.loc[df.process_id == process_id].copy()\n",
    "        # Get the fir row out of the task list and get the industry value\n",
    "        industry = process_instance_tasks.iloc[0]['industry']\n",
    "        \n",
    "        # call function to get a semi-random service charge for the industry\n",
    "        service_charge = getServiceChargeByIndustry(industry)\n",
    "        \n",
    "        # set the service charge in every row for this process instance\n",
    "        df.loc[df.process_id == process_id, 'service_charge'] = service_charge\n",
    "    \n"
   ]
  },
  {
   "cell_type": "code",
   "execution_count": 33,
   "id": "87c450cb",
   "metadata": {
    "pycharm": {
     "name": "#%%\n"
    }
   },
   "outputs": [
    {
     "data": {
      "text/html": [
       "<div>\n",
       "<style scoped>\n",
       "    .dataframe tbody tr th:only-of-type {\n",
       "        vertical-align: middle;\n",
       "    }\n",
       "\n",
       "    .dataframe tbody tr th {\n",
       "        vertical-align: top;\n",
       "    }\n",
       "\n",
       "    .dataframe thead th {\n",
       "        text-align: right;\n",
       "    }\n",
       "</style>\n",
       "<table border=\"1\" class=\"dataframe\">\n",
       "  <thead>\n",
       "    <tr style=\"text-align: right;\">\n",
       "      <th></th>\n",
       "      <th>process_id</th>\n",
       "      <th>task</th>\n",
       "      <th>start_time</th>\n",
       "      <th>end_time</th>\n",
       "      <th>user</th>\n",
       "      <th>user_group</th>\n",
       "      <th>industry</th>\n",
       "      <th>service_charge</th>\n",
       "    </tr>\n",
       "  </thead>\n",
       "  <tbody>\n",
       "    <tr>\n",
       "      <th>0</th>\n",
       "      <td>1</td>\n",
       "      <td>New Client Onboarding Request</td>\n",
       "      <td>2017-11-28 18:00:00.000000</td>\n",
       "      <td>2017-11-28 18:24:31.705541</td>\n",
       "      <td>Francis</td>\n",
       "      <td>Sales</td>\n",
       "      <td>Finance</td>\n",
       "      <td>12000</td>\n",
       "    </tr>\n",
       "    <tr>\n",
       "      <th>1</th>\n",
       "      <td>1</td>\n",
       "      <td>Review Documents</td>\n",
       "      <td>2017-11-28 18:29:31.705541</td>\n",
       "      <td>2017-11-28 19:05:19.125159</td>\n",
       "      <td>Jane</td>\n",
       "      <td>Operations</td>\n",
       "      <td>Finance</td>\n",
       "      <td>12000</td>\n",
       "    </tr>\n",
       "    <tr>\n",
       "      <th>2</th>\n",
       "      <td>1</td>\n",
       "      <td>Automated Scoreboarding</td>\n",
       "      <td>2017-11-28 19:10:19.125159</td>\n",
       "      <td>2017-11-28 19:15:37.475968</td>\n",
       "      <td>SYSTEM</td>\n",
       "      <td>SYSTEM</td>\n",
       "      <td>Finance</td>\n",
       "      <td>12000</td>\n",
       "    </tr>\n",
       "    <tr>\n",
       "      <th>3</th>\n",
       "      <td>1</td>\n",
       "      <td>Update Backend Systems</td>\n",
       "      <td>2017-11-28 19:20:37.475968</td>\n",
       "      <td>2017-11-28 19:32:25.774766</td>\n",
       "      <td>RPA</td>\n",
       "      <td>SYSTEM</td>\n",
       "      <td>Finance</td>\n",
       "      <td>12000</td>\n",
       "    </tr>\n",
       "    <tr>\n",
       "      <th>4</th>\n",
       "      <td>1</td>\n",
       "      <td>Notification Review Request Completed</td>\n",
       "      <td>2017-11-28 19:37:25.774766</td>\n",
       "      <td>2017-11-28 19:44:15.431480</td>\n",
       "      <td>SYSTEM</td>\n",
       "      <td>SYSTEM</td>\n",
       "      <td>Finance</td>\n",
       "      <td>12000</td>\n",
       "    </tr>\n",
       "    <tr>\n",
       "      <th>5</th>\n",
       "      <td>2</td>\n",
       "      <td>New Client Onboarding Request</td>\n",
       "      <td>2017-11-29 18:00:00.000000</td>\n",
       "      <td>2017-11-29 18:11:13.263380</td>\n",
       "      <td>Francis</td>\n",
       "      <td>Sales</td>\n",
       "      <td>Healthcare</td>\n",
       "      <td>20000</td>\n",
       "    </tr>\n",
       "    <tr>\n",
       "      <th>6</th>\n",
       "      <td>2</td>\n",
       "      <td>Review Documents</td>\n",
       "      <td>2017-11-29 18:16:13.263380</td>\n",
       "      <td>2017-11-29 18:24:50.850333</td>\n",
       "      <td>Jane</td>\n",
       "      <td>Operations</td>\n",
       "      <td>Healthcare</td>\n",
       "      <td>20000</td>\n",
       "    </tr>\n",
       "    <tr>\n",
       "      <th>7</th>\n",
       "      <td>2</td>\n",
       "      <td>Automated Scoreboarding</td>\n",
       "      <td>2017-11-29 18:29:50.850333</td>\n",
       "      <td>2017-11-29 18:37:19.760233</td>\n",
       "      <td>SYSTEM</td>\n",
       "      <td>SYSTEM</td>\n",
       "      <td>Healthcare</td>\n",
       "      <td>20000</td>\n",
       "    </tr>\n",
       "    <tr>\n",
       "      <th>8</th>\n",
       "      <td>2</td>\n",
       "      <td>Update Backend Systems</td>\n",
       "      <td>2017-11-29 18:42:19.760233</td>\n",
       "      <td>2017-11-29 19:00:57.035926</td>\n",
       "      <td>RPA</td>\n",
       "      <td>SYSTEM</td>\n",
       "      <td>Healthcare</td>\n",
       "      <td>20000</td>\n",
       "    </tr>\n",
       "    <tr>\n",
       "      <th>9</th>\n",
       "      <td>2</td>\n",
       "      <td>Notification Review Request Completed</td>\n",
       "      <td>2017-11-29 19:05:57.035926</td>\n",
       "      <td>2017-11-29 19:10:15.819603</td>\n",
       "      <td>SYSTEM</td>\n",
       "      <td>SYSTEM</td>\n",
       "      <td>Healthcare</td>\n",
       "      <td>20000</td>\n",
       "    </tr>\n",
       "    <tr>\n",
       "      <th>10</th>\n",
       "      <td>3</td>\n",
       "      <td>New Client Onboarding Request</td>\n",
       "      <td>2017-11-30 18:00:00.000000</td>\n",
       "      <td>2017-11-30 18:10:04.056125</td>\n",
       "      <td>Nick</td>\n",
       "      <td>Sales</td>\n",
       "      <td>Finance</td>\n",
       "      <td>20000</td>\n",
       "    </tr>\n",
       "    <tr>\n",
       "      <th>11</th>\n",
       "      <td>3</td>\n",
       "      <td>Review Documents</td>\n",
       "      <td>2017-11-30 18:15:04.056125</td>\n",
       "      <td>2017-11-30 18:17:08.395928</td>\n",
       "      <td>Freddy</td>\n",
       "      <td>Operations</td>\n",
       "      <td>Finance</td>\n",
       "      <td>20000</td>\n",
       "    </tr>\n",
       "    <tr>\n",
       "      <th>12</th>\n",
       "      <td>3</td>\n",
       "      <td>Automated Scoreboarding</td>\n",
       "      <td>2017-11-30 18:22:08.395928</td>\n",
       "      <td>2017-11-30 18:27:25.851185</td>\n",
       "      <td>SYSTEM</td>\n",
       "      <td>SYSTEM</td>\n",
       "      <td>Finance</td>\n",
       "      <td>20000</td>\n",
       "    </tr>\n",
       "    <tr>\n",
       "      <th>13</th>\n",
       "      <td>3</td>\n",
       "      <td>Update Backend Systems</td>\n",
       "      <td>2017-11-30 18:32:25.851185</td>\n",
       "      <td>2017-11-30 18:47:43.866663</td>\n",
       "      <td>RPA</td>\n",
       "      <td>SYSTEM</td>\n",
       "      <td>Finance</td>\n",
       "      <td>20000</td>\n",
       "    </tr>\n",
       "    <tr>\n",
       "      <th>14</th>\n",
       "      <td>3</td>\n",
       "      <td>Notification Review Request Completed</td>\n",
       "      <td>2017-11-30 18:52:43.866663</td>\n",
       "      <td>2017-11-30 18:59:03.968584</td>\n",
       "      <td>SYSTEM</td>\n",
       "      <td>SYSTEM</td>\n",
       "      <td>Finance</td>\n",
       "      <td>20000</td>\n",
       "    </tr>\n",
       "    <tr>\n",
       "      <th>15</th>\n",
       "      <td>4</td>\n",
       "      <td>New Client Onboarding Request</td>\n",
       "      <td>2017-12-01 18:00:00.000000</td>\n",
       "      <td>2017-12-01 18:43:44.178429</td>\n",
       "      <td>Nick</td>\n",
       "      <td>Sales</td>\n",
       "      <td>Federal</td>\n",
       "      <td>6000</td>\n",
       "    </tr>\n",
       "    <tr>\n",
       "      <th>16</th>\n",
       "      <td>4</td>\n",
       "      <td>Review Documents</td>\n",
       "      <td>2017-12-01 18:48:44.178429</td>\n",
       "      <td>2017-12-01 19:07:34.895552</td>\n",
       "      <td>Jane</td>\n",
       "      <td>Operations</td>\n",
       "      <td>Federal</td>\n",
       "      <td>6000</td>\n",
       "    </tr>\n",
       "    <tr>\n",
       "      <th>17</th>\n",
       "      <td>4</td>\n",
       "      <td>Automated Scoreboarding</td>\n",
       "      <td>2017-12-01 19:12:34.895552</td>\n",
       "      <td>2017-12-01 19:20:49.628808</td>\n",
       "      <td>SYSTEM</td>\n",
       "      <td>SYSTEM</td>\n",
       "      <td>Federal</td>\n",
       "      <td>6000</td>\n",
       "    </tr>\n",
       "    <tr>\n",
       "      <th>18</th>\n",
       "      <td>4</td>\n",
       "      <td>Update Backend Systems</td>\n",
       "      <td>2017-12-01 19:25:49.628808</td>\n",
       "      <td>2017-12-01 19:32:20.893086</td>\n",
       "      <td>RPA</td>\n",
       "      <td>SYSTEM</td>\n",
       "      <td>Federal</td>\n",
       "      <td>6000</td>\n",
       "    </tr>\n",
       "    <tr>\n",
       "      <th>19</th>\n",
       "      <td>4</td>\n",
       "      <td>Notification Review Request Completed</td>\n",
       "      <td>2017-12-01 19:37:20.893086</td>\n",
       "      <td>2017-12-01 19:45:14.830472</td>\n",
       "      <td>SYSTEM</td>\n",
       "      <td>SYSTEM</td>\n",
       "      <td>Federal</td>\n",
       "      <td>6000</td>\n",
       "    </tr>\n",
       "    <tr>\n",
       "      <th>20</th>\n",
       "      <td>5</td>\n",
       "      <td>New Client Onboarding Request</td>\n",
       "      <td>2017-12-02 18:00:00.000000</td>\n",
       "      <td>2017-12-02 18:32:28.058347</td>\n",
       "      <td>Nick</td>\n",
       "      <td>Sales</td>\n",
       "      <td>Federal</td>\n",
       "      <td>6000</td>\n",
       "    </tr>\n",
       "    <tr>\n",
       "      <th>21</th>\n",
       "      <td>5</td>\n",
       "      <td>Review Documents</td>\n",
       "      <td>2017-12-02 18:37:28.058347</td>\n",
       "      <td>2017-12-02 18:42:35.317775</td>\n",
       "      <td>Rod</td>\n",
       "      <td>Operations</td>\n",
       "      <td>Federal</td>\n",
       "      <td>6000</td>\n",
       "    </tr>\n",
       "    <tr>\n",
       "      <th>22</th>\n",
       "      <td>5</td>\n",
       "      <td>Automated Scoreboarding</td>\n",
       "      <td>2017-12-02 18:47:35.317775</td>\n",
       "      <td>2017-12-02 18:53:25.929881</td>\n",
       "      <td>SYSTEM</td>\n",
       "      <td>SYSTEM</td>\n",
       "      <td>Federal</td>\n",
       "      <td>6000</td>\n",
       "    </tr>\n",
       "    <tr>\n",
       "      <th>23</th>\n",
       "      <td>5</td>\n",
       "      <td>Update Backend Systems</td>\n",
       "      <td>2017-12-02 18:58:25.929881</td>\n",
       "      <td>2017-12-02 19:33:51.449543</td>\n",
       "      <td>RPA</td>\n",
       "      <td>SYSTEM</td>\n",
       "      <td>Federal</td>\n",
       "      <td>6000</td>\n",
       "    </tr>\n",
       "    <tr>\n",
       "      <th>24</th>\n",
       "      <td>5</td>\n",
       "      <td>Notification Review Request Completed</td>\n",
       "      <td>2017-12-02 19:38:51.449543</td>\n",
       "      <td>2017-12-02 19:43:43.754384</td>\n",
       "      <td>SYSTEM</td>\n",
       "      <td>SYSTEM</td>\n",
       "      <td>Federal</td>\n",
       "      <td>6000</td>\n",
       "    </tr>\n",
       "    <tr>\n",
       "      <th>25</th>\n",
       "      <td>6</td>\n",
       "      <td>New Client Onboarding Request</td>\n",
       "      <td>2017-12-03 18:00:00.000000</td>\n",
       "      <td>2017-12-03 18:39:52.131291</td>\n",
       "      <td>Tom</td>\n",
       "      <td>Sales</td>\n",
       "      <td>Healthcare</td>\n",
       "      <td>15000</td>\n",
       "    </tr>\n",
       "    <tr>\n",
       "      <th>26</th>\n",
       "      <td>6</td>\n",
       "      <td>Review Documents</td>\n",
       "      <td>2017-12-03 18:44:52.131291</td>\n",
       "      <td>2017-12-03 18:49:40.004211</td>\n",
       "      <td>Rod</td>\n",
       "      <td>Operations</td>\n",
       "      <td>Healthcare</td>\n",
       "      <td>15000</td>\n",
       "    </tr>\n",
       "    <tr>\n",
       "      <th>27</th>\n",
       "      <td>6</td>\n",
       "      <td>Automated Scoreboarding</td>\n",
       "      <td>2017-12-03 18:54:40.004211</td>\n",
       "      <td>2017-12-03 19:01:19.781150</td>\n",
       "      <td>SYSTEM</td>\n",
       "      <td>SYSTEM</td>\n",
       "      <td>Healthcare</td>\n",
       "      <td>15000</td>\n",
       "    </tr>\n",
       "    <tr>\n",
       "      <th>28</th>\n",
       "      <td>6</td>\n",
       "      <td>Update Backend Systems</td>\n",
       "      <td>2017-12-03 19:06:19.781150</td>\n",
       "      <td>2017-12-03 19:27:17.234522</td>\n",
       "      <td>RPA</td>\n",
       "      <td>SYSTEM</td>\n",
       "      <td>Healthcare</td>\n",
       "      <td>15000</td>\n",
       "    </tr>\n",
       "    <tr>\n",
       "      <th>29</th>\n",
       "      <td>6</td>\n",
       "      <td>Notification Review Request Completed</td>\n",
       "      <td>2017-12-03 19:32:17.234522</td>\n",
       "      <td>2017-12-03 19:36:09.795572</td>\n",
       "      <td>SYSTEM</td>\n",
       "      <td>SYSTEM</td>\n",
       "      <td>Healthcare</td>\n",
       "      <td>15000</td>\n",
       "    </tr>\n",
       "    <tr>\n",
       "      <th>30</th>\n",
       "      <td>7</td>\n",
       "      <td>New Client Onboarding Request</td>\n",
       "      <td>2017-12-04 18:00:00.000000</td>\n",
       "      <td>2017-12-04 18:37:54.461674</td>\n",
       "      <td>Tom</td>\n",
       "      <td>Sales</td>\n",
       "      <td>Telecom</td>\n",
       "      <td>49000</td>\n",
       "    </tr>\n",
       "    <tr>\n",
       "      <th>31</th>\n",
       "      <td>7</td>\n",
       "      <td>Review Documents</td>\n",
       "      <td>2017-12-04 18:42:54.461674</td>\n",
       "      <td>2017-12-04 19:07:05.743907</td>\n",
       "      <td>Freddy</td>\n",
       "      <td>Operations</td>\n",
       "      <td>Telecom</td>\n",
       "      <td>49000</td>\n",
       "    </tr>\n",
       "    <tr>\n",
       "      <th>32</th>\n",
       "      <td>7</td>\n",
       "      <td>Automated Scoreboarding</td>\n",
       "      <td>2017-12-04 19:12:05.743907</td>\n",
       "      <td>2017-12-04 19:19:24.261397</td>\n",
       "      <td>SYSTEM</td>\n",
       "      <td>SYSTEM</td>\n",
       "      <td>Telecom</td>\n",
       "      <td>49000</td>\n",
       "    </tr>\n",
       "    <tr>\n",
       "      <th>33</th>\n",
       "      <td>7</td>\n",
       "      <td>Update Backend Systems</td>\n",
       "      <td>2017-12-04 19:24:24.261397</td>\n",
       "      <td>2017-12-04 19:31:07.284474</td>\n",
       "      <td>RPA</td>\n",
       "      <td>SYSTEM</td>\n",
       "      <td>Telecom</td>\n",
       "      <td>49000</td>\n",
       "    </tr>\n",
       "    <tr>\n",
       "      <th>34</th>\n",
       "      <td>7</td>\n",
       "      <td>Notification Review Request Completed</td>\n",
       "      <td>2017-12-04 19:36:07.284474</td>\n",
       "      <td>2017-12-04 19:39:32.984628</td>\n",
       "      <td>SYSTEM</td>\n",
       "      <td>SYSTEM</td>\n",
       "      <td>Telecom</td>\n",
       "      <td>49000</td>\n",
       "    </tr>\n",
       "    <tr>\n",
       "      <th>35</th>\n",
       "      <td>8</td>\n",
       "      <td>New Client Onboarding Request</td>\n",
       "      <td>2017-12-05 18:00:00.000000</td>\n",
       "      <td>2017-12-05 18:48:34.007481</td>\n",
       "      <td>Clive</td>\n",
       "      <td>Sales</td>\n",
       "      <td>Federal</td>\n",
       "      <td>3000</td>\n",
       "    </tr>\n",
       "    <tr>\n",
       "      <th>36</th>\n",
       "      <td>8</td>\n",
       "      <td>Review Documents</td>\n",
       "      <td>2017-12-05 18:53:34.007481</td>\n",
       "      <td>2017-12-05 19:03:31.921862</td>\n",
       "      <td>Jane</td>\n",
       "      <td>Operations</td>\n",
       "      <td>Federal</td>\n",
       "      <td>3000</td>\n",
       "    </tr>\n",
       "    <tr>\n",
       "      <th>37</th>\n",
       "      <td>8</td>\n",
       "      <td>Automated Scoreboarding</td>\n",
       "      <td>2017-12-05 19:08:31.921862</td>\n",
       "      <td>2017-12-05 19:16:32.353882</td>\n",
       "      <td>SYSTEM</td>\n",
       "      <td>SYSTEM</td>\n",
       "      <td>Federal</td>\n",
       "      <td>3000</td>\n",
       "    </tr>\n",
       "    <tr>\n",
       "      <th>38</th>\n",
       "      <td>8</td>\n",
       "      <td>Update Backend Systems</td>\n",
       "      <td>2017-12-05 19:21:32.353882</td>\n",
       "      <td>2017-12-05 19:31:32.604092</td>\n",
       "      <td>RPA</td>\n",
       "      <td>SYSTEM</td>\n",
       "      <td>Federal</td>\n",
       "      <td>3000</td>\n",
       "    </tr>\n",
       "    <tr>\n",
       "      <th>39</th>\n",
       "      <td>8</td>\n",
       "      <td>Notification Review Request Completed</td>\n",
       "      <td>2017-12-05 19:36:32.604092</td>\n",
       "      <td>2017-12-05 19:42:36.517990</td>\n",
       "      <td>SYSTEM</td>\n",
       "      <td>SYSTEM</td>\n",
       "      <td>Federal</td>\n",
       "      <td>3000</td>\n",
       "    </tr>\n",
       "    <tr>\n",
       "      <th>40</th>\n",
       "      <td>9</td>\n",
       "      <td>New Client Onboarding Request</td>\n",
       "      <td>2017-12-06 18:00:00.000000</td>\n",
       "      <td>2017-12-06 18:25:37.576493</td>\n",
       "      <td>Nick</td>\n",
       "      <td>Sales</td>\n",
       "      <td>Finance</td>\n",
       "      <td>10000</td>\n",
       "    </tr>\n",
       "    <tr>\n",
       "      <th>41</th>\n",
       "      <td>9</td>\n",
       "      <td>Review Documents</td>\n",
       "      <td>2017-12-06 18:30:37.576493</td>\n",
       "      <td>2017-12-06 18:49:48.780519</td>\n",
       "      <td>Rod</td>\n",
       "      <td>Operations</td>\n",
       "      <td>Finance</td>\n",
       "      <td>10000</td>\n",
       "    </tr>\n",
       "    <tr>\n",
       "      <th>42</th>\n",
       "      <td>9</td>\n",
       "      <td>Automated Scoreboarding</td>\n",
       "      <td>2017-12-06 18:54:48.780519</td>\n",
       "      <td>2017-12-06 18:59:55.260285</td>\n",
       "      <td>SYSTEM</td>\n",
       "      <td>SYSTEM</td>\n",
       "      <td>Finance</td>\n",
       "      <td>10000</td>\n",
       "    </tr>\n",
       "    <tr>\n",
       "      <th>43</th>\n",
       "      <td>9</td>\n",
       "      <td>Update Backend Systems</td>\n",
       "      <td>2017-12-06 19:04:55.260285</td>\n",
       "      <td>2017-12-06 19:15:31.815361</td>\n",
       "      <td>RPA</td>\n",
       "      <td>SYSTEM</td>\n",
       "      <td>Finance</td>\n",
       "      <td>10000</td>\n",
       "    </tr>\n",
       "    <tr>\n",
       "      <th>44</th>\n",
       "      <td>9</td>\n",
       "      <td>Notification Review Request Completed</td>\n",
       "      <td>2017-12-06 19:20:31.815361</td>\n",
       "      <td>2017-12-06 19:25:17.100751</td>\n",
       "      <td>SYSTEM</td>\n",
       "      <td>SYSTEM</td>\n",
       "      <td>Finance</td>\n",
       "      <td>10000</td>\n",
       "    </tr>\n",
       "    <tr>\n",
       "      <th>45</th>\n",
       "      <td>10</td>\n",
       "      <td>New Client Onboarding Request</td>\n",
       "      <td>2017-12-07 18:00:00.000000</td>\n",
       "      <td>2017-12-07 18:34:29.918314</td>\n",
       "      <td>Nick</td>\n",
       "      <td>Sales</td>\n",
       "      <td>Healthcare</td>\n",
       "      <td>20000</td>\n",
       "    </tr>\n",
       "    <tr>\n",
       "      <th>46</th>\n",
       "      <td>10</td>\n",
       "      <td>Review Documents</td>\n",
       "      <td>2017-12-07 18:39:29.918314</td>\n",
       "      <td>2017-12-07 18:52:04.958786</td>\n",
       "      <td>Jane</td>\n",
       "      <td>Operations</td>\n",
       "      <td>Healthcare</td>\n",
       "      <td>20000</td>\n",
       "    </tr>\n",
       "    <tr>\n",
       "      <th>47</th>\n",
       "      <td>10</td>\n",
       "      <td>Automated Scoreboarding</td>\n",
       "      <td>2017-12-07 18:57:04.958786</td>\n",
       "      <td>2017-12-07 19:00:02.767544</td>\n",
       "      <td>SYSTEM</td>\n",
       "      <td>SYSTEM</td>\n",
       "      <td>Healthcare</td>\n",
       "      <td>20000</td>\n",
       "    </tr>\n",
       "    <tr>\n",
       "      <th>48</th>\n",
       "      <td>10</td>\n",
       "      <td>Update Backend Systems</td>\n",
       "      <td>2017-12-07 19:05:02.767544</td>\n",
       "      <td>2017-12-07 19:29:00.597995</td>\n",
       "      <td>RPA</td>\n",
       "      <td>SYSTEM</td>\n",
       "      <td>Healthcare</td>\n",
       "      <td>20000</td>\n",
       "    </tr>\n",
       "    <tr>\n",
       "      <th>49</th>\n",
       "      <td>10</td>\n",
       "      <td>Notification Review Request Completed</td>\n",
       "      <td>2017-12-07 19:34:00.597995</td>\n",
       "      <td>2017-12-07 19:41:19.481419</td>\n",
       "      <td>SYSTEM</td>\n",
       "      <td>SYSTEM</td>\n",
       "      <td>Healthcare</td>\n",
       "      <td>20000</td>\n",
       "    </tr>\n",
       "  </tbody>\n",
       "</table>\n",
       "</div>"
      ],
      "text/plain": [
       "    process_id                                   task  \\\n",
       "0            1          New Client Onboarding Request   \n",
       "1            1                       Review Documents   \n",
       "2            1                Automated Scoreboarding   \n",
       "3            1                 Update Backend Systems   \n",
       "4            1  Notification Review Request Completed   \n",
       "5            2          New Client Onboarding Request   \n",
       "6            2                       Review Documents   \n",
       "7            2                Automated Scoreboarding   \n",
       "8            2                 Update Backend Systems   \n",
       "9            2  Notification Review Request Completed   \n",
       "10           3          New Client Onboarding Request   \n",
       "11           3                       Review Documents   \n",
       "12           3                Automated Scoreboarding   \n",
       "13           3                 Update Backend Systems   \n",
       "14           3  Notification Review Request Completed   \n",
       "15           4          New Client Onboarding Request   \n",
       "16           4                       Review Documents   \n",
       "17           4                Automated Scoreboarding   \n",
       "18           4                 Update Backend Systems   \n",
       "19           4  Notification Review Request Completed   \n",
       "20           5          New Client Onboarding Request   \n",
       "21           5                       Review Documents   \n",
       "22           5                Automated Scoreboarding   \n",
       "23           5                 Update Backend Systems   \n",
       "24           5  Notification Review Request Completed   \n",
       "25           6          New Client Onboarding Request   \n",
       "26           6                       Review Documents   \n",
       "27           6                Automated Scoreboarding   \n",
       "28           6                 Update Backend Systems   \n",
       "29           6  Notification Review Request Completed   \n",
       "30           7          New Client Onboarding Request   \n",
       "31           7                       Review Documents   \n",
       "32           7                Automated Scoreboarding   \n",
       "33           7                 Update Backend Systems   \n",
       "34           7  Notification Review Request Completed   \n",
       "35           8          New Client Onboarding Request   \n",
       "36           8                       Review Documents   \n",
       "37           8                Automated Scoreboarding   \n",
       "38           8                 Update Backend Systems   \n",
       "39           8  Notification Review Request Completed   \n",
       "40           9          New Client Onboarding Request   \n",
       "41           9                       Review Documents   \n",
       "42           9                Automated Scoreboarding   \n",
       "43           9                 Update Backend Systems   \n",
       "44           9  Notification Review Request Completed   \n",
       "45          10          New Client Onboarding Request   \n",
       "46          10                       Review Documents   \n",
       "47          10                Automated Scoreboarding   \n",
       "48          10                 Update Backend Systems   \n",
       "49          10  Notification Review Request Completed   \n",
       "\n",
       "                   start_time                   end_time     user  user_group  \\\n",
       "0  2017-11-28 18:00:00.000000 2017-11-28 18:24:31.705541  Francis       Sales   \n",
       "1  2017-11-28 18:29:31.705541 2017-11-28 19:05:19.125159     Jane  Operations   \n",
       "2  2017-11-28 19:10:19.125159 2017-11-28 19:15:37.475968   SYSTEM      SYSTEM   \n",
       "3  2017-11-28 19:20:37.475968 2017-11-28 19:32:25.774766      RPA      SYSTEM   \n",
       "4  2017-11-28 19:37:25.774766 2017-11-28 19:44:15.431480   SYSTEM      SYSTEM   \n",
       "5  2017-11-29 18:00:00.000000 2017-11-29 18:11:13.263380  Francis       Sales   \n",
       "6  2017-11-29 18:16:13.263380 2017-11-29 18:24:50.850333     Jane  Operations   \n",
       "7  2017-11-29 18:29:50.850333 2017-11-29 18:37:19.760233   SYSTEM      SYSTEM   \n",
       "8  2017-11-29 18:42:19.760233 2017-11-29 19:00:57.035926      RPA      SYSTEM   \n",
       "9  2017-11-29 19:05:57.035926 2017-11-29 19:10:15.819603   SYSTEM      SYSTEM   \n",
       "10 2017-11-30 18:00:00.000000 2017-11-30 18:10:04.056125     Nick       Sales   \n",
       "11 2017-11-30 18:15:04.056125 2017-11-30 18:17:08.395928   Freddy  Operations   \n",
       "12 2017-11-30 18:22:08.395928 2017-11-30 18:27:25.851185   SYSTEM      SYSTEM   \n",
       "13 2017-11-30 18:32:25.851185 2017-11-30 18:47:43.866663      RPA      SYSTEM   \n",
       "14 2017-11-30 18:52:43.866663 2017-11-30 18:59:03.968584   SYSTEM      SYSTEM   \n",
       "15 2017-12-01 18:00:00.000000 2017-12-01 18:43:44.178429     Nick       Sales   \n",
       "16 2017-12-01 18:48:44.178429 2017-12-01 19:07:34.895552     Jane  Operations   \n",
       "17 2017-12-01 19:12:34.895552 2017-12-01 19:20:49.628808   SYSTEM      SYSTEM   \n",
       "18 2017-12-01 19:25:49.628808 2017-12-01 19:32:20.893086      RPA      SYSTEM   \n",
       "19 2017-12-01 19:37:20.893086 2017-12-01 19:45:14.830472   SYSTEM      SYSTEM   \n",
       "20 2017-12-02 18:00:00.000000 2017-12-02 18:32:28.058347     Nick       Sales   \n",
       "21 2017-12-02 18:37:28.058347 2017-12-02 18:42:35.317775      Rod  Operations   \n",
       "22 2017-12-02 18:47:35.317775 2017-12-02 18:53:25.929881   SYSTEM      SYSTEM   \n",
       "23 2017-12-02 18:58:25.929881 2017-12-02 19:33:51.449543      RPA      SYSTEM   \n",
       "24 2017-12-02 19:38:51.449543 2017-12-02 19:43:43.754384   SYSTEM      SYSTEM   \n",
       "25 2017-12-03 18:00:00.000000 2017-12-03 18:39:52.131291      Tom       Sales   \n",
       "26 2017-12-03 18:44:52.131291 2017-12-03 18:49:40.004211      Rod  Operations   \n",
       "27 2017-12-03 18:54:40.004211 2017-12-03 19:01:19.781150   SYSTEM      SYSTEM   \n",
       "28 2017-12-03 19:06:19.781150 2017-12-03 19:27:17.234522      RPA      SYSTEM   \n",
       "29 2017-12-03 19:32:17.234522 2017-12-03 19:36:09.795572   SYSTEM      SYSTEM   \n",
       "30 2017-12-04 18:00:00.000000 2017-12-04 18:37:54.461674      Tom       Sales   \n",
       "31 2017-12-04 18:42:54.461674 2017-12-04 19:07:05.743907   Freddy  Operations   \n",
       "32 2017-12-04 19:12:05.743907 2017-12-04 19:19:24.261397   SYSTEM      SYSTEM   \n",
       "33 2017-12-04 19:24:24.261397 2017-12-04 19:31:07.284474      RPA      SYSTEM   \n",
       "34 2017-12-04 19:36:07.284474 2017-12-04 19:39:32.984628   SYSTEM      SYSTEM   \n",
       "35 2017-12-05 18:00:00.000000 2017-12-05 18:48:34.007481    Clive       Sales   \n",
       "36 2017-12-05 18:53:34.007481 2017-12-05 19:03:31.921862     Jane  Operations   \n",
       "37 2017-12-05 19:08:31.921862 2017-12-05 19:16:32.353882   SYSTEM      SYSTEM   \n",
       "38 2017-12-05 19:21:32.353882 2017-12-05 19:31:32.604092      RPA      SYSTEM   \n",
       "39 2017-12-05 19:36:32.604092 2017-12-05 19:42:36.517990   SYSTEM      SYSTEM   \n",
       "40 2017-12-06 18:00:00.000000 2017-12-06 18:25:37.576493     Nick       Sales   \n",
       "41 2017-12-06 18:30:37.576493 2017-12-06 18:49:48.780519      Rod  Operations   \n",
       "42 2017-12-06 18:54:48.780519 2017-12-06 18:59:55.260285   SYSTEM      SYSTEM   \n",
       "43 2017-12-06 19:04:55.260285 2017-12-06 19:15:31.815361      RPA      SYSTEM   \n",
       "44 2017-12-06 19:20:31.815361 2017-12-06 19:25:17.100751   SYSTEM      SYSTEM   \n",
       "45 2017-12-07 18:00:00.000000 2017-12-07 18:34:29.918314     Nick       Sales   \n",
       "46 2017-12-07 18:39:29.918314 2017-12-07 18:52:04.958786     Jane  Operations   \n",
       "47 2017-12-07 18:57:04.958786 2017-12-07 19:00:02.767544   SYSTEM      SYSTEM   \n",
       "48 2017-12-07 19:05:02.767544 2017-12-07 19:29:00.597995      RPA      SYSTEM   \n",
       "49 2017-12-07 19:34:00.597995 2017-12-07 19:41:19.481419   SYSTEM      SYSTEM   \n",
       "\n",
       "      industry  service_charge  \n",
       "0      Finance           12000  \n",
       "1      Finance           12000  \n",
       "2      Finance           12000  \n",
       "3      Finance           12000  \n",
       "4      Finance           12000  \n",
       "5   Healthcare           20000  \n",
       "6   Healthcare           20000  \n",
       "7   Healthcare           20000  \n",
       "8   Healthcare           20000  \n",
       "9   Healthcare           20000  \n",
       "10     Finance           20000  \n",
       "11     Finance           20000  \n",
       "12     Finance           20000  \n",
       "13     Finance           20000  \n",
       "14     Finance           20000  \n",
       "15     Federal            6000  \n",
       "16     Federal            6000  \n",
       "17     Federal            6000  \n",
       "18     Federal            6000  \n",
       "19     Federal            6000  \n",
       "20     Federal            6000  \n",
       "21     Federal            6000  \n",
       "22     Federal            6000  \n",
       "23     Federal            6000  \n",
       "24     Federal            6000  \n",
       "25  Healthcare           15000  \n",
       "26  Healthcare           15000  \n",
       "27  Healthcare           15000  \n",
       "28  Healthcare           15000  \n",
       "29  Healthcare           15000  \n",
       "30     Telecom           49000  \n",
       "31     Telecom           49000  \n",
       "32     Telecom           49000  \n",
       "33     Telecom           49000  \n",
       "34     Telecom           49000  \n",
       "35     Federal            3000  \n",
       "36     Federal            3000  \n",
       "37     Federal            3000  \n",
       "38     Federal            3000  \n",
       "39     Federal            3000  \n",
       "40     Finance           10000  \n",
       "41     Finance           10000  \n",
       "42     Finance           10000  \n",
       "43     Finance           10000  \n",
       "44     Finance           10000  \n",
       "45  Healthcare           20000  \n",
       "46  Healthcare           20000  \n",
       "47  Healthcare           20000  \n",
       "48  Healthcare           20000  \n",
       "49  Healthcare           20000  "
      ]
     },
     "execution_count": 33,
     "metadata": {},
     "output_type": "execute_result"
    }
   ],
   "source": [
    "df.head(50)"
   ]
  },
  {
   "cell_type": "markdown",
   "id": "c75bb39a",
   "metadata": {
    "pycharm": {
     "name": "#%% md\n"
    }
   },
   "source": [
    "# Stories\n",
    "Make a copy of the dataframe so we can restart here if required."
   ]
  },
  {
   "cell_type": "code",
   "execution_count": 34,
   "id": "959911b4",
   "metadata": {
    "pycharm": {
     "name": "#%%\n"
    }
   },
   "outputs": [],
   "source": [
    "story_df = df.copy()"
   ]
  },
  {
   "cell_type": "markdown",
   "id": "a20b8f39",
   "metadata": {
    "pycharm": {
     "name": "#%% md\n"
    }
   },
   "source": [
    "## Story : 1 - Rod is Too Busy\n",
    "Rod is always very busy doing other work, so he may not be able to start right away.\n",
    "Lets take a look at two `Review Documents` tasks that have been done by Rod. "
   ]
  },
  {
   "cell_type": "code",
   "execution_count": 35,
   "id": "62f20201",
   "metadata": {
    "pycharm": {
     "name": "#%%\n"
    }
   },
   "outputs": [
    {
     "data": {
      "text/html": [
       "<div>\n",
       "<style scoped>\n",
       "    .dataframe tbody tr th:only-of-type {\n",
       "        vertical-align: middle;\n",
       "    }\n",
       "\n",
       "    .dataframe tbody tr th {\n",
       "        vertical-align: top;\n",
       "    }\n",
       "\n",
       "    .dataframe thead th {\n",
       "        text-align: right;\n",
       "    }\n",
       "</style>\n",
       "<table border=\"1\" class=\"dataframe\">\n",
       "  <thead>\n",
       "    <tr style=\"text-align: right;\">\n",
       "      <th></th>\n",
       "      <th>process_id</th>\n",
       "      <th>task</th>\n",
       "      <th>start_time</th>\n",
       "      <th>end_time</th>\n",
       "      <th>user</th>\n",
       "      <th>user_group</th>\n",
       "      <th>industry</th>\n",
       "      <th>service_charge</th>\n",
       "    </tr>\n",
       "  </thead>\n",
       "  <tbody>\n",
       "    <tr>\n",
       "      <th>21</th>\n",
       "      <td>5</td>\n",
       "      <td>Review Documents</td>\n",
       "      <td>2017-12-02 18:37:28.058347</td>\n",
       "      <td>2017-12-02 18:42:35.317775</td>\n",
       "      <td>Rod</td>\n",
       "      <td>Operations</td>\n",
       "      <td>Federal</td>\n",
       "      <td>6000</td>\n",
       "    </tr>\n",
       "    <tr>\n",
       "      <th>26</th>\n",
       "      <td>6</td>\n",
       "      <td>Review Documents</td>\n",
       "      <td>2017-12-03 18:44:52.131291</td>\n",
       "      <td>2017-12-03 18:49:40.004211</td>\n",
       "      <td>Rod</td>\n",
       "      <td>Operations</td>\n",
       "      <td>Healthcare</td>\n",
       "      <td>15000</td>\n",
       "    </tr>\n",
       "  </tbody>\n",
       "</table>\n",
       "</div>"
      ],
      "text/plain": [
       "    process_id              task                 start_time  \\\n",
       "21           5  Review Documents 2017-12-02 18:37:28.058347   \n",
       "26           6  Review Documents 2017-12-03 18:44:52.131291   \n",
       "\n",
       "                     end_time user  user_group    industry  service_charge  \n",
       "21 2017-12-02 18:42:35.317775  Rod  Operations     Federal            6000  \n",
       "26 2017-12-03 18:49:40.004211  Rod  Operations  Healthcare           15000  "
      ]
     },
     "execution_count": 35,
     "metadata": {},
     "output_type": "execute_result"
    }
   ],
   "source": [
    "filter = (story_df['task'] == 'Review Documents') & (story_df['user'] == 'Rod')\n",
    "story_df[filter].head(2)"
   ]
  },
  {
   "cell_type": "markdown",
   "id": "2a6867d9",
   "metadata": {
    "pycharm": {
     "name": "#%% md\n"
    }
   },
   "source": [
    "Delay the start time of Rod's `Review Documents` tasks by 1 hour"
   ]
  },
  {
   "cell_type": "code",
   "execution_count": 36,
   "id": "d786553d",
   "metadata": {
    "pycharm": {
     "name": "#%%\n"
    }
   },
   "outputs": [],
   "source": [
    "# If user is Rod and activity is `Review Documents` shift the start_time by 1 hour\n",
    "# \n",
    "story_df = delayStartTime(story_df, 'user','Rod', 'Review Documents', 1)"
   ]
  },
  {
   "cell_type": "markdown",
   "id": "028fd0ff",
   "metadata": {
    "pycharm": {
     "name": "#%% md\n"
    }
   },
   "source": [
    "Lets see the result of this change:"
   ]
  },
  {
   "cell_type": "code",
   "execution_count": 37,
   "id": "55514ec0",
   "metadata": {
    "pycharm": {
     "name": "#%%\n"
    }
   },
   "outputs": [
    {
     "data": {
      "text/html": [
       "<div>\n",
       "<style scoped>\n",
       "    .dataframe tbody tr th:only-of-type {\n",
       "        vertical-align: middle;\n",
       "    }\n",
       "\n",
       "    .dataframe tbody tr th {\n",
       "        vertical-align: top;\n",
       "    }\n",
       "\n",
       "    .dataframe thead th {\n",
       "        text-align: right;\n",
       "    }\n",
       "</style>\n",
       "<table border=\"1\" class=\"dataframe\">\n",
       "  <thead>\n",
       "    <tr style=\"text-align: right;\">\n",
       "      <th></th>\n",
       "      <th>process_id</th>\n",
       "      <th>task</th>\n",
       "      <th>start_time</th>\n",
       "      <th>end_time</th>\n",
       "      <th>user</th>\n",
       "      <th>user_group</th>\n",
       "      <th>industry</th>\n",
       "      <th>service_charge</th>\n",
       "    </tr>\n",
       "  </thead>\n",
       "  <tbody>\n",
       "    <tr>\n",
       "      <th>21</th>\n",
       "      <td>5</td>\n",
       "      <td>Review Documents</td>\n",
       "      <td>2017-12-02 19:37:28.058347</td>\n",
       "      <td>2017-12-02 19:42:35.317775</td>\n",
       "      <td>Rod</td>\n",
       "      <td>Operations</td>\n",
       "      <td>Federal</td>\n",
       "      <td>6000</td>\n",
       "    </tr>\n",
       "    <tr>\n",
       "      <th>26</th>\n",
       "      <td>6</td>\n",
       "      <td>Review Documents</td>\n",
       "      <td>2017-12-03 19:44:52.131291</td>\n",
       "      <td>2017-12-03 19:49:40.004211</td>\n",
       "      <td>Rod</td>\n",
       "      <td>Operations</td>\n",
       "      <td>Healthcare</td>\n",
       "      <td>15000</td>\n",
       "    </tr>\n",
       "  </tbody>\n",
       "</table>\n",
       "</div>"
      ],
      "text/plain": [
       "    process_id              task                 start_time  \\\n",
       "21           5  Review Documents 2017-12-02 19:37:28.058347   \n",
       "26           6  Review Documents 2017-12-03 19:44:52.131291   \n",
       "\n",
       "                     end_time user  user_group    industry  service_charge  \n",
       "21 2017-12-02 19:42:35.317775  Rod  Operations     Federal            6000  \n",
       "26 2017-12-03 19:49:40.004211  Rod  Operations  Healthcare           15000  "
      ]
     },
     "execution_count": 37,
     "metadata": {},
     "output_type": "execute_result"
    }
   ],
   "source": [
    "filter = (story_df['task'] == 'Review Documents') & (story_df['user'] == 'Rod')\n",
    "story_df[filter].head(2)"
   ]
  },
  {
   "cell_type": "markdown",
   "id": "bfccdcc5",
   "metadata": {
    "pycharm": {
     "name": "#%% md\n"
    }
   },
   "source": [
    "## Story : 2 - Complex Doc Review\n",
    "Increase the time taken for doc review by 2hrs when the industry is federal. \n",
    "The rationale here is that the documentation requirements are greater."
   ]
  },
  {
   "cell_type": "markdown",
   "id": "f49f60bb",
   "metadata": {
    "pycharm": {
     "name": "#%% md\n"
    }
   },
   "source": [
    "Lets look at some `Review Documents` where the industry is `Federal`"
   ]
  },
  {
   "cell_type": "code",
   "execution_count": 38,
   "id": "6fe8bb8a",
   "metadata": {
    "pycharm": {
     "name": "#%%\n"
    }
   },
   "outputs": [
    {
     "data": {
      "text/html": [
       "<div>\n",
       "<style scoped>\n",
       "    .dataframe tbody tr th:only-of-type {\n",
       "        vertical-align: middle;\n",
       "    }\n",
       "\n",
       "    .dataframe tbody tr th {\n",
       "        vertical-align: top;\n",
       "    }\n",
       "\n",
       "    .dataframe thead th {\n",
       "        text-align: right;\n",
       "    }\n",
       "</style>\n",
       "<table border=\"1\" class=\"dataframe\">\n",
       "  <thead>\n",
       "    <tr style=\"text-align: right;\">\n",
       "      <th></th>\n",
       "      <th>process_id</th>\n",
       "      <th>task</th>\n",
       "      <th>start_time</th>\n",
       "      <th>end_time</th>\n",
       "      <th>user</th>\n",
       "      <th>user_group</th>\n",
       "      <th>industry</th>\n",
       "      <th>service_charge</th>\n",
       "    </tr>\n",
       "  </thead>\n",
       "  <tbody>\n",
       "    <tr>\n",
       "      <th>16</th>\n",
       "      <td>4</td>\n",
       "      <td>Review Documents</td>\n",
       "      <td>2017-12-01 18:48:44.178429</td>\n",
       "      <td>2017-12-01 19:07:34.895552</td>\n",
       "      <td>Jane</td>\n",
       "      <td>Operations</td>\n",
       "      <td>Federal</td>\n",
       "      <td>6000</td>\n",
       "    </tr>\n",
       "    <tr>\n",
       "      <th>21</th>\n",
       "      <td>5</td>\n",
       "      <td>Review Documents</td>\n",
       "      <td>2017-12-02 19:37:28.058347</td>\n",
       "      <td>2017-12-02 19:42:35.317775</td>\n",
       "      <td>Rod</td>\n",
       "      <td>Operations</td>\n",
       "      <td>Federal</td>\n",
       "      <td>6000</td>\n",
       "    </tr>\n",
       "  </tbody>\n",
       "</table>\n",
       "</div>"
      ],
      "text/plain": [
       "    process_id              task                 start_time  \\\n",
       "16           4  Review Documents 2017-12-01 18:48:44.178429   \n",
       "21           5  Review Documents 2017-12-02 19:37:28.058347   \n",
       "\n",
       "                     end_time  user  user_group industry  service_charge  \n",
       "16 2017-12-01 19:07:34.895552  Jane  Operations  Federal            6000  \n",
       "21 2017-12-02 19:42:35.317775   Rod  Operations  Federal            6000  "
      ]
     },
     "execution_count": 38,
     "metadata": {},
     "output_type": "execute_result"
    }
   ],
   "source": [
    "filter = (story_df['task'] == 'Review Documents') & (story_df['industry'] == 'Federal')\n",
    "story_df[filter].head(2)"
   ]
  },
  {
   "cell_type": "code",
   "execution_count": 39,
   "id": "12e2bfde",
   "metadata": {
    "pycharm": {
     "name": "#%%\n"
    }
   },
   "outputs": [
    {
     "data": {
      "text/html": [
       "<div>\n",
       "<style scoped>\n",
       "    .dataframe tbody tr th:only-of-type {\n",
       "        vertical-align: middle;\n",
       "    }\n",
       "\n",
       "    .dataframe tbody tr th {\n",
       "        vertical-align: top;\n",
       "    }\n",
       "\n",
       "    .dataframe thead th {\n",
       "        text-align: right;\n",
       "    }\n",
       "</style>\n",
       "<table border=\"1\" class=\"dataframe\">\n",
       "  <thead>\n",
       "    <tr style=\"text-align: right;\">\n",
       "      <th></th>\n",
       "      <th>process_id</th>\n",
       "      <th>task</th>\n",
       "      <th>start_time</th>\n",
       "      <th>end_time</th>\n",
       "      <th>user</th>\n",
       "      <th>user_group</th>\n",
       "      <th>industry</th>\n",
       "      <th>service_charge</th>\n",
       "    </tr>\n",
       "  </thead>\n",
       "  <tbody>\n",
       "    <tr>\n",
       "      <th>15</th>\n",
       "      <td>4</td>\n",
       "      <td>New Client Onboarding Request</td>\n",
       "      <td>2017-12-01 18:00:00.000000</td>\n",
       "      <td>2017-12-01 18:43:44.178429</td>\n",
       "      <td>Nick</td>\n",
       "      <td>Sales</td>\n",
       "      <td>Federal</td>\n",
       "      <td>6000</td>\n",
       "    </tr>\n",
       "    <tr>\n",
       "      <th>16</th>\n",
       "      <td>4</td>\n",
       "      <td>Review Documents</td>\n",
       "      <td>2017-12-01 18:48:44.178429</td>\n",
       "      <td>2017-12-01 19:07:34.895552</td>\n",
       "      <td>Jane</td>\n",
       "      <td>Operations</td>\n",
       "      <td>Federal</td>\n",
       "      <td>6000</td>\n",
       "    </tr>\n",
       "    <tr>\n",
       "      <th>17</th>\n",
       "      <td>4</td>\n",
       "      <td>Automated Scoreboarding</td>\n",
       "      <td>2017-12-01 19:12:34.895552</td>\n",
       "      <td>2017-12-01 19:20:49.628808</td>\n",
       "      <td>SYSTEM</td>\n",
       "      <td>SYSTEM</td>\n",
       "      <td>Federal</td>\n",
       "      <td>6000</td>\n",
       "    </tr>\n",
       "    <tr>\n",
       "      <th>18</th>\n",
       "      <td>4</td>\n",
       "      <td>Update Backend Systems</td>\n",
       "      <td>2017-12-01 19:25:49.628808</td>\n",
       "      <td>2017-12-01 19:32:20.893086</td>\n",
       "      <td>RPA</td>\n",
       "      <td>SYSTEM</td>\n",
       "      <td>Federal</td>\n",
       "      <td>6000</td>\n",
       "    </tr>\n",
       "    <tr>\n",
       "      <th>19</th>\n",
       "      <td>4</td>\n",
       "      <td>Notification Review Request Completed</td>\n",
       "      <td>2017-12-01 19:37:20.893086</td>\n",
       "      <td>2017-12-01 19:45:14.830472</td>\n",
       "      <td>SYSTEM</td>\n",
       "      <td>SYSTEM</td>\n",
       "      <td>Federal</td>\n",
       "      <td>6000</td>\n",
       "    </tr>\n",
       "  </tbody>\n",
       "</table>\n",
       "</div>"
      ],
      "text/plain": [
       "    process_id                                   task  \\\n",
       "15           4          New Client Onboarding Request   \n",
       "16           4                       Review Documents   \n",
       "17           4                Automated Scoreboarding   \n",
       "18           4                 Update Backend Systems   \n",
       "19           4  Notification Review Request Completed   \n",
       "\n",
       "                   start_time                   end_time    user  user_group  \\\n",
       "15 2017-12-01 18:00:00.000000 2017-12-01 18:43:44.178429    Nick       Sales   \n",
       "16 2017-12-01 18:48:44.178429 2017-12-01 19:07:34.895552    Jane  Operations   \n",
       "17 2017-12-01 19:12:34.895552 2017-12-01 19:20:49.628808  SYSTEM      SYSTEM   \n",
       "18 2017-12-01 19:25:49.628808 2017-12-01 19:32:20.893086     RPA      SYSTEM   \n",
       "19 2017-12-01 19:37:20.893086 2017-12-01 19:45:14.830472  SYSTEM      SYSTEM   \n",
       "\n",
       "   industry  service_charge  \n",
       "15  Federal            6000  \n",
       "16  Federal            6000  \n",
       "17  Federal            6000  \n",
       "18  Federal            6000  \n",
       "19  Federal            6000  "
      ]
     },
     "execution_count": 39,
     "metadata": {},
     "output_type": "execute_result"
    }
   ],
   "source": [
    "story_df[story_df['process_id'] == 4]"
   ]
  },
  {
   "cell_type": "code",
   "execution_count": 40,
   "id": "aa3ea2dc",
   "metadata": {
    "pycharm": {
     "name": "#%%\n"
    }
   },
   "outputs": [],
   "source": [
    "story_df = increaseDuration(story_df, 'industry','Federal', 'Review Documents', 2)"
   ]
  },
  {
   "cell_type": "code",
   "execution_count": 41,
   "id": "3ee654b4",
   "metadata": {
    "pycharm": {
     "name": "#%%\n"
    }
   },
   "outputs": [
    {
     "data": {
      "text/html": [
       "<div>\n",
       "<style scoped>\n",
       "    .dataframe tbody tr th:only-of-type {\n",
       "        vertical-align: middle;\n",
       "    }\n",
       "\n",
       "    .dataframe tbody tr th {\n",
       "        vertical-align: top;\n",
       "    }\n",
       "\n",
       "    .dataframe thead th {\n",
       "        text-align: right;\n",
       "    }\n",
       "</style>\n",
       "<table border=\"1\" class=\"dataframe\">\n",
       "  <thead>\n",
       "    <tr style=\"text-align: right;\">\n",
       "      <th></th>\n",
       "      <th>process_id</th>\n",
       "      <th>task</th>\n",
       "      <th>start_time</th>\n",
       "      <th>end_time</th>\n",
       "      <th>user</th>\n",
       "      <th>user_group</th>\n",
       "      <th>industry</th>\n",
       "      <th>service_charge</th>\n",
       "    </tr>\n",
       "  </thead>\n",
       "  <tbody>\n",
       "    <tr>\n",
       "      <th>15</th>\n",
       "      <td>4</td>\n",
       "      <td>New Client Onboarding Request</td>\n",
       "      <td>2017-12-01 18:00:00.000000</td>\n",
       "      <td>2017-12-01 18:43:44.178429</td>\n",
       "      <td>Nick</td>\n",
       "      <td>Sales</td>\n",
       "      <td>Federal</td>\n",
       "      <td>6000</td>\n",
       "    </tr>\n",
       "    <tr>\n",
       "      <th>16</th>\n",
       "      <td>4</td>\n",
       "      <td>Review Documents</td>\n",
       "      <td>2017-12-01 18:48:44.178429</td>\n",
       "      <td>2017-12-01 21:07:34.895552</td>\n",
       "      <td>Jane</td>\n",
       "      <td>Operations</td>\n",
       "      <td>Federal</td>\n",
       "      <td>6000</td>\n",
       "    </tr>\n",
       "    <tr>\n",
       "      <th>17</th>\n",
       "      <td>4</td>\n",
       "      <td>Automated Scoreboarding</td>\n",
       "      <td>2017-12-01 21:12:34.895552</td>\n",
       "      <td>2017-12-01 21:20:49.628808</td>\n",
       "      <td>SYSTEM</td>\n",
       "      <td>SYSTEM</td>\n",
       "      <td>Federal</td>\n",
       "      <td>6000</td>\n",
       "    </tr>\n",
       "    <tr>\n",
       "      <th>18</th>\n",
       "      <td>4</td>\n",
       "      <td>Update Backend Systems</td>\n",
       "      <td>2017-12-01 21:25:49.628808</td>\n",
       "      <td>2017-12-01 21:32:20.893086</td>\n",
       "      <td>RPA</td>\n",
       "      <td>SYSTEM</td>\n",
       "      <td>Federal</td>\n",
       "      <td>6000</td>\n",
       "    </tr>\n",
       "    <tr>\n",
       "      <th>19</th>\n",
       "      <td>4</td>\n",
       "      <td>Notification Review Request Completed</td>\n",
       "      <td>2017-12-01 21:37:20.893086</td>\n",
       "      <td>2017-12-01 21:45:14.830472</td>\n",
       "      <td>SYSTEM</td>\n",
       "      <td>SYSTEM</td>\n",
       "      <td>Federal</td>\n",
       "      <td>6000</td>\n",
       "    </tr>\n",
       "  </tbody>\n",
       "</table>\n",
       "</div>"
      ],
      "text/plain": [
       "    process_id                                   task  \\\n",
       "15           4          New Client Onboarding Request   \n",
       "16           4                       Review Documents   \n",
       "17           4                Automated Scoreboarding   \n",
       "18           4                 Update Backend Systems   \n",
       "19           4  Notification Review Request Completed   \n",
       "\n",
       "                   start_time                   end_time    user  user_group  \\\n",
       "15 2017-12-01 18:00:00.000000 2017-12-01 18:43:44.178429    Nick       Sales   \n",
       "16 2017-12-01 18:48:44.178429 2017-12-01 21:07:34.895552    Jane  Operations   \n",
       "17 2017-12-01 21:12:34.895552 2017-12-01 21:20:49.628808  SYSTEM      SYSTEM   \n",
       "18 2017-12-01 21:25:49.628808 2017-12-01 21:32:20.893086     RPA      SYSTEM   \n",
       "19 2017-12-01 21:37:20.893086 2017-12-01 21:45:14.830472  SYSTEM      SYSTEM   \n",
       "\n",
       "   industry  service_charge  \n",
       "15  Federal            6000  \n",
       "16  Federal            6000  \n",
       "17  Federal            6000  \n",
       "18  Federal            6000  \n",
       "19  Federal            6000  "
      ]
     },
     "execution_count": 41,
     "metadata": {},
     "output_type": "execute_result"
    }
   ],
   "source": [
    "story_df[story_df['process_id'] == 4]"
   ]
  },
  {
   "cell_type": "markdown",
   "id": "33995e90",
   "metadata": {
    "pycharm": {
     "name": "#%% md\n"
    }
   },
   "source": [
    "## Export Finished Dataset"
   ]
  },
  {
   "cell_type": "code",
   "execution_count": 42,
   "id": "b742b2e5",
   "metadata": {
    "pycharm": {
     "name": "#%%\n"
    }
   },
   "outputs": [],
   "source": [
    "story_df.to_csv('pm_tasks_1k.csv', index=False, date_format='%d-%m-%Y %H:%M:%S')"
   ]
  },
  {
   "cell_type": "code",
   "execution_count": null,
   "id": "f7ccf3a8",
   "metadata": {
    "pycharm": {
     "name": "#%%\n"
    }
   },
   "outputs": [],
   "source": []
  },
  {
   "cell_type": "code",
   "execution_count": null,
   "id": "ca4b5fd5",
   "metadata": {
    "pycharm": {
     "name": "#%%\n"
    }
   },
   "outputs": [],
   "source": []
  },
  {
   "cell_type": "code",
   "execution_count": null,
   "id": "00d237e1",
   "metadata": {
    "pycharm": {
     "name": "#%%\n"
    }
   },
   "outputs": [],
   "source": []
  },
  {
   "cell_type": "code",
   "execution_count": null,
   "id": "de5511e5",
   "metadata": {
    "pycharm": {
     "name": "#%%\n"
    }
   },
   "outputs": [],
   "source": [
    "story_df[story_df['process_id'] == 989]"
   ]
  },
  {
   "cell_type": "code",
   "execution_count": null,
   "id": "b9459765",
   "metadata": {
    "pycharm": {
     "name": "#%%\n"
    }
   },
   "outputs": [],
   "source": [
    "df[df['process_id'] == 989]"
   ]
  },
  {
   "cell_type": "code",
   "execution_count": null,
   "id": "6d4ce039",
   "metadata": {
    "pycharm": {
     "name": "#%%\n"
    }
   },
   "outputs": [],
   "source": [
    "story_df = df.copy()"
   ]
  },
  {
   "cell_type": "code",
   "execution_count": null,
   "id": "8227d7e6",
   "metadata": {
    "pycharm": {
     "name": "#%%\n"
    }
   },
   "outputs": [],
   "source": [
    "story_df[story_df['process_id'] == 989]"
   ]
  },
  {
   "cell_type": "code",
   "execution_count": null,
   "id": "295dc137",
   "metadata": {
    "pycharm": {
     "name": "#%%\n"
    }
   },
   "outputs": [],
   "source": [
    "story_df = delayStartTime(story_df, 'user','Rod', 'Review Documents', 1)"
   ]
  },
  {
   "cell_type": "code",
   "execution_count": null,
   "id": "97ccf8d5",
   "metadata": {
    "pycharm": {
     "name": "#%%\n"
    }
   },
   "outputs": [],
   "source": [
    "story_df[story_df['process_id'] == 989]"
   ]
  },
  {
   "cell_type": "code",
   "execution_count": null,
   "id": "d9ec1885",
   "metadata": {
    "pycharm": {
     "name": "#%%\n"
    }
   },
   "outputs": [],
   "source": [
    "story_df = increaseDuration(story_df, 'industry','Federal', 'Review Documents', 2)"
   ]
  },
  {
   "cell_type": "code",
   "execution_count": null,
   "id": "bcfda84d",
   "metadata": {
    "pycharm": {
     "name": "#%%\n"
    }
   },
   "outputs": [],
   "source": [
    "story_df[story_df['process_id'] == 989]"
   ]
  },
  {
   "cell_type": "markdown",
   "id": "b26261f2",
   "metadata": {
    "pycharm": {
     "name": "#%% md\n"
    }
   },
   "source": [
    "## Export Finished Dataset"
   ]
  },
  {
   "cell_type": "code",
   "execution_count": null,
   "id": "98c6eea9",
   "metadata": {
    "pycharm": {
     "name": "#%%\n"
    }
   },
   "outputs": [],
   "source": [
    "story_df.to_csv('pm_tasks_1k.csv', index=False, date_format='%d-%m-%Y %H:%M:%S')"
   ]
  },
  {
   "cell_type": "code",
   "execution_count": null,
   "id": "0451b2f1",
   "metadata": {
    "pycharm": {
     "name": "#%%\n"
    }
   },
   "outputs": [],
   "source": []
  },
  {
   "cell_type": "code",
   "execution_count": null,
   "id": "8bf220d1",
   "metadata": {
    "pycharm": {
     "name": "#%%\n"
    }
   },
   "outputs": [],
   "source": []
  },
  {
   "cell_type": "code",
   "execution_count": null,
   "id": "115fb670",
   "metadata": {
    "pycharm": {
     "name": "#%%\n"
    }
   },
   "outputs": [],
   "source": []
  },
  {
   "cell_type": "code",
   "execution_count": null,
   "id": "d7248223-a3cf-4268-99c8-fd2aec78ce74",
   "metadata": {
    "pycharm": {
     "name": "#%%\n"
    }
   },
   "outputs": [],
   "source": [
    "story_df[story_df['process_id'] == 989]"
   ]
  },
  {
   "cell_type": "code",
   "execution_count": null,
   "id": "269b3e1e",
   "metadata": {
    "pycharm": {
     "name": "#%%\n"
    }
   },
   "outputs": [],
   "source": [
    "df[df['process_id'] == 989]"
   ]
  },
  {
   "cell_type": "code",
   "execution_count": null,
   "id": "f3a41622",
   "metadata": {
    "pycharm": {
     "name": "#%%\n"
    }
   },
   "outputs": [],
   "source": [
    "story_df = df.copy()"
   ]
  },
  {
   "cell_type": "code",
   "execution_count": null,
   "id": "78d2124b",
   "metadata": {
    "pycharm": {
     "name": "#%%\n"
    }
   },
   "outputs": [],
   "source": [
    "story_df[story_df['process_id'] == 989]"
   ]
  },
  {
   "cell_type": "code",
   "execution_count": null,
   "id": "a0f0fd35",
   "metadata": {
    "pycharm": {
     "name": "#%%\n"
    }
   },
   "outputs": [],
   "source": [
    "story_df = delayStartTime(story_df, 'user','Rod', 'Review Documents', 1)"
   ]
  },
  {
   "cell_type": "code",
   "execution_count": null,
   "id": "644c9439",
   "metadata": {
    "pycharm": {
     "name": "#%%\n"
    }
   },
   "outputs": [],
   "source": [
    "story_df[story_df['process_id'] == 989]"
   ]
  },
  {
   "cell_type": "code",
   "execution_count": null,
   "id": "9c02c227",
   "metadata": {
    "pycharm": {
     "name": "#%%\n"
    }
   },
   "outputs": [],
   "source": [
    "story_df = increaseDuration(story_df, 'industry','Federal', 'Review Documents', 2)"
   ]
  },
  {
   "cell_type": "code",
   "execution_count": null,
   "id": "9b50658c",
   "metadata": {
    "pycharm": {
     "name": "#%%\n"
    }
   },
   "outputs": [],
   "source": [
    "story_df[story_df['process_id'] == 989]"
   ]
  },
  {
   "cell_type": "code",
   "execution_count": null,
   "id": "ab9f6911",
   "metadata": {
    "pycharm": {
     "name": "#%%\n"
    }
   },
   "outputs": [],
   "source": []
  }
 ],
 "metadata": {
  "kernelspec": {
   "display_name": "Python 3 (ipykernel)",
   "language": "python",
   "name": "python3"
  },
  "language_info": {
   "codemirror_mode": {
    "name": "ipython",
    "version": 3
   },
   "file_extension": ".py",
   "mimetype": "text/x-python",
   "name": "python",
   "nbconvert_exporter": "python",
   "pygments_lexer": "ipython3",
   "version": "3.10.5"
  }
 },
 "nbformat": 4,
 "nbformat_minor": 5
}