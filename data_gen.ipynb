{
 "cells": [
  {
   "cell_type": "code",
   "execution_count": 1,
   "id": "342dfd3b-48e3-4008-8458-da4020f95bcd",
   "metadata": {},
   "outputs": [],
   "source": [
    "import pandas as pd\n",
    "import numpy as np\n",
    "import random\n",
    "from datetime import timedelta\n",
    "from datetime import datetime\n",
    "from faker import Faker\n"
   ]
  },
  {
   "cell_type": "markdown",
   "id": "3485f5d5-3281-495f-8112-29c4c5d8989e",
   "metadata": {},
   "source": [
    "## Load Task Duration Config"
   ]
  },
  {
   "cell_type": "code",
   "execution_count": 2,
   "id": "6fdd533e-7b55-4574-9d8e-55cd54441d2c",
   "metadata": {
    "tags": []
   },
   "outputs": [],
   "source": [
    "#Load task duration dataframe\n",
    "task_duration_df = pd.read_csv('task_duration_config.csv')\n",
    "task_duration_df.set_index('Task', inplace=True)\n"
   ]
  },
  {
   "cell_type": "code",
   "execution_count": 3,
   "id": "d21a097b-e4f6-4108-9270-1d27249c99db",
   "metadata": {
    "tags": []
   },
   "outputs": [
    {
     "data": {
      "text/html": [
       "<div>\n",
       "<style scoped>\n",
       "    .dataframe tbody tr th:only-of-type {\n",
       "        vertical-align: middle;\n",
       "    }\n",
       "\n",
       "    .dataframe tbody tr th {\n",
       "        vertical-align: top;\n",
       "    }\n",
       "\n",
       "    .dataframe thead th {\n",
       "        text-align: right;\n",
       "    }\n",
       "</style>\n",
       "<table border=\"1\" class=\"dataframe\">\n",
       "  <thead>\n",
       "    <tr style=\"text-align: right;\">\n",
       "      <th></th>\n",
       "      <th>Avg</th>\n",
       "      <th>Max</th>\n",
       "    </tr>\n",
       "    <tr>\n",
       "      <th>Task</th>\n",
       "      <th></th>\n",
       "      <th></th>\n",
       "    </tr>\n",
       "  </thead>\n",
       "  <tbody>\n",
       "    <tr>\n",
       "      <th>New Client Onboarding Request</th>\n",
       "      <td>0.50</td>\n",
       "      <td>1.50</td>\n",
       "    </tr>\n",
       "    <tr>\n",
       "      <th>Review Documents</th>\n",
       "      <td>0.25</td>\n",
       "      <td>2.50</td>\n",
       "    </tr>\n",
       "    <tr>\n",
       "      <th>Automated Scoreboarding</th>\n",
       "      <td>0.10</td>\n",
       "      <td>0.15</td>\n",
       "    </tr>\n",
       "    <tr>\n",
       "      <th>Manual Scoreboarding</th>\n",
       "      <td>1.00</td>\n",
       "      <td>3.00</td>\n",
       "    </tr>\n",
       "    <tr>\n",
       "      <th>Update Backend Systems</th>\n",
       "      <td>0.25</td>\n",
       "      <td>0.50</td>\n",
       "    </tr>\n",
       "  </tbody>\n",
       "</table>\n",
       "</div>"
      ],
      "text/plain": [
       "                                Avg   Max\n",
       "Task                                     \n",
       "New Client Onboarding Request  0.50  1.50\n",
       "Review Documents               0.25  2.50\n",
       "Automated Scoreboarding        0.10  0.15\n",
       "Manual Scoreboarding           1.00  3.00\n",
       "Update Backend Systems         0.25  0.50"
      ]
     },
     "execution_count": 3,
     "metadata": {},
     "output_type": "execute_result"
    }
   ],
   "source": [
    "task_duration_df.head()"
   ]
  },
  {
   "cell_type": "markdown",
   "id": "d400dd85-767c-472d-b025-ce174d495859",
   "metadata": {},
   "source": [
    "For each task type that could be generated we need an average duration and a maximum duration."
   ]
  },
  {
   "cell_type": "markdown",
   "id": "45b76785-3ae6-4d95-aabf-f730fb83fa35",
   "metadata": {},
   "source": [
    "## Build Task List\n",
    "The build_task_list function creates a list of tasks for a specific instance of a process. The sequence of tasks is defined in the variable called process_variant.\n"
   ]
  },
  {
   "cell_type": "code",
   "execution_count": 4,
   "id": "0e4b8baa-ca9a-4425-ac52-91ba6f9effe9",
   "metadata": {},
   "outputs": [],
   "source": [
    "def build_task_list(instance_id, process_variant, start_date_time, task_duration_df):\n",
    "    instance_task_list = []\n",
    "    rnd = np.random.default_rng()  # a random number generator\n",
    "\n",
    "    # This code generates a random duration by leveraging the numpy lognormal function that gives a random\n",
    "    # number drawn from a log normal distribution. Look up a picture of log normal distributions and you'll see \n",
    "    # why this is useful for generating random durations based on a mean and std deviation.\n",
    "    # most samples are near the average with a long tail stretching towards infinity.\n",
    "\n",
    "    # process_variant is a series\n",
    "    for task_type in process_variant:\n",
    "        # get the avg and max durations from the task_df dataframe using task_type as the key\n",
    "        avg_dur = task_duration_df.loc[task_type, 'Avg']\n",
    "        max_dur = task_duration_df.loc[task_type, 'Max']\n",
    "\n",
    "        sigma = (max_dur - avg_dur) / max_dur  # std dev\n",
    "        log_mean = np.log(avg_dur)  # can't pass the mean duration into lognormal until it has been logged itself \n",
    "        delta = rnd.lognormal(log_mean, sigma)  # get a random sample from a log normal distribution with a std dev\n",
    "\n",
    "        task = [instance_id, task_type, start_date_time]\n",
    "        instance_task_list.append(task)\n",
    "\n",
    "        # increment the start time by the delta so that the next task start after this one\n",
    "        start_date_time = start_date_time + timedelta(hours=delta)\n",
    "\n",
    "    return instance_task_list"
   ]
  },
  {
   "cell_type": "code",
   "execution_count": 5,
   "id": "3da8a14f-8cbf-47e4-84f8-06de1939dc5c",
   "metadata": {},
   "outputs": [],
   "source": [
    "def generate_process_instances(process_variant, qty):\n",
    "\n",
    "    global start_date_time\n",
    "    global instance_counter\n",
    "    task_list = []\n",
    "    for x in range(0, qty):\n",
    "        tasks = build_task_list(instance_counter, process_variant, start_date_time, task_duration_df)\n",
    "        for task in tasks:\n",
    "            task_list.append(task)\n",
    "\n",
    "        # Increment the start time by 24 hour\n",
    "        start_date_time = start_date_time + timedelta(hours=24)\n",
    "        # Increment the process_id\n",
    "        instance_counter = instance_counter +1\n",
    "        \n",
    "    return task_list"
   ]
  },
  {
   "cell_type": "markdown",
   "id": "49b549a6-f355-454c-9dc0-8a3214c55d90",
   "metadata": {
    "tags": []
   },
   "source": [
    "## Initialise Data Generator"
   ]
  },
  {
   "cell_type": "code",
   "execution_count": 61,
   "id": "34e8e825-081b-419c-b660-ed046b67f8ab",
   "metadata": {},
   "outputs": [],
   "source": [
    "start_date_time = datetime(2017, 11, 28, 18, 00, 00)\n",
    "instance_time_offset = 24\n",
    "instance_counter = 1\n",
    "faker = Faker()"
   ]
  },
  {
   "cell_type": "markdown",
   "id": "be468e38-603d-4447-b639-ac562d615799",
   "metadata": {},
   "source": [
    "## Create Happy Path Instances"
   ]
  },
  {
   "cell_type": "code",
   "execution_count": 62,
   "id": "e6120939-730e-4084-982e-7bdbebe6560e",
   "metadata": {},
   "outputs": [],
   "source": [
    "\n",
    "qty = 100\n",
    "happy_path = [\"New Client Onboarding Request\", \n",
    "               \"Review Documents\", \n",
    "               \"Automated Scoreboarding\",\n",
    "               \"Update Backend Systems\", \n",
    "               \"Notification Review Request Completed\"]\n",
    "\n",
    "happy_path_task_list = []\n",
    "happy_path_task_list = generate_process_instances(happy_path, qty)\n",
    "happy_path_task_list_df = pd.DataFrame(happy_path_task_list)\n",
    "\n",
    "# Increment the start time by 24 hour\n",
    "start_date_time = start_date_time + timedelta(hours=24)"
   ]
  },
  {
   "cell_type": "code",
   "execution_count": 63,
   "id": "36351dab-56ba-4731-a79b-84ed0ba90f1c",
   "metadata": {},
   "outputs": [
    {
     "data": {
      "text/html": [
       "<div>\n",
       "<style scoped>\n",
       "    .dataframe tbody tr th:only-of-type {\n",
       "        vertical-align: middle;\n",
       "    }\n",
       "\n",
       "    .dataframe tbody tr th {\n",
       "        vertical-align: top;\n",
       "    }\n",
       "\n",
       "    .dataframe thead th {\n",
       "        text-align: right;\n",
       "    }\n",
       "</style>\n",
       "<table border=\"1\" class=\"dataframe\">\n",
       "  <thead>\n",
       "    <tr style=\"text-align: right;\">\n",
       "      <th></th>\n",
       "      <th>0</th>\n",
       "      <th>1</th>\n",
       "      <th>2</th>\n",
       "    </tr>\n",
       "  </thead>\n",
       "  <tbody>\n",
       "    <tr>\n",
       "      <th>0</th>\n",
       "      <td>1</td>\n",
       "      <td>New Client Onboarding Request</td>\n",
       "      <td>2017-11-28 18:00:00.000000</td>\n",
       "    </tr>\n",
       "    <tr>\n",
       "      <th>1</th>\n",
       "      <td>1</td>\n",
       "      <td>Review Documents</td>\n",
       "      <td>2017-11-28 18:27:33.158564</td>\n",
       "    </tr>\n",
       "    <tr>\n",
       "      <th>2</th>\n",
       "      <td>1</td>\n",
       "      <td>Automated Scoreboarding</td>\n",
       "      <td>2017-11-28 19:34:11.197355</td>\n",
       "    </tr>\n",
       "    <tr>\n",
       "      <th>3</th>\n",
       "      <td>1</td>\n",
       "      <td>Update Backend Systems</td>\n",
       "      <td>2017-11-28 19:41:34.003747</td>\n",
       "    </tr>\n",
       "    <tr>\n",
       "      <th>4</th>\n",
       "      <td>1</td>\n",
       "      <td>Notification Review Request Completed</td>\n",
       "      <td>2017-11-28 19:52:52.120246</td>\n",
       "    </tr>\n",
       "  </tbody>\n",
       "</table>\n",
       "</div>"
      ],
      "text/plain": [
       "   0                                      1                          2\n",
       "0  1          New Client Onboarding Request 2017-11-28 18:00:00.000000\n",
       "1  1                       Review Documents 2017-11-28 18:27:33.158564\n",
       "2  1                Automated Scoreboarding 2017-11-28 19:34:11.197355\n",
       "3  1                 Update Backend Systems 2017-11-28 19:41:34.003747\n",
       "4  1  Notification Review Request Completed 2017-11-28 19:52:52.120246"
      ]
     },
     "execution_count": 63,
     "metadata": {},
     "output_type": "execute_result"
    }
   ],
   "source": [
    "happy_path_task_list_df.head()"
   ]
  },
  {
   "cell_type": "markdown",
   "id": "b9af1718-9e0e-467c-8052-4819b8734cdc",
   "metadata": {},
   "source": [
    "## Create Instances Requiring Manual Scoreboarding"
   ]
  },
  {
   "cell_type": "code",
   "execution_count": 64,
   "id": "6794c564-489b-4422-be40-50badf164989",
   "metadata": {},
   "outputs": [],
   "source": [
    "\n",
    "qty = 25\n",
    "manual_path = [\"New Client Onboarding Request\", \n",
    "               \"Review Documents\", \n",
    "               \"Automated Scoreboarding\",\n",
    "               \"Manual Scoreboarding\",\n",
    "               \"Update Backend Systems\", \n",
    "               \"Notification Review Request Completed\"]\n",
    "\n",
    "manual_path_task_list = []\n",
    "manual_path_task_list = generate_process_instances(manual_path, qty)\n",
    "manual_path_task_list_df = pd.DataFrame(manual_path_task_list)\n",
    "\n",
    "# Increment the start time by 24 hour\n",
    "start_date_time = start_date_time + timedelta(hours=24)"
   ]
  },
  {
   "cell_type": "code",
   "execution_count": 65,
   "id": "884b520c-e34d-46aa-9a26-da6e7744f4ed",
   "metadata": {},
   "outputs": [],
   "source": [
    "combined_df = pd.concat([happy_path_task_list_df,manual_path_task_list_df], axis=0)\n"
   ]
  },
  {
   "cell_type": "code",
   "execution_count": 66,
   "id": "1c5f5594-03dd-4dd2-b162-f3553a1067e5",
   "metadata": {},
   "outputs": [],
   "source": [
    "combined_df.columns = ['process_id', 'task', 'start_time']"
   ]
  },
  {
   "cell_type": "code",
   "execution_count": 67,
   "id": "b38e25d1-1fa2-45ca-b67d-c6b32461cd24",
   "metadata": {},
   "outputs": [
    {
     "name": "stdout",
     "output_type": "stream",
     "text": [
      "<class 'pandas.core.frame.DataFrame'>\n",
      "Int64Index: 650 entries, 0 to 149\n",
      "Data columns (total 3 columns):\n",
      " #   Column      Non-Null Count  Dtype         \n",
      "---  ------      --------------  -----         \n",
      " 0   process_id  650 non-null    int64         \n",
      " 1   task        650 non-null    object        \n",
      " 2   start_time  650 non-null    datetime64[ns]\n",
      "dtypes: datetime64[ns](1), int64(1), object(1)\n",
      "memory usage: 20.3+ KB\n"
     ]
    }
   ],
   "source": [
    "combined_df.info()"
   ]
  },
  {
   "cell_type": "code",
   "execution_count": 70,
   "id": "a619096a-5f4d-4268-81a1-ee9cd212550e",
   "metadata": {},
   "outputs": [
    {
     "data": {
      "text/plain": [
       "125"
      ]
     },
     "execution_count": 70,
     "metadata": {},
     "output_type": "execute_result"
    }
   ],
   "source": [
    "# Confirm how many processes\n",
    "len(combined_df[\"process_id\"].unique())"
   ]
  },
  {
   "cell_type": "markdown",
   "id": "842b9a6d-c3ab-430f-8a3d-ae7adb25cedb",
   "metadata": {},
   "source": [
    "## Add Business Data"
   ]
  },
  {
   "cell_type": "code",
   "execution_count": 71,
   "id": "c7631522-79bf-404b-a371-fe9791e695f1",
   "metadata": {},
   "outputs": [],
   "source": [
    "\n",
    "# Add a column for User\n",
    "combined_df[\"user\"] = \"\""
   ]
  },
  {
   "cell_type": "code",
   "execution_count": 72,
   "id": "a4f4c0fd-c71c-4b85-8cb6-3bc55b558e5f",
   "metadata": {},
   "outputs": [],
   "source": [
    "def setRandomUser(row):\n",
    "    match row[\"task\"]:\n",
    "        case \"Review Documents\":\n",
    "            return random.choice(['Rod','Jane','Freddy'])\n",
    "        case \"New Client Onboarding Request\":\n",
    "            return random.choice(['Clive','Francis','Nick','Seb','Tom'])\n",
    "        case \"Manual Scoreboarding\":\n",
    "            return random.choice(['Sharon','Susan', 'Sam'])\n",
    "        case \"Update Backend Systems\":\n",
    "            return \"RPA\"\n",
    "        case \"Automated Scoreboarding\":\n",
    "            return \"SYSTEM\"\n",
    "        case \"Notification Review Request Completed\":\n",
    "            return \"SYSTEM\"\n",
    "        case _:\n",
    "            return row[\"user\"]"
   ]
  },
  {
   "cell_type": "code",
   "execution_count": 73,
   "id": "0d904eed-8f31-4b2d-92a2-c051beff6498",
   "metadata": {},
   "outputs": [
    {
     "data": {
      "text/html": [
       "<div>\n",
       "<style scoped>\n",
       "    .dataframe tbody tr th:only-of-type {\n",
       "        vertical-align: middle;\n",
       "    }\n",
       "\n",
       "    .dataframe tbody tr th {\n",
       "        vertical-align: top;\n",
       "    }\n",
       "\n",
       "    .dataframe thead th {\n",
       "        text-align: right;\n",
       "    }\n",
       "</style>\n",
       "<table border=\"1\" class=\"dataframe\">\n",
       "  <thead>\n",
       "    <tr style=\"text-align: right;\">\n",
       "      <th></th>\n",
       "      <th>process_id</th>\n",
       "      <th>task</th>\n",
       "      <th>start_time</th>\n",
       "      <th>user</th>\n",
       "    </tr>\n",
       "  </thead>\n",
       "  <tbody>\n",
       "    <tr>\n",
       "      <th>0</th>\n",
       "      <td>1</td>\n",
       "      <td>New Client Onboarding Request</td>\n",
       "      <td>2017-11-28 18:00:00.000000</td>\n",
       "      <td></td>\n",
       "    </tr>\n",
       "    <tr>\n",
       "      <th>1</th>\n",
       "      <td>1</td>\n",
       "      <td>Review Documents</td>\n",
       "      <td>2017-11-28 18:27:33.158564</td>\n",
       "      <td></td>\n",
       "    </tr>\n",
       "    <tr>\n",
       "      <th>2</th>\n",
       "      <td>1</td>\n",
       "      <td>Automated Scoreboarding</td>\n",
       "      <td>2017-11-28 19:34:11.197355</td>\n",
       "      <td></td>\n",
       "    </tr>\n",
       "    <tr>\n",
       "      <th>3</th>\n",
       "      <td>1</td>\n",
       "      <td>Update Backend Systems</td>\n",
       "      <td>2017-11-28 19:41:34.003747</td>\n",
       "      <td></td>\n",
       "    </tr>\n",
       "    <tr>\n",
       "      <th>4</th>\n",
       "      <td>1</td>\n",
       "      <td>Notification Review Request Completed</td>\n",
       "      <td>2017-11-28 19:52:52.120246</td>\n",
       "      <td></td>\n",
       "    </tr>\n",
       "  </tbody>\n",
       "</table>\n",
       "</div>"
      ],
      "text/plain": [
       "   process_id                                   task  \\\n",
       "0           1          New Client Onboarding Request   \n",
       "1           1                       Review Documents   \n",
       "2           1                Automated Scoreboarding   \n",
       "3           1                 Update Backend Systems   \n",
       "4           1  Notification Review Request Completed   \n",
       "\n",
       "                  start_time user  \n",
       "0 2017-11-28 18:00:00.000000       \n",
       "1 2017-11-28 18:27:33.158564       \n",
       "2 2017-11-28 19:34:11.197355       \n",
       "3 2017-11-28 19:41:34.003747       \n",
       "4 2017-11-28 19:52:52.120246       "
      ]
     },
     "execution_count": 73,
     "metadata": {},
     "output_type": "execute_result"
    }
   ],
   "source": [
    "combined_df.head()"
   ]
  },
  {
   "cell_type": "code",
   "execution_count": 74,
   "id": "a48cdf87-7bb9-4a8e-957f-c44054faa5e6",
   "metadata": {},
   "outputs": [],
   "source": [
    "combined_df[\"user\"] = combined_df.apply(setRandomUser, axis=1)"
   ]
  },
  {
   "cell_type": "code",
   "execution_count": 78,
   "id": "c4eb3a2e-b1ce-4f6f-8a99-b8b2521627d5",
   "metadata": {},
   "outputs": [
    {
     "data": {
      "text/html": [
       "<div>\n",
       "<style scoped>\n",
       "    .dataframe tbody tr th:only-of-type {\n",
       "        vertical-align: middle;\n",
       "    }\n",
       "\n",
       "    .dataframe tbody tr th {\n",
       "        vertical-align: top;\n",
       "    }\n",
       "\n",
       "    .dataframe thead th {\n",
       "        text-align: right;\n",
       "    }\n",
       "</style>\n",
       "<table border=\"1\" class=\"dataframe\">\n",
       "  <thead>\n",
       "    <tr style=\"text-align: right;\">\n",
       "      <th></th>\n",
       "      <th>process_id</th>\n",
       "      <th>task</th>\n",
       "      <th>start_time</th>\n",
       "      <th>user</th>\n",
       "    </tr>\n",
       "  </thead>\n",
       "  <tbody>\n",
       "    <tr>\n",
       "      <th>0</th>\n",
       "      <td>1</td>\n",
       "      <td>New Client Onboarding Request</td>\n",
       "      <td>2017-11-28 18:00:00.000000</td>\n",
       "      <td>Clive</td>\n",
       "    </tr>\n",
       "    <tr>\n",
       "      <th>1</th>\n",
       "      <td>1</td>\n",
       "      <td>Review Documents</td>\n",
       "      <td>2017-11-28 18:27:33.158564</td>\n",
       "      <td>Freddy</td>\n",
       "    </tr>\n",
       "    <tr>\n",
       "      <th>2</th>\n",
       "      <td>1</td>\n",
       "      <td>Automated Scoreboarding</td>\n",
       "      <td>2017-11-28 19:34:11.197355</td>\n",
       "      <td>SYSTEM</td>\n",
       "    </tr>\n",
       "    <tr>\n",
       "      <th>3</th>\n",
       "      <td>1</td>\n",
       "      <td>Update Backend Systems</td>\n",
       "      <td>2017-11-28 19:41:34.003747</td>\n",
       "      <td>RPA</td>\n",
       "    </tr>\n",
       "    <tr>\n",
       "      <th>4</th>\n",
       "      <td>1</td>\n",
       "      <td>Notification Review Request Completed</td>\n",
       "      <td>2017-11-28 19:52:52.120246</td>\n",
       "      <td>SYSTEM</td>\n",
       "    </tr>\n",
       "    <tr>\n",
       "      <th>5</th>\n",
       "      <td>2</td>\n",
       "      <td>New Client Onboarding Request</td>\n",
       "      <td>2017-11-29 18:00:00.000000</td>\n",
       "      <td>Francis</td>\n",
       "    </tr>\n",
       "    <tr>\n",
       "      <th>6</th>\n",
       "      <td>2</td>\n",
       "      <td>Review Documents</td>\n",
       "      <td>2017-11-29 18:48:40.592878</td>\n",
       "      <td>Rod</td>\n",
       "    </tr>\n",
       "    <tr>\n",
       "      <th>7</th>\n",
       "      <td>2</td>\n",
       "      <td>Automated Scoreboarding</td>\n",
       "      <td>2017-11-29 19:03:38.849192</td>\n",
       "      <td>SYSTEM</td>\n",
       "    </tr>\n",
       "    <tr>\n",
       "      <th>8</th>\n",
       "      <td>2</td>\n",
       "      <td>Update Backend Systems</td>\n",
       "      <td>2017-11-29 19:09:15.681705</td>\n",
       "      <td>RPA</td>\n",
       "    </tr>\n",
       "    <tr>\n",
       "      <th>9</th>\n",
       "      <td>2</td>\n",
       "      <td>Notification Review Request Completed</td>\n",
       "      <td>2017-11-29 19:24:21.563921</td>\n",
       "      <td>SYSTEM</td>\n",
       "    </tr>\n",
       "    <tr>\n",
       "      <th>10</th>\n",
       "      <td>3</td>\n",
       "      <td>New Client Onboarding Request</td>\n",
       "      <td>2017-11-30 18:00:00.000000</td>\n",
       "      <td>Tom</td>\n",
       "    </tr>\n",
       "    <tr>\n",
       "      <th>11</th>\n",
       "      <td>3</td>\n",
       "      <td>Review Documents</td>\n",
       "      <td>2017-11-30 18:36:30.801578</td>\n",
       "      <td>Rod</td>\n",
       "    </tr>\n",
       "    <tr>\n",
       "      <th>12</th>\n",
       "      <td>3</td>\n",
       "      <td>Automated Scoreboarding</td>\n",
       "      <td>2017-11-30 18:51:35.518354</td>\n",
       "      <td>SYSTEM</td>\n",
       "    </tr>\n",
       "    <tr>\n",
       "      <th>13</th>\n",
       "      <td>3</td>\n",
       "      <td>Update Backend Systems</td>\n",
       "      <td>2017-11-30 19:00:23.301712</td>\n",
       "      <td>RPA</td>\n",
       "    </tr>\n",
       "    <tr>\n",
       "      <th>14</th>\n",
       "      <td>3</td>\n",
       "      <td>Notification Review Request Completed</td>\n",
       "      <td>2017-11-30 19:36:10.466156</td>\n",
       "      <td>SYSTEM</td>\n",
       "    </tr>\n",
       "    <tr>\n",
       "      <th>15</th>\n",
       "      <td>4</td>\n",
       "      <td>New Client Onboarding Request</td>\n",
       "      <td>2017-12-01 18:00:00.000000</td>\n",
       "      <td>Tom</td>\n",
       "    </tr>\n",
       "    <tr>\n",
       "      <th>16</th>\n",
       "      <td>4</td>\n",
       "      <td>Review Documents</td>\n",
       "      <td>2017-12-01 19:02:47.911259</td>\n",
       "      <td>Freddy</td>\n",
       "    </tr>\n",
       "    <tr>\n",
       "      <th>17</th>\n",
       "      <td>4</td>\n",
       "      <td>Automated Scoreboarding</td>\n",
       "      <td>2017-12-01 19:59:55.404607</td>\n",
       "      <td>SYSTEM</td>\n",
       "    </tr>\n",
       "    <tr>\n",
       "      <th>18</th>\n",
       "      <td>4</td>\n",
       "      <td>Update Backend Systems</td>\n",
       "      <td>2017-12-01 20:04:17.075071</td>\n",
       "      <td>RPA</td>\n",
       "    </tr>\n",
       "    <tr>\n",
       "      <th>19</th>\n",
       "      <td>4</td>\n",
       "      <td>Notification Review Request Completed</td>\n",
       "      <td>2017-12-01 20:25:30.685433</td>\n",
       "      <td>SYSTEM</td>\n",
       "    </tr>\n",
       "  </tbody>\n",
       "</table>\n",
       "</div>"
      ],
      "text/plain": [
       "    process_id                                   task  \\\n",
       "0            1          New Client Onboarding Request   \n",
       "1            1                       Review Documents   \n",
       "2            1                Automated Scoreboarding   \n",
       "3            1                 Update Backend Systems   \n",
       "4            1  Notification Review Request Completed   \n",
       "5            2          New Client Onboarding Request   \n",
       "6            2                       Review Documents   \n",
       "7            2                Automated Scoreboarding   \n",
       "8            2                 Update Backend Systems   \n",
       "9            2  Notification Review Request Completed   \n",
       "10           3          New Client Onboarding Request   \n",
       "11           3                       Review Documents   \n",
       "12           3                Automated Scoreboarding   \n",
       "13           3                 Update Backend Systems   \n",
       "14           3  Notification Review Request Completed   \n",
       "15           4          New Client Onboarding Request   \n",
       "16           4                       Review Documents   \n",
       "17           4                Automated Scoreboarding   \n",
       "18           4                 Update Backend Systems   \n",
       "19           4  Notification Review Request Completed   \n",
       "\n",
       "                   start_time     user  \n",
       "0  2017-11-28 18:00:00.000000    Clive  \n",
       "1  2017-11-28 18:27:33.158564   Freddy  \n",
       "2  2017-11-28 19:34:11.197355   SYSTEM  \n",
       "3  2017-11-28 19:41:34.003747      RPA  \n",
       "4  2017-11-28 19:52:52.120246   SYSTEM  \n",
       "5  2017-11-29 18:00:00.000000  Francis  \n",
       "6  2017-11-29 18:48:40.592878      Rod  \n",
       "7  2017-11-29 19:03:38.849192   SYSTEM  \n",
       "8  2017-11-29 19:09:15.681705      RPA  \n",
       "9  2017-11-29 19:24:21.563921   SYSTEM  \n",
       "10 2017-11-30 18:00:00.000000      Tom  \n",
       "11 2017-11-30 18:36:30.801578      Rod  \n",
       "12 2017-11-30 18:51:35.518354   SYSTEM  \n",
       "13 2017-11-30 19:00:23.301712      RPA  \n",
       "14 2017-11-30 19:36:10.466156   SYSTEM  \n",
       "15 2017-12-01 18:00:00.000000      Tom  \n",
       "16 2017-12-01 19:02:47.911259   Freddy  \n",
       "17 2017-12-01 19:59:55.404607   SYSTEM  \n",
       "18 2017-12-01 20:04:17.075071      RPA  \n",
       "19 2017-12-01 20:25:30.685433   SYSTEM  "
      ]
     },
     "execution_count": 78,
     "metadata": {},
     "output_type": "execute_result"
    }
   ],
   "source": [
    "combined_df.head(20)"
   ]
  },
  {
   "cell_type": "code",
   "execution_count": null,
   "id": "162d4fc5-f1cf-422e-bc2e-c2293f7749b7",
   "metadata": {},
   "outputs": [],
   "source": [
    "combined_df['process_id"
   ]
  },
  {
   "cell_type": "code",
   "execution_count": 115,
   "id": "da1f7236-28f7-49f5-830f-7d1d1bd6a2fa",
   "metadata": {},
   "outputs": [],
   "source": [
    "def shiftActivityTime(df, target_attribute, target_value, target_task, timeShift):\n",
    "\n",
    "    # Logi requires we sort by process_id and start_date\n",
    "    df = df.sort_values(['process_id', 'start_time'])\n",
    "    df = df.reset_index(drop=True)\n",
    "    process_being_modified = -1\n",
    "\n",
    "    for x in df.index:\n",
    "        row = df.loc[x]\n",
    "        task_attribute = row[target_attribute]\n",
    "        row_task = row['task']\n",
    "        current_process = row['process_id']\n",
    "\n",
    "\n",
    "        # Have we found the target activity\n",
    "        if row_task == target_task and task_attribute == target_value:\n",
    "            process_being_modified = current_process\n",
    "\n",
    "        # Are we still processing the same process that we were when we found the target activity ?\n",
    "        # If so we are moving all subsequent tasks back by the value of the timeshift parameter\n",
    "        if current_process == process_being_modified:\n",
    "            # shift the time\n",
    "            current_ts = row['start_time']\n",
    "            shifted_ts = current_ts + timedelta(hours=timeShift)\n",
    "            df.loc[x, 'start_time'] = shifted_ts\n",
    "\n",
    "    return df"
   ]
  },
  {
   "cell_type": "code",
   "execution_count": null,
   "id": "0860491b-d3f1-4caf-aa1b-97eaeb01ded8",
   "metadata": {},
   "outputs": [],
   "source": []
  },
  {
   "cell_type": "code",
   "execution_count": 116,
   "id": "5af3fb83-bd26-403f-aa66-29ae6db6985d",
   "metadata": {},
   "outputs": [],
   "source": [
    "# If user is Rod and activity is `Review Documents` shift the start_time by 1 hour\n",
    "updated_df = shiftActivityTime(combined_df, 'user','Rod', 'Review Documents', 1)"
   ]
  },
  {
   "cell_type": "code",
   "execution_count": 117,
   "id": "36bd9452-6640-43b6-bbef-62491777cb26",
   "metadata": {},
   "outputs": [
    {
     "data": {
      "text/html": [
       "<div>\n",
       "<style scoped>\n",
       "    .dataframe tbody tr th:only-of-type {\n",
       "        vertical-align: middle;\n",
       "    }\n",
       "\n",
       "    .dataframe tbody tr th {\n",
       "        vertical-align: top;\n",
       "    }\n",
       "\n",
       "    .dataframe thead th {\n",
       "        text-align: right;\n",
       "    }\n",
       "</style>\n",
       "<table border=\"1\" class=\"dataframe\">\n",
       "  <thead>\n",
       "    <tr style=\"text-align: right;\">\n",
       "      <th></th>\n",
       "      <th>process_id</th>\n",
       "      <th>task</th>\n",
       "      <th>start_time</th>\n",
       "      <th>user</th>\n",
       "    </tr>\n",
       "  </thead>\n",
       "  <tbody>\n",
       "    <tr>\n",
       "      <th>5</th>\n",
       "      <td>2</td>\n",
       "      <td>New Client Onboarding Request</td>\n",
       "      <td>2017-11-29 18:00:00.000000</td>\n",
       "      <td>Francis</td>\n",
       "    </tr>\n",
       "    <tr>\n",
       "      <th>6</th>\n",
       "      <td>2</td>\n",
       "      <td>Review Documents</td>\n",
       "      <td>2017-11-29 18:48:40.592878</td>\n",
       "      <td>Rod</td>\n",
       "    </tr>\n",
       "    <tr>\n",
       "      <th>7</th>\n",
       "      <td>2</td>\n",
       "      <td>Automated Scoreboarding</td>\n",
       "      <td>2017-11-29 19:03:38.849192</td>\n",
       "      <td>SYSTEM</td>\n",
       "    </tr>\n",
       "    <tr>\n",
       "      <th>8</th>\n",
       "      <td>2</td>\n",
       "      <td>Update Backend Systems</td>\n",
       "      <td>2017-11-29 19:09:15.681705</td>\n",
       "      <td>RPA</td>\n",
       "    </tr>\n",
       "    <tr>\n",
       "      <th>9</th>\n",
       "      <td>2</td>\n",
       "      <td>Notification Review Request Completed</td>\n",
       "      <td>2017-11-29 19:24:21.563921</td>\n",
       "      <td>SYSTEM</td>\n",
       "    </tr>\n",
       "  </tbody>\n",
       "</table>\n",
       "</div>"
      ],
      "text/plain": [
       "   process_id                                   task  \\\n",
       "5           2          New Client Onboarding Request   \n",
       "6           2                       Review Documents   \n",
       "7           2                Automated Scoreboarding   \n",
       "8           2                 Update Backend Systems   \n",
       "9           2  Notification Review Request Completed   \n",
       "\n",
       "                  start_time     user  \n",
       "5 2017-11-29 18:00:00.000000  Francis  \n",
       "6 2017-11-29 18:48:40.592878      Rod  \n",
       "7 2017-11-29 19:03:38.849192   SYSTEM  \n",
       "8 2017-11-29 19:09:15.681705      RPA  \n",
       "9 2017-11-29 19:24:21.563921   SYSTEM  "
      ]
     },
     "execution_count": 117,
     "metadata": {},
     "output_type": "execute_result"
    }
   ],
   "source": [
    "filter = (combined_df['process_id'] == 2)\n",
    "combined_df[filter]"
   ]
  },
  {
   "cell_type": "code",
   "execution_count": 118,
   "id": "0d17273d-eb81-4359-831b-2f6cab9db81d",
   "metadata": {},
   "outputs": [
    {
     "data": {
      "text/html": [
       "<div>\n",
       "<style scoped>\n",
       "    .dataframe tbody tr th:only-of-type {\n",
       "        vertical-align: middle;\n",
       "    }\n",
       "\n",
       "    .dataframe tbody tr th {\n",
       "        vertical-align: top;\n",
       "    }\n",
       "\n",
       "    .dataframe thead th {\n",
       "        text-align: right;\n",
       "    }\n",
       "</style>\n",
       "<table border=\"1\" class=\"dataframe\">\n",
       "  <thead>\n",
       "    <tr style=\"text-align: right;\">\n",
       "      <th></th>\n",
       "      <th>process_id</th>\n",
       "      <th>task</th>\n",
       "      <th>start_time</th>\n",
       "      <th>user</th>\n",
       "    </tr>\n",
       "  </thead>\n",
       "  <tbody>\n",
       "    <tr>\n",
       "      <th>5</th>\n",
       "      <td>2</td>\n",
       "      <td>New Client Onboarding Request</td>\n",
       "      <td>2017-11-29 18:00:00.000000</td>\n",
       "      <td>Francis</td>\n",
       "    </tr>\n",
       "    <tr>\n",
       "      <th>6</th>\n",
       "      <td>2</td>\n",
       "      <td>Review Documents</td>\n",
       "      <td>2017-11-29 19:48:40.592878</td>\n",
       "      <td>Rod</td>\n",
       "    </tr>\n",
       "    <tr>\n",
       "      <th>7</th>\n",
       "      <td>2</td>\n",
       "      <td>Automated Scoreboarding</td>\n",
       "      <td>2017-11-29 20:03:38.849192</td>\n",
       "      <td>SYSTEM</td>\n",
       "    </tr>\n",
       "    <tr>\n",
       "      <th>8</th>\n",
       "      <td>2</td>\n",
       "      <td>Update Backend Systems</td>\n",
       "      <td>2017-11-29 20:09:15.681705</td>\n",
       "      <td>RPA</td>\n",
       "    </tr>\n",
       "    <tr>\n",
       "      <th>9</th>\n",
       "      <td>2</td>\n",
       "      <td>Notification Review Request Completed</td>\n",
       "      <td>2017-11-29 20:24:21.563921</td>\n",
       "      <td>SYSTEM</td>\n",
       "    </tr>\n",
       "  </tbody>\n",
       "</table>\n",
       "</div>"
      ],
      "text/plain": [
       "   process_id                                   task  \\\n",
       "5           2          New Client Onboarding Request   \n",
       "6           2                       Review Documents   \n",
       "7           2                Automated Scoreboarding   \n",
       "8           2                 Update Backend Systems   \n",
       "9           2  Notification Review Request Completed   \n",
       "\n",
       "                  start_time     user  \n",
       "5 2017-11-29 18:00:00.000000  Francis  \n",
       "6 2017-11-29 19:48:40.592878      Rod  \n",
       "7 2017-11-29 20:03:38.849192   SYSTEM  \n",
       "8 2017-11-29 20:09:15.681705      RPA  \n",
       "9 2017-11-29 20:24:21.563921   SYSTEM  "
      ]
     },
     "execution_count": 118,
     "metadata": {},
     "output_type": "execute_result"
    }
   ],
   "source": [
    "filter = (updated_df['process_id'] == 2)\n",
    "updated_df[filter]"
   ]
  },
  {
   "cell_type": "markdown",
   "id": "8063a203-e5a2-4a38-bef9-10fb63d7df21",
   "metadata": {
    "tags": []
   },
   "source": [
    "## Export Finished Dataset"
   ]
  },
  {
   "cell_type": "code",
   "execution_count": null,
   "id": "b1bac79d-3e47-4ce3-b45d-e876ea0880bf",
   "metadata": {
    "tags": []
   },
   "outputs": [],
   "source": [
    "combined_df.to_csv('pm_tasks.csv', index=False, date_format='%d-%m-%Y %H:%M:%S')"
   ]
  },
  {
   "cell_type": "code",
   "execution_count": null,
   "id": "d7248223-a3cf-4268-99c8-fd2aec78ce74",
   "metadata": {},
   "outputs": [],
   "source": []
  }
 ],
 "metadata": {
  "kernelspec": {
   "display_name": "Python 3 (ipykernel)",
   "language": "python",
   "name": "python3"
  },
  "language_info": {
   "codemirror_mode": {
    "name": "ipython",
    "version": 3
   },
   "file_extension": ".py",
   "mimetype": "text/x-python",
   "name": "python",
   "nbconvert_exporter": "python",
   "pygments_lexer": "ipython3",
   "version": "3.10.5"
  }
 },
 "nbformat": 4,
 "nbformat_minor": 5
}
