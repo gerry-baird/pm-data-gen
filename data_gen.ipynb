{
 "cells": [
  {
   "cell_type": "code",
   "execution_count": 1,
   "id": "342dfd3b-48e3-4008-8458-da4020f95bcd",
   "metadata": {
    "pycharm": {
     "name": "#%%\n"
    }
   },
   "outputs": [],
   "source": [
    "import pandas as pd\n",
    "import numpy as np\n",
    "import random\n",
    "from datetime import timedelta\n",
    "from datetime import datetime\n",
    "\n"
   ]
  },
  {
   "cell_type": "markdown",
   "id": "3485f5d5-3281-495f-8112-29c4c5d8989e",
   "metadata": {
    "pycharm": {
     "name": "#%% md\n"
    }
   },
   "source": [
    "## Load Task Duration Config\n",
    "For each task type that could be generated we need an average duration and a maximum duration."
   ]
  },
  {
   "cell_type": "code",
   "execution_count": 2,
   "id": "6fdd533e-7b55-4574-9d8e-55cd54441d2c",
   "metadata": {
    "pycharm": {
     "name": "#%%\n"
    },
    "tags": []
   },
   "outputs": [],
   "source": [
    "#Load task duration dataframe\n",
    "#task_duration_df = pd.read_csv('task_duration_config.csv')\n",
    "#task_duration_df.set_index('Task', inplace=True)\n",
    "\n",
    "data = [['New Client Onboarding Request', 0.5,1.5], \n",
    "        ['Review Documents', 0.25,  2.5], \n",
    "        ['Automated Scoreboarding', 0.1, 0.15],\n",
    "        ['Manual Scoreboarding', 1.0, 3.0],\n",
    "        ['Update Backend Systems', 0.25, 0.5],\n",
    "        ['Notification Review Request Completed', 0.1, 0.15]\n",
    "       ]\n",
    "\n",
    "task_duration_df = pd.DataFrame(data, columns=['Task', 'Avg', 'Max'])\n",
    "task_duration_df.set_index('Task', inplace=True)"
   ]
  },
  {
   "cell_type": "code",
   "execution_count": 2,
   "id": "c32b4b25",
   "metadata": {},
   "outputs": [],
   "source": []
  },
  {
   "cell_type": "code",
   "execution_count": 3,
   "id": "95de8f49",
   "metadata": {},
   "outputs": [],
   "source": [
    "\n",
    "#task_duration_df = pd.read_csv('task_duration_config.csv')\n",
    "#task_duration_df.set_index('Task', inplace=True)"
   ]
  },
  {
   "cell_type": "code",
   "execution_count": 4,
   "id": "d21a097b-e4f6-4108-9270-1d27249c99db",
   "metadata": {
    "pycharm": {
     "name": "#%%\n"
    },
    "scrolled": true,
    "tags": []
   },
   "outputs": [
    {
     "data": {
      "text/plain": "                                        Avg   Max\nTask                                             \nNew Client Onboarding Request          0.50  1.50\nReview Documents                       0.25  2.50\nAutomated Scoreboarding                0.10  0.15\nManual Scoreboarding                   1.00  3.00\nUpdate Backend Systems                 0.25  0.50\nNotification Review Request Completed  0.10  0.15",
      "text/html": "<div>\n<style scoped>\n    .dataframe tbody tr th:only-of-type {\n        vertical-align: middle;\n    }\n\n    .dataframe tbody tr th {\n        vertical-align: top;\n    }\n\n    .dataframe thead th {\n        text-align: right;\n    }\n</style>\n<table border=\"1\" class=\"dataframe\">\n  <thead>\n    <tr style=\"text-align: right;\">\n      <th></th>\n      <th>Avg</th>\n      <th>Max</th>\n    </tr>\n    <tr>\n      <th>Task</th>\n      <th></th>\n      <th></th>\n    </tr>\n  </thead>\n  <tbody>\n    <tr>\n      <th>New Client Onboarding Request</th>\n      <td>0.50</td>\n      <td>1.50</td>\n    </tr>\n    <tr>\n      <th>Review Documents</th>\n      <td>0.25</td>\n      <td>2.50</td>\n    </tr>\n    <tr>\n      <th>Automated Scoreboarding</th>\n      <td>0.10</td>\n      <td>0.15</td>\n    </tr>\n    <tr>\n      <th>Manual Scoreboarding</th>\n      <td>1.00</td>\n      <td>3.00</td>\n    </tr>\n    <tr>\n      <th>Update Backend Systems</th>\n      <td>0.25</td>\n      <td>0.50</td>\n    </tr>\n    <tr>\n      <th>Notification Review Request Completed</th>\n      <td>0.10</td>\n      <td>0.15</td>\n    </tr>\n  </tbody>\n</table>\n</div>"
     },
     "execution_count": 4,
     "metadata": {},
     "output_type": "execute_result"
    }
   ],
   "source": [
    "task_duration_df.head(10)"
   ]
  },
  {
   "cell_type": "markdown",
   "id": "355b283c",
   "metadata": {},
   "source": [
    "## Utility Functions"
   ]
  },
  {
   "cell_type": "markdown",
   "id": "f953f41d",
   "metadata": {},
   "source": [
    "### Generate Process Instances\n",
    "This function manages the creation of process instances for a specific process variant. A process variant is simply the list of tasks in execution order, including any loops. For example ['Wake Up', 'Breakfast', 'Work', 'Dinner' 'Sleep']"
   ]
  },
  {
   "cell_type": "code",
   "execution_count": 5,
   "outputs": [],
   "source": [
    "def generate_process_instances(process_variant, qty):\n",
    "\n",
    "    global start_date_time\n",
    "    global instance_counter\n",
    "    task_list = []\n",
    "    for x in range(0, qty):\n",
    "        tasks = build_task_list(instance_counter, process_variant, start_date_time, task_duration_df)\n",
    "        for task in tasks:\n",
    "            task_list.append(task)\n",
    "\n",
    "        # Increment the start time by 24 hour\n",
    "        start_date_time = start_date_time + timedelta(hours=24)\n",
    "        # Increment the process_id\n",
    "        instance_counter = instance_counter +1\n",
    "        \n",
    "    return task_list"
   ],
   "metadata": {
    "collapsed": false,
    "pycharm": {
     "name": "#%%\n"
    }
   }
  },
  {
   "cell_type": "markdown",
   "id": "45b76785-3ae6-4d95-aabf-f730fb83fa35",
   "metadata": {
    "pycharm": {
     "name": "#%% md\n"
    }
   },
   "source": [
    "## Build Task List\n",
    "The build_task_list function creates a list of tasks for a specific instance of a process. The sequence of tasks is defined in the variable called process_variant. Random task durations are calculated using the task_durations_df that contains the task name, the average duration and the max duration.  \n",
    "\n",
    "This code generates a random duration by leveraging the numpy lognormal function that gives a random\n",
    "number drawn from a log normal distribution. Look up a picture of log normal distributions and you'll see \n",
    "why this is useful for generating random durations based on a mean and std deviation.\n",
    "most samples are near the average with a long tail stretching towards infinity.\n"
   ]
  },
  {
   "cell_type": "code",
   "execution_count": 6,
   "id": "0e4b8baa-ca9a-4425-ac52-91ba6f9effe9",
   "metadata": {
    "pycharm": {
     "name": "#%%\n"
    }
   },
   "outputs": [],
   "source": [
    "def build_task_list(instance_id, process_variant, start_date_time, task_duration_df):\n",
    "    instance_task_list = []\n",
    "    rnd = np.random.default_rng()  # a random number generator\n",
    "\n",
    "    # process_variant is a series\n",
    "    for task_type in process_variant:\n",
    "        # get the avg and max durations from the task_df dataframe using task_type as the key\n",
    "        avg_dur = task_duration_df.loc[task_type, 'Avg']\n",
    "        max_dur = task_duration_df.loc[task_type, 'Max']\n",
    "\n",
    "        sigma = (max_dur - avg_dur) / max_dur  # std dev\n",
    "        log_mean = np.log(avg_dur)  # can't pass the mean duration into lognormal until it has been logged itself \n",
    "        delta = rnd.lognormal(log_mean, sigma)  # get a random sample from a log normal distribution with a std dev\n",
    "\n",
    "        task = [instance_id, task_type, start_date_time]\n",
    "        instance_task_list.append(task)\n",
    "\n",
    "        # increment the start time by the delta so that the next task start after this one\n",
    "        start_date_time = start_date_time + timedelta(hours=delta)\n",
    "\n",
    "    return instance_task_list"
   ]
  },
  {
   "cell_type": "markdown",
   "source": [
    "## Shift Activity Start Time\n",
    "This function shifts the activity start time for a specific task with a specific attribute set to a specific value. For example, to delay the start time of breakfast by 1hour \"task_list, User, Gerry, Eat Breakfast, 1\"\n",
    "\n",
    "This function will apply the same timeshift to every subsequent task in the proccess instance. "
   ],
   "metadata": {
    "collapsed": false,
    "pycharm": {
     "name": "#%% md\n"
    }
   }
  },
  {
   "cell_type": "code",
   "execution_count": 7,
   "id": "4ddcee7b-e027-4b81-bfea-a0d79ff239aa",
   "metadata": {
    "pycharm": {
     "name": "#%%\n"
    }
   },
   "outputs": [],
   "source": [
    "def shiftActivityStartTime(tasks, target_attribute, target_value, target_task, timeShift):\n",
    "\n",
    "    # Logic requires we sort by process_id and start_date\n",
    "    tasks = tasks.sort_values(['process_id', 'start_time'])\n",
    "    tasks = tasks.reset_index(drop=True)\n",
    "    process_being_modified = -1\n",
    "\n",
    "    # iterate through the dataframe using the index value\n",
    "    for x in tasks.index:\n",
    "        row = tasks.loc[x]\n",
    "        task_attribute = row[target_attribute]\n",
    "        row_task = row['task']\n",
    "        current_process = row['process_id']\n",
    "\n",
    "\n",
    "        # Have we found the target activity\n",
    "        if row_task == target_task and task_attribute == target_value:\n",
    "            process_being_modified = current_process\n",
    "\n",
    "        # Are we still processing the same process that we were when we found the target activity ?\n",
    "        # If so we are moving all subsequent tasks back by the value of the timeshift parameter\n",
    "        if current_process == process_being_modified:\n",
    "            # shift the time\n",
    "            current_ts = row['start_time']\n",
    "            shifted_ts = current_ts + timedelta(hours=timeShift)\n",
    "            tasks.loc[x, 'start_time'] = shifted_ts\n",
    "\n",
    "    return tasks"
   ]
  },
  {
   "cell_type": "markdown",
   "id": "49b549a6-f355-454c-9dc0-8a3214c55d90",
   "metadata": {
    "pycharm": {
     "name": "#%% md\n"
    },
    "tags": []
   },
   "source": [
    "## Initialise Data Generator"
   ]
  },
  {
   "cell_type": "code",
   "execution_count": 8,
   "id": "34e8e825-081b-419c-b660-ed046b67f8ab",
   "metadata": {
    "pycharm": {
     "name": "#%%\n"
    }
   },
   "outputs": [],
   "source": [
    "start_date_time = datetime(2017, 11, 28, 18, 00, 00)\n",
    "instance_time_offset = 24\n",
    "instance_counter = 1\n"
   ]
  },
  {
   "cell_type": "markdown",
   "id": "be468e38-603d-4447-b639-ac562d615799",
   "metadata": {
    "pycharm": {
     "name": "#%% md\n"
    }
   },
   "source": [
    "## Create Happy Path Instances"
   ]
  },
  {
   "cell_type": "code",
   "execution_count": 9,
   "outputs": [],
   "source": [
    "\n",
    "qty = 900\n",
    "happy_path = [\"New Client Onboarding Request\", \n",
    "               \"Review Documents\", \n",
    "               \"Automated Scoreboarding\",\n",
    "               \"Update Backend Systems\", \n",
    "               \"Notification Review Request Completed\"]\n",
    "\n",
    "happy_path_task_list = []\n",
    "happy_path_task_list = generate_process_instances(happy_path, qty)\n",
    "happy_path_task_list_df = pd.DataFrame(happy_path_task_list)\n",
    "\n",
    "# Increment the start time by 24 hour\n",
    "start_date_time = start_date_time + timedelta(hours=24)"
   ],
   "metadata": {
    "collapsed": false,
    "pycharm": {
     "name": "#%%\n"
    }
   }
  },
  {
   "cell_type": "code",
   "execution_count": 10,
   "outputs": [
    {
     "data": {
      "text/plain": "   0                                      1                          2\n0  1          New Client Onboarding Request 2017-11-28 18:00:00.000000\n1  1                       Review Documents 2017-11-28 18:16:47.080189\n2  1                Automated Scoreboarding 2017-11-28 18:38:38.127292\n3  1                 Update Backend Systems 2017-11-28 18:48:03.275314\n4  1  Notification Review Request Completed 2017-11-28 19:01:32.852061",
      "text/html": "<div>\n<style scoped>\n    .dataframe tbody tr th:only-of-type {\n        vertical-align: middle;\n    }\n\n    .dataframe tbody tr th {\n        vertical-align: top;\n    }\n\n    .dataframe thead th {\n        text-align: right;\n    }\n</style>\n<table border=\"1\" class=\"dataframe\">\n  <thead>\n    <tr style=\"text-align: right;\">\n      <th></th>\n      <th>0</th>\n      <th>1</th>\n      <th>2</th>\n    </tr>\n  </thead>\n  <tbody>\n    <tr>\n      <th>0</th>\n      <td>1</td>\n      <td>New Client Onboarding Request</td>\n      <td>2017-11-28 18:00:00.000000</td>\n    </tr>\n    <tr>\n      <th>1</th>\n      <td>1</td>\n      <td>Review Documents</td>\n      <td>2017-11-28 18:16:47.080189</td>\n    </tr>\n    <tr>\n      <th>2</th>\n      <td>1</td>\n      <td>Automated Scoreboarding</td>\n      <td>2017-11-28 18:38:38.127292</td>\n    </tr>\n    <tr>\n      <th>3</th>\n      <td>1</td>\n      <td>Update Backend Systems</td>\n      <td>2017-11-28 18:48:03.275314</td>\n    </tr>\n    <tr>\n      <th>4</th>\n      <td>1</td>\n      <td>Notification Review Request Completed</td>\n      <td>2017-11-28 19:01:32.852061</td>\n    </tr>\n  </tbody>\n</table>\n</div>"
     },
     "execution_count": 10,
     "metadata": {},
     "output_type": "execute_result"
    }
   ],
   "source": [
    "happy_path_task_list_df.head()"
   ],
   "metadata": {
    "collapsed": false,
    "pycharm": {
     "name": "#%%\n"
    }
   }
  },
  {
   "cell_type": "markdown",
   "source": [
    "## Create Instances Requiring Manual Scoreboarding"
   ],
   "metadata": {
    "collapsed": false,
    "pycharm": {
     "name": "#%% md\n"
    }
   }
  },
  {
   "cell_type": "code",
   "execution_count": 11,
   "outputs": [],
   "source": [
    "\n",
    "qty = 80\n",
    "manual_path = [\"New Client Onboarding Request\", \n",
    "               \"Review Documents\", \n",
    "               \"Automated Scoreboarding\",\n",
    "               \"Manual Scoreboarding\",\n",
    "               \"Update Backend Systems\", \n",
    "               \"Notification Review Request Completed\"]\n",
    "\n",
    "manual_path_task_list = []\n",
    "manual_path_task_list = generate_process_instances(manual_path, qty)\n",
    "manual_path_task_list_df = pd.DataFrame(manual_path_task_list)\n",
    "\n",
    "# Increment the start time by 24 hour\n",
    "start_date_time = start_date_time + timedelta(hours=24)"
   ],
   "metadata": {
    "collapsed": false,
    "pycharm": {
     "name": "#%%\n"
    }
   }
  },
  {
   "cell_type": "code",
   "execution_count": 12,
   "outputs": [
    {
     "data": {
      "text/plain": "     0                              1                          2\n0  901  New Client Onboarding Request 2020-05-17 18:00:00.000000\n1  901               Review Documents 2020-05-17 18:15:51.781755\n2  901        Automated Scoreboarding 2020-05-17 19:15:37.058832\n3  901           Manual Scoreboarding 2020-05-17 19:23:11.183341\n4  901         Update Backend Systems 2020-05-17 20:49:54.076790",
      "text/html": "<div>\n<style scoped>\n    .dataframe tbody tr th:only-of-type {\n        vertical-align: middle;\n    }\n\n    .dataframe tbody tr th {\n        vertical-align: top;\n    }\n\n    .dataframe thead th {\n        text-align: right;\n    }\n</style>\n<table border=\"1\" class=\"dataframe\">\n  <thead>\n    <tr style=\"text-align: right;\">\n      <th></th>\n      <th>0</th>\n      <th>1</th>\n      <th>2</th>\n    </tr>\n  </thead>\n  <tbody>\n    <tr>\n      <th>0</th>\n      <td>901</td>\n      <td>New Client Onboarding Request</td>\n      <td>2020-05-17 18:00:00.000000</td>\n    </tr>\n    <tr>\n      <th>1</th>\n      <td>901</td>\n      <td>Review Documents</td>\n      <td>2020-05-17 18:15:51.781755</td>\n    </tr>\n    <tr>\n      <th>2</th>\n      <td>901</td>\n      <td>Automated Scoreboarding</td>\n      <td>2020-05-17 19:15:37.058832</td>\n    </tr>\n    <tr>\n      <th>3</th>\n      <td>901</td>\n      <td>Manual Scoreboarding</td>\n      <td>2020-05-17 19:23:11.183341</td>\n    </tr>\n    <tr>\n      <th>4</th>\n      <td>901</td>\n      <td>Update Backend Systems</td>\n      <td>2020-05-17 20:49:54.076790</td>\n    </tr>\n  </tbody>\n</table>\n</div>"
     },
     "execution_count": 12,
     "metadata": {},
     "output_type": "execute_result"
    }
   ],
   "source": [
    "manual_path_task_list_df.head()"
   ],
   "metadata": {
    "collapsed": false,
    "pycharm": {
     "name": "#%%\n"
    }
   }
  },
  {
   "cell_type": "markdown",
   "source": [
    "## Create Instance that loop"
   ],
   "metadata": {
    "collapsed": false,
    "pycharm": {
     "name": "#%% md\n"
    }
   }
  },
  {
   "cell_type": "code",
   "execution_count": 13,
   "outputs": [],
   "source": [
    "qty = 20\n",
    "loop_path = [\"New Client Onboarding Request\", \n",
    "               \"Review Documents\", \n",
    "               \"Automated Scoreboarding\",\n",
    "               \"Manual Scoreboarding\",\n",
    "               \"Review Documents\",\n",
    "               \"Update Backend Systems\", \n",
    "               \"Notification Review Request Completed\"]\n",
    "\n",
    "loop_path_task_list = []\n",
    "loop_path_task_list = generate_process_instances(loop_path, qty)\n",
    "loop_path_task_list_df = pd.DataFrame(loop_path_task_list)\n",
    "\n",
    "# Increment the start time by 24 hour\n",
    "start_date_time = start_date_time + timedelta(hours=24)"
   ],
   "metadata": {
    "collapsed": false,
    "pycharm": {
     "name": "#%%\n"
    }
   }
  },
  {
   "cell_type": "code",
   "execution_count": 14,
   "outputs": [],
   "source": [
    "# Can only concat two dataframes at a time\n",
    "df = pd.concat([happy_path_task_list_df,manual_path_task_list_df], axis=0)\n",
    "df = pd.concat([df,loop_path_task_list_df], axis=0)"
   ],
   "metadata": {
    "collapsed": false,
    "pycharm": {
     "name": "#%%\n"
    }
   }
  },
  {
   "cell_type": "code",
   "execution_count": 15,
   "outputs": [],
   "source": [
    "df.columns = ['process_id', 'task', 'start_time']"
   ],
   "metadata": {
    "collapsed": false,
    "pycharm": {
     "name": "#%%\n"
    }
   }
  },
  {
   "cell_type": "code",
   "execution_count": 16,
   "outputs": [
    {
     "name": "stdout",
     "output_type": "stream",
     "text": [
      "<class 'pandas.core.frame.DataFrame'>\n",
      "Int64Index: 5120 entries, 0 to 139\n",
      "Data columns (total 3 columns):\n",
      " #   Column      Non-Null Count  Dtype         \n",
      "---  ------      --------------  -----         \n",
      " 0   process_id  5120 non-null   int64         \n",
      " 1   task        5120 non-null   object        \n",
      " 2   start_time  5120 non-null   datetime64[ns]\n",
      "dtypes: datetime64[ns](1), int64(1), object(1)\n",
      "memory usage: 160.0+ KB\n"
     ]
    }
   ],
   "source": [
    "df.info()"
   ],
   "metadata": {
    "collapsed": false,
    "pycharm": {
     "name": "#%%\n"
    }
   }
  },
  {
   "cell_type": "code",
   "execution_count": 17,
   "outputs": [
    {
     "data": {
      "text/plain": "1000"
     },
     "execution_count": 17,
     "metadata": {},
     "output_type": "execute_result"
    }
   ],
   "source": [
    "# Confirm how many processes\n",
    "len(df[\"process_id\"].unique())"
   ],
   "metadata": {
    "collapsed": false,
    "pycharm": {
     "name": "#%%\n"
    }
   }
  },
  {
   "cell_type": "code",
   "execution_count": 18,
   "outputs": [
    {
     "data": {
      "text/plain": "   process_id                                   task  \\\n0           1          New Client Onboarding Request   \n1           1                       Review Documents   \n2           1                Automated Scoreboarding   \n3           1                 Update Backend Systems   \n4           1  Notification Review Request Completed   \n5           2          New Client Onboarding Request   \n6           2                       Review Documents   \n7           2                Automated Scoreboarding   \n8           2                 Update Backend Systems   \n9           2  Notification Review Request Completed   \n\n                  start_time  \n0 2017-11-28 18:00:00.000000  \n1 2017-11-28 18:16:47.080189  \n2 2017-11-28 18:38:38.127292  \n3 2017-11-28 18:48:03.275314  \n4 2017-11-28 19:01:32.852061  \n5 2017-11-29 18:00:00.000000  \n6 2017-11-29 18:26:51.642022  \n7 2017-11-29 18:36:14.033560  \n8 2017-11-29 18:43:02.357288  \n9 2017-11-29 19:01:06.665109  ",
      "text/html": "<div>\n<style scoped>\n    .dataframe tbody tr th:only-of-type {\n        vertical-align: middle;\n    }\n\n    .dataframe tbody tr th {\n        vertical-align: top;\n    }\n\n    .dataframe thead th {\n        text-align: right;\n    }\n</style>\n<table border=\"1\" class=\"dataframe\">\n  <thead>\n    <tr style=\"text-align: right;\">\n      <th></th>\n      <th>process_id</th>\n      <th>task</th>\n      <th>start_time</th>\n    </tr>\n  </thead>\n  <tbody>\n    <tr>\n      <th>0</th>\n      <td>1</td>\n      <td>New Client Onboarding Request</td>\n      <td>2017-11-28 18:00:00.000000</td>\n    </tr>\n    <tr>\n      <th>1</th>\n      <td>1</td>\n      <td>Review Documents</td>\n      <td>2017-11-28 18:16:47.080189</td>\n    </tr>\n    <tr>\n      <th>2</th>\n      <td>1</td>\n      <td>Automated Scoreboarding</td>\n      <td>2017-11-28 18:38:38.127292</td>\n    </tr>\n    <tr>\n      <th>3</th>\n      <td>1</td>\n      <td>Update Backend Systems</td>\n      <td>2017-11-28 18:48:03.275314</td>\n    </tr>\n    <tr>\n      <th>4</th>\n      <td>1</td>\n      <td>Notification Review Request Completed</td>\n      <td>2017-11-28 19:01:32.852061</td>\n    </tr>\n    <tr>\n      <th>5</th>\n      <td>2</td>\n      <td>New Client Onboarding Request</td>\n      <td>2017-11-29 18:00:00.000000</td>\n    </tr>\n    <tr>\n      <th>6</th>\n      <td>2</td>\n      <td>Review Documents</td>\n      <td>2017-11-29 18:26:51.642022</td>\n    </tr>\n    <tr>\n      <th>7</th>\n      <td>2</td>\n      <td>Automated Scoreboarding</td>\n      <td>2017-11-29 18:36:14.033560</td>\n    </tr>\n    <tr>\n      <th>8</th>\n      <td>2</td>\n      <td>Update Backend Systems</td>\n      <td>2017-11-29 18:43:02.357288</td>\n    </tr>\n    <tr>\n      <th>9</th>\n      <td>2</td>\n      <td>Notification Review Request Completed</td>\n      <td>2017-11-29 19:01:06.665109</td>\n    </tr>\n  </tbody>\n</table>\n</div>"
     },
     "execution_count": 18,
     "metadata": {},
     "output_type": "execute_result"
    }
   ],
   "source": [
    "df.head(10)"
   ],
   "metadata": {
    "collapsed": false,
    "pycharm": {
     "name": "#%%\n"
    }
   }
  },
  {
   "cell_type": "markdown",
   "source": [
    "## Add Task Level Business Data : User"
   ],
   "metadata": {
    "collapsed": false,
    "pycharm": {
     "name": "#%% md\n"
    }
   }
  },
  {
   "cell_type": "code",
   "execution_count": 19,
   "outputs": [],
   "source": [
    "\n",
    "# Add a column for User\n",
    "df[\"user\"] = \"\""
   ],
   "metadata": {
    "collapsed": false,
    "pycharm": {
     "name": "#%%\n"
    }
   }
  },
  {
   "cell_type": "code",
   "execution_count": 20,
   "outputs": [],
   "source": [
    "def setRandomUser(row):\n",
    "    match row[\"task\"]:\n",
    "        case \"Review Documents\":\n",
    "            return random.choice(['Rod','Jane','Freddy'])\n",
    "        case \"New Client Onboarding Request\":\n",
    "            return random.choice(['Clive','Francis','Nick','Seb','Tom'])\n",
    "        case \"Manual Scoreboarding\":\n",
    "            return random.choice(['Sharon','Susan', 'Sam'])\n",
    "        case \"Update Backend Systems\":\n",
    "            return \"RPA\"\n",
    "        case \"Automated Scoreboarding\":\n",
    "            return \"SYSTEM\"\n",
    "        case \"Notification Review Request Completed\":\n",
    "            return \"SYSTEM\"\n",
    "        case _:\n",
    "            return row[\"user\"]"
   ],
   "metadata": {
    "collapsed": false,
    "pycharm": {
     "name": "#%%\n"
    }
   }
  },
  {
   "cell_type": "code",
   "execution_count": 21,
   "outputs": [],
   "source": [
    "df[\"user\"] = df.apply(setRandomUser, axis=1)"
   ],
   "metadata": {
    "collapsed": false,
    "pycharm": {
     "name": "#%%\n"
    }
   }
  },
  {
   "cell_type": "code",
   "execution_count": 22,
   "outputs": [
    {
     "data": {
      "text/plain": "    process_id                                   task  \\\n0            1          New Client Onboarding Request   \n1            1                       Review Documents   \n2            1                Automated Scoreboarding   \n3            1                 Update Backend Systems   \n4            1  Notification Review Request Completed   \n5            2          New Client Onboarding Request   \n6            2                       Review Documents   \n7            2                Automated Scoreboarding   \n8            2                 Update Backend Systems   \n9            2  Notification Review Request Completed   \n10           3          New Client Onboarding Request   \n11           3                       Review Documents   \n12           3                Automated Scoreboarding   \n13           3                 Update Backend Systems   \n14           3  Notification Review Request Completed   \n15           4          New Client Onboarding Request   \n16           4                       Review Documents   \n17           4                Automated Scoreboarding   \n18           4                 Update Backend Systems   \n19           4  Notification Review Request Completed   \n\n                   start_time     user  \n0  2017-11-28 18:00:00.000000    Clive  \n1  2017-11-28 18:16:47.080189      Rod  \n2  2017-11-28 18:38:38.127292   SYSTEM  \n3  2017-11-28 18:48:03.275314      RPA  \n4  2017-11-28 19:01:32.852061   SYSTEM  \n5  2017-11-29 18:00:00.000000      Tom  \n6  2017-11-29 18:26:51.642022      Rod  \n7  2017-11-29 18:36:14.033560   SYSTEM  \n8  2017-11-29 18:43:02.357288      RPA  \n9  2017-11-29 19:01:06.665109   SYSTEM  \n10 2017-11-30 18:00:00.000000  Francis  \n11 2017-11-30 18:11:48.591286      Rod  \n12 2017-11-30 19:17:12.873828   SYSTEM  \n13 2017-11-30 19:20:04.145092      RPA  \n14 2017-11-30 19:42:07.875387   SYSTEM  \n15 2017-12-01 18:00:00.000000     Nick  \n16 2017-12-01 18:09:39.181673      Rod  \n17 2017-12-01 18:26:13.059709   SYSTEM  \n18 2017-12-01 18:30:55.135222      RPA  \n19 2017-12-01 18:48:46.742590   SYSTEM  ",
      "text/html": "<div>\n<style scoped>\n    .dataframe tbody tr th:only-of-type {\n        vertical-align: middle;\n    }\n\n    .dataframe tbody tr th {\n        vertical-align: top;\n    }\n\n    .dataframe thead th {\n        text-align: right;\n    }\n</style>\n<table border=\"1\" class=\"dataframe\">\n  <thead>\n    <tr style=\"text-align: right;\">\n      <th></th>\n      <th>process_id</th>\n      <th>task</th>\n      <th>start_time</th>\n      <th>user</th>\n    </tr>\n  </thead>\n  <tbody>\n    <tr>\n      <th>0</th>\n      <td>1</td>\n      <td>New Client Onboarding Request</td>\n      <td>2017-11-28 18:00:00.000000</td>\n      <td>Clive</td>\n    </tr>\n    <tr>\n      <th>1</th>\n      <td>1</td>\n      <td>Review Documents</td>\n      <td>2017-11-28 18:16:47.080189</td>\n      <td>Rod</td>\n    </tr>\n    <tr>\n      <th>2</th>\n      <td>1</td>\n      <td>Automated Scoreboarding</td>\n      <td>2017-11-28 18:38:38.127292</td>\n      <td>SYSTEM</td>\n    </tr>\n    <tr>\n      <th>3</th>\n      <td>1</td>\n      <td>Update Backend Systems</td>\n      <td>2017-11-28 18:48:03.275314</td>\n      <td>RPA</td>\n    </tr>\n    <tr>\n      <th>4</th>\n      <td>1</td>\n      <td>Notification Review Request Completed</td>\n      <td>2017-11-28 19:01:32.852061</td>\n      <td>SYSTEM</td>\n    </tr>\n    <tr>\n      <th>5</th>\n      <td>2</td>\n      <td>New Client Onboarding Request</td>\n      <td>2017-11-29 18:00:00.000000</td>\n      <td>Tom</td>\n    </tr>\n    <tr>\n      <th>6</th>\n      <td>2</td>\n      <td>Review Documents</td>\n      <td>2017-11-29 18:26:51.642022</td>\n      <td>Rod</td>\n    </tr>\n    <tr>\n      <th>7</th>\n      <td>2</td>\n      <td>Automated Scoreboarding</td>\n      <td>2017-11-29 18:36:14.033560</td>\n      <td>SYSTEM</td>\n    </tr>\n    <tr>\n      <th>8</th>\n      <td>2</td>\n      <td>Update Backend Systems</td>\n      <td>2017-11-29 18:43:02.357288</td>\n      <td>RPA</td>\n    </tr>\n    <tr>\n      <th>9</th>\n      <td>2</td>\n      <td>Notification Review Request Completed</td>\n      <td>2017-11-29 19:01:06.665109</td>\n      <td>SYSTEM</td>\n    </tr>\n    <tr>\n      <th>10</th>\n      <td>3</td>\n      <td>New Client Onboarding Request</td>\n      <td>2017-11-30 18:00:00.000000</td>\n      <td>Francis</td>\n    </tr>\n    <tr>\n      <th>11</th>\n      <td>3</td>\n      <td>Review Documents</td>\n      <td>2017-11-30 18:11:48.591286</td>\n      <td>Rod</td>\n    </tr>\n    <tr>\n      <th>12</th>\n      <td>3</td>\n      <td>Automated Scoreboarding</td>\n      <td>2017-11-30 19:17:12.873828</td>\n      <td>SYSTEM</td>\n    </tr>\n    <tr>\n      <th>13</th>\n      <td>3</td>\n      <td>Update Backend Systems</td>\n      <td>2017-11-30 19:20:04.145092</td>\n      <td>RPA</td>\n    </tr>\n    <tr>\n      <th>14</th>\n      <td>3</td>\n      <td>Notification Review Request Completed</td>\n      <td>2017-11-30 19:42:07.875387</td>\n      <td>SYSTEM</td>\n    </tr>\n    <tr>\n      <th>15</th>\n      <td>4</td>\n      <td>New Client Onboarding Request</td>\n      <td>2017-12-01 18:00:00.000000</td>\n      <td>Nick</td>\n    </tr>\n    <tr>\n      <th>16</th>\n      <td>4</td>\n      <td>Review Documents</td>\n      <td>2017-12-01 18:09:39.181673</td>\n      <td>Rod</td>\n    </tr>\n    <tr>\n      <th>17</th>\n      <td>4</td>\n      <td>Automated Scoreboarding</td>\n      <td>2017-12-01 18:26:13.059709</td>\n      <td>SYSTEM</td>\n    </tr>\n    <tr>\n      <th>18</th>\n      <td>4</td>\n      <td>Update Backend Systems</td>\n      <td>2017-12-01 18:30:55.135222</td>\n      <td>RPA</td>\n    </tr>\n    <tr>\n      <th>19</th>\n      <td>4</td>\n      <td>Notification Review Request Completed</td>\n      <td>2017-12-01 18:48:46.742590</td>\n      <td>SYSTEM</td>\n    </tr>\n  </tbody>\n</table>\n</div>"
     },
     "execution_count": 22,
     "metadata": {},
     "output_type": "execute_result"
    }
   ],
   "source": [
    "df.head(20)"
   ],
   "metadata": {
    "collapsed": false,
    "pycharm": {
     "name": "#%%\n"
    }
   }
  },
  {
   "cell_type": "markdown",
   "source": [],
   "metadata": {
    "collapsed": false,
    "pycharm": {
     "name": "#%% md\n"
    }
   }
  },
  {
   "cell_type": "markdown",
   "source": [
    "## Add Task Level Business Data : UserGroup"
   ],
   "metadata": {
    "collapsed": false,
    "pycharm": {
     "name": "#%% md\n"
    }
   }
  },
  {
   "cell_type": "code",
   "execution_count": 23,
   "outputs": [],
   "source": [
    "# Add a column for UserGroup\n",
    "df[\"user_group\"] = \"\""
   ],
   "metadata": {
    "collapsed": false,
    "pycharm": {
     "name": "#%%\n"
    }
   }
  },
  {
   "cell_type": "code",
   "execution_count": 24,
   "outputs": [],
   "source": [
    "def setUserGroup(row):\n",
    "    match row[\"task\"]:\n",
    "        case \"Review Documents\":\n",
    "            return \"Operations\"\n",
    "        case \"New Client Onboarding Request\":\n",
    "            return \"Sales\" \n",
    "        case \"Manual Scoreboarding\":\n",
    "            return \"Risk\"\n",
    "        case \"Update Backend Systems\":\n",
    "            return \"SYSTEM\"\n",
    "        case \"Automated Scoreboarding\":\n",
    "            return \"SYSTEM\"\n",
    "        case \"Notification Review Request Completed\":\n",
    "            return \"SYSTEM\"\n",
    "        case _:\n",
    "            return \"\""
   ],
   "metadata": {
    "collapsed": false,
    "pycharm": {
     "name": "#%%\n"
    }
   }
  },
  {
   "cell_type": "code",
   "execution_count": 25,
   "outputs": [],
   "source": [
    "df[\"user_group\"] = df.apply(setUserGroup, axis=1)"
   ],
   "metadata": {
    "collapsed": false,
    "pycharm": {
     "name": "#%%\n"
    }
   }
  },
  {
   "cell_type": "code",
   "execution_count": 26,
   "outputs": [
    {
     "data": {
      "text/plain": "    process_id                                   task  \\\n0            1          New Client Onboarding Request   \n1            1                       Review Documents   \n2            1                Automated Scoreboarding   \n3            1                 Update Backend Systems   \n4            1  Notification Review Request Completed   \n5            2          New Client Onboarding Request   \n6            2                       Review Documents   \n7            2                Automated Scoreboarding   \n8            2                 Update Backend Systems   \n9            2  Notification Review Request Completed   \n10           3          New Client Onboarding Request   \n11           3                       Review Documents   \n12           3                Automated Scoreboarding   \n13           3                 Update Backend Systems   \n14           3  Notification Review Request Completed   \n15           4          New Client Onboarding Request   \n16           4                       Review Documents   \n17           4                Automated Scoreboarding   \n18           4                 Update Backend Systems   \n19           4  Notification Review Request Completed   \n\n                   start_time     user  user_group  \n0  2017-11-28 18:00:00.000000    Clive       Sales  \n1  2017-11-28 18:16:47.080189      Rod  Operations  \n2  2017-11-28 18:38:38.127292   SYSTEM      SYSTEM  \n3  2017-11-28 18:48:03.275314      RPA      SYSTEM  \n4  2017-11-28 19:01:32.852061   SYSTEM      SYSTEM  \n5  2017-11-29 18:00:00.000000      Tom       Sales  \n6  2017-11-29 18:26:51.642022      Rod  Operations  \n7  2017-11-29 18:36:14.033560   SYSTEM      SYSTEM  \n8  2017-11-29 18:43:02.357288      RPA      SYSTEM  \n9  2017-11-29 19:01:06.665109   SYSTEM      SYSTEM  \n10 2017-11-30 18:00:00.000000  Francis       Sales  \n11 2017-11-30 18:11:48.591286      Rod  Operations  \n12 2017-11-30 19:17:12.873828   SYSTEM      SYSTEM  \n13 2017-11-30 19:20:04.145092      RPA      SYSTEM  \n14 2017-11-30 19:42:07.875387   SYSTEM      SYSTEM  \n15 2017-12-01 18:00:00.000000     Nick       Sales  \n16 2017-12-01 18:09:39.181673      Rod  Operations  \n17 2017-12-01 18:26:13.059709   SYSTEM      SYSTEM  \n18 2017-12-01 18:30:55.135222      RPA      SYSTEM  \n19 2017-12-01 18:48:46.742590   SYSTEM      SYSTEM  ",
      "text/html": "<div>\n<style scoped>\n    .dataframe tbody tr th:only-of-type {\n        vertical-align: middle;\n    }\n\n    .dataframe tbody tr th {\n        vertical-align: top;\n    }\n\n    .dataframe thead th {\n        text-align: right;\n    }\n</style>\n<table border=\"1\" class=\"dataframe\">\n  <thead>\n    <tr style=\"text-align: right;\">\n      <th></th>\n      <th>process_id</th>\n      <th>task</th>\n      <th>start_time</th>\n      <th>user</th>\n      <th>user_group</th>\n    </tr>\n  </thead>\n  <tbody>\n    <tr>\n      <th>0</th>\n      <td>1</td>\n      <td>New Client Onboarding Request</td>\n      <td>2017-11-28 18:00:00.000000</td>\n      <td>Clive</td>\n      <td>Sales</td>\n    </tr>\n    <tr>\n      <th>1</th>\n      <td>1</td>\n      <td>Review Documents</td>\n      <td>2017-11-28 18:16:47.080189</td>\n      <td>Rod</td>\n      <td>Operations</td>\n    </tr>\n    <tr>\n      <th>2</th>\n      <td>1</td>\n      <td>Automated Scoreboarding</td>\n      <td>2017-11-28 18:38:38.127292</td>\n      <td>SYSTEM</td>\n      <td>SYSTEM</td>\n    </tr>\n    <tr>\n      <th>3</th>\n      <td>1</td>\n      <td>Update Backend Systems</td>\n      <td>2017-11-28 18:48:03.275314</td>\n      <td>RPA</td>\n      <td>SYSTEM</td>\n    </tr>\n    <tr>\n      <th>4</th>\n      <td>1</td>\n      <td>Notification Review Request Completed</td>\n      <td>2017-11-28 19:01:32.852061</td>\n      <td>SYSTEM</td>\n      <td>SYSTEM</td>\n    </tr>\n    <tr>\n      <th>5</th>\n      <td>2</td>\n      <td>New Client Onboarding Request</td>\n      <td>2017-11-29 18:00:00.000000</td>\n      <td>Tom</td>\n      <td>Sales</td>\n    </tr>\n    <tr>\n      <th>6</th>\n      <td>2</td>\n      <td>Review Documents</td>\n      <td>2017-11-29 18:26:51.642022</td>\n      <td>Rod</td>\n      <td>Operations</td>\n    </tr>\n    <tr>\n      <th>7</th>\n      <td>2</td>\n      <td>Automated Scoreboarding</td>\n      <td>2017-11-29 18:36:14.033560</td>\n      <td>SYSTEM</td>\n      <td>SYSTEM</td>\n    </tr>\n    <tr>\n      <th>8</th>\n      <td>2</td>\n      <td>Update Backend Systems</td>\n      <td>2017-11-29 18:43:02.357288</td>\n      <td>RPA</td>\n      <td>SYSTEM</td>\n    </tr>\n    <tr>\n      <th>9</th>\n      <td>2</td>\n      <td>Notification Review Request Completed</td>\n      <td>2017-11-29 19:01:06.665109</td>\n      <td>SYSTEM</td>\n      <td>SYSTEM</td>\n    </tr>\n    <tr>\n      <th>10</th>\n      <td>3</td>\n      <td>New Client Onboarding Request</td>\n      <td>2017-11-30 18:00:00.000000</td>\n      <td>Francis</td>\n      <td>Sales</td>\n    </tr>\n    <tr>\n      <th>11</th>\n      <td>3</td>\n      <td>Review Documents</td>\n      <td>2017-11-30 18:11:48.591286</td>\n      <td>Rod</td>\n      <td>Operations</td>\n    </tr>\n    <tr>\n      <th>12</th>\n      <td>3</td>\n      <td>Automated Scoreboarding</td>\n      <td>2017-11-30 19:17:12.873828</td>\n      <td>SYSTEM</td>\n      <td>SYSTEM</td>\n    </tr>\n    <tr>\n      <th>13</th>\n      <td>3</td>\n      <td>Update Backend Systems</td>\n      <td>2017-11-30 19:20:04.145092</td>\n      <td>RPA</td>\n      <td>SYSTEM</td>\n    </tr>\n    <tr>\n      <th>14</th>\n      <td>3</td>\n      <td>Notification Review Request Completed</td>\n      <td>2017-11-30 19:42:07.875387</td>\n      <td>SYSTEM</td>\n      <td>SYSTEM</td>\n    </tr>\n    <tr>\n      <th>15</th>\n      <td>4</td>\n      <td>New Client Onboarding Request</td>\n      <td>2017-12-01 18:00:00.000000</td>\n      <td>Nick</td>\n      <td>Sales</td>\n    </tr>\n    <tr>\n      <th>16</th>\n      <td>4</td>\n      <td>Review Documents</td>\n      <td>2017-12-01 18:09:39.181673</td>\n      <td>Rod</td>\n      <td>Operations</td>\n    </tr>\n    <tr>\n      <th>17</th>\n      <td>4</td>\n      <td>Automated Scoreboarding</td>\n      <td>2017-12-01 18:26:13.059709</td>\n      <td>SYSTEM</td>\n      <td>SYSTEM</td>\n    </tr>\n    <tr>\n      <th>18</th>\n      <td>4</td>\n      <td>Update Backend Systems</td>\n      <td>2017-12-01 18:30:55.135222</td>\n      <td>RPA</td>\n      <td>SYSTEM</td>\n    </tr>\n    <tr>\n      <th>19</th>\n      <td>4</td>\n      <td>Notification Review Request Completed</td>\n      <td>2017-12-01 18:48:46.742590</td>\n      <td>SYSTEM</td>\n      <td>SYSTEM</td>\n    </tr>\n  </tbody>\n</table>\n</div>"
     },
     "execution_count": 26,
     "metadata": {},
     "output_type": "execute_result"
    }
   ],
   "source": [
    "df.head(20)"
   ],
   "metadata": {
    "collapsed": false,
    "pycharm": {
     "name": "#%%\n"
    }
   }
  },
  {
   "cell_type": "markdown",
   "source": [
    "## Add Process Instance Business Data : Industry\n",
    "Industy won't change during the process so all tasks for a given process ID must have the same value"
   ],
   "metadata": {
    "collapsed": false,
    "pycharm": {
     "name": "#%% md\n"
    }
   }
  },
  {
   "cell_type": "code",
   "execution_count": 27,
   "outputs": [],
   "source": [
    "df[\"industry\"] = \"\""
   ],
   "metadata": {
    "collapsed": false,
    "pycharm": {
     "name": "#%%\n"
    }
   }
  },
  {
   "cell_type": "code",
   "execution_count": 28,
   "outputs": [],
   "source": [
    "process_id_list = df[\"process_id\"].unique()\n",
    "\n",
    "for process_id in process_id_list:\n",
    "    industry = random.choice(['Federal','Finance','Healthcare','Insurance','Telecom'])\n",
    "    df.loc[df[\"process_id\"].eq(process_id), \"industry\"] = industry\n",
    "    \n",
    "                          \n",
    "    "
   ],
   "metadata": {
    "collapsed": false,
    "pycharm": {
     "name": "#%%\n"
    }
   }
  },
  {
   "cell_type": "code",
   "execution_count": 29,
   "outputs": [
    {
     "data": {
      "text/plain": "    process_id                                   task  \\\n0            1          New Client Onboarding Request   \n1            1                       Review Documents   \n2            1                Automated Scoreboarding   \n3            1                 Update Backend Systems   \n4            1  Notification Review Request Completed   \n5            2          New Client Onboarding Request   \n6            2                       Review Documents   \n7            2                Automated Scoreboarding   \n8            2                 Update Backend Systems   \n9            2  Notification Review Request Completed   \n10           3          New Client Onboarding Request   \n11           3                       Review Documents   \n12           3                Automated Scoreboarding   \n13           3                 Update Backend Systems   \n14           3  Notification Review Request Completed   \n15           4          New Client Onboarding Request   \n16           4                       Review Documents   \n17           4                Automated Scoreboarding   \n18           4                 Update Backend Systems   \n19           4  Notification Review Request Completed   \n\n                   start_time     user  user_group    industry  \n0  2017-11-28 18:00:00.000000    Clive       Sales     Federal  \n1  2017-11-28 18:16:47.080189      Rod  Operations     Federal  \n2  2017-11-28 18:38:38.127292   SYSTEM      SYSTEM     Federal  \n3  2017-11-28 18:48:03.275314      RPA      SYSTEM     Federal  \n4  2017-11-28 19:01:32.852061   SYSTEM      SYSTEM     Federal  \n5  2017-11-29 18:00:00.000000      Tom       Sales     Federal  \n6  2017-11-29 18:26:51.642022      Rod  Operations     Federal  \n7  2017-11-29 18:36:14.033560   SYSTEM      SYSTEM     Federal  \n8  2017-11-29 18:43:02.357288      RPA      SYSTEM     Federal  \n9  2017-11-29 19:01:06.665109   SYSTEM      SYSTEM     Federal  \n10 2017-11-30 18:00:00.000000  Francis       Sales  Healthcare  \n11 2017-11-30 18:11:48.591286      Rod  Operations  Healthcare  \n12 2017-11-30 19:17:12.873828   SYSTEM      SYSTEM  Healthcare  \n13 2017-11-30 19:20:04.145092      RPA      SYSTEM  Healthcare  \n14 2017-11-30 19:42:07.875387   SYSTEM      SYSTEM  Healthcare  \n15 2017-12-01 18:00:00.000000     Nick       Sales     Telecom  \n16 2017-12-01 18:09:39.181673      Rod  Operations     Telecom  \n17 2017-12-01 18:26:13.059709   SYSTEM      SYSTEM     Telecom  \n18 2017-12-01 18:30:55.135222      RPA      SYSTEM     Telecom  \n19 2017-12-01 18:48:46.742590   SYSTEM      SYSTEM     Telecom  ",
      "text/html": "<div>\n<style scoped>\n    .dataframe tbody tr th:only-of-type {\n        vertical-align: middle;\n    }\n\n    .dataframe tbody tr th {\n        vertical-align: top;\n    }\n\n    .dataframe thead th {\n        text-align: right;\n    }\n</style>\n<table border=\"1\" class=\"dataframe\">\n  <thead>\n    <tr style=\"text-align: right;\">\n      <th></th>\n      <th>process_id</th>\n      <th>task</th>\n      <th>start_time</th>\n      <th>user</th>\n      <th>user_group</th>\n      <th>industry</th>\n    </tr>\n  </thead>\n  <tbody>\n    <tr>\n      <th>0</th>\n      <td>1</td>\n      <td>New Client Onboarding Request</td>\n      <td>2017-11-28 18:00:00.000000</td>\n      <td>Clive</td>\n      <td>Sales</td>\n      <td>Federal</td>\n    </tr>\n    <tr>\n      <th>1</th>\n      <td>1</td>\n      <td>Review Documents</td>\n      <td>2017-11-28 18:16:47.080189</td>\n      <td>Rod</td>\n      <td>Operations</td>\n      <td>Federal</td>\n    </tr>\n    <tr>\n      <th>2</th>\n      <td>1</td>\n      <td>Automated Scoreboarding</td>\n      <td>2017-11-28 18:38:38.127292</td>\n      <td>SYSTEM</td>\n      <td>SYSTEM</td>\n      <td>Federal</td>\n    </tr>\n    <tr>\n      <th>3</th>\n      <td>1</td>\n      <td>Update Backend Systems</td>\n      <td>2017-11-28 18:48:03.275314</td>\n      <td>RPA</td>\n      <td>SYSTEM</td>\n      <td>Federal</td>\n    </tr>\n    <tr>\n      <th>4</th>\n      <td>1</td>\n      <td>Notification Review Request Completed</td>\n      <td>2017-11-28 19:01:32.852061</td>\n      <td>SYSTEM</td>\n      <td>SYSTEM</td>\n      <td>Federal</td>\n    </tr>\n    <tr>\n      <th>5</th>\n      <td>2</td>\n      <td>New Client Onboarding Request</td>\n      <td>2017-11-29 18:00:00.000000</td>\n      <td>Tom</td>\n      <td>Sales</td>\n      <td>Federal</td>\n    </tr>\n    <tr>\n      <th>6</th>\n      <td>2</td>\n      <td>Review Documents</td>\n      <td>2017-11-29 18:26:51.642022</td>\n      <td>Rod</td>\n      <td>Operations</td>\n      <td>Federal</td>\n    </tr>\n    <tr>\n      <th>7</th>\n      <td>2</td>\n      <td>Automated Scoreboarding</td>\n      <td>2017-11-29 18:36:14.033560</td>\n      <td>SYSTEM</td>\n      <td>SYSTEM</td>\n      <td>Federal</td>\n    </tr>\n    <tr>\n      <th>8</th>\n      <td>2</td>\n      <td>Update Backend Systems</td>\n      <td>2017-11-29 18:43:02.357288</td>\n      <td>RPA</td>\n      <td>SYSTEM</td>\n      <td>Federal</td>\n    </tr>\n    <tr>\n      <th>9</th>\n      <td>2</td>\n      <td>Notification Review Request Completed</td>\n      <td>2017-11-29 19:01:06.665109</td>\n      <td>SYSTEM</td>\n      <td>SYSTEM</td>\n      <td>Federal</td>\n    </tr>\n    <tr>\n      <th>10</th>\n      <td>3</td>\n      <td>New Client Onboarding Request</td>\n      <td>2017-11-30 18:00:00.000000</td>\n      <td>Francis</td>\n      <td>Sales</td>\n      <td>Healthcare</td>\n    </tr>\n    <tr>\n      <th>11</th>\n      <td>3</td>\n      <td>Review Documents</td>\n      <td>2017-11-30 18:11:48.591286</td>\n      <td>Rod</td>\n      <td>Operations</td>\n      <td>Healthcare</td>\n    </tr>\n    <tr>\n      <th>12</th>\n      <td>3</td>\n      <td>Automated Scoreboarding</td>\n      <td>2017-11-30 19:17:12.873828</td>\n      <td>SYSTEM</td>\n      <td>SYSTEM</td>\n      <td>Healthcare</td>\n    </tr>\n    <tr>\n      <th>13</th>\n      <td>3</td>\n      <td>Update Backend Systems</td>\n      <td>2017-11-30 19:20:04.145092</td>\n      <td>RPA</td>\n      <td>SYSTEM</td>\n      <td>Healthcare</td>\n    </tr>\n    <tr>\n      <th>14</th>\n      <td>3</td>\n      <td>Notification Review Request Completed</td>\n      <td>2017-11-30 19:42:07.875387</td>\n      <td>SYSTEM</td>\n      <td>SYSTEM</td>\n      <td>Healthcare</td>\n    </tr>\n    <tr>\n      <th>15</th>\n      <td>4</td>\n      <td>New Client Onboarding Request</td>\n      <td>2017-12-01 18:00:00.000000</td>\n      <td>Nick</td>\n      <td>Sales</td>\n      <td>Telecom</td>\n    </tr>\n    <tr>\n      <th>16</th>\n      <td>4</td>\n      <td>Review Documents</td>\n      <td>2017-12-01 18:09:39.181673</td>\n      <td>Rod</td>\n      <td>Operations</td>\n      <td>Telecom</td>\n    </tr>\n    <tr>\n      <th>17</th>\n      <td>4</td>\n      <td>Automated Scoreboarding</td>\n      <td>2017-12-01 18:26:13.059709</td>\n      <td>SYSTEM</td>\n      <td>SYSTEM</td>\n      <td>Telecom</td>\n    </tr>\n    <tr>\n      <th>18</th>\n      <td>4</td>\n      <td>Update Backend Systems</td>\n      <td>2017-12-01 18:30:55.135222</td>\n      <td>RPA</td>\n      <td>SYSTEM</td>\n      <td>Telecom</td>\n    </tr>\n    <tr>\n      <th>19</th>\n      <td>4</td>\n      <td>Notification Review Request Completed</td>\n      <td>2017-12-01 18:48:46.742590</td>\n      <td>SYSTEM</td>\n      <td>SYSTEM</td>\n      <td>Telecom</td>\n    </tr>\n  </tbody>\n</table>\n</div>"
     },
     "execution_count": 29,
     "metadata": {},
     "output_type": "execute_result"
    }
   ],
   "source": [
    "df.head(20)"
   ],
   "metadata": {
    "collapsed": false,
    "pycharm": {
     "name": "#%%\n"
    }
   }
  },
  {
   "cell_type": "markdown",
   "source": [
    "## Add Process Instance Business Data : Service Charge\n",
    "Service charge will be a random choice based on industry."
   ],
   "metadata": {
    "collapsed": false,
    "pycharm": {
     "name": "#%% md\n"
    }
   }
  },
  {
   "cell_type": "code",
   "execution_count": 30,
   "outputs": [],
   "source": [
    "df[\"service_charge\"] = 0"
   ],
   "metadata": {
    "collapsed": false,
    "pycharm": {
     "name": "#%%\n"
    }
   }
  },
  {
   "cell_type": "code",
   "execution_count": 31,
   "outputs": [],
   "source": [
    "def getServiceChargeByIndustry(industry):\n",
    "    match industry:\n",
    "        case \"Federal\":\n",
    "            return random.choice([3000, 6000, 8000])\n",
    "        case \"Finance\":\n",
    "            return random.choice([10000, 12000, 20000])\n",
    "        case \"Healthcare\":\n",
    "            return random.choice([15000, 20000, 25000])\n",
    "        case \"Insurance\":\n",
    "            return 45000\n",
    "        case \"Telecom\":\n",
    "            return 49000\n",
    "        case _:\n",
    "            return 64000"
   ],
   "metadata": {
    "collapsed": false,
    "pycharm": {
     "name": "#%%\n"
    }
   }
  },
  {
   "cell_type": "code",
   "execution_count": 32,
   "outputs": [],
   "source": [
    "last_process = -1\n",
    "service_charge = 0\n",
    "\n",
    "process_id_list = df[\"process_id\"].unique()\n",
    "\n",
    "for process_id in process_id_list:\n",
    "        # get the tasks for this process instance, use copy() to make it clear to the interpreter we know\n",
    "        # this is a copy to supress any warnings about updating copies\n",
    "        process_instance_tasks = df.loc[df.process_id == process_id].copy()\n",
    "        # Get the fir row out of the task list and get the industry value\n",
    "        industry = process_instance_tasks.iloc[0]['industry']\n",
    "        \n",
    "        # call function to get a semi-random service charge for the industry\n",
    "        service_charge = getServiceChargeByIndustry(industry)\n",
    "        \n",
    "        # set the service charge in every row for this process instance\n",
    "        df.loc[df.process_id == process_id, 'service_charge'] = service_charge\n",
    "    \n"
   ],
   "metadata": {
    "collapsed": false,
    "pycharm": {
     "name": "#%%\n"
    }
   }
  },
  {
   "cell_type": "code",
   "execution_count": 32,
   "outputs": [],
   "source": [],
   "metadata": {
    "collapsed": false,
    "pycharm": {
     "name": "#%%\n"
    }
   }
  },
  {
   "cell_type": "code",
   "execution_count": 33,
   "outputs": [
    {
     "data": {
      "text/plain": "    process_id                                   task  \\\n0            1          New Client Onboarding Request   \n1            1                       Review Documents   \n2            1                Automated Scoreboarding   \n3            1                 Update Backend Systems   \n4            1  Notification Review Request Completed   \n5            2          New Client Onboarding Request   \n6            2                       Review Documents   \n7            2                Automated Scoreboarding   \n8            2                 Update Backend Systems   \n9            2  Notification Review Request Completed   \n10           3          New Client Onboarding Request   \n11           3                       Review Documents   \n12           3                Automated Scoreboarding   \n13           3                 Update Backend Systems   \n14           3  Notification Review Request Completed   \n15           4          New Client Onboarding Request   \n16           4                       Review Documents   \n17           4                Automated Scoreboarding   \n18           4                 Update Backend Systems   \n19           4  Notification Review Request Completed   \n20           5          New Client Onboarding Request   \n21           5                       Review Documents   \n22           5                Automated Scoreboarding   \n23           5                 Update Backend Systems   \n24           5  Notification Review Request Completed   \n25           6          New Client Onboarding Request   \n26           6                       Review Documents   \n27           6                Automated Scoreboarding   \n28           6                 Update Backend Systems   \n29           6  Notification Review Request Completed   \n30           7          New Client Onboarding Request   \n31           7                       Review Documents   \n32           7                Automated Scoreboarding   \n33           7                 Update Backend Systems   \n34           7  Notification Review Request Completed   \n35           8          New Client Onboarding Request   \n36           8                       Review Documents   \n37           8                Automated Scoreboarding   \n38           8                 Update Backend Systems   \n39           8  Notification Review Request Completed   \n40           9          New Client Onboarding Request   \n41           9                       Review Documents   \n42           9                Automated Scoreboarding   \n43           9                 Update Backend Systems   \n44           9  Notification Review Request Completed   \n45          10          New Client Onboarding Request   \n46          10                       Review Documents   \n47          10                Automated Scoreboarding   \n48          10                 Update Backend Systems   \n49          10  Notification Review Request Completed   \n\n                   start_time     user  user_group    industry  service_charge  \n0  2017-11-28 18:00:00.000000    Clive       Sales     Federal            3000  \n1  2017-11-28 18:16:47.080189      Rod  Operations     Federal            3000  \n2  2017-11-28 18:38:38.127292   SYSTEM      SYSTEM     Federal            3000  \n3  2017-11-28 18:48:03.275314      RPA      SYSTEM     Federal            3000  \n4  2017-11-28 19:01:32.852061   SYSTEM      SYSTEM     Federal            3000  \n5  2017-11-29 18:00:00.000000      Tom       Sales     Federal            3000  \n6  2017-11-29 18:26:51.642022      Rod  Operations     Federal            3000  \n7  2017-11-29 18:36:14.033560   SYSTEM      SYSTEM     Federal            3000  \n8  2017-11-29 18:43:02.357288      RPA      SYSTEM     Federal            3000  \n9  2017-11-29 19:01:06.665109   SYSTEM      SYSTEM     Federal            3000  \n10 2017-11-30 18:00:00.000000  Francis       Sales  Healthcare           15000  \n11 2017-11-30 18:11:48.591286      Rod  Operations  Healthcare           15000  \n12 2017-11-30 19:17:12.873828   SYSTEM      SYSTEM  Healthcare           15000  \n13 2017-11-30 19:20:04.145092      RPA      SYSTEM  Healthcare           15000  \n14 2017-11-30 19:42:07.875387   SYSTEM      SYSTEM  Healthcare           15000  \n15 2017-12-01 18:00:00.000000     Nick       Sales     Telecom           49000  \n16 2017-12-01 18:09:39.181673      Rod  Operations     Telecom           49000  \n17 2017-12-01 18:26:13.059709   SYSTEM      SYSTEM     Telecom           49000  \n18 2017-12-01 18:30:55.135222      RPA      SYSTEM     Telecom           49000  \n19 2017-12-01 18:48:46.742590   SYSTEM      SYSTEM     Telecom           49000  \n20 2017-12-02 18:00:00.000000      Seb       Sales   Insurance           45000  \n21 2017-12-02 18:10:38.745201      Rod  Operations   Insurance           45000  \n22 2017-12-02 18:16:51.300657   SYSTEM      SYSTEM   Insurance           45000  \n23 2017-12-02 18:20:58.920098      RPA      SYSTEM   Insurance           45000  \n24 2017-12-02 18:36:09.329497   SYSTEM      SYSTEM   Insurance           45000  \n25 2017-12-03 18:00:00.000000      Tom       Sales   Insurance           45000  \n26 2017-12-03 18:33:42.290789      Rod  Operations   Insurance           45000  \n27 2017-12-03 18:54:15.038332   SYSTEM      SYSTEM   Insurance           45000  \n28 2017-12-03 19:01:35.883284      RPA      SYSTEM   Insurance           45000  \n29 2017-12-03 19:10:16.137570   SYSTEM      SYSTEM   Insurance           45000  \n30 2017-12-04 18:00:00.000000      Tom       Sales     Telecom           49000  \n31 2017-12-04 18:31:00.194467   Freddy  Operations     Telecom           49000  \n32 2017-12-04 18:32:38.831838   SYSTEM      SYSTEM     Telecom           49000  \n33 2017-12-04 18:35:19.035228      RPA      SYSTEM     Telecom           49000  \n34 2017-12-04 18:44:13.456401   SYSTEM      SYSTEM     Telecom           49000  \n35 2017-12-05 18:00:00.000000  Francis       Sales   Insurance           45000  \n36 2017-12-05 18:45:09.766201   Freddy  Operations   Insurance           45000  \n37 2017-12-05 19:07:25.143145   SYSTEM      SYSTEM   Insurance           45000  \n38 2017-12-05 19:12:41.997750      RPA      SYSTEM   Insurance           45000  \n39 2017-12-05 19:28:52.665208   SYSTEM      SYSTEM   Insurance           45000  \n40 2017-12-06 18:00:00.000000     Nick       Sales  Healthcare           20000  \n41 2017-12-06 18:25:51.016176     Jane  Operations  Healthcare           20000  \n42 2017-12-06 18:42:05.823162   SYSTEM      SYSTEM  Healthcare           20000  \n43 2017-12-06 18:46:18.564123      RPA      SYSTEM  Healthcare           20000  \n44 2017-12-06 19:22:13.902139   SYSTEM      SYSTEM  Healthcare           20000  \n45 2017-12-07 18:00:00.000000      Tom       Sales   Insurance           45000  \n46 2017-12-07 18:54:33.205579     Jane  Operations   Insurance           45000  \n47 2017-12-07 19:43:17.113488   SYSTEM      SYSTEM   Insurance           45000  \n48 2017-12-07 19:48:35.671797      RPA      SYSTEM   Insurance           45000  \n49 2017-12-07 20:06:26.652557   SYSTEM      SYSTEM   Insurance           45000  ",
      "text/html": "<div>\n<style scoped>\n    .dataframe tbody tr th:only-of-type {\n        vertical-align: middle;\n    }\n\n    .dataframe tbody tr th {\n        vertical-align: top;\n    }\n\n    .dataframe thead th {\n        text-align: right;\n    }\n</style>\n<table border=\"1\" class=\"dataframe\">\n  <thead>\n    <tr style=\"text-align: right;\">\n      <th></th>\n      <th>process_id</th>\n      <th>task</th>\n      <th>start_time</th>\n      <th>user</th>\n      <th>user_group</th>\n      <th>industry</th>\n      <th>service_charge</th>\n    </tr>\n  </thead>\n  <tbody>\n    <tr>\n      <th>0</th>\n      <td>1</td>\n      <td>New Client Onboarding Request</td>\n      <td>2017-11-28 18:00:00.000000</td>\n      <td>Clive</td>\n      <td>Sales</td>\n      <td>Federal</td>\n      <td>3000</td>\n    </tr>\n    <tr>\n      <th>1</th>\n      <td>1</td>\n      <td>Review Documents</td>\n      <td>2017-11-28 18:16:47.080189</td>\n      <td>Rod</td>\n      <td>Operations</td>\n      <td>Federal</td>\n      <td>3000</td>\n    </tr>\n    <tr>\n      <th>2</th>\n      <td>1</td>\n      <td>Automated Scoreboarding</td>\n      <td>2017-11-28 18:38:38.127292</td>\n      <td>SYSTEM</td>\n      <td>SYSTEM</td>\n      <td>Federal</td>\n      <td>3000</td>\n    </tr>\n    <tr>\n      <th>3</th>\n      <td>1</td>\n      <td>Update Backend Systems</td>\n      <td>2017-11-28 18:48:03.275314</td>\n      <td>RPA</td>\n      <td>SYSTEM</td>\n      <td>Federal</td>\n      <td>3000</td>\n    </tr>\n    <tr>\n      <th>4</th>\n      <td>1</td>\n      <td>Notification Review Request Completed</td>\n      <td>2017-11-28 19:01:32.852061</td>\n      <td>SYSTEM</td>\n      <td>SYSTEM</td>\n      <td>Federal</td>\n      <td>3000</td>\n    </tr>\n    <tr>\n      <th>5</th>\n      <td>2</td>\n      <td>New Client Onboarding Request</td>\n      <td>2017-11-29 18:00:00.000000</td>\n      <td>Tom</td>\n      <td>Sales</td>\n      <td>Federal</td>\n      <td>3000</td>\n    </tr>\n    <tr>\n      <th>6</th>\n      <td>2</td>\n      <td>Review Documents</td>\n      <td>2017-11-29 18:26:51.642022</td>\n      <td>Rod</td>\n      <td>Operations</td>\n      <td>Federal</td>\n      <td>3000</td>\n    </tr>\n    <tr>\n      <th>7</th>\n      <td>2</td>\n      <td>Automated Scoreboarding</td>\n      <td>2017-11-29 18:36:14.033560</td>\n      <td>SYSTEM</td>\n      <td>SYSTEM</td>\n      <td>Federal</td>\n      <td>3000</td>\n    </tr>\n    <tr>\n      <th>8</th>\n      <td>2</td>\n      <td>Update Backend Systems</td>\n      <td>2017-11-29 18:43:02.357288</td>\n      <td>RPA</td>\n      <td>SYSTEM</td>\n      <td>Federal</td>\n      <td>3000</td>\n    </tr>\n    <tr>\n      <th>9</th>\n      <td>2</td>\n      <td>Notification Review Request Completed</td>\n      <td>2017-11-29 19:01:06.665109</td>\n      <td>SYSTEM</td>\n      <td>SYSTEM</td>\n      <td>Federal</td>\n      <td>3000</td>\n    </tr>\n    <tr>\n      <th>10</th>\n      <td>3</td>\n      <td>New Client Onboarding Request</td>\n      <td>2017-11-30 18:00:00.000000</td>\n      <td>Francis</td>\n      <td>Sales</td>\n      <td>Healthcare</td>\n      <td>15000</td>\n    </tr>\n    <tr>\n      <th>11</th>\n      <td>3</td>\n      <td>Review Documents</td>\n      <td>2017-11-30 18:11:48.591286</td>\n      <td>Rod</td>\n      <td>Operations</td>\n      <td>Healthcare</td>\n      <td>15000</td>\n    </tr>\n    <tr>\n      <th>12</th>\n      <td>3</td>\n      <td>Automated Scoreboarding</td>\n      <td>2017-11-30 19:17:12.873828</td>\n      <td>SYSTEM</td>\n      <td>SYSTEM</td>\n      <td>Healthcare</td>\n      <td>15000</td>\n    </tr>\n    <tr>\n      <th>13</th>\n      <td>3</td>\n      <td>Update Backend Systems</td>\n      <td>2017-11-30 19:20:04.145092</td>\n      <td>RPA</td>\n      <td>SYSTEM</td>\n      <td>Healthcare</td>\n      <td>15000</td>\n    </tr>\n    <tr>\n      <th>14</th>\n      <td>3</td>\n      <td>Notification Review Request Completed</td>\n      <td>2017-11-30 19:42:07.875387</td>\n      <td>SYSTEM</td>\n      <td>SYSTEM</td>\n      <td>Healthcare</td>\n      <td>15000</td>\n    </tr>\n    <tr>\n      <th>15</th>\n      <td>4</td>\n      <td>New Client Onboarding Request</td>\n      <td>2017-12-01 18:00:00.000000</td>\n      <td>Nick</td>\n      <td>Sales</td>\n      <td>Telecom</td>\n      <td>49000</td>\n    </tr>\n    <tr>\n      <th>16</th>\n      <td>4</td>\n      <td>Review Documents</td>\n      <td>2017-12-01 18:09:39.181673</td>\n      <td>Rod</td>\n      <td>Operations</td>\n      <td>Telecom</td>\n      <td>49000</td>\n    </tr>\n    <tr>\n      <th>17</th>\n      <td>4</td>\n      <td>Automated Scoreboarding</td>\n      <td>2017-12-01 18:26:13.059709</td>\n      <td>SYSTEM</td>\n      <td>SYSTEM</td>\n      <td>Telecom</td>\n      <td>49000</td>\n    </tr>\n    <tr>\n      <th>18</th>\n      <td>4</td>\n      <td>Update Backend Systems</td>\n      <td>2017-12-01 18:30:55.135222</td>\n      <td>RPA</td>\n      <td>SYSTEM</td>\n      <td>Telecom</td>\n      <td>49000</td>\n    </tr>\n    <tr>\n      <th>19</th>\n      <td>4</td>\n      <td>Notification Review Request Completed</td>\n      <td>2017-12-01 18:48:46.742590</td>\n      <td>SYSTEM</td>\n      <td>SYSTEM</td>\n      <td>Telecom</td>\n      <td>49000</td>\n    </tr>\n    <tr>\n      <th>20</th>\n      <td>5</td>\n      <td>New Client Onboarding Request</td>\n      <td>2017-12-02 18:00:00.000000</td>\n      <td>Seb</td>\n      <td>Sales</td>\n      <td>Insurance</td>\n      <td>45000</td>\n    </tr>\n    <tr>\n      <th>21</th>\n      <td>5</td>\n      <td>Review Documents</td>\n      <td>2017-12-02 18:10:38.745201</td>\n      <td>Rod</td>\n      <td>Operations</td>\n      <td>Insurance</td>\n      <td>45000</td>\n    </tr>\n    <tr>\n      <th>22</th>\n      <td>5</td>\n      <td>Automated Scoreboarding</td>\n      <td>2017-12-02 18:16:51.300657</td>\n      <td>SYSTEM</td>\n      <td>SYSTEM</td>\n      <td>Insurance</td>\n      <td>45000</td>\n    </tr>\n    <tr>\n      <th>23</th>\n      <td>5</td>\n      <td>Update Backend Systems</td>\n      <td>2017-12-02 18:20:58.920098</td>\n      <td>RPA</td>\n      <td>SYSTEM</td>\n      <td>Insurance</td>\n      <td>45000</td>\n    </tr>\n    <tr>\n      <th>24</th>\n      <td>5</td>\n      <td>Notification Review Request Completed</td>\n      <td>2017-12-02 18:36:09.329497</td>\n      <td>SYSTEM</td>\n      <td>SYSTEM</td>\n      <td>Insurance</td>\n      <td>45000</td>\n    </tr>\n    <tr>\n      <th>25</th>\n      <td>6</td>\n      <td>New Client Onboarding Request</td>\n      <td>2017-12-03 18:00:00.000000</td>\n      <td>Tom</td>\n      <td>Sales</td>\n      <td>Insurance</td>\n      <td>45000</td>\n    </tr>\n    <tr>\n      <th>26</th>\n      <td>6</td>\n      <td>Review Documents</td>\n      <td>2017-12-03 18:33:42.290789</td>\n      <td>Rod</td>\n      <td>Operations</td>\n      <td>Insurance</td>\n      <td>45000</td>\n    </tr>\n    <tr>\n      <th>27</th>\n      <td>6</td>\n      <td>Automated Scoreboarding</td>\n      <td>2017-12-03 18:54:15.038332</td>\n      <td>SYSTEM</td>\n      <td>SYSTEM</td>\n      <td>Insurance</td>\n      <td>45000</td>\n    </tr>\n    <tr>\n      <th>28</th>\n      <td>6</td>\n      <td>Update Backend Systems</td>\n      <td>2017-12-03 19:01:35.883284</td>\n      <td>RPA</td>\n      <td>SYSTEM</td>\n      <td>Insurance</td>\n      <td>45000</td>\n    </tr>\n    <tr>\n      <th>29</th>\n      <td>6</td>\n      <td>Notification Review Request Completed</td>\n      <td>2017-12-03 19:10:16.137570</td>\n      <td>SYSTEM</td>\n      <td>SYSTEM</td>\n      <td>Insurance</td>\n      <td>45000</td>\n    </tr>\n    <tr>\n      <th>30</th>\n      <td>7</td>\n      <td>New Client Onboarding Request</td>\n      <td>2017-12-04 18:00:00.000000</td>\n      <td>Tom</td>\n      <td>Sales</td>\n      <td>Telecom</td>\n      <td>49000</td>\n    </tr>\n    <tr>\n      <th>31</th>\n      <td>7</td>\n      <td>Review Documents</td>\n      <td>2017-12-04 18:31:00.194467</td>\n      <td>Freddy</td>\n      <td>Operations</td>\n      <td>Telecom</td>\n      <td>49000</td>\n    </tr>\n    <tr>\n      <th>32</th>\n      <td>7</td>\n      <td>Automated Scoreboarding</td>\n      <td>2017-12-04 18:32:38.831838</td>\n      <td>SYSTEM</td>\n      <td>SYSTEM</td>\n      <td>Telecom</td>\n      <td>49000</td>\n    </tr>\n    <tr>\n      <th>33</th>\n      <td>7</td>\n      <td>Update Backend Systems</td>\n      <td>2017-12-04 18:35:19.035228</td>\n      <td>RPA</td>\n      <td>SYSTEM</td>\n      <td>Telecom</td>\n      <td>49000</td>\n    </tr>\n    <tr>\n      <th>34</th>\n      <td>7</td>\n      <td>Notification Review Request Completed</td>\n      <td>2017-12-04 18:44:13.456401</td>\n      <td>SYSTEM</td>\n      <td>SYSTEM</td>\n      <td>Telecom</td>\n      <td>49000</td>\n    </tr>\n    <tr>\n      <th>35</th>\n      <td>8</td>\n      <td>New Client Onboarding Request</td>\n      <td>2017-12-05 18:00:00.000000</td>\n      <td>Francis</td>\n      <td>Sales</td>\n      <td>Insurance</td>\n      <td>45000</td>\n    </tr>\n    <tr>\n      <th>36</th>\n      <td>8</td>\n      <td>Review Documents</td>\n      <td>2017-12-05 18:45:09.766201</td>\n      <td>Freddy</td>\n      <td>Operations</td>\n      <td>Insurance</td>\n      <td>45000</td>\n    </tr>\n    <tr>\n      <th>37</th>\n      <td>8</td>\n      <td>Automated Scoreboarding</td>\n      <td>2017-12-05 19:07:25.143145</td>\n      <td>SYSTEM</td>\n      <td>SYSTEM</td>\n      <td>Insurance</td>\n      <td>45000</td>\n    </tr>\n    <tr>\n      <th>38</th>\n      <td>8</td>\n      <td>Update Backend Systems</td>\n      <td>2017-12-05 19:12:41.997750</td>\n      <td>RPA</td>\n      <td>SYSTEM</td>\n      <td>Insurance</td>\n      <td>45000</td>\n    </tr>\n    <tr>\n      <th>39</th>\n      <td>8</td>\n      <td>Notification Review Request Completed</td>\n      <td>2017-12-05 19:28:52.665208</td>\n      <td>SYSTEM</td>\n      <td>SYSTEM</td>\n      <td>Insurance</td>\n      <td>45000</td>\n    </tr>\n    <tr>\n      <th>40</th>\n      <td>9</td>\n      <td>New Client Onboarding Request</td>\n      <td>2017-12-06 18:00:00.000000</td>\n      <td>Nick</td>\n      <td>Sales</td>\n      <td>Healthcare</td>\n      <td>20000</td>\n    </tr>\n    <tr>\n      <th>41</th>\n      <td>9</td>\n      <td>Review Documents</td>\n      <td>2017-12-06 18:25:51.016176</td>\n      <td>Jane</td>\n      <td>Operations</td>\n      <td>Healthcare</td>\n      <td>20000</td>\n    </tr>\n    <tr>\n      <th>42</th>\n      <td>9</td>\n      <td>Automated Scoreboarding</td>\n      <td>2017-12-06 18:42:05.823162</td>\n      <td>SYSTEM</td>\n      <td>SYSTEM</td>\n      <td>Healthcare</td>\n      <td>20000</td>\n    </tr>\n    <tr>\n      <th>43</th>\n      <td>9</td>\n      <td>Update Backend Systems</td>\n      <td>2017-12-06 18:46:18.564123</td>\n      <td>RPA</td>\n      <td>SYSTEM</td>\n      <td>Healthcare</td>\n      <td>20000</td>\n    </tr>\n    <tr>\n      <th>44</th>\n      <td>9</td>\n      <td>Notification Review Request Completed</td>\n      <td>2017-12-06 19:22:13.902139</td>\n      <td>SYSTEM</td>\n      <td>SYSTEM</td>\n      <td>Healthcare</td>\n      <td>20000</td>\n    </tr>\n    <tr>\n      <th>45</th>\n      <td>10</td>\n      <td>New Client Onboarding Request</td>\n      <td>2017-12-07 18:00:00.000000</td>\n      <td>Tom</td>\n      <td>Sales</td>\n      <td>Insurance</td>\n      <td>45000</td>\n    </tr>\n    <tr>\n      <th>46</th>\n      <td>10</td>\n      <td>Review Documents</td>\n      <td>2017-12-07 18:54:33.205579</td>\n      <td>Jane</td>\n      <td>Operations</td>\n      <td>Insurance</td>\n      <td>45000</td>\n    </tr>\n    <tr>\n      <th>47</th>\n      <td>10</td>\n      <td>Automated Scoreboarding</td>\n      <td>2017-12-07 19:43:17.113488</td>\n      <td>SYSTEM</td>\n      <td>SYSTEM</td>\n      <td>Insurance</td>\n      <td>45000</td>\n    </tr>\n    <tr>\n      <th>48</th>\n      <td>10</td>\n      <td>Update Backend Systems</td>\n      <td>2017-12-07 19:48:35.671797</td>\n      <td>RPA</td>\n      <td>SYSTEM</td>\n      <td>Insurance</td>\n      <td>45000</td>\n    </tr>\n    <tr>\n      <th>49</th>\n      <td>10</td>\n      <td>Notification Review Request Completed</td>\n      <td>2017-12-07 20:06:26.652557</td>\n      <td>SYSTEM</td>\n      <td>SYSTEM</td>\n      <td>Insurance</td>\n      <td>45000</td>\n    </tr>\n  </tbody>\n</table>\n</div>"
     },
     "execution_count": 33,
     "metadata": {},
     "output_type": "execute_result"
    }
   ],
   "source": [
    "df.head(50)"
   ],
   "metadata": {
    "collapsed": false,
    "pycharm": {
     "name": "#%%\n"
    }
   }
  },
  {
   "cell_type": "markdown",
   "source": [
    "# Stories\n",
    "Make a copy of the dataframe so we can restart here if required."
   ],
   "metadata": {
    "collapsed": false,
    "pycharm": {
     "name": "#%% md\n"
    }
   }
  },
  {
   "cell_type": "code",
   "execution_count": 38,
   "outputs": [],
   "source": [
    "story_df = df.copy()"
   ],
   "metadata": {
    "collapsed": false,
    "pycharm": {
     "name": "#%%\n"
    }
   }
  },
  {
   "cell_type": "markdown",
   "source": [
    "## Story : 1 - Rod is Too Busy\n",
    "Rod is always very busy doing other work, so he may not be able to start right away.\n",
    "Lets take a look at two `Review Documents` tasks that have been done by Rod. "
   ],
   "metadata": {
    "collapsed": false,
    "pycharm": {
     "name": "#%% md\n"
    }
   }
  },
  {
   "cell_type": "code",
   "execution_count": 39,
   "outputs": [
    {
     "data": {
      "text/plain": "   process_id              task                 start_time user  user_group  \\\n1           1  Review Documents 2017-11-28 18:16:47.080189  Rod  Operations   \n6           2  Review Documents 2017-11-29 18:26:51.642022  Rod  Operations   \n\n  industry  service_charge  \n1  Federal            3000  \n6  Federal            3000  ",
      "text/html": "<div>\n<style scoped>\n    .dataframe tbody tr th:only-of-type {\n        vertical-align: middle;\n    }\n\n    .dataframe tbody tr th {\n        vertical-align: top;\n    }\n\n    .dataframe thead th {\n        text-align: right;\n    }\n</style>\n<table border=\"1\" class=\"dataframe\">\n  <thead>\n    <tr style=\"text-align: right;\">\n      <th></th>\n      <th>process_id</th>\n      <th>task</th>\n      <th>start_time</th>\n      <th>user</th>\n      <th>user_group</th>\n      <th>industry</th>\n      <th>service_charge</th>\n    </tr>\n  </thead>\n  <tbody>\n    <tr>\n      <th>1</th>\n      <td>1</td>\n      <td>Review Documents</td>\n      <td>2017-11-28 18:16:47.080189</td>\n      <td>Rod</td>\n      <td>Operations</td>\n      <td>Federal</td>\n      <td>3000</td>\n    </tr>\n    <tr>\n      <th>6</th>\n      <td>2</td>\n      <td>Review Documents</td>\n      <td>2017-11-29 18:26:51.642022</td>\n      <td>Rod</td>\n      <td>Operations</td>\n      <td>Federal</td>\n      <td>3000</td>\n    </tr>\n  </tbody>\n</table>\n</div>"
     },
     "execution_count": 39,
     "metadata": {},
     "output_type": "execute_result"
    }
   ],
   "source": [
    "filter = (story_df['task'] == 'Review Documents') & (story_df['user'] == 'Rod')\n",
    "story_df[filter].head(2)"
   ],
   "metadata": {
    "collapsed": false,
    "pycharm": {
     "name": "#%%\n"
    }
   }
  },
  {
   "cell_type": "markdown",
   "source": [
    "Delay the start time of Rod's `Review Documents` tasks by 1 hour"
   ],
   "metadata": {
    "collapsed": false,
    "pycharm": {
     "name": "#%% md\n"
    }
   }
  },
  {
   "cell_type": "code",
   "execution_count": 40,
   "outputs": [],
   "source": [
    "# If user is Rod and activity is `Review Documents` shift the start_time by 1 hour\n",
    "# \n",
    "story_df = shiftActivityStartTime(story_df, 'user','Rod', 'Review Documents', 1)"
   ],
   "metadata": {
    "collapsed": false,
    "pycharm": {
     "name": "#%%\n"
    }
   }
  },
  {
   "cell_type": "markdown",
   "source": [
    "Lets see the result of this change:"
   ],
   "metadata": {
    "collapsed": false,
    "pycharm": {
     "name": "#%% md\n"
    }
   }
  },
  {
   "cell_type": "code",
   "execution_count": 41,
   "outputs": [
    {
     "data": {
      "text/plain": "   process_id              task                 start_time user  user_group  \\\n1           1  Review Documents 2017-11-28 19:16:47.080189  Rod  Operations   \n6           2  Review Documents 2017-11-29 19:26:51.642022  Rod  Operations   \n\n  industry  service_charge  \n1  Federal            3000  \n6  Federal            3000  ",
      "text/html": "<div>\n<style scoped>\n    .dataframe tbody tr th:only-of-type {\n        vertical-align: middle;\n    }\n\n    .dataframe tbody tr th {\n        vertical-align: top;\n    }\n\n    .dataframe thead th {\n        text-align: right;\n    }\n</style>\n<table border=\"1\" class=\"dataframe\">\n  <thead>\n    <tr style=\"text-align: right;\">\n      <th></th>\n      <th>process_id</th>\n      <th>task</th>\n      <th>start_time</th>\n      <th>user</th>\n      <th>user_group</th>\n      <th>industry</th>\n      <th>service_charge</th>\n    </tr>\n  </thead>\n  <tbody>\n    <tr>\n      <th>1</th>\n      <td>1</td>\n      <td>Review Documents</td>\n      <td>2017-11-28 19:16:47.080189</td>\n      <td>Rod</td>\n      <td>Operations</td>\n      <td>Federal</td>\n      <td>3000</td>\n    </tr>\n    <tr>\n      <th>6</th>\n      <td>2</td>\n      <td>Review Documents</td>\n      <td>2017-11-29 19:26:51.642022</td>\n      <td>Rod</td>\n      <td>Operations</td>\n      <td>Federal</td>\n      <td>3000</td>\n    </tr>\n  </tbody>\n</table>\n</div>"
     },
     "execution_count": 41,
     "metadata": {},
     "output_type": "execute_result"
    }
   ],
   "source": [
    "filter = (story_df['task'] == 'Review Documents') & (story_df['user'] == 'Rod')\n",
    "story_df[filter].head(2)"
   ],
   "metadata": {
    "collapsed": false,
    "pycharm": {
     "name": "#%%\n"
    }
   }
  },
  {
   "cell_type": "markdown",
   "source": [
    "## Story : 2 - Complex Doc Review\n",
    "Increase the time taken for automated scoreboarding to start by 2hrs when the industry is federal. \n",
    "The rationale here is that the documentation requirements are greater so the \n",
    "previous task `Review Documents` takes much longer."
   ],
   "metadata": {
    "collapsed": false,
    "pycharm": {
     "name": "#%% md\n"
    }
   }
  },
  {
   "cell_type": "markdown",
   "source": [
    "Lets look at some `Automated Scoreboarding` where the industry is `Federal`"
   ],
   "metadata": {
    "collapsed": false,
    "pycharm": {
     "name": "#%% md\n"
    }
   }
  },
  {
   "cell_type": "code",
   "execution_count": 44,
   "outputs": [
    {
     "data": {
      "text/plain": "   process_id                     task                 start_time    user  \\\n2           1  Automated Scoreboarding 2017-11-28 19:38:38.127292  SYSTEM   \n7           2  Automated Scoreboarding 2017-11-29 19:36:14.033560  SYSTEM   \n\n  user_group industry  service_charge  \n2     SYSTEM  Federal            3000  \n7     SYSTEM  Federal            3000  ",
      "text/html": "<div>\n<style scoped>\n    .dataframe tbody tr th:only-of-type {\n        vertical-align: middle;\n    }\n\n    .dataframe tbody tr th {\n        vertical-align: top;\n    }\n\n    .dataframe thead th {\n        text-align: right;\n    }\n</style>\n<table border=\"1\" class=\"dataframe\">\n  <thead>\n    <tr style=\"text-align: right;\">\n      <th></th>\n      <th>process_id</th>\n      <th>task</th>\n      <th>start_time</th>\n      <th>user</th>\n      <th>user_group</th>\n      <th>industry</th>\n      <th>service_charge</th>\n    </tr>\n  </thead>\n  <tbody>\n    <tr>\n      <th>2</th>\n      <td>1</td>\n      <td>Automated Scoreboarding</td>\n      <td>2017-11-28 19:38:38.127292</td>\n      <td>SYSTEM</td>\n      <td>SYSTEM</td>\n      <td>Federal</td>\n      <td>3000</td>\n    </tr>\n    <tr>\n      <th>7</th>\n      <td>2</td>\n      <td>Automated Scoreboarding</td>\n      <td>2017-11-29 19:36:14.033560</td>\n      <td>SYSTEM</td>\n      <td>SYSTEM</td>\n      <td>Federal</td>\n      <td>3000</td>\n    </tr>\n  </tbody>\n</table>\n</div>"
     },
     "execution_count": 44,
     "metadata": {},
     "output_type": "execute_result"
    }
   ],
   "source": [
    "filter = (story_df['task'] == 'Automated Scoreboarding') & (story_df['industry'] == 'Federal')\n",
    "story_df[filter].head(2)"
   ],
   "metadata": {
    "collapsed": false,
    "pycharm": {
     "name": "#%%\n"
    }
   }
  },
  {
   "cell_type": "code",
   "execution_count": 47,
   "outputs": [],
   "source": [
    "story_df = shiftActivityStartTime(story_df, 'industry','Federal', 'Automated Scoreboarding', 2)"
   ],
   "metadata": {
    "collapsed": false,
    "pycharm": {
     "name": "#%%\n"
    }
   }
  },
  {
   "cell_type": "code",
   "execution_count": 48,
   "outputs": [
    {
     "data": {
      "text/plain": "   process_id                     task                 start_time    user  \\\n2           1  Automated Scoreboarding 2017-11-28 21:38:38.127292  SYSTEM   \n7           2  Automated Scoreboarding 2017-11-29 21:36:14.033560  SYSTEM   \n\n  user_group industry  service_charge  \n2     SYSTEM  Federal            3000  \n7     SYSTEM  Federal            3000  ",
      "text/html": "<div>\n<style scoped>\n    .dataframe tbody tr th:only-of-type {\n        vertical-align: middle;\n    }\n\n    .dataframe tbody tr th {\n        vertical-align: top;\n    }\n\n    .dataframe thead th {\n        text-align: right;\n    }\n</style>\n<table border=\"1\" class=\"dataframe\">\n  <thead>\n    <tr style=\"text-align: right;\">\n      <th></th>\n      <th>process_id</th>\n      <th>task</th>\n      <th>start_time</th>\n      <th>user</th>\n      <th>user_group</th>\n      <th>industry</th>\n      <th>service_charge</th>\n    </tr>\n  </thead>\n  <tbody>\n    <tr>\n      <th>2</th>\n      <td>1</td>\n      <td>Automated Scoreboarding</td>\n      <td>2017-11-28 21:38:38.127292</td>\n      <td>SYSTEM</td>\n      <td>SYSTEM</td>\n      <td>Federal</td>\n      <td>3000</td>\n    </tr>\n    <tr>\n      <th>7</th>\n      <td>2</td>\n      <td>Automated Scoreboarding</td>\n      <td>2017-11-29 21:36:14.033560</td>\n      <td>SYSTEM</td>\n      <td>SYSTEM</td>\n      <td>Federal</td>\n      <td>3000</td>\n    </tr>\n  </tbody>\n</table>\n</div>"
     },
     "execution_count": 48,
     "metadata": {},
     "output_type": "execute_result"
    }
   ],
   "source": [
    "filter = (story_df['task'] == 'Automated Scoreboarding') & (story_df['industry'] == 'Federal')\n",
    "story_df[filter].head(2)"
   ],
   "metadata": {
    "collapsed": false,
    "pycharm": {
     "name": "#%%\n"
    }
   }
  },
  {
   "cell_type": "markdown",
   "source": [
    "## Export Finished Dataset"
   ],
   "metadata": {
    "collapsed": false,
    "pycharm": {
     "name": "#%% md\n"
    }
   }
  },
  {
   "cell_type": "code",
   "execution_count": 49,
   "outputs": [],
   "source": [
    "story_df.to_csv('pm_tasks_1k.csv', index=False, date_format='%d-%m-%Y %H:%M:%S')"
   ],
   "metadata": {
    "collapsed": false,
    "pycharm": {
     "name": "#%%\n"
    }
   }
  },
  {
   "cell_type": "code",
   "execution_count": null,
   "id": "d7248223-a3cf-4268-99c8-fd2aec78ce74",
   "metadata": {
    "pycharm": {
     "name": "#%%\n"
    }
   },
   "outputs": [],
   "source": []
  }
 ],
 "metadata": {
  "kernelspec": {
   "display_name": "Python 3 (ipykernel)",
   "language": "python",
   "name": "python3"
  },
  "language_info": {
   "codemirror_mode": {
    "name": "ipython",
    "version": 3
   },
   "file_extension": ".py",
   "mimetype": "text/x-python",
   "name": "python",
   "nbconvert_exporter": "python",
   "pygments_lexer": "ipython3",
   "version": "3.10.5"
  }
 },
 "nbformat": 4,
 "nbformat_minor": 5
}