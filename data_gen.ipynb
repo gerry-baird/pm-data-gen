{
 "cells": [
  {
   "cell_type": "code",
   "execution_count": 1,
   "id": "342dfd3b-48e3-4008-8458-da4020f95bcd",
   "metadata": {
    "pycharm": {
     "name": "#%%\n"
    }
   },
   "outputs": [],
   "source": [
    "import pandas as pd\n",
    "import numpy as np\n",
    "import random\n",
    "from datetime import timedelta\n",
    "from datetime import datetime\n",
    "\n"
   ]
  },
  {
   "cell_type": "markdown",
   "id": "3485f5d5-3281-495f-8112-29c4c5d8989e",
   "metadata": {
    "pycharm": {
     "name": "#%% md\n"
    }
   },
   "source": [
    "## Load Task Duration Config"
   ]
  },
  {
   "cell_type": "code",
   "execution_count": 103,
   "id": "6fdd533e-7b55-4574-9d8e-55cd54441d2c",
   "metadata": {
    "tags": [],
    "pycharm": {
     "name": "#%%\n"
    }
   },
   "outputs": [],
   "source": [
    "#Load task duration dataframe\n",
    "#task_duration_df = pd.read_csv('task_duration_config.csv')\n",
    "#task_duration_df.set_index('Task', inplace=True)\n",
    "\n",
    "data = [['New Client Onboarding Request', 0.5,1.5], \n",
    "        ['Review Documents', 0.25,  2.5], \n",
    "        ['Automated Scoreboarding', 0.1, 0.15],\n",
    "        ['Manual Scoreboarding', 1.0, 3.0],\n",
    "        ['Update Backend Systems', 0.25, 0.5]]\n",
    "\n",
    "task_duration_df = pd.DataFrame(data, columns=['Task', 'Avg', 'Max'])"
   ]
  },
  {
   "cell_type": "code",
   "execution_count": 104,
   "id": "d21a097b-e4f6-4108-9270-1d27249c99db",
   "metadata": {
    "tags": [],
    "pycharm": {
     "name": "#%%\n"
    }
   },
   "outputs": [
    {
     "data": {
      "text/plain": "                            Task   Avg   Max\n0  New Client Onboarding Request  0.50  1.50\n1               Review Documents  0.25  2.50\n2        Automated Scoreboarding  0.10  0.15\n3           Manual Scoreboarding  1.00  3.00\n4         Update Backend Systems  0.25  0.50",
      "text/html": "<div>\n<style scoped>\n    .dataframe tbody tr th:only-of-type {\n        vertical-align: middle;\n    }\n\n    .dataframe tbody tr th {\n        vertical-align: top;\n    }\n\n    .dataframe thead th {\n        text-align: right;\n    }\n</style>\n<table border=\"1\" class=\"dataframe\">\n  <thead>\n    <tr style=\"text-align: right;\">\n      <th></th>\n      <th>Task</th>\n      <th>Avg</th>\n      <th>Max</th>\n    </tr>\n  </thead>\n  <tbody>\n    <tr>\n      <th>0</th>\n      <td>New Client Onboarding Request</td>\n      <td>0.50</td>\n      <td>1.50</td>\n    </tr>\n    <tr>\n      <th>1</th>\n      <td>Review Documents</td>\n      <td>0.25</td>\n      <td>2.50</td>\n    </tr>\n    <tr>\n      <th>2</th>\n      <td>Automated Scoreboarding</td>\n      <td>0.10</td>\n      <td>0.15</td>\n    </tr>\n    <tr>\n      <th>3</th>\n      <td>Manual Scoreboarding</td>\n      <td>1.00</td>\n      <td>3.00</td>\n    </tr>\n    <tr>\n      <th>4</th>\n      <td>Update Backend Systems</td>\n      <td>0.25</td>\n      <td>0.50</td>\n    </tr>\n  </tbody>\n</table>\n</div>"
     },
     "execution_count": 104,
     "metadata": {},
     "output_type": "execute_result"
    }
   ],
   "source": [
    "task_duration_df.head()"
   ]
  },
  {
   "cell_type": "markdown",
   "id": "d400dd85-767c-472d-b025-ce174d495859",
   "metadata": {
    "pycharm": {
     "name": "#%% md\n"
    }
   },
   "source": [
    "For each task type that could be generated we need an average duration and a maximum duration."
   ]
  },
  {
   "cell_type": "markdown",
   "id": "45b76785-3ae6-4d95-aabf-f730fb83fa35",
   "metadata": {
    "pycharm": {
     "name": "#%% md\n"
    }
   },
   "source": [
    "## Build Task List\n",
    "The build_task_list function creates a list of tasks for a specific instance of a process. The sequence of tasks is defined in the variable called process_variant.\n"
   ]
  },
  {
   "cell_type": "code",
   "execution_count": 33,
   "id": "0e4b8baa-ca9a-4425-ac52-91ba6f9effe9",
   "metadata": {
    "pycharm": {
     "name": "#%%\n"
    }
   },
   "outputs": [],
   "source": [
    "def build_task_list(instance_id, process_variant, start_date_time, task_duration_df):\n",
    "    instance_task_list = []\n",
    "    rnd = np.random.default_rng()  # a random number generator\n",
    "\n",
    "    # This code generates a random duration by leveraging the numpy lognormal function that gives a random\n",
    "    # number drawn from a log normal distribution. Look up a picture of log normal distributions and you'll see \n",
    "    # why this is useful for generating random durations based on a mean and std deviation.\n",
    "    # most samples are near the average with a long tail stretching towards infinity.\n",
    "\n",
    "    # process_variant is a series\n",
    "    for task_type in process_variant:\n",
    "        # get the avg and max durations from the task_df dataframe using task_type as the key\n",
    "        avg_dur = task_duration_df.loc[task_type, 'Avg']\n",
    "        max_dur = task_duration_df.loc[task_type, 'Max']\n",
    "\n",
    "        sigma = (max_dur - avg_dur) / max_dur  # std dev\n",
    "        log_mean = np.log(avg_dur)  # can't pass the mean duration into lognormal until it has been logged itself \n",
    "        delta = rnd.lognormal(log_mean, sigma)  # get a random sample from a log normal distribution with a std dev\n",
    "\n",
    "        task = [instance_id, task_type, start_date_time]\n",
    "        instance_task_list.append(task)\n",
    "\n",
    "        # increment the start time by the delta so that the next task start after this one\n",
    "        start_date_time = start_date_time + timedelta(hours=delta)\n",
    "\n",
    "    return instance_task_list"
   ]
  },
  {
   "cell_type": "code",
   "execution_count": 34,
   "id": "3da8a14f-8cbf-47e4-84f8-06de1939dc5c",
   "metadata": {
    "pycharm": {
     "name": "#%%\n"
    }
   },
   "outputs": [],
   "source": [
    "def generate_process_instances(process_variant, qty):\n",
    "\n",
    "    global start_date_time\n",
    "    global instance_counter\n",
    "    task_list = []\n",
    "    for x in range(0, qty):\n",
    "        tasks = build_task_list(instance_counter, process_variant, start_date_time, task_duration_df)\n",
    "        for task in tasks:\n",
    "            task_list.append(task)\n",
    "\n",
    "        # Increment the start time by 24 hour\n",
    "        start_date_time = start_date_time + timedelta(hours=24)\n",
    "        # Increment the process_id\n",
    "        instance_counter = instance_counter +1\n",
    "        \n",
    "    return task_list"
   ]
  },
  {
   "cell_type": "code",
   "execution_count": 70,
   "id": "4ddcee7b-e027-4b81-bfea-a0d79ff239aa",
   "metadata": {
    "pycharm": {
     "name": "#%%\n"
    }
   },
   "outputs": [],
   "source": [
    "def shiftActivityTime(df, target_attribute, target_value, target_task, timeShift):\n",
    "\n",
    "    # Logic requires we sort by process_id and start_date\n",
    "    df = df.sort_values(['process_id', 'start_time'])\n",
    "    df = df.reset_index(drop=True)\n",
    "    process_being_modified = -1\n",
    "\n",
    "    # iterate through the dataframe using the index value\n",
    "    for x in df.index:\n",
    "        row = df.loc[x]\n",
    "        task_attribute = row[target_attribute]\n",
    "        row_task = row['task']\n",
    "        current_process = row['process_id']\n",
    "\n",
    "\n",
    "        # Have we found the target activity\n",
    "        if row_task == target_task and task_attribute == target_value:\n",
    "            process_being_modified = current_process\n",
    "\n",
    "        # Are we still processing the same process that we were when we found the target activity ?\n",
    "        # If so we are moving all subsequent tasks back by the value of the timeshift parameter\n",
    "        if current_process == process_being_modified:\n",
    "            # shift the time\n",
    "            current_ts = row['start_time']\n",
    "            shifted_ts = current_ts + timedelta(hours=timeShift)\n",
    "            df.loc[x, 'start_time'] = shifted_ts\n",
    "\n",
    "    return df"
   ]
  },
  {
   "cell_type": "markdown",
   "id": "49b549a6-f355-454c-9dc0-8a3214c55d90",
   "metadata": {
    "tags": [],
    "pycharm": {
     "name": "#%% md\n"
    }
   },
   "source": [
    "## Initialise Data Generator"
   ]
  },
  {
   "cell_type": "code",
   "execution_count": 71,
   "id": "34e8e825-081b-419c-b660-ed046b67f8ab",
   "metadata": {
    "pycharm": {
     "name": "#%%\n"
    }
   },
   "outputs": [],
   "source": [
    "start_date_time = datetime(2017, 11, 28, 18, 00, 00)\n",
    "instance_time_offset = 24\n",
    "instance_counter = 1\n"
   ]
  },
  {
   "cell_type": "markdown",
   "id": "be468e38-603d-4447-b639-ac562d615799",
   "metadata": {
    "pycharm": {
     "name": "#%% md\n"
    }
   },
   "source": [
    "## Create Happy Path Instances"
   ]
  },
  {
   "cell_type": "code",
   "execution_count": 72,
   "id": "e6120939-730e-4084-982e-7bdbebe6560e",
   "metadata": {
    "pycharm": {
     "name": "#%%\n"
    }
   },
   "outputs": [],
   "source": [
    "\n",
    "qty = 10\n",
    "happy_path = [\"New Client Onboarding Request\", \n",
    "               \"Review Documents\", \n",
    "               \"Automated Scoreboarding\",\n",
    "               \"Update Backend Systems\", \n",
    "               \"Notification Review Request Completed\"]\n",
    "\n",
    "happy_path_task_list = []\n",
    "happy_path_task_list = generate_process_instances(happy_path, qty)\n",
    "happy_path_task_list_df = pd.DataFrame(happy_path_task_list)\n",
    "\n",
    "# Increment the start time by 24 hour\n",
    "start_date_time = start_date_time + timedelta(hours=24)"
   ]
  },
  {
   "cell_type": "code",
   "execution_count": 73,
   "id": "36351dab-56ba-4731-a79b-84ed0ba90f1c",
   "metadata": {
    "pycharm": {
     "name": "#%%\n"
    }
   },
   "outputs": [
    {
     "data": {
      "text/plain": "   0                                      1                          2\n0  1          New Client Onboarding Request 2017-11-28 18:00:00.000000\n1  1                       Review Documents 2017-11-28 18:44:27.770446\n2  1                Automated Scoreboarding 2017-11-28 19:04:30.280830\n3  1                 Update Backend Systems 2017-11-28 19:11:32.020260\n4  1  Notification Review Request Completed 2017-11-28 19:29:57.368799",
      "text/html": "<div>\n<style scoped>\n    .dataframe tbody tr th:only-of-type {\n        vertical-align: middle;\n    }\n\n    .dataframe tbody tr th {\n        vertical-align: top;\n    }\n\n    .dataframe thead th {\n        text-align: right;\n    }\n</style>\n<table border=\"1\" class=\"dataframe\">\n  <thead>\n    <tr style=\"text-align: right;\">\n      <th></th>\n      <th>0</th>\n      <th>1</th>\n      <th>2</th>\n    </tr>\n  </thead>\n  <tbody>\n    <tr>\n      <th>0</th>\n      <td>1</td>\n      <td>New Client Onboarding Request</td>\n      <td>2017-11-28 18:00:00.000000</td>\n    </tr>\n    <tr>\n      <th>1</th>\n      <td>1</td>\n      <td>Review Documents</td>\n      <td>2017-11-28 18:44:27.770446</td>\n    </tr>\n    <tr>\n      <th>2</th>\n      <td>1</td>\n      <td>Automated Scoreboarding</td>\n      <td>2017-11-28 19:04:30.280830</td>\n    </tr>\n    <tr>\n      <th>3</th>\n      <td>1</td>\n      <td>Update Backend Systems</td>\n      <td>2017-11-28 19:11:32.020260</td>\n    </tr>\n    <tr>\n      <th>4</th>\n      <td>1</td>\n      <td>Notification Review Request Completed</td>\n      <td>2017-11-28 19:29:57.368799</td>\n    </tr>\n  </tbody>\n</table>\n</div>"
     },
     "execution_count": 73,
     "metadata": {},
     "output_type": "execute_result"
    }
   ],
   "source": [
    "happy_path_task_list_df.head()"
   ]
  },
  {
   "cell_type": "markdown",
   "id": "b9af1718-9e0e-467c-8052-4819b8734cdc",
   "metadata": {
    "pycharm": {
     "name": "#%% md\n"
    }
   },
   "source": [
    "## Create Instances Requiring Manual Scoreboarding"
   ]
  },
  {
   "cell_type": "code",
   "execution_count": 74,
   "id": "6794c564-489b-4422-be40-50badf164989",
   "metadata": {
    "pycharm": {
     "name": "#%%\n"
    }
   },
   "outputs": [],
   "source": [
    "\n",
    "qty = 5\n",
    "manual_path = [\"New Client Onboarding Request\", \n",
    "               \"Review Documents\", \n",
    "               \"Automated Scoreboarding\",\n",
    "               \"Manual Scoreboarding\",\n",
    "               \"Update Backend Systems\", \n",
    "               \"Notification Review Request Completed\"]\n",
    "\n",
    "manual_path_task_list = []\n",
    "manual_path_task_list = generate_process_instances(manual_path, qty)\n",
    "manual_path_task_list_df = pd.DataFrame(manual_path_task_list)\n",
    "\n",
    "# Increment the start time by 24 hour\n",
    "start_date_time = start_date_time + timedelta(hours=24)"
   ]
  },
  {
   "cell_type": "code",
   "execution_count": 75,
   "id": "0e1e1fa5-3932-4e82-80b8-3595060d19b6",
   "metadata": {
    "pycharm": {
     "name": "#%%\n"
    }
   },
   "outputs": [
    {
     "data": {
      "text/plain": "    0                              1                          2\n0  11  New Client Onboarding Request 2017-12-09 18:00:00.000000\n1  11               Review Documents 2017-12-09 18:34:36.920259\n2  11        Automated Scoreboarding 2017-12-09 19:01:08.445443\n3  11           Manual Scoreboarding 2017-12-09 19:05:41.599380\n4  11         Update Backend Systems 2017-12-09 19:43:04.229421",
      "text/html": "<div>\n<style scoped>\n    .dataframe tbody tr th:only-of-type {\n        vertical-align: middle;\n    }\n\n    .dataframe tbody tr th {\n        vertical-align: top;\n    }\n\n    .dataframe thead th {\n        text-align: right;\n    }\n</style>\n<table border=\"1\" class=\"dataframe\">\n  <thead>\n    <tr style=\"text-align: right;\">\n      <th></th>\n      <th>0</th>\n      <th>1</th>\n      <th>2</th>\n    </tr>\n  </thead>\n  <tbody>\n    <tr>\n      <th>0</th>\n      <td>11</td>\n      <td>New Client Onboarding Request</td>\n      <td>2017-12-09 18:00:00.000000</td>\n    </tr>\n    <tr>\n      <th>1</th>\n      <td>11</td>\n      <td>Review Documents</td>\n      <td>2017-12-09 18:34:36.920259</td>\n    </tr>\n    <tr>\n      <th>2</th>\n      <td>11</td>\n      <td>Automated Scoreboarding</td>\n      <td>2017-12-09 19:01:08.445443</td>\n    </tr>\n    <tr>\n      <th>3</th>\n      <td>11</td>\n      <td>Manual Scoreboarding</td>\n      <td>2017-12-09 19:05:41.599380</td>\n    </tr>\n    <tr>\n      <th>4</th>\n      <td>11</td>\n      <td>Update Backend Systems</td>\n      <td>2017-12-09 19:43:04.229421</td>\n    </tr>\n  </tbody>\n</table>\n</div>"
     },
     "execution_count": 75,
     "metadata": {},
     "output_type": "execute_result"
    }
   ],
   "source": [
    "manual_path_task_list_df.head()"
   ]
  },
  {
   "cell_type": "markdown",
   "id": "16358c63-1ae5-4f38-838d-87f371cfe0e0",
   "metadata": {
    "pycharm": {
     "name": "#%% md\n"
    }
   },
   "source": [
    "## Create Instance that loop"
   ]
  },
  {
   "cell_type": "code",
   "execution_count": 76,
   "id": "ace39aba-715d-4bc1-af9f-d2dcd2e6c50e",
   "metadata": {
    "pycharm": {
     "name": "#%%\n"
    }
   },
   "outputs": [],
   "source": [
    "qty = 1\n",
    "loop_path = [\"New Client Onboarding Request\", \n",
    "               \"Review Documents\", \n",
    "               \"Automated Scoreboarding\",\n",
    "               \"Manual Scoreboarding\",\n",
    "               \"Review Documents\",\n",
    "               \"Update Backend Systems\", \n",
    "               \"Notification Review Request Completed\"]\n",
    "\n",
    "loop_path_task_list = []\n",
    "loop_path_task_list = generate_process_instances(loop_path, qty)\n",
    "loop_path_task_list_df = pd.DataFrame(loop_path_task_list)\n",
    "\n",
    "# Increment the start time by 24 hour\n",
    "start_date_time = start_date_time + timedelta(hours=24)"
   ]
  },
  {
   "cell_type": "code",
   "execution_count": 77,
   "id": "884b520c-e34d-46aa-9a26-da6e7744f4ed",
   "metadata": {
    "pycharm": {
     "name": "#%%\n"
    }
   },
   "outputs": [],
   "source": [
    "# Can only concat two dataframes at a time\n",
    "combined_df = pd.concat([happy_path_task_list_df,manual_path_task_list_df], axis=0)\n",
    "combined_df = pd.concat([combined_df,loop_path_task_list_df], axis=0)"
   ]
  },
  {
   "cell_type": "code",
   "execution_count": 78,
   "id": "1c5f5594-03dd-4dd2-b162-f3553a1067e5",
   "metadata": {
    "pycharm": {
     "name": "#%%\n"
    }
   },
   "outputs": [],
   "source": [
    "combined_df.columns = ['process_id', 'task', 'start_time']"
   ]
  },
  {
   "cell_type": "code",
   "execution_count": 79,
   "id": "b38e25d1-1fa2-45ca-b67d-c6b32461cd24",
   "metadata": {
    "pycharm": {
     "name": "#%%\n"
    }
   },
   "outputs": [
    {
     "name": "stdout",
     "output_type": "stream",
     "text": [
      "<class 'pandas.core.frame.DataFrame'>\n",
      "Int64Index: 87 entries, 0 to 6\n",
      "Data columns (total 3 columns):\n",
      " #   Column      Non-Null Count  Dtype         \n",
      "---  ------      --------------  -----         \n",
      " 0   process_id  87 non-null     int64         \n",
      " 1   task        87 non-null     object        \n",
      " 2   start_time  87 non-null     datetime64[ns]\n",
      "dtypes: datetime64[ns](1), int64(1), object(1)\n",
      "memory usage: 2.7+ KB\n"
     ]
    }
   ],
   "source": [
    "combined_df.info()"
   ]
  },
  {
   "cell_type": "code",
   "execution_count": 80,
   "id": "a619096a-5f4d-4268-81a1-ee9cd212550e",
   "metadata": {
    "pycharm": {
     "name": "#%%\n"
    }
   },
   "outputs": [
    {
     "data": {
      "text/plain": "16"
     },
     "execution_count": 80,
     "metadata": {},
     "output_type": "execute_result"
    }
   ],
   "source": [
    "# Confirm how many processes\n",
    "len(combined_df[\"process_id\"].unique())"
   ]
  },
  {
   "cell_type": "code",
   "execution_count": 81,
   "id": "721032c3-3ffb-4266-8594-acd7e2251935",
   "metadata": {
    "pycharm": {
     "name": "#%%\n"
    }
   },
   "outputs": [
    {
     "data": {
      "text/plain": "    process_id                                   task  \\\n0            1          New Client Onboarding Request   \n1            1                       Review Documents   \n2            1                Automated Scoreboarding   \n3            1                 Update Backend Systems   \n4            1  Notification Review Request Completed   \n5            2          New Client Onboarding Request   \n6            2                       Review Documents   \n7            2                Automated Scoreboarding   \n8            2                 Update Backend Systems   \n9            2  Notification Review Request Completed   \n10           3          New Client Onboarding Request   \n11           3                       Review Documents   \n12           3                Automated Scoreboarding   \n13           3                 Update Backend Systems   \n14           3  Notification Review Request Completed   \n15           4          New Client Onboarding Request   \n16           4                       Review Documents   \n17           4                Automated Scoreboarding   \n18           4                 Update Backend Systems   \n19           4  Notification Review Request Completed   \n20           5          New Client Onboarding Request   \n21           5                       Review Documents   \n22           5                Automated Scoreboarding   \n23           5                 Update Backend Systems   \n24           5  Notification Review Request Completed   \n25           6          New Client Onboarding Request   \n26           6                       Review Documents   \n27           6                Automated Scoreboarding   \n28           6                 Update Backend Systems   \n29           6  Notification Review Request Completed   \n30           7          New Client Onboarding Request   \n31           7                       Review Documents   \n32           7                Automated Scoreboarding   \n33           7                 Update Backend Systems   \n34           7  Notification Review Request Completed   \n35           8          New Client Onboarding Request   \n36           8                       Review Documents   \n37           8                Automated Scoreboarding   \n38           8                 Update Backend Systems   \n39           8  Notification Review Request Completed   \n40           9          New Client Onboarding Request   \n41           9                       Review Documents   \n42           9                Automated Scoreboarding   \n43           9                 Update Backend Systems   \n44           9  Notification Review Request Completed   \n45          10          New Client Onboarding Request   \n46          10                       Review Documents   \n47          10                Automated Scoreboarding   \n48          10                 Update Backend Systems   \n49          10  Notification Review Request Completed   \n\n                   start_time  \n0  2017-11-28 18:00:00.000000  \n1  2017-11-28 18:44:27.770446  \n2  2017-11-28 19:04:30.280830  \n3  2017-11-28 19:11:32.020260  \n4  2017-11-28 19:29:57.368799  \n5  2017-11-29 18:00:00.000000  \n6  2017-11-29 18:53:53.439293  \n7  2017-11-29 19:18:25.611178  \n8  2017-11-29 19:22:26.930142  \n9  2017-11-29 19:39:07.545029  \n10 2017-11-30 18:00:00.000000  \n11 2017-11-30 18:35:44.896309  \n12 2017-11-30 19:05:10.328138  \n13 2017-11-30 19:10:29.103089  \n14 2017-11-30 19:18:24.568572  \n15 2017-12-01 18:00:00.000000  \n16 2017-12-01 18:17:43.941624  \n17 2017-12-01 18:30:30.945533  \n18 2017-12-01 18:35:32.599305  \n19 2017-12-01 18:40:07.852436  \n20 2017-12-02 18:00:00.000000  \n21 2017-12-02 18:17:03.273996  \n22 2017-12-02 18:45:20.006680  \n23 2017-12-02 18:52:16.107876  \n24 2017-12-02 19:06:53.025506  \n25 2017-12-03 18:00:00.000000  \n26 2017-12-03 18:48:11.920388  \n27 2017-12-03 19:00:56.161187  \n28 2017-12-03 19:06:29.022168  \n29 2017-12-03 19:15:11.104414  \n30 2017-12-04 18:00:00.000000  \n31 2017-12-04 19:32:17.907038  \n32 2017-12-04 19:51:30.229020  \n33 2017-12-04 19:54:47.671144  \n34 2017-12-04 20:02:49.840190  \n35 2017-12-05 18:00:00.000000  \n36 2017-12-05 18:39:37.898997  \n37 2017-12-05 18:59:20.893139  \n38 2017-12-05 19:04:00.189173  \n39 2017-12-05 19:14:16.872113  \n40 2017-12-06 18:00:00.000000  \n41 2017-12-06 18:36:39.283511  \n42 2017-12-06 19:40:11.127772  \n43 2017-12-06 19:47:12.198061  \n44 2017-12-06 20:17:49.945986  \n45 2017-12-07 18:00:00.000000  \n46 2017-12-07 18:47:24.775386  \n47 2017-12-07 19:00:04.864823  \n48 2017-12-07 19:08:12.951025  \n49 2017-12-07 19:16:36.351392  ",
      "text/html": "<div>\n<style scoped>\n    .dataframe tbody tr th:only-of-type {\n        vertical-align: middle;\n    }\n\n    .dataframe tbody tr th {\n        vertical-align: top;\n    }\n\n    .dataframe thead th {\n        text-align: right;\n    }\n</style>\n<table border=\"1\" class=\"dataframe\">\n  <thead>\n    <tr style=\"text-align: right;\">\n      <th></th>\n      <th>process_id</th>\n      <th>task</th>\n      <th>start_time</th>\n    </tr>\n  </thead>\n  <tbody>\n    <tr>\n      <th>0</th>\n      <td>1</td>\n      <td>New Client Onboarding Request</td>\n      <td>2017-11-28 18:00:00.000000</td>\n    </tr>\n    <tr>\n      <th>1</th>\n      <td>1</td>\n      <td>Review Documents</td>\n      <td>2017-11-28 18:44:27.770446</td>\n    </tr>\n    <tr>\n      <th>2</th>\n      <td>1</td>\n      <td>Automated Scoreboarding</td>\n      <td>2017-11-28 19:04:30.280830</td>\n    </tr>\n    <tr>\n      <th>3</th>\n      <td>1</td>\n      <td>Update Backend Systems</td>\n      <td>2017-11-28 19:11:32.020260</td>\n    </tr>\n    <tr>\n      <th>4</th>\n      <td>1</td>\n      <td>Notification Review Request Completed</td>\n      <td>2017-11-28 19:29:57.368799</td>\n    </tr>\n    <tr>\n      <th>5</th>\n      <td>2</td>\n      <td>New Client Onboarding Request</td>\n      <td>2017-11-29 18:00:00.000000</td>\n    </tr>\n    <tr>\n      <th>6</th>\n      <td>2</td>\n      <td>Review Documents</td>\n      <td>2017-11-29 18:53:53.439293</td>\n    </tr>\n    <tr>\n      <th>7</th>\n      <td>2</td>\n      <td>Automated Scoreboarding</td>\n      <td>2017-11-29 19:18:25.611178</td>\n    </tr>\n    <tr>\n      <th>8</th>\n      <td>2</td>\n      <td>Update Backend Systems</td>\n      <td>2017-11-29 19:22:26.930142</td>\n    </tr>\n    <tr>\n      <th>9</th>\n      <td>2</td>\n      <td>Notification Review Request Completed</td>\n      <td>2017-11-29 19:39:07.545029</td>\n    </tr>\n    <tr>\n      <th>10</th>\n      <td>3</td>\n      <td>New Client Onboarding Request</td>\n      <td>2017-11-30 18:00:00.000000</td>\n    </tr>\n    <tr>\n      <th>11</th>\n      <td>3</td>\n      <td>Review Documents</td>\n      <td>2017-11-30 18:35:44.896309</td>\n    </tr>\n    <tr>\n      <th>12</th>\n      <td>3</td>\n      <td>Automated Scoreboarding</td>\n      <td>2017-11-30 19:05:10.328138</td>\n    </tr>\n    <tr>\n      <th>13</th>\n      <td>3</td>\n      <td>Update Backend Systems</td>\n      <td>2017-11-30 19:10:29.103089</td>\n    </tr>\n    <tr>\n      <th>14</th>\n      <td>3</td>\n      <td>Notification Review Request Completed</td>\n      <td>2017-11-30 19:18:24.568572</td>\n    </tr>\n    <tr>\n      <th>15</th>\n      <td>4</td>\n      <td>New Client Onboarding Request</td>\n      <td>2017-12-01 18:00:00.000000</td>\n    </tr>\n    <tr>\n      <th>16</th>\n      <td>4</td>\n      <td>Review Documents</td>\n      <td>2017-12-01 18:17:43.941624</td>\n    </tr>\n    <tr>\n      <th>17</th>\n      <td>4</td>\n      <td>Automated Scoreboarding</td>\n      <td>2017-12-01 18:30:30.945533</td>\n    </tr>\n    <tr>\n      <th>18</th>\n      <td>4</td>\n      <td>Update Backend Systems</td>\n      <td>2017-12-01 18:35:32.599305</td>\n    </tr>\n    <tr>\n      <th>19</th>\n      <td>4</td>\n      <td>Notification Review Request Completed</td>\n      <td>2017-12-01 18:40:07.852436</td>\n    </tr>\n    <tr>\n      <th>20</th>\n      <td>5</td>\n      <td>New Client Onboarding Request</td>\n      <td>2017-12-02 18:00:00.000000</td>\n    </tr>\n    <tr>\n      <th>21</th>\n      <td>5</td>\n      <td>Review Documents</td>\n      <td>2017-12-02 18:17:03.273996</td>\n    </tr>\n    <tr>\n      <th>22</th>\n      <td>5</td>\n      <td>Automated Scoreboarding</td>\n      <td>2017-12-02 18:45:20.006680</td>\n    </tr>\n    <tr>\n      <th>23</th>\n      <td>5</td>\n      <td>Update Backend Systems</td>\n      <td>2017-12-02 18:52:16.107876</td>\n    </tr>\n    <tr>\n      <th>24</th>\n      <td>5</td>\n      <td>Notification Review Request Completed</td>\n      <td>2017-12-02 19:06:53.025506</td>\n    </tr>\n    <tr>\n      <th>25</th>\n      <td>6</td>\n      <td>New Client Onboarding Request</td>\n      <td>2017-12-03 18:00:00.000000</td>\n    </tr>\n    <tr>\n      <th>26</th>\n      <td>6</td>\n      <td>Review Documents</td>\n      <td>2017-12-03 18:48:11.920388</td>\n    </tr>\n    <tr>\n      <th>27</th>\n      <td>6</td>\n      <td>Automated Scoreboarding</td>\n      <td>2017-12-03 19:00:56.161187</td>\n    </tr>\n    <tr>\n      <th>28</th>\n      <td>6</td>\n      <td>Update Backend Systems</td>\n      <td>2017-12-03 19:06:29.022168</td>\n    </tr>\n    <tr>\n      <th>29</th>\n      <td>6</td>\n      <td>Notification Review Request Completed</td>\n      <td>2017-12-03 19:15:11.104414</td>\n    </tr>\n    <tr>\n      <th>30</th>\n      <td>7</td>\n      <td>New Client Onboarding Request</td>\n      <td>2017-12-04 18:00:00.000000</td>\n    </tr>\n    <tr>\n      <th>31</th>\n      <td>7</td>\n      <td>Review Documents</td>\n      <td>2017-12-04 19:32:17.907038</td>\n    </tr>\n    <tr>\n      <th>32</th>\n      <td>7</td>\n      <td>Automated Scoreboarding</td>\n      <td>2017-12-04 19:51:30.229020</td>\n    </tr>\n    <tr>\n      <th>33</th>\n      <td>7</td>\n      <td>Update Backend Systems</td>\n      <td>2017-12-04 19:54:47.671144</td>\n    </tr>\n    <tr>\n      <th>34</th>\n      <td>7</td>\n      <td>Notification Review Request Completed</td>\n      <td>2017-12-04 20:02:49.840190</td>\n    </tr>\n    <tr>\n      <th>35</th>\n      <td>8</td>\n      <td>New Client Onboarding Request</td>\n      <td>2017-12-05 18:00:00.000000</td>\n    </tr>\n    <tr>\n      <th>36</th>\n      <td>8</td>\n      <td>Review Documents</td>\n      <td>2017-12-05 18:39:37.898997</td>\n    </tr>\n    <tr>\n      <th>37</th>\n      <td>8</td>\n      <td>Automated Scoreboarding</td>\n      <td>2017-12-05 18:59:20.893139</td>\n    </tr>\n    <tr>\n      <th>38</th>\n      <td>8</td>\n      <td>Update Backend Systems</td>\n      <td>2017-12-05 19:04:00.189173</td>\n    </tr>\n    <tr>\n      <th>39</th>\n      <td>8</td>\n      <td>Notification Review Request Completed</td>\n      <td>2017-12-05 19:14:16.872113</td>\n    </tr>\n    <tr>\n      <th>40</th>\n      <td>9</td>\n      <td>New Client Onboarding Request</td>\n      <td>2017-12-06 18:00:00.000000</td>\n    </tr>\n    <tr>\n      <th>41</th>\n      <td>9</td>\n      <td>Review Documents</td>\n      <td>2017-12-06 18:36:39.283511</td>\n    </tr>\n    <tr>\n      <th>42</th>\n      <td>9</td>\n      <td>Automated Scoreboarding</td>\n      <td>2017-12-06 19:40:11.127772</td>\n    </tr>\n    <tr>\n      <th>43</th>\n      <td>9</td>\n      <td>Update Backend Systems</td>\n      <td>2017-12-06 19:47:12.198061</td>\n    </tr>\n    <tr>\n      <th>44</th>\n      <td>9</td>\n      <td>Notification Review Request Completed</td>\n      <td>2017-12-06 20:17:49.945986</td>\n    </tr>\n    <tr>\n      <th>45</th>\n      <td>10</td>\n      <td>New Client Onboarding Request</td>\n      <td>2017-12-07 18:00:00.000000</td>\n    </tr>\n    <tr>\n      <th>46</th>\n      <td>10</td>\n      <td>Review Documents</td>\n      <td>2017-12-07 18:47:24.775386</td>\n    </tr>\n    <tr>\n      <th>47</th>\n      <td>10</td>\n      <td>Automated Scoreboarding</td>\n      <td>2017-12-07 19:00:04.864823</td>\n    </tr>\n    <tr>\n      <th>48</th>\n      <td>10</td>\n      <td>Update Backend Systems</td>\n      <td>2017-12-07 19:08:12.951025</td>\n    </tr>\n    <tr>\n      <th>49</th>\n      <td>10</td>\n      <td>Notification Review Request Completed</td>\n      <td>2017-12-07 19:16:36.351392</td>\n    </tr>\n  </tbody>\n</table>\n</div>"
     },
     "execution_count": 81,
     "metadata": {},
     "output_type": "execute_result"
    }
   ],
   "source": [
    "combined_df.head(50)"
   ]
  },
  {
   "cell_type": "markdown",
   "id": "842b9a6d-c3ab-430f-8a3d-ae7adb25cedb",
   "metadata": {
    "pycharm": {
     "name": "#%% md\n"
    }
   },
   "source": [
    "## Add Task Level Business Data : User"
   ]
  },
  {
   "cell_type": "code",
   "execution_count": 82,
   "id": "c7631522-79bf-404b-a371-fe9791e695f1",
   "metadata": {
    "pycharm": {
     "name": "#%%\n"
    }
   },
   "outputs": [],
   "source": [
    "\n",
    "# Add a column for User\n",
    "combined_df[\"user\"] = \"\""
   ]
  },
  {
   "cell_type": "code",
   "execution_count": 83,
   "id": "a4f4c0fd-c71c-4b85-8cb6-3bc55b558e5f",
   "metadata": {
    "pycharm": {
     "name": "#%%\n"
    }
   },
   "outputs": [],
   "source": [
    "def setRandomUser(row):\n",
    "    match row[\"task\"]:\n",
    "        case \"Review Documents\":\n",
    "            return random.choice(['Rod','Jane','Freddy'])\n",
    "        case \"New Client Onboarding Request\":\n",
    "            return random.choice(['Clive','Francis','Nick','Seb','Tom'])\n",
    "        case \"Manual Scoreboarding\":\n",
    "            return random.choice(['Sharon','Susan', 'Sam'])\n",
    "        case \"Update Backend Systems\":\n",
    "            return \"RPA\"\n",
    "        case \"Automated Scoreboarding\":\n",
    "            return \"SYSTEM\"\n",
    "        case \"Notification Review Request Completed\":\n",
    "            return \"SYSTEM\"\n",
    "        case _:\n",
    "            return row[\"user\"]"
   ]
  },
  {
   "cell_type": "code",
   "execution_count": 84,
   "id": "a48cdf87-7bb9-4a8e-957f-c44054faa5e6",
   "metadata": {
    "pycharm": {
     "name": "#%%\n"
    }
   },
   "outputs": [],
   "source": [
    "combined_df[\"user\"] = combined_df.apply(setRandomUser, axis=1)"
   ]
  },
  {
   "cell_type": "code",
   "execution_count": 85,
   "id": "c4eb3a2e-b1ce-4f6f-8a99-b8b2521627d5",
   "metadata": {
    "pycharm": {
     "name": "#%%\n"
    }
   },
   "outputs": [
    {
     "data": {
      "text/plain": "    process_id                                   task  \\\n0            1          New Client Onboarding Request   \n1            1                       Review Documents   \n2            1                Automated Scoreboarding   \n3            1                 Update Backend Systems   \n4            1  Notification Review Request Completed   \n5            2          New Client Onboarding Request   \n6            2                       Review Documents   \n7            2                Automated Scoreboarding   \n8            2                 Update Backend Systems   \n9            2  Notification Review Request Completed   \n10           3          New Client Onboarding Request   \n11           3                       Review Documents   \n12           3                Automated Scoreboarding   \n13           3                 Update Backend Systems   \n14           3  Notification Review Request Completed   \n15           4          New Client Onboarding Request   \n16           4                       Review Documents   \n17           4                Automated Scoreboarding   \n18           4                 Update Backend Systems   \n19           4  Notification Review Request Completed   \n\n                   start_time    user  \n0  2017-11-28 18:00:00.000000     Seb  \n1  2017-11-28 18:44:27.770446    Jane  \n2  2017-11-28 19:04:30.280830  SYSTEM  \n3  2017-11-28 19:11:32.020260     RPA  \n4  2017-11-28 19:29:57.368799  SYSTEM  \n5  2017-11-29 18:00:00.000000     Seb  \n6  2017-11-29 18:53:53.439293  Freddy  \n7  2017-11-29 19:18:25.611178  SYSTEM  \n8  2017-11-29 19:22:26.930142     RPA  \n9  2017-11-29 19:39:07.545029  SYSTEM  \n10 2017-11-30 18:00:00.000000     Seb  \n11 2017-11-30 18:35:44.896309     Rod  \n12 2017-11-30 19:05:10.328138  SYSTEM  \n13 2017-11-30 19:10:29.103089     RPA  \n14 2017-11-30 19:18:24.568572  SYSTEM  \n15 2017-12-01 18:00:00.000000     Seb  \n16 2017-12-01 18:17:43.941624  Freddy  \n17 2017-12-01 18:30:30.945533  SYSTEM  \n18 2017-12-01 18:35:32.599305     RPA  \n19 2017-12-01 18:40:07.852436  SYSTEM  ",
      "text/html": "<div>\n<style scoped>\n    .dataframe tbody tr th:only-of-type {\n        vertical-align: middle;\n    }\n\n    .dataframe tbody tr th {\n        vertical-align: top;\n    }\n\n    .dataframe thead th {\n        text-align: right;\n    }\n</style>\n<table border=\"1\" class=\"dataframe\">\n  <thead>\n    <tr style=\"text-align: right;\">\n      <th></th>\n      <th>process_id</th>\n      <th>task</th>\n      <th>start_time</th>\n      <th>user</th>\n    </tr>\n  </thead>\n  <tbody>\n    <tr>\n      <th>0</th>\n      <td>1</td>\n      <td>New Client Onboarding Request</td>\n      <td>2017-11-28 18:00:00.000000</td>\n      <td>Seb</td>\n    </tr>\n    <tr>\n      <th>1</th>\n      <td>1</td>\n      <td>Review Documents</td>\n      <td>2017-11-28 18:44:27.770446</td>\n      <td>Jane</td>\n    </tr>\n    <tr>\n      <th>2</th>\n      <td>1</td>\n      <td>Automated Scoreboarding</td>\n      <td>2017-11-28 19:04:30.280830</td>\n      <td>SYSTEM</td>\n    </tr>\n    <tr>\n      <th>3</th>\n      <td>1</td>\n      <td>Update Backend Systems</td>\n      <td>2017-11-28 19:11:32.020260</td>\n      <td>RPA</td>\n    </tr>\n    <tr>\n      <th>4</th>\n      <td>1</td>\n      <td>Notification Review Request Completed</td>\n      <td>2017-11-28 19:29:57.368799</td>\n      <td>SYSTEM</td>\n    </tr>\n    <tr>\n      <th>5</th>\n      <td>2</td>\n      <td>New Client Onboarding Request</td>\n      <td>2017-11-29 18:00:00.000000</td>\n      <td>Seb</td>\n    </tr>\n    <tr>\n      <th>6</th>\n      <td>2</td>\n      <td>Review Documents</td>\n      <td>2017-11-29 18:53:53.439293</td>\n      <td>Freddy</td>\n    </tr>\n    <tr>\n      <th>7</th>\n      <td>2</td>\n      <td>Automated Scoreboarding</td>\n      <td>2017-11-29 19:18:25.611178</td>\n      <td>SYSTEM</td>\n    </tr>\n    <tr>\n      <th>8</th>\n      <td>2</td>\n      <td>Update Backend Systems</td>\n      <td>2017-11-29 19:22:26.930142</td>\n      <td>RPA</td>\n    </tr>\n    <tr>\n      <th>9</th>\n      <td>2</td>\n      <td>Notification Review Request Completed</td>\n      <td>2017-11-29 19:39:07.545029</td>\n      <td>SYSTEM</td>\n    </tr>\n    <tr>\n      <th>10</th>\n      <td>3</td>\n      <td>New Client Onboarding Request</td>\n      <td>2017-11-30 18:00:00.000000</td>\n      <td>Seb</td>\n    </tr>\n    <tr>\n      <th>11</th>\n      <td>3</td>\n      <td>Review Documents</td>\n      <td>2017-11-30 18:35:44.896309</td>\n      <td>Rod</td>\n    </tr>\n    <tr>\n      <th>12</th>\n      <td>3</td>\n      <td>Automated Scoreboarding</td>\n      <td>2017-11-30 19:05:10.328138</td>\n      <td>SYSTEM</td>\n    </tr>\n    <tr>\n      <th>13</th>\n      <td>3</td>\n      <td>Update Backend Systems</td>\n      <td>2017-11-30 19:10:29.103089</td>\n      <td>RPA</td>\n    </tr>\n    <tr>\n      <th>14</th>\n      <td>3</td>\n      <td>Notification Review Request Completed</td>\n      <td>2017-11-30 19:18:24.568572</td>\n      <td>SYSTEM</td>\n    </tr>\n    <tr>\n      <th>15</th>\n      <td>4</td>\n      <td>New Client Onboarding Request</td>\n      <td>2017-12-01 18:00:00.000000</td>\n      <td>Seb</td>\n    </tr>\n    <tr>\n      <th>16</th>\n      <td>4</td>\n      <td>Review Documents</td>\n      <td>2017-12-01 18:17:43.941624</td>\n      <td>Freddy</td>\n    </tr>\n    <tr>\n      <th>17</th>\n      <td>4</td>\n      <td>Automated Scoreboarding</td>\n      <td>2017-12-01 18:30:30.945533</td>\n      <td>SYSTEM</td>\n    </tr>\n    <tr>\n      <th>18</th>\n      <td>4</td>\n      <td>Update Backend Systems</td>\n      <td>2017-12-01 18:35:32.599305</td>\n      <td>RPA</td>\n    </tr>\n    <tr>\n      <th>19</th>\n      <td>4</td>\n      <td>Notification Review Request Completed</td>\n      <td>2017-12-01 18:40:07.852436</td>\n      <td>SYSTEM</td>\n    </tr>\n  </tbody>\n</table>\n</div>"
     },
     "execution_count": 85,
     "metadata": {},
     "output_type": "execute_result"
    }
   ],
   "source": [
    "combined_df.head(20)"
   ]
  },
  {
   "cell_type": "markdown",
   "id": "17e27cd4-75b9-4d49-9216-4e12fff9058e",
   "metadata": {
    "pycharm": {
     "name": "#%% md\n"
    }
   },
   "source": [
    "## Add Process Instance Business Data : Industry\n",
    "Industy won't change during the process so all tasks for a given process ID must have the same value"
   ]
  },
  {
   "cell_type": "code",
   "execution_count": 86,
   "id": "15460e48-4f62-411b-8be2-9a9656c6b318",
   "metadata": {
    "pycharm": {
     "name": "#%%\n"
    }
   },
   "outputs": [],
   "source": [
    "combined_df[\"industry\"] = \"\""
   ]
  },
  {
   "cell_type": "code",
   "execution_count": 87,
   "id": "df6d2614-52e7-4cc3-93b7-578695e51aaa",
   "metadata": {
    "tags": [],
    "pycharm": {
     "name": "#%%\n"
    }
   },
   "outputs": [],
   "source": [
    "process_id_list = combined_df[\"process_id\"].unique()\n",
    "\n",
    "for process_id in process_id_list:\n",
    "    industry = random.choice(['Federal','Finance','Healthcare','Insurance','Telecom'])\n",
    "    combined_df.loc[combined_df[\"process_id\"].eq(process_id), \"industry\"] = industry\n",
    "    \n",
    "                          \n",
    "    "
   ]
  },
  {
   "cell_type": "code",
   "execution_count": 88,
   "outputs": [
    {
     "data": {
      "text/plain": "    process_id                                   task  \\\n0            1          New Client Onboarding Request   \n1            1                       Review Documents   \n2            1                Automated Scoreboarding   \n3            1                 Update Backend Systems   \n4            1  Notification Review Request Completed   \n5            2          New Client Onboarding Request   \n6            2                       Review Documents   \n7            2                Automated Scoreboarding   \n8            2                 Update Backend Systems   \n9            2  Notification Review Request Completed   \n10           3          New Client Onboarding Request   \n11           3                       Review Documents   \n12           3                Automated Scoreboarding   \n13           3                 Update Backend Systems   \n14           3  Notification Review Request Completed   \n15           4          New Client Onboarding Request   \n16           4                       Review Documents   \n17           4                Automated Scoreboarding   \n18           4                 Update Backend Systems   \n19           4  Notification Review Request Completed   \n\n                   start_time    user    industry  \n0  2017-11-28 18:00:00.000000     Seb     Telecom  \n1  2017-11-28 18:44:27.770446    Jane     Telecom  \n2  2017-11-28 19:04:30.280830  SYSTEM     Telecom  \n3  2017-11-28 19:11:32.020260     RPA     Telecom  \n4  2017-11-28 19:29:57.368799  SYSTEM     Telecom  \n5  2017-11-29 18:00:00.000000     Seb     Federal  \n6  2017-11-29 18:53:53.439293  Freddy     Federal  \n7  2017-11-29 19:18:25.611178  SYSTEM     Federal  \n8  2017-11-29 19:22:26.930142     RPA     Federal  \n9  2017-11-29 19:39:07.545029  SYSTEM     Federal  \n10 2017-11-30 18:00:00.000000     Seb     Federal  \n11 2017-11-30 18:35:44.896309     Rod     Federal  \n12 2017-11-30 19:05:10.328138  SYSTEM     Federal  \n13 2017-11-30 19:10:29.103089     RPA     Federal  \n14 2017-11-30 19:18:24.568572  SYSTEM     Federal  \n15 2017-12-01 18:00:00.000000     Seb  Healthcare  \n16 2017-12-01 18:17:43.941624  Freddy  Healthcare  \n17 2017-12-01 18:30:30.945533  SYSTEM  Healthcare  \n18 2017-12-01 18:35:32.599305     RPA  Healthcare  \n19 2017-12-01 18:40:07.852436  SYSTEM  Healthcare  ",
      "text/html": "<div>\n<style scoped>\n    .dataframe tbody tr th:only-of-type {\n        vertical-align: middle;\n    }\n\n    .dataframe tbody tr th {\n        vertical-align: top;\n    }\n\n    .dataframe thead th {\n        text-align: right;\n    }\n</style>\n<table border=\"1\" class=\"dataframe\">\n  <thead>\n    <tr style=\"text-align: right;\">\n      <th></th>\n      <th>process_id</th>\n      <th>task</th>\n      <th>start_time</th>\n      <th>user</th>\n      <th>industry</th>\n    </tr>\n  </thead>\n  <tbody>\n    <tr>\n      <th>0</th>\n      <td>1</td>\n      <td>New Client Onboarding Request</td>\n      <td>2017-11-28 18:00:00.000000</td>\n      <td>Seb</td>\n      <td>Telecom</td>\n    </tr>\n    <tr>\n      <th>1</th>\n      <td>1</td>\n      <td>Review Documents</td>\n      <td>2017-11-28 18:44:27.770446</td>\n      <td>Jane</td>\n      <td>Telecom</td>\n    </tr>\n    <tr>\n      <th>2</th>\n      <td>1</td>\n      <td>Automated Scoreboarding</td>\n      <td>2017-11-28 19:04:30.280830</td>\n      <td>SYSTEM</td>\n      <td>Telecom</td>\n    </tr>\n    <tr>\n      <th>3</th>\n      <td>1</td>\n      <td>Update Backend Systems</td>\n      <td>2017-11-28 19:11:32.020260</td>\n      <td>RPA</td>\n      <td>Telecom</td>\n    </tr>\n    <tr>\n      <th>4</th>\n      <td>1</td>\n      <td>Notification Review Request Completed</td>\n      <td>2017-11-28 19:29:57.368799</td>\n      <td>SYSTEM</td>\n      <td>Telecom</td>\n    </tr>\n    <tr>\n      <th>5</th>\n      <td>2</td>\n      <td>New Client Onboarding Request</td>\n      <td>2017-11-29 18:00:00.000000</td>\n      <td>Seb</td>\n      <td>Federal</td>\n    </tr>\n    <tr>\n      <th>6</th>\n      <td>2</td>\n      <td>Review Documents</td>\n      <td>2017-11-29 18:53:53.439293</td>\n      <td>Freddy</td>\n      <td>Federal</td>\n    </tr>\n    <tr>\n      <th>7</th>\n      <td>2</td>\n      <td>Automated Scoreboarding</td>\n      <td>2017-11-29 19:18:25.611178</td>\n      <td>SYSTEM</td>\n      <td>Federal</td>\n    </tr>\n    <tr>\n      <th>8</th>\n      <td>2</td>\n      <td>Update Backend Systems</td>\n      <td>2017-11-29 19:22:26.930142</td>\n      <td>RPA</td>\n      <td>Federal</td>\n    </tr>\n    <tr>\n      <th>9</th>\n      <td>2</td>\n      <td>Notification Review Request Completed</td>\n      <td>2017-11-29 19:39:07.545029</td>\n      <td>SYSTEM</td>\n      <td>Federal</td>\n    </tr>\n    <tr>\n      <th>10</th>\n      <td>3</td>\n      <td>New Client Onboarding Request</td>\n      <td>2017-11-30 18:00:00.000000</td>\n      <td>Seb</td>\n      <td>Federal</td>\n    </tr>\n    <tr>\n      <th>11</th>\n      <td>3</td>\n      <td>Review Documents</td>\n      <td>2017-11-30 18:35:44.896309</td>\n      <td>Rod</td>\n      <td>Federal</td>\n    </tr>\n    <tr>\n      <th>12</th>\n      <td>3</td>\n      <td>Automated Scoreboarding</td>\n      <td>2017-11-30 19:05:10.328138</td>\n      <td>SYSTEM</td>\n      <td>Federal</td>\n    </tr>\n    <tr>\n      <th>13</th>\n      <td>3</td>\n      <td>Update Backend Systems</td>\n      <td>2017-11-30 19:10:29.103089</td>\n      <td>RPA</td>\n      <td>Federal</td>\n    </tr>\n    <tr>\n      <th>14</th>\n      <td>3</td>\n      <td>Notification Review Request Completed</td>\n      <td>2017-11-30 19:18:24.568572</td>\n      <td>SYSTEM</td>\n      <td>Federal</td>\n    </tr>\n    <tr>\n      <th>15</th>\n      <td>4</td>\n      <td>New Client Onboarding Request</td>\n      <td>2017-12-01 18:00:00.000000</td>\n      <td>Seb</td>\n      <td>Healthcare</td>\n    </tr>\n    <tr>\n      <th>16</th>\n      <td>4</td>\n      <td>Review Documents</td>\n      <td>2017-12-01 18:17:43.941624</td>\n      <td>Freddy</td>\n      <td>Healthcare</td>\n    </tr>\n    <tr>\n      <th>17</th>\n      <td>4</td>\n      <td>Automated Scoreboarding</td>\n      <td>2017-12-01 18:30:30.945533</td>\n      <td>SYSTEM</td>\n      <td>Healthcare</td>\n    </tr>\n    <tr>\n      <th>18</th>\n      <td>4</td>\n      <td>Update Backend Systems</td>\n      <td>2017-12-01 18:35:32.599305</td>\n      <td>RPA</td>\n      <td>Healthcare</td>\n    </tr>\n    <tr>\n      <th>19</th>\n      <td>4</td>\n      <td>Notification Review Request Completed</td>\n      <td>2017-12-01 18:40:07.852436</td>\n      <td>SYSTEM</td>\n      <td>Healthcare</td>\n    </tr>\n  </tbody>\n</table>\n</div>"
     },
     "execution_count": 88,
     "metadata": {},
     "output_type": "execute_result"
    }
   ],
   "source": [
    "combined_df.head(20)"
   ],
   "metadata": {
    "collapsed": false,
    "pycharm": {
     "name": "#%%\n"
    }
   }
  },
  {
   "cell_type": "markdown",
   "id": "4e5fa6a3-9ade-4c18-8267-d86a66799ae0",
   "metadata": {
    "pycharm": {
     "name": "#%% md\n"
    }
   },
   "source": [
    "## Add Process Instance Business Data : Service Charge\n",
    "Service charge will be a random choice based on industry."
   ]
  },
  {
   "cell_type": "code",
   "execution_count": 88,
   "outputs": [],
   "source": [],
   "metadata": {
    "collapsed": false,
    "pycharm": {
     "name": "#%%\n"
    }
   }
  },
  {
   "cell_type": "code",
   "execution_count": 89,
   "id": "b79c0831-6a63-4c8b-9d69-162de955ce2b",
   "metadata": {
    "pycharm": {
     "name": "#%%\n"
    }
   },
   "outputs": [],
   "source": [
    "combined_df[\"service_charge\"] = 0"
   ]
  },
  {
   "cell_type": "code",
   "execution_count": 90,
   "id": "e84a33a0-0fdd-457d-8d5b-23c0b3cc7f4c",
   "metadata": {
    "pycharm": {
     "name": "#%%\n"
    }
   },
   "outputs": [],
   "source": [
    "def getServiceChargeByIndustry(industry):\n",
    "    match industry:\n",
    "        case \"Federal\":\n",
    "            return random.choice([3000, 6000, 8000])\n",
    "        case \"Finance\":\n",
    "            return random.choice([10000, 12000, 20000])\n",
    "        case \"Healthcare\":\n",
    "            return random.choice([15000, 20000, 25000])\n",
    "        case \"Insurance\":\n",
    "            return 45000\n",
    "        case \"Telecom\":\n",
    "            return 49000\n",
    "        case _:\n",
    "            return 64000"
   ]
  },
  {
   "cell_type": "code",
   "execution_count": 96,
   "id": "a602ee66-9adf-4b17-863d-43675ec6dd28",
   "metadata": {
    "pycharm": {
     "name": "#%%\n"
    }
   },
   "outputs": [],
   "source": [
    "last_process = -1\n",
    "service_charge = 0\n",
    "\n",
    "process_id_list = combined_df[\"process_id\"].unique()\n",
    "\n",
    "for process_id in process_id_list:\n",
    "        # what industry is set for this process_id\n",
    "        process_instance_tasks = combined_df.loc[combined_df.process_id == process_id].copy()\n",
    "        industry = process_instance_tasks.iloc[0]['industry']\n",
    "        service_charge = getServiceChargeByIndustry(industry)\n",
    "        combined_df.loc[combined_df.process_id == process_id, 'service_charge'] = service_charge\n",
    "    \n"
   ]
  },
  {
   "cell_type": "code",
   "execution_count": 91,
   "id": "00e7b97d-2a02-468b-bfab-b91759cde48b",
   "metadata": {
    "pycharm": {
     "name": "#%%\n"
    }
   },
   "outputs": [],
   "source": []
  },
  {
   "cell_type": "code",
   "execution_count": 97,
   "id": "43eeae79-f1f1-4183-9c7b-e1ac1c3d04b7",
   "metadata": {
    "pycharm": {
     "name": "#%%\n"
    }
   },
   "outputs": [
    {
     "data": {
      "text/plain": "    process_id                                   task  \\\n0            1          New Client Onboarding Request   \n1            1                       Review Documents   \n2            1                Automated Scoreboarding   \n3            1                 Update Backend Systems   \n4            1  Notification Review Request Completed   \n5            2          New Client Onboarding Request   \n6            2                       Review Documents   \n7            2                Automated Scoreboarding   \n8            2                 Update Backend Systems   \n9            2  Notification Review Request Completed   \n10           3          New Client Onboarding Request   \n11           3                       Review Documents   \n12           3                Automated Scoreboarding   \n13           3                 Update Backend Systems   \n14           3  Notification Review Request Completed   \n15           4          New Client Onboarding Request   \n16           4                       Review Documents   \n17           4                Automated Scoreboarding   \n18           4                 Update Backend Systems   \n19           4  Notification Review Request Completed   \n20           5          New Client Onboarding Request   \n21           5                       Review Documents   \n22           5                Automated Scoreboarding   \n23           5                 Update Backend Systems   \n24           5  Notification Review Request Completed   \n25           6          New Client Onboarding Request   \n26           6                       Review Documents   \n27           6                Automated Scoreboarding   \n28           6                 Update Backend Systems   \n29           6  Notification Review Request Completed   \n30           7          New Client Onboarding Request   \n31           7                       Review Documents   \n32           7                Automated Scoreboarding   \n33           7                 Update Backend Systems   \n34           7  Notification Review Request Completed   \n35           8          New Client Onboarding Request   \n36           8                       Review Documents   \n37           8                Automated Scoreboarding   \n38           8                 Update Backend Systems   \n39           8  Notification Review Request Completed   \n40           9          New Client Onboarding Request   \n41           9                       Review Documents   \n42           9                Automated Scoreboarding   \n43           9                 Update Backend Systems   \n44           9  Notification Review Request Completed   \n45          10          New Client Onboarding Request   \n46          10                       Review Documents   \n47          10                Automated Scoreboarding   \n48          10                 Update Backend Systems   \n49          10  Notification Review Request Completed   \n\n                   start_time     user    industry  service_charge  \n0  2017-11-28 18:00:00.000000      Seb     Telecom           49000  \n1  2017-11-28 18:44:27.770446     Jane     Telecom           49000  \n2  2017-11-28 19:04:30.280830   SYSTEM     Telecom           49000  \n3  2017-11-28 19:11:32.020260      RPA     Telecom           49000  \n4  2017-11-28 19:29:57.368799   SYSTEM     Telecom           49000  \n5  2017-11-29 18:00:00.000000      Seb     Federal            8000  \n6  2017-11-29 18:53:53.439293   Freddy     Federal            8000  \n7  2017-11-29 19:18:25.611178   SYSTEM     Federal            8000  \n8  2017-11-29 19:22:26.930142      RPA     Federal            8000  \n9  2017-11-29 19:39:07.545029   SYSTEM     Federal            8000  \n10 2017-11-30 18:00:00.000000      Seb     Federal            6000  \n11 2017-11-30 18:35:44.896309      Rod     Federal            6000  \n12 2017-11-30 19:05:10.328138   SYSTEM     Federal            6000  \n13 2017-11-30 19:10:29.103089      RPA     Federal            6000  \n14 2017-11-30 19:18:24.568572   SYSTEM     Federal            6000  \n15 2017-12-01 18:00:00.000000      Seb  Healthcare           25000  \n16 2017-12-01 18:17:43.941624   Freddy  Healthcare           25000  \n17 2017-12-01 18:30:30.945533   SYSTEM  Healthcare           25000  \n18 2017-12-01 18:35:32.599305      RPA  Healthcare           25000  \n19 2017-12-01 18:40:07.852436   SYSTEM  Healthcare           25000  \n20 2017-12-02 18:00:00.000000  Francis   Insurance           45000  \n21 2017-12-02 18:17:03.273996      Rod   Insurance           45000  \n22 2017-12-02 18:45:20.006680   SYSTEM   Insurance           45000  \n23 2017-12-02 18:52:16.107876      RPA   Insurance           45000  \n24 2017-12-02 19:06:53.025506   SYSTEM   Insurance           45000  \n25 2017-12-03 18:00:00.000000      Tom     Telecom           49000  \n26 2017-12-03 18:48:11.920388   Freddy     Telecom           49000  \n27 2017-12-03 19:00:56.161187   SYSTEM     Telecom           49000  \n28 2017-12-03 19:06:29.022168      RPA     Telecom           49000  \n29 2017-12-03 19:15:11.104414   SYSTEM     Telecom           49000  \n30 2017-12-04 18:00:00.000000      Tom  Healthcare           20000  \n31 2017-12-04 19:32:17.907038     Jane  Healthcare           20000  \n32 2017-12-04 19:51:30.229020   SYSTEM  Healthcare           20000  \n33 2017-12-04 19:54:47.671144      RPA  Healthcare           20000  \n34 2017-12-04 20:02:49.840190   SYSTEM  Healthcare           20000  \n35 2017-12-05 18:00:00.000000    Clive   Insurance           45000  \n36 2017-12-05 18:39:37.898997      Rod   Insurance           45000  \n37 2017-12-05 18:59:20.893139   SYSTEM   Insurance           45000  \n38 2017-12-05 19:04:00.189173      RPA   Insurance           45000  \n39 2017-12-05 19:14:16.872113   SYSTEM   Insurance           45000  \n40 2017-12-06 18:00:00.000000      Tom     Finance           12000  \n41 2017-12-06 18:36:39.283511   Freddy     Finance           12000  \n42 2017-12-06 19:40:11.127772   SYSTEM     Finance           12000  \n43 2017-12-06 19:47:12.198061      RPA     Finance           12000  \n44 2017-12-06 20:17:49.945986   SYSTEM     Finance           12000  \n45 2017-12-07 18:00:00.000000      Seb   Insurance           45000  \n46 2017-12-07 18:47:24.775386     Jane   Insurance           45000  \n47 2017-12-07 19:00:04.864823   SYSTEM   Insurance           45000  \n48 2017-12-07 19:08:12.951025      RPA   Insurance           45000  \n49 2017-12-07 19:16:36.351392   SYSTEM   Insurance           45000  ",
      "text/html": "<div>\n<style scoped>\n    .dataframe tbody tr th:only-of-type {\n        vertical-align: middle;\n    }\n\n    .dataframe tbody tr th {\n        vertical-align: top;\n    }\n\n    .dataframe thead th {\n        text-align: right;\n    }\n</style>\n<table border=\"1\" class=\"dataframe\">\n  <thead>\n    <tr style=\"text-align: right;\">\n      <th></th>\n      <th>process_id</th>\n      <th>task</th>\n      <th>start_time</th>\n      <th>user</th>\n      <th>industry</th>\n      <th>service_charge</th>\n    </tr>\n  </thead>\n  <tbody>\n    <tr>\n      <th>0</th>\n      <td>1</td>\n      <td>New Client Onboarding Request</td>\n      <td>2017-11-28 18:00:00.000000</td>\n      <td>Seb</td>\n      <td>Telecom</td>\n      <td>49000</td>\n    </tr>\n    <tr>\n      <th>1</th>\n      <td>1</td>\n      <td>Review Documents</td>\n      <td>2017-11-28 18:44:27.770446</td>\n      <td>Jane</td>\n      <td>Telecom</td>\n      <td>49000</td>\n    </tr>\n    <tr>\n      <th>2</th>\n      <td>1</td>\n      <td>Automated Scoreboarding</td>\n      <td>2017-11-28 19:04:30.280830</td>\n      <td>SYSTEM</td>\n      <td>Telecom</td>\n      <td>49000</td>\n    </tr>\n    <tr>\n      <th>3</th>\n      <td>1</td>\n      <td>Update Backend Systems</td>\n      <td>2017-11-28 19:11:32.020260</td>\n      <td>RPA</td>\n      <td>Telecom</td>\n      <td>49000</td>\n    </tr>\n    <tr>\n      <th>4</th>\n      <td>1</td>\n      <td>Notification Review Request Completed</td>\n      <td>2017-11-28 19:29:57.368799</td>\n      <td>SYSTEM</td>\n      <td>Telecom</td>\n      <td>49000</td>\n    </tr>\n    <tr>\n      <th>5</th>\n      <td>2</td>\n      <td>New Client Onboarding Request</td>\n      <td>2017-11-29 18:00:00.000000</td>\n      <td>Seb</td>\n      <td>Federal</td>\n      <td>8000</td>\n    </tr>\n    <tr>\n      <th>6</th>\n      <td>2</td>\n      <td>Review Documents</td>\n      <td>2017-11-29 18:53:53.439293</td>\n      <td>Freddy</td>\n      <td>Federal</td>\n      <td>8000</td>\n    </tr>\n    <tr>\n      <th>7</th>\n      <td>2</td>\n      <td>Automated Scoreboarding</td>\n      <td>2017-11-29 19:18:25.611178</td>\n      <td>SYSTEM</td>\n      <td>Federal</td>\n      <td>8000</td>\n    </tr>\n    <tr>\n      <th>8</th>\n      <td>2</td>\n      <td>Update Backend Systems</td>\n      <td>2017-11-29 19:22:26.930142</td>\n      <td>RPA</td>\n      <td>Federal</td>\n      <td>8000</td>\n    </tr>\n    <tr>\n      <th>9</th>\n      <td>2</td>\n      <td>Notification Review Request Completed</td>\n      <td>2017-11-29 19:39:07.545029</td>\n      <td>SYSTEM</td>\n      <td>Federal</td>\n      <td>8000</td>\n    </tr>\n    <tr>\n      <th>10</th>\n      <td>3</td>\n      <td>New Client Onboarding Request</td>\n      <td>2017-11-30 18:00:00.000000</td>\n      <td>Seb</td>\n      <td>Federal</td>\n      <td>6000</td>\n    </tr>\n    <tr>\n      <th>11</th>\n      <td>3</td>\n      <td>Review Documents</td>\n      <td>2017-11-30 18:35:44.896309</td>\n      <td>Rod</td>\n      <td>Federal</td>\n      <td>6000</td>\n    </tr>\n    <tr>\n      <th>12</th>\n      <td>3</td>\n      <td>Automated Scoreboarding</td>\n      <td>2017-11-30 19:05:10.328138</td>\n      <td>SYSTEM</td>\n      <td>Federal</td>\n      <td>6000</td>\n    </tr>\n    <tr>\n      <th>13</th>\n      <td>3</td>\n      <td>Update Backend Systems</td>\n      <td>2017-11-30 19:10:29.103089</td>\n      <td>RPA</td>\n      <td>Federal</td>\n      <td>6000</td>\n    </tr>\n    <tr>\n      <th>14</th>\n      <td>3</td>\n      <td>Notification Review Request Completed</td>\n      <td>2017-11-30 19:18:24.568572</td>\n      <td>SYSTEM</td>\n      <td>Federal</td>\n      <td>6000</td>\n    </tr>\n    <tr>\n      <th>15</th>\n      <td>4</td>\n      <td>New Client Onboarding Request</td>\n      <td>2017-12-01 18:00:00.000000</td>\n      <td>Seb</td>\n      <td>Healthcare</td>\n      <td>25000</td>\n    </tr>\n    <tr>\n      <th>16</th>\n      <td>4</td>\n      <td>Review Documents</td>\n      <td>2017-12-01 18:17:43.941624</td>\n      <td>Freddy</td>\n      <td>Healthcare</td>\n      <td>25000</td>\n    </tr>\n    <tr>\n      <th>17</th>\n      <td>4</td>\n      <td>Automated Scoreboarding</td>\n      <td>2017-12-01 18:30:30.945533</td>\n      <td>SYSTEM</td>\n      <td>Healthcare</td>\n      <td>25000</td>\n    </tr>\n    <tr>\n      <th>18</th>\n      <td>4</td>\n      <td>Update Backend Systems</td>\n      <td>2017-12-01 18:35:32.599305</td>\n      <td>RPA</td>\n      <td>Healthcare</td>\n      <td>25000</td>\n    </tr>\n    <tr>\n      <th>19</th>\n      <td>4</td>\n      <td>Notification Review Request Completed</td>\n      <td>2017-12-01 18:40:07.852436</td>\n      <td>SYSTEM</td>\n      <td>Healthcare</td>\n      <td>25000</td>\n    </tr>\n    <tr>\n      <th>20</th>\n      <td>5</td>\n      <td>New Client Onboarding Request</td>\n      <td>2017-12-02 18:00:00.000000</td>\n      <td>Francis</td>\n      <td>Insurance</td>\n      <td>45000</td>\n    </tr>\n    <tr>\n      <th>21</th>\n      <td>5</td>\n      <td>Review Documents</td>\n      <td>2017-12-02 18:17:03.273996</td>\n      <td>Rod</td>\n      <td>Insurance</td>\n      <td>45000</td>\n    </tr>\n    <tr>\n      <th>22</th>\n      <td>5</td>\n      <td>Automated Scoreboarding</td>\n      <td>2017-12-02 18:45:20.006680</td>\n      <td>SYSTEM</td>\n      <td>Insurance</td>\n      <td>45000</td>\n    </tr>\n    <tr>\n      <th>23</th>\n      <td>5</td>\n      <td>Update Backend Systems</td>\n      <td>2017-12-02 18:52:16.107876</td>\n      <td>RPA</td>\n      <td>Insurance</td>\n      <td>45000</td>\n    </tr>\n    <tr>\n      <th>24</th>\n      <td>5</td>\n      <td>Notification Review Request Completed</td>\n      <td>2017-12-02 19:06:53.025506</td>\n      <td>SYSTEM</td>\n      <td>Insurance</td>\n      <td>45000</td>\n    </tr>\n    <tr>\n      <th>25</th>\n      <td>6</td>\n      <td>New Client Onboarding Request</td>\n      <td>2017-12-03 18:00:00.000000</td>\n      <td>Tom</td>\n      <td>Telecom</td>\n      <td>49000</td>\n    </tr>\n    <tr>\n      <th>26</th>\n      <td>6</td>\n      <td>Review Documents</td>\n      <td>2017-12-03 18:48:11.920388</td>\n      <td>Freddy</td>\n      <td>Telecom</td>\n      <td>49000</td>\n    </tr>\n    <tr>\n      <th>27</th>\n      <td>6</td>\n      <td>Automated Scoreboarding</td>\n      <td>2017-12-03 19:00:56.161187</td>\n      <td>SYSTEM</td>\n      <td>Telecom</td>\n      <td>49000</td>\n    </tr>\n    <tr>\n      <th>28</th>\n      <td>6</td>\n      <td>Update Backend Systems</td>\n      <td>2017-12-03 19:06:29.022168</td>\n      <td>RPA</td>\n      <td>Telecom</td>\n      <td>49000</td>\n    </tr>\n    <tr>\n      <th>29</th>\n      <td>6</td>\n      <td>Notification Review Request Completed</td>\n      <td>2017-12-03 19:15:11.104414</td>\n      <td>SYSTEM</td>\n      <td>Telecom</td>\n      <td>49000</td>\n    </tr>\n    <tr>\n      <th>30</th>\n      <td>7</td>\n      <td>New Client Onboarding Request</td>\n      <td>2017-12-04 18:00:00.000000</td>\n      <td>Tom</td>\n      <td>Healthcare</td>\n      <td>20000</td>\n    </tr>\n    <tr>\n      <th>31</th>\n      <td>7</td>\n      <td>Review Documents</td>\n      <td>2017-12-04 19:32:17.907038</td>\n      <td>Jane</td>\n      <td>Healthcare</td>\n      <td>20000</td>\n    </tr>\n    <tr>\n      <th>32</th>\n      <td>7</td>\n      <td>Automated Scoreboarding</td>\n      <td>2017-12-04 19:51:30.229020</td>\n      <td>SYSTEM</td>\n      <td>Healthcare</td>\n      <td>20000</td>\n    </tr>\n    <tr>\n      <th>33</th>\n      <td>7</td>\n      <td>Update Backend Systems</td>\n      <td>2017-12-04 19:54:47.671144</td>\n      <td>RPA</td>\n      <td>Healthcare</td>\n      <td>20000</td>\n    </tr>\n    <tr>\n      <th>34</th>\n      <td>7</td>\n      <td>Notification Review Request Completed</td>\n      <td>2017-12-04 20:02:49.840190</td>\n      <td>SYSTEM</td>\n      <td>Healthcare</td>\n      <td>20000</td>\n    </tr>\n    <tr>\n      <th>35</th>\n      <td>8</td>\n      <td>New Client Onboarding Request</td>\n      <td>2017-12-05 18:00:00.000000</td>\n      <td>Clive</td>\n      <td>Insurance</td>\n      <td>45000</td>\n    </tr>\n    <tr>\n      <th>36</th>\n      <td>8</td>\n      <td>Review Documents</td>\n      <td>2017-12-05 18:39:37.898997</td>\n      <td>Rod</td>\n      <td>Insurance</td>\n      <td>45000</td>\n    </tr>\n    <tr>\n      <th>37</th>\n      <td>8</td>\n      <td>Automated Scoreboarding</td>\n      <td>2017-12-05 18:59:20.893139</td>\n      <td>SYSTEM</td>\n      <td>Insurance</td>\n      <td>45000</td>\n    </tr>\n    <tr>\n      <th>38</th>\n      <td>8</td>\n      <td>Update Backend Systems</td>\n      <td>2017-12-05 19:04:00.189173</td>\n      <td>RPA</td>\n      <td>Insurance</td>\n      <td>45000</td>\n    </tr>\n    <tr>\n      <th>39</th>\n      <td>8</td>\n      <td>Notification Review Request Completed</td>\n      <td>2017-12-05 19:14:16.872113</td>\n      <td>SYSTEM</td>\n      <td>Insurance</td>\n      <td>45000</td>\n    </tr>\n    <tr>\n      <th>40</th>\n      <td>9</td>\n      <td>New Client Onboarding Request</td>\n      <td>2017-12-06 18:00:00.000000</td>\n      <td>Tom</td>\n      <td>Finance</td>\n      <td>12000</td>\n    </tr>\n    <tr>\n      <th>41</th>\n      <td>9</td>\n      <td>Review Documents</td>\n      <td>2017-12-06 18:36:39.283511</td>\n      <td>Freddy</td>\n      <td>Finance</td>\n      <td>12000</td>\n    </tr>\n    <tr>\n      <th>42</th>\n      <td>9</td>\n      <td>Automated Scoreboarding</td>\n      <td>2017-12-06 19:40:11.127772</td>\n      <td>SYSTEM</td>\n      <td>Finance</td>\n      <td>12000</td>\n    </tr>\n    <tr>\n      <th>43</th>\n      <td>9</td>\n      <td>Update Backend Systems</td>\n      <td>2017-12-06 19:47:12.198061</td>\n      <td>RPA</td>\n      <td>Finance</td>\n      <td>12000</td>\n    </tr>\n    <tr>\n      <th>44</th>\n      <td>9</td>\n      <td>Notification Review Request Completed</td>\n      <td>2017-12-06 20:17:49.945986</td>\n      <td>SYSTEM</td>\n      <td>Finance</td>\n      <td>12000</td>\n    </tr>\n    <tr>\n      <th>45</th>\n      <td>10</td>\n      <td>New Client Onboarding Request</td>\n      <td>2017-12-07 18:00:00.000000</td>\n      <td>Seb</td>\n      <td>Insurance</td>\n      <td>45000</td>\n    </tr>\n    <tr>\n      <th>46</th>\n      <td>10</td>\n      <td>Review Documents</td>\n      <td>2017-12-07 18:47:24.775386</td>\n      <td>Jane</td>\n      <td>Insurance</td>\n      <td>45000</td>\n    </tr>\n    <tr>\n      <th>47</th>\n      <td>10</td>\n      <td>Automated Scoreboarding</td>\n      <td>2017-12-07 19:00:04.864823</td>\n      <td>SYSTEM</td>\n      <td>Insurance</td>\n      <td>45000</td>\n    </tr>\n    <tr>\n      <th>48</th>\n      <td>10</td>\n      <td>Update Backend Systems</td>\n      <td>2017-12-07 19:08:12.951025</td>\n      <td>RPA</td>\n      <td>Insurance</td>\n      <td>45000</td>\n    </tr>\n    <tr>\n      <th>49</th>\n      <td>10</td>\n      <td>Notification Review Request Completed</td>\n      <td>2017-12-07 19:16:36.351392</td>\n      <td>SYSTEM</td>\n      <td>Insurance</td>\n      <td>45000</td>\n    </tr>\n  </tbody>\n</table>\n</div>"
     },
     "execution_count": 97,
     "metadata": {},
     "output_type": "execute_result"
    }
   ],
   "source": [
    "combined_df.head(50)"
   ]
  },
  {
   "cell_type": "code",
   "execution_count": 56,
   "id": "a49c357e-9443-4535-8ee8-92601e1f9db0",
   "metadata": {
    "pycharm": {
     "name": "#%%\n"
    }
   },
   "outputs": [],
   "source": [
    "# next look at increasing the time taken for automated scoreboarding to start when the industry is federal\n",
    "# do th same for healthcare\n",
    "# rational here is that the documentation requirements are greater\n",
    " "
   ]
  },
  {
   "cell_type": "code",
   "execution_count": null,
   "id": "c181d435-da3b-483d-ae99-27bb37ebb5be",
   "metadata": {
    "pycharm": {
     "name": "#%%\n"
    }
   },
   "outputs": [],
   "source": []
  },
  {
   "cell_type": "code",
   "execution_count": 44,
   "id": "da1f7236-28f7-49f5-830f-7d1d1bd6a2fa",
   "metadata": {
    "pycharm": {
     "name": "#%%\n"
    }
   },
   "outputs": [],
   "source": []
  },
  {
   "cell_type": "code",
   "execution_count": null,
   "id": "0860491b-d3f1-4caf-aa1b-97eaeb01ded8",
   "metadata": {
    "pycharm": {
     "name": "#%%\n"
    }
   },
   "outputs": [],
   "source": []
  },
  {
   "cell_type": "code",
   "execution_count": 98,
   "id": "5af3fb83-bd26-403f-aa66-29ae6db6985d",
   "metadata": {
    "pycharm": {
     "name": "#%%\n"
    }
   },
   "outputs": [],
   "source": [
    "# If user is Rod and activity is `Review Documents` shift the start_time by 1 hour\n",
    "updated_df = shiftActivityTime(combined_df, 'user','Rod', 'Review Documents', 1)"
   ]
  },
  {
   "cell_type": "code",
   "execution_count": 99,
   "id": "36bd9452-6640-43b6-bbef-62491777cb26",
   "metadata": {
    "pycharm": {
     "name": "#%%\n"
    }
   },
   "outputs": [
    {
     "data": {
      "text/plain": "    process_id                                   task  \\\n10           3          New Client Onboarding Request   \n11           3                       Review Documents   \n12           3                Automated Scoreboarding   \n13           3                 Update Backend Systems   \n14           3  Notification Review Request Completed   \n\n                   start_time    user industry  service_charge  \n10 2017-11-30 18:00:00.000000     Seb  Federal            6000  \n11 2017-11-30 18:35:44.896309     Rod  Federal            6000  \n12 2017-11-30 19:05:10.328138  SYSTEM  Federal            6000  \n13 2017-11-30 19:10:29.103089     RPA  Federal            6000  \n14 2017-11-30 19:18:24.568572  SYSTEM  Federal            6000  ",
      "text/html": "<div>\n<style scoped>\n    .dataframe tbody tr th:only-of-type {\n        vertical-align: middle;\n    }\n\n    .dataframe tbody tr th {\n        vertical-align: top;\n    }\n\n    .dataframe thead th {\n        text-align: right;\n    }\n</style>\n<table border=\"1\" class=\"dataframe\">\n  <thead>\n    <tr style=\"text-align: right;\">\n      <th></th>\n      <th>process_id</th>\n      <th>task</th>\n      <th>start_time</th>\n      <th>user</th>\n      <th>industry</th>\n      <th>service_charge</th>\n    </tr>\n  </thead>\n  <tbody>\n    <tr>\n      <th>10</th>\n      <td>3</td>\n      <td>New Client Onboarding Request</td>\n      <td>2017-11-30 18:00:00.000000</td>\n      <td>Seb</td>\n      <td>Federal</td>\n      <td>6000</td>\n    </tr>\n    <tr>\n      <th>11</th>\n      <td>3</td>\n      <td>Review Documents</td>\n      <td>2017-11-30 18:35:44.896309</td>\n      <td>Rod</td>\n      <td>Federal</td>\n      <td>6000</td>\n    </tr>\n    <tr>\n      <th>12</th>\n      <td>3</td>\n      <td>Automated Scoreboarding</td>\n      <td>2017-11-30 19:05:10.328138</td>\n      <td>SYSTEM</td>\n      <td>Federal</td>\n      <td>6000</td>\n    </tr>\n    <tr>\n      <th>13</th>\n      <td>3</td>\n      <td>Update Backend Systems</td>\n      <td>2017-11-30 19:10:29.103089</td>\n      <td>RPA</td>\n      <td>Federal</td>\n      <td>6000</td>\n    </tr>\n    <tr>\n      <th>14</th>\n      <td>3</td>\n      <td>Notification Review Request Completed</td>\n      <td>2017-11-30 19:18:24.568572</td>\n      <td>SYSTEM</td>\n      <td>Federal</td>\n      <td>6000</td>\n    </tr>\n  </tbody>\n</table>\n</div>"
     },
     "execution_count": 99,
     "metadata": {},
     "output_type": "execute_result"
    }
   ],
   "source": [
    "filter = (combined_df['process_id'] == 3)\n",
    "combined_df[filter]"
   ]
  },
  {
   "cell_type": "code",
   "execution_count": 100,
   "id": "0d17273d-eb81-4359-831b-2f6cab9db81d",
   "metadata": {
    "pycharm": {
     "name": "#%%\n"
    }
   },
   "outputs": [
    {
     "data": {
      "text/plain": "    process_id                                   task  \\\n10           3          New Client Onboarding Request   \n11           3                       Review Documents   \n12           3                Automated Scoreboarding   \n13           3                 Update Backend Systems   \n14           3  Notification Review Request Completed   \n\n                   start_time    user industry  service_charge  \n10 2017-11-30 18:00:00.000000     Seb  Federal            6000  \n11 2017-11-30 19:35:44.896309     Rod  Federal            6000  \n12 2017-11-30 20:05:10.328138  SYSTEM  Federal            6000  \n13 2017-11-30 20:10:29.103089     RPA  Federal            6000  \n14 2017-11-30 20:18:24.568572  SYSTEM  Federal            6000  ",
      "text/html": "<div>\n<style scoped>\n    .dataframe tbody tr th:only-of-type {\n        vertical-align: middle;\n    }\n\n    .dataframe tbody tr th {\n        vertical-align: top;\n    }\n\n    .dataframe thead th {\n        text-align: right;\n    }\n</style>\n<table border=\"1\" class=\"dataframe\">\n  <thead>\n    <tr style=\"text-align: right;\">\n      <th></th>\n      <th>process_id</th>\n      <th>task</th>\n      <th>start_time</th>\n      <th>user</th>\n      <th>industry</th>\n      <th>service_charge</th>\n    </tr>\n  </thead>\n  <tbody>\n    <tr>\n      <th>10</th>\n      <td>3</td>\n      <td>New Client Onboarding Request</td>\n      <td>2017-11-30 18:00:00.000000</td>\n      <td>Seb</td>\n      <td>Federal</td>\n      <td>6000</td>\n    </tr>\n    <tr>\n      <th>11</th>\n      <td>3</td>\n      <td>Review Documents</td>\n      <td>2017-11-30 19:35:44.896309</td>\n      <td>Rod</td>\n      <td>Federal</td>\n      <td>6000</td>\n    </tr>\n    <tr>\n      <th>12</th>\n      <td>3</td>\n      <td>Automated Scoreboarding</td>\n      <td>2017-11-30 20:05:10.328138</td>\n      <td>SYSTEM</td>\n      <td>Federal</td>\n      <td>6000</td>\n    </tr>\n    <tr>\n      <th>13</th>\n      <td>3</td>\n      <td>Update Backend Systems</td>\n      <td>2017-11-30 20:10:29.103089</td>\n      <td>RPA</td>\n      <td>Federal</td>\n      <td>6000</td>\n    </tr>\n    <tr>\n      <th>14</th>\n      <td>3</td>\n      <td>Notification Review Request Completed</td>\n      <td>2017-11-30 20:18:24.568572</td>\n      <td>SYSTEM</td>\n      <td>Federal</td>\n      <td>6000</td>\n    </tr>\n  </tbody>\n</table>\n</div>"
     },
     "execution_count": 100,
     "metadata": {},
     "output_type": "execute_result"
    }
   ],
   "source": [
    "filter = (updated_df['process_id'] == 3)\n",
    "updated_df[filter]"
   ]
  },
  {
   "cell_type": "code",
   "execution_count": null,
   "id": "1f229831-ed0b-45ae-ba99-ac2f70c4ad45",
   "metadata": {
    "pycharm": {
     "name": "#%%\n"
    }
   },
   "outputs": [],
   "source": []
  },
  {
   "cell_type": "code",
   "execution_count": null,
   "id": "03b5f217-ac66-41a3-8d35-bc4114d0b4c9",
   "metadata": {
    "pycharm": {
     "name": "#%%\n"
    }
   },
   "outputs": [],
   "source": []
  },
  {
   "cell_type": "code",
   "execution_count": null,
   "id": "68b4f2ec-29e5-467c-b84d-a4e02dd054d4",
   "metadata": {
    "pycharm": {
     "name": "#%%\n"
    }
   },
   "outputs": [],
   "source": []
  },
  {
   "cell_type": "code",
   "execution_count": null,
   "id": "f2e83fa8-89fe-4704-be4c-4683911ee21b",
   "metadata": {
    "pycharm": {
     "name": "#%%\n"
    }
   },
   "outputs": [],
   "source": []
  },
  {
   "cell_type": "code",
   "execution_count": null,
   "id": "fd8d4162-6db1-4170-b9af-b6cd4190da65",
   "metadata": {
    "pycharm": {
     "name": "#%%\n"
    }
   },
   "outputs": [],
   "source": []
  },
  {
   "cell_type": "code",
   "execution_count": null,
   "id": "3d1c6bfb-06e2-44d7-a608-e0e5ab86027e",
   "metadata": {
    "pycharm": {
     "name": "#%%\n"
    }
   },
   "outputs": [],
   "source": []
  },
  {
   "cell_type": "code",
   "execution_count": null,
   "id": "bb32fe46-1b51-4237-8d31-c64aabe73322",
   "metadata": {
    "pycharm": {
     "name": "#%%\n"
    }
   },
   "outputs": [],
   "source": []
  },
  {
   "cell_type": "code",
   "execution_count": null,
   "id": "7bd3778c-b1a3-4678-b0b3-b1904aa3b150",
   "metadata": {
    "pycharm": {
     "name": "#%%\n"
    }
   },
   "outputs": [],
   "source": []
  },
  {
   "cell_type": "markdown",
   "id": "8063a203-e5a2-4a38-bef9-10fb63d7df21",
   "metadata": {
    "tags": [],
    "pycharm": {
     "name": "#%% md\n"
    }
   },
   "source": [
    "## Export Finished Dataset"
   ]
  },
  {
   "cell_type": "code",
   "execution_count": 102,
   "id": "b1bac79d-3e47-4ce3-b45d-e876ea0880bf",
   "metadata": {
    "tags": [],
    "pycharm": {
     "name": "#%%\n"
    }
   },
   "outputs": [],
   "source": [
    "updated_df.to_csv('pm_tasks.csv', index=False, date_format='%d-%m-%Y %H:%M:%S')"
   ]
  },
  {
   "cell_type": "code",
   "execution_count": null,
   "id": "d7248223-a3cf-4268-99c8-fd2aec78ce74",
   "metadata": {
    "pycharm": {
     "name": "#%%\n"
    }
   },
   "outputs": [],
   "source": []
  }
 ],
 "metadata": {
  "kernelspec": {
   "display_name": "Python 3 (ipykernel)",
   "language": "python",
   "name": "python3"
  },
  "language_info": {
   "codemirror_mode": {
    "name": "ipython",
    "version": 3
   },
   "file_extension": ".py",
   "mimetype": "text/x-python",
   "name": "python",
   "nbconvert_exporter": "python",
   "pygments_lexer": "ipython3",
   "version": "3.10.5"
  }
 },
 "nbformat": 4,
 "nbformat_minor": 5
}