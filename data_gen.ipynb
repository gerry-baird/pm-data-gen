{
 "cells": [
  {
   "cell_type": "code",
   "execution_count": 1,
   "id": "342dfd3b-48e3-4008-8458-da4020f95bcd",
   "metadata": {
    "pycharm": {
     "name": "#%%\n"
    }
   },
   "outputs": [],
   "source": [
    "import pandas as pd\n",
    "import numpy as np\n",
    "import random\n",
    "from datetime import timedelta\n",
    "from datetime import datetime\n",
    "\n"
   ]
  },
  {
   "cell_type": "markdown",
   "id": "3485f5d5-3281-495f-8112-29c4c5d8989e",
   "metadata": {
    "pycharm": {
     "name": "#%% md\n"
    }
   },
   "source": [
    "## Load Task Duration Config\n",
    "For each task type that could be generated we need an average duration and a maximum duration."
   ]
  },
  {
   "cell_type": "code",
   "execution_count": 2,
   "id": "6fdd533e-7b55-4574-9d8e-55cd54441d2c",
   "metadata": {
    "pycharm": {
     "name": "#%%\n"
    },
    "tags": []
   },
   "outputs": [],
   "source": [
    "#Load task duration dataframe\n",
    "#task_duration_df = pd.read_csv('task_duration_config.csv')\n",
    "#task_duration_df.set_index('Task', inplace=True)\n",
    "\n",
    "data = [['New Client Onboarding Request', 0.5,1.5], \n",
    "        ['Review Documents', 0.25,  2.5], \n",
    "        ['Automated Scoreboarding', 0.1, 0.15],\n",
    "        ['Manual Scoreboarding', 1.0, 3.0],\n",
    "        ['Update Backend Systems', 0.25, 0.5],\n",
    "        ['Notification Review Request Completed', 0.1, 0.15]\n",
    "       ]\n",
    "\n",
    "task_duration_df = pd.DataFrame(data, columns=['Task', 'Avg', 'Max'])\n",
    "task_duration_df.set_index('Task', inplace=True)"
   ]
  },
  {
   "cell_type": "code",
   "execution_count": 4,
   "id": "d21a097b-e4f6-4108-9270-1d27249c99db",
   "metadata": {
    "pycharm": {
     "name": "#%%\n"
    },
    "scrolled": true,
    "tags": []
   },
   "outputs": [
    {
     "data": {
      "text/plain": "                                        Avg   Max\nTask                                             \nNew Client Onboarding Request          0.50  1.50\nReview Documents                       0.25  2.50\nAutomated Scoreboarding                0.10  0.15\nManual Scoreboarding                   1.00  3.00\nUpdate Backend Systems                 0.25  0.50\nNotification Review Request Completed  0.10  0.15",
      "text/html": "<div>\n<style scoped>\n    .dataframe tbody tr th:only-of-type {\n        vertical-align: middle;\n    }\n\n    .dataframe tbody tr th {\n        vertical-align: top;\n    }\n\n    .dataframe thead th {\n        text-align: right;\n    }\n</style>\n<table border=\"1\" class=\"dataframe\">\n  <thead>\n    <tr style=\"text-align: right;\">\n      <th></th>\n      <th>Avg</th>\n      <th>Max</th>\n    </tr>\n    <tr>\n      <th>Task</th>\n      <th></th>\n      <th></th>\n    </tr>\n  </thead>\n  <tbody>\n    <tr>\n      <th>New Client Onboarding Request</th>\n      <td>0.50</td>\n      <td>1.50</td>\n    </tr>\n    <tr>\n      <th>Review Documents</th>\n      <td>0.25</td>\n      <td>2.50</td>\n    </tr>\n    <tr>\n      <th>Automated Scoreboarding</th>\n      <td>0.10</td>\n      <td>0.15</td>\n    </tr>\n    <tr>\n      <th>Manual Scoreboarding</th>\n      <td>1.00</td>\n      <td>3.00</td>\n    </tr>\n    <tr>\n      <th>Update Backend Systems</th>\n      <td>0.25</td>\n      <td>0.50</td>\n    </tr>\n    <tr>\n      <th>Notification Review Request Completed</th>\n      <td>0.10</td>\n      <td>0.15</td>\n    </tr>\n  </tbody>\n</table>\n</div>"
     },
     "execution_count": 4,
     "metadata": {},
     "output_type": "execute_result"
    }
   ],
   "source": [
    "task_duration_df.head(10)"
   ]
  },
  {
   "cell_type": "markdown",
   "id": "355b283c",
   "metadata": {},
   "source": [
    "## Utility Functions"
   ]
  },
  {
   "cell_type": "markdown",
   "id": "f953f41d",
   "metadata": {},
   "source": [
    "### Generate Process Instances\n",
    "This function manages the creation of process instances for a specific process variant. A process variant is simply the list of tasks in execution order, including any loops. For example ['Wake Up', 'Breakfast', 'Work', 'Dinner' 'Sleep']"
   ]
  },
  {
   "cell_type": "code",
   "execution_count": 5,
   "outputs": [],
   "source": [
    "def generate_process_instances(process_variant, qty):\n",
    "\n",
    "    global start_date_time\n",
    "    global instance_counter\n",
    "    task_list = []\n",
    "    for x in range(0, qty):\n",
    "        tasks = build_task_list(instance_counter, process_variant, start_date_time, task_duration_df)\n",
    "        for task in tasks:\n",
    "            task_list.append(task)\n",
    "\n",
    "        # Increment the start time by 24 hour\n",
    "        start_date_time = start_date_time + timedelta(hours=24)\n",
    "        # Increment the process_id\n",
    "        instance_counter = instance_counter +1\n",
    "        \n",
    "    return task_list"
   ],
   "metadata": {
    "collapsed": false,
    "pycharm": {
     "name": "#%%\n"
    }
   }
  },
  {
   "cell_type": "markdown",
   "id": "45b76785-3ae6-4d95-aabf-f730fb83fa35",
   "metadata": {
    "pycharm": {
     "name": "#%% md\n"
    }
   },
   "source": [
    "## Build Task List\n",
    "The build_task_list function creates a list of tasks for a specific instance of a process. The sequence of tasks is defined in the variable called process_variant. Random task durations are calculated using the task_durations_df that contains the task name, the average duration and the max duration.  \n",
    "\n",
    "This code generates a random duration by leveraging the numpy lognormal function that gives a random\n",
    "number drawn from a log normal distribution. Look up a picture of log normal distributions and you'll see \n",
    "why this is useful for generating random durations based on a mean and std deviation.\n",
    "most samples are near the average with a long tail stretching towards infinity.\n"
   ]
  },
  {
   "cell_type": "code",
   "execution_count": 50,
   "id": "0e4b8baa-ca9a-4425-ac52-91ba6f9effe9",
   "metadata": {
    "pycharm": {
     "name": "#%%\n"
    }
   },
   "outputs": [],
   "source": [
    "def build_task_list(instance_id, process_variant, start_date_time, task_duration_df):\n",
    "    instance_task_list = []\n",
    "    rnd = np.random.default_rng()  # a random number generator\n",
    "\n",
    "    # process_variant is a series\n",
    "    for task_type in process_variant:\n",
    "        # get the avg and max durations from the task_df dataframe using task_type as the key\n",
    "        avg_dur = task_duration_df.loc[task_type, 'Avg']\n",
    "        max_dur = task_duration_df.loc[task_type, 'Max']\n",
    "\n",
    "        sigma = (max_dur - avg_dur) / max_dur  # std dev\n",
    "        log_mean = np.log(avg_dur)  # can't pass the mean duration into lognormal until it has been logged itself \n",
    "        delta = rnd.lognormal(log_mean, sigma)  # get a random sample from a log normal distribution with a std dev\n",
    "        end_time = start_date_time + timedelta(hours=delta)\n",
    "        task = [instance_id, task_type, start_date_time, end_time]\n",
    "        instance_task_list.append(task)\n",
    "\n",
    "        # set the start time of the next tasks to be 5 mins after the end time of this task\n",
    "        start_date_time = end_time + timedelta(minutes=5)\n",
    "\n",
    "    return instance_task_list"
   ]
  },
  {
   "cell_type": "markdown",
   "source": [
    "## Delay Task Start Time\n",
    "This function shifts the task start time for a specific task with a specific attribute set to a specific value. For example, to delay the start time of breakfast by 1hour \"task_list, User, Gerry, Eat Breakfast, 1\"\n",
    "\n",
    "This function will apply the same delay to every subsequent task of the process instance. "
   ],
   "metadata": {
    "collapsed": false,
    "pycharm": {
     "name": "#%% md\n"
    }
   }
  },
  {
   "cell_type": "code",
   "execution_count": 145,
   "id": "4ddcee7b-e027-4b81-bfea-a0d79ff239aa",
   "metadata": {
    "pycharm": {
     "name": "#%%\n"
    }
   },
   "outputs": [],
   "source": [
    "def delayStartTime(tasks, target_attribute, target_value, target_task, timeShift):\n",
    "\n",
    "    # Logic requires we sort by process_id and start_date\n",
    "    tasks = tasks.sort_values(['process_id', 'start_time'])\n",
    "    tasks = tasks.reset_index(drop=True)\n",
    "    process_being_modified = -1\n",
    "\n",
    "    # iterate through the dataframe using the index value\n",
    "    for x in tasks.index:\n",
    "        row = tasks.loc[x]\n",
    "        task_attribute = row[target_attribute]\n",
    "        row_task = row['task']\n",
    "        current_process = row['process_id']\n",
    "\n",
    "\n",
    "        # Have we found the target activity\n",
    "        if row_task == target_task and task_attribute == target_value:\n",
    "            process_being_modified = current_process\n",
    "\n",
    "        # Are we still processing the same process that we were when we found the target activity ?\n",
    "        # If so we are moving all subsequent tasks back by the value of the timeshift parameter,\n",
    "        # this means shifting the start time and the end time\n",
    "        if current_process == process_being_modified:\n",
    "            # shift the start time\n",
    "            current_start = row['start_time']\n",
    "            shifted_start = current_start + timedelta(hours=timeShift)\n",
    "            tasks.loc[x, 'start_time'] = shifted_start\n",
    "            \n",
    "            # shift the end time\n",
    "            current_end = row['end_time']\n",
    "            shifted_end = current_end + timedelta(hours=timeShift)\n",
    "            tasks.loc[x, 'end_time'] = shifted_end\n",
    "            \n",
    "    return tasks"
   ]
  },
  {
   "cell_type": "code",
   "execution_count": 128,
   "outputs": [],
   "source": [
    "def increaseDuration(tasks, target_attribute, target_value, target_task, timeShift):\n",
    "\n",
    "    # Logic requires we sort by process_id and start_date\n",
    "    tasks = tasks.sort_values(['process_id', 'start_time'])\n",
    "    tasks = tasks.reset_index(drop=True)\n",
    "    process_being_modified = -1\n",
    "\n",
    "    # iterate through the dataframe using the index value\n",
    "    for x in tasks.index:\n",
    "        row = tasks.loc[x]\n",
    "        task_attribute = row[target_attribute]\n",
    "        row_task = row['task']\n",
    "        current_process = row['process_id']\n",
    "        processing_target_task = False\n",
    "\n",
    "        # Have we found the target activity\n",
    "        if row_task == target_task and task_attribute == target_value:\n",
    "            process_being_modified = current_process\n",
    "            processing_target_task = True\n",
    "\n",
    "        # Are we still processing the same process that we were when we found the target activity ?\n",
    "        # If so we are moving all subsequent tasks back by the value of the timeshift parameter,\n",
    "        # this means shifting the start time and the end time\n",
    "        if current_process == process_being_modified:\n",
    "            \n",
    "            if processing_target_task :\n",
    "                # just increase the duration by increasing the end_time \n",
    "                current_end = row['end_time']\n",
    "                shifted_end = current_end + timedelta(hours=timeShift)\n",
    "                tasks.loc[x, 'end_time'] = shifted_end\n",
    "            else:\n",
    "                \n",
    "                # increase start_time and end-time\n",
    "                current_start = row['start_time']\n",
    "                shifted_start = current_start + timedelta(hours=timeShift)\n",
    "                tasks.loc[x, 'start_time'] = shifted_start\n",
    "            \n",
    "                # shift the end time\n",
    "                current_end = row['end_time']\n",
    "                shifted_end = current_end + timedelta(hours=timeShift)\n",
    "                tasks.loc[x, 'end_time'] = shifted_end\n",
    "            \n",
    "    return tasks"
   ],
   "metadata": {
    "collapsed": false,
    "pycharm": {
     "name": "#%%\n"
    }
   }
  },
  {
   "cell_type": "markdown",
   "id": "49b549a6-f355-454c-9dc0-8a3214c55d90",
   "metadata": {
    "pycharm": {
     "name": "#%% md\n"
    },
    "tags": []
   },
   "source": [
    "## Initialise Data Generator"
   ]
  },
  {
   "cell_type": "code",
   "execution_count": 146,
   "id": "34e8e825-081b-419c-b660-ed046b67f8ab",
   "metadata": {
    "pycharm": {
     "name": "#%%\n"
    }
   },
   "outputs": [],
   "source": [
    "start_date_time = datetime(2017, 11, 28, 18, 00, 00)\n",
    "instance_time_offset = 24\n",
    "instance_counter = 1\n"
   ]
  },
  {
   "cell_type": "markdown",
   "id": "be468e38-603d-4447-b639-ac562d615799",
   "metadata": {
    "pycharm": {
     "name": "#%% md\n"
    }
   },
   "source": [
    "## Create Happy Path Instances"
   ]
  },
  {
   "cell_type": "code",
   "execution_count": 147,
   "outputs": [],
   "source": [
    "\n",
    "qty = 900\n",
    "happy_path = [\"New Client Onboarding Request\", \n",
    "               \"Review Documents\", \n",
    "               \"Automated Scoreboarding\",\n",
    "               \"Update Backend Systems\", \n",
    "               \"Notification Review Request Completed\"]\n",
    "\n",
    "happy_path_task_list = []\n",
    "happy_path_task_list = generate_process_instances(happy_path, qty)\n",
    "happy_path_task_list_df = pd.DataFrame(happy_path_task_list)\n",
    "\n",
    "# Increment the start time by 24 hour\n",
    "start_date_time = start_date_time + timedelta(hours=24)"
   ],
   "metadata": {
    "collapsed": false,
    "pycharm": {
     "name": "#%%\n"
    }
   }
  },
  {
   "cell_type": "code",
   "execution_count": 148,
   "outputs": [
    {
     "data": {
      "text/plain": "   0                                      1                          2  \\\n0  1          New Client Onboarding Request 2017-11-28 18:00:00.000000   \n1  1                       Review Documents 2017-11-28 19:15:42.056829   \n2  1                Automated Scoreboarding 2017-11-28 19:39:23.279261   \n3  1                 Update Backend Systems 2017-11-28 19:51:24.140452   \n4  1  Notification Review Request Completed 2017-11-28 20:19:10.679723   \n\n                           3  \n0 2017-11-28 19:10:42.056829  \n1 2017-11-28 19:34:23.279261  \n2 2017-11-28 19:46:24.140452  \n3 2017-11-28 20:14:10.679723  \n4 2017-11-28 20:23:52.289747  ",
      "text/html": "<div>\n<style scoped>\n    .dataframe tbody tr th:only-of-type {\n        vertical-align: middle;\n    }\n\n    .dataframe tbody tr th {\n        vertical-align: top;\n    }\n\n    .dataframe thead th {\n        text-align: right;\n    }\n</style>\n<table border=\"1\" class=\"dataframe\">\n  <thead>\n    <tr style=\"text-align: right;\">\n      <th></th>\n      <th>0</th>\n      <th>1</th>\n      <th>2</th>\n      <th>3</th>\n    </tr>\n  </thead>\n  <tbody>\n    <tr>\n      <th>0</th>\n      <td>1</td>\n      <td>New Client Onboarding Request</td>\n      <td>2017-11-28 18:00:00.000000</td>\n      <td>2017-11-28 19:10:42.056829</td>\n    </tr>\n    <tr>\n      <th>1</th>\n      <td>1</td>\n      <td>Review Documents</td>\n      <td>2017-11-28 19:15:42.056829</td>\n      <td>2017-11-28 19:34:23.279261</td>\n    </tr>\n    <tr>\n      <th>2</th>\n      <td>1</td>\n      <td>Automated Scoreboarding</td>\n      <td>2017-11-28 19:39:23.279261</td>\n      <td>2017-11-28 19:46:24.140452</td>\n    </tr>\n    <tr>\n      <th>3</th>\n      <td>1</td>\n      <td>Update Backend Systems</td>\n      <td>2017-11-28 19:51:24.140452</td>\n      <td>2017-11-28 20:14:10.679723</td>\n    </tr>\n    <tr>\n      <th>4</th>\n      <td>1</td>\n      <td>Notification Review Request Completed</td>\n      <td>2017-11-28 20:19:10.679723</td>\n      <td>2017-11-28 20:23:52.289747</td>\n    </tr>\n  </tbody>\n</table>\n</div>"
     },
     "execution_count": 148,
     "metadata": {},
     "output_type": "execute_result"
    }
   ],
   "source": [
    "happy_path_task_list_df.head()"
   ],
   "metadata": {
    "collapsed": false,
    "pycharm": {
     "name": "#%%\n"
    }
   }
  },
  {
   "cell_type": "markdown",
   "source": [
    "## Create Instances Requiring Manual Scoreboarding"
   ],
   "metadata": {
    "collapsed": false,
    "pycharm": {
     "name": "#%% md\n"
    }
   }
  },
  {
   "cell_type": "code",
   "execution_count": 149,
   "outputs": [],
   "source": [
    "\n",
    "qty = 80\n",
    "manual_path = [\"New Client Onboarding Request\", \n",
    "               \"Review Documents\", \n",
    "               \"Automated Scoreboarding\",\n",
    "               \"Manual Scoreboarding\",\n",
    "               \"Update Backend Systems\", \n",
    "               \"Notification Review Request Completed\"]\n",
    "\n",
    "manual_path_task_list = []\n",
    "manual_path_task_list = generate_process_instances(manual_path, qty)\n",
    "manual_path_task_list_df = pd.DataFrame(manual_path_task_list)\n",
    "\n",
    "# Increment the start time by 24 hour\n",
    "start_date_time = start_date_time + timedelta(hours=24)"
   ],
   "metadata": {
    "collapsed": false,
    "pycharm": {
     "name": "#%%\n"
    }
   }
  },
  {
   "cell_type": "code",
   "execution_count": 150,
   "outputs": [
    {
     "data": {
      "text/plain": "     0                              1                          2  \\\n0  901  New Client Onboarding Request 2020-05-17 18:00:00.000000   \n1  901               Review Documents 2020-05-17 18:25:36.054000   \n2  901        Automated Scoreboarding 2020-05-17 18:34:13.100988   \n3  901           Manual Scoreboarding 2020-05-17 18:44:26.956161   \n4  901         Update Backend Systems 2020-05-17 19:12:50.067849   \n\n                           3  \n0 2020-05-17 18:20:36.054000  \n1 2020-05-17 18:29:13.100988  \n2 2020-05-17 18:39:26.956161  \n3 2020-05-17 19:07:50.067849  \n4 2020-05-17 19:23:41.470973  ",
      "text/html": "<div>\n<style scoped>\n    .dataframe tbody tr th:only-of-type {\n        vertical-align: middle;\n    }\n\n    .dataframe tbody tr th {\n        vertical-align: top;\n    }\n\n    .dataframe thead th {\n        text-align: right;\n    }\n</style>\n<table border=\"1\" class=\"dataframe\">\n  <thead>\n    <tr style=\"text-align: right;\">\n      <th></th>\n      <th>0</th>\n      <th>1</th>\n      <th>2</th>\n      <th>3</th>\n    </tr>\n  </thead>\n  <tbody>\n    <tr>\n      <th>0</th>\n      <td>901</td>\n      <td>New Client Onboarding Request</td>\n      <td>2020-05-17 18:00:00.000000</td>\n      <td>2020-05-17 18:20:36.054000</td>\n    </tr>\n    <tr>\n      <th>1</th>\n      <td>901</td>\n      <td>Review Documents</td>\n      <td>2020-05-17 18:25:36.054000</td>\n      <td>2020-05-17 18:29:13.100988</td>\n    </tr>\n    <tr>\n      <th>2</th>\n      <td>901</td>\n      <td>Automated Scoreboarding</td>\n      <td>2020-05-17 18:34:13.100988</td>\n      <td>2020-05-17 18:39:26.956161</td>\n    </tr>\n    <tr>\n      <th>3</th>\n      <td>901</td>\n      <td>Manual Scoreboarding</td>\n      <td>2020-05-17 18:44:26.956161</td>\n      <td>2020-05-17 19:07:50.067849</td>\n    </tr>\n    <tr>\n      <th>4</th>\n      <td>901</td>\n      <td>Update Backend Systems</td>\n      <td>2020-05-17 19:12:50.067849</td>\n      <td>2020-05-17 19:23:41.470973</td>\n    </tr>\n  </tbody>\n</table>\n</div>"
     },
     "execution_count": 150,
     "metadata": {},
     "output_type": "execute_result"
    }
   ],
   "source": [
    "manual_path_task_list_df.head()"
   ],
   "metadata": {
    "collapsed": false,
    "pycharm": {
     "name": "#%%\n"
    }
   }
  },
  {
   "cell_type": "markdown",
   "source": [
    "## Create Instance that loop\n",
    "Create processes that loop back to Review Docs from Manual Scoreboarding."
   ],
   "metadata": {
    "collapsed": false,
    "pycharm": {
     "name": "#%% md\n"
    }
   }
  },
  {
   "cell_type": "code",
   "execution_count": 151,
   "outputs": [],
   "source": [
    "qty = 20\n",
    "loop_path = [\"New Client Onboarding Request\", \n",
    "               \"Review Documents\", \n",
    "               \"Automated Scoreboarding\",\n",
    "               \"Manual Scoreboarding\",\n",
    "               \"Review Documents\",\n",
    "               \"Update Backend Systems\", \n",
    "               \"Notification Review Request Completed\"]\n",
    "\n",
    "loop_path_task_list = []\n",
    "loop_path_task_list = generate_process_instances(loop_path, qty)\n",
    "loop_path_task_list_df = pd.DataFrame(loop_path_task_list)\n",
    "\n",
    "# Increment the start time by 24 hour\n",
    "start_date_time = start_date_time + timedelta(hours=24)"
   ],
   "metadata": {
    "collapsed": false,
    "pycharm": {
     "name": "#%%\n"
    }
   }
  },
  {
   "cell_type": "code",
   "execution_count": 152,
   "outputs": [],
   "source": [
    "# Can only concat two dataframes at a time\n",
    "df = pd.concat([happy_path_task_list_df,manual_path_task_list_df], axis=0)\n",
    "df = pd.concat([df,loop_path_task_list_df], axis=0)"
   ],
   "metadata": {
    "collapsed": false,
    "pycharm": {
     "name": "#%%\n"
    }
   }
  },
  {
   "cell_type": "code",
   "execution_count": 153,
   "outputs": [],
   "source": [
    "df.columns = ['process_id', 'task', 'start_time', 'end_time']"
   ],
   "metadata": {
    "collapsed": false,
    "pycharm": {
     "name": "#%%\n"
    }
   }
  },
  {
   "cell_type": "code",
   "execution_count": 154,
   "outputs": [
    {
     "name": "stdout",
     "output_type": "stream",
     "text": [
      "<class 'pandas.core.frame.DataFrame'>\n",
      "Int64Index: 5120 entries, 0 to 139\n",
      "Data columns (total 4 columns):\n",
      " #   Column      Non-Null Count  Dtype         \n",
      "---  ------      --------------  -----         \n",
      " 0   process_id  5120 non-null   int64         \n",
      " 1   task        5120 non-null   object        \n",
      " 2   start_time  5120 non-null   datetime64[ns]\n",
      " 3   end_time    5120 non-null   datetime64[ns]\n",
      "dtypes: datetime64[ns](2), int64(1), object(1)\n",
      "memory usage: 200.0+ KB\n"
     ]
    }
   ],
   "source": [
    "df.info()"
   ],
   "metadata": {
    "collapsed": false,
    "pycharm": {
     "name": "#%%\n"
    }
   }
  },
  {
   "cell_type": "code",
   "execution_count": 155,
   "outputs": [
    {
     "data": {
      "text/plain": "1000"
     },
     "execution_count": 155,
     "metadata": {},
     "output_type": "execute_result"
    }
   ],
   "source": [
    "# Confirm how many processes\n",
    "len(df[\"process_id\"].unique())"
   ],
   "metadata": {
    "collapsed": false,
    "pycharm": {
     "name": "#%%\n"
    }
   }
  },
  {
   "cell_type": "code",
   "execution_count": 156,
   "outputs": [
    {
     "data": {
      "text/plain": "   process_id                                   task  \\\n0           1          New Client Onboarding Request   \n1           1                       Review Documents   \n2           1                Automated Scoreboarding   \n3           1                 Update Backend Systems   \n4           1  Notification Review Request Completed   \n5           2          New Client Onboarding Request   \n6           2                       Review Documents   \n7           2                Automated Scoreboarding   \n8           2                 Update Backend Systems   \n9           2  Notification Review Request Completed   \n\n                  start_time                   end_time  \n0 2017-11-28 18:00:00.000000 2017-11-28 19:10:42.056829  \n1 2017-11-28 19:15:42.056829 2017-11-28 19:34:23.279261  \n2 2017-11-28 19:39:23.279261 2017-11-28 19:46:24.140452  \n3 2017-11-28 19:51:24.140452 2017-11-28 20:14:10.679723  \n4 2017-11-28 20:19:10.679723 2017-11-28 20:23:52.289747  \n5 2017-11-29 18:00:00.000000 2017-11-29 18:30:49.766804  \n6 2017-11-29 18:35:49.766804 2017-11-29 18:47:05.447282  \n7 2017-11-29 18:52:05.447282 2017-11-29 19:00:33.064888  \n8 2017-11-29 19:05:33.064888 2017-11-29 19:10:52.786846  \n9 2017-11-29 19:15:52.786846 2017-11-29 19:23:23.910859  ",
      "text/html": "<div>\n<style scoped>\n    .dataframe tbody tr th:only-of-type {\n        vertical-align: middle;\n    }\n\n    .dataframe tbody tr th {\n        vertical-align: top;\n    }\n\n    .dataframe thead th {\n        text-align: right;\n    }\n</style>\n<table border=\"1\" class=\"dataframe\">\n  <thead>\n    <tr style=\"text-align: right;\">\n      <th></th>\n      <th>process_id</th>\n      <th>task</th>\n      <th>start_time</th>\n      <th>end_time</th>\n    </tr>\n  </thead>\n  <tbody>\n    <tr>\n      <th>0</th>\n      <td>1</td>\n      <td>New Client Onboarding Request</td>\n      <td>2017-11-28 18:00:00.000000</td>\n      <td>2017-11-28 19:10:42.056829</td>\n    </tr>\n    <tr>\n      <th>1</th>\n      <td>1</td>\n      <td>Review Documents</td>\n      <td>2017-11-28 19:15:42.056829</td>\n      <td>2017-11-28 19:34:23.279261</td>\n    </tr>\n    <tr>\n      <th>2</th>\n      <td>1</td>\n      <td>Automated Scoreboarding</td>\n      <td>2017-11-28 19:39:23.279261</td>\n      <td>2017-11-28 19:46:24.140452</td>\n    </tr>\n    <tr>\n      <th>3</th>\n      <td>1</td>\n      <td>Update Backend Systems</td>\n      <td>2017-11-28 19:51:24.140452</td>\n      <td>2017-11-28 20:14:10.679723</td>\n    </tr>\n    <tr>\n      <th>4</th>\n      <td>1</td>\n      <td>Notification Review Request Completed</td>\n      <td>2017-11-28 20:19:10.679723</td>\n      <td>2017-11-28 20:23:52.289747</td>\n    </tr>\n    <tr>\n      <th>5</th>\n      <td>2</td>\n      <td>New Client Onboarding Request</td>\n      <td>2017-11-29 18:00:00.000000</td>\n      <td>2017-11-29 18:30:49.766804</td>\n    </tr>\n    <tr>\n      <th>6</th>\n      <td>2</td>\n      <td>Review Documents</td>\n      <td>2017-11-29 18:35:49.766804</td>\n      <td>2017-11-29 18:47:05.447282</td>\n    </tr>\n    <tr>\n      <th>7</th>\n      <td>2</td>\n      <td>Automated Scoreboarding</td>\n      <td>2017-11-29 18:52:05.447282</td>\n      <td>2017-11-29 19:00:33.064888</td>\n    </tr>\n    <tr>\n      <th>8</th>\n      <td>2</td>\n      <td>Update Backend Systems</td>\n      <td>2017-11-29 19:05:33.064888</td>\n      <td>2017-11-29 19:10:52.786846</td>\n    </tr>\n    <tr>\n      <th>9</th>\n      <td>2</td>\n      <td>Notification Review Request Completed</td>\n      <td>2017-11-29 19:15:52.786846</td>\n      <td>2017-11-29 19:23:23.910859</td>\n    </tr>\n  </tbody>\n</table>\n</div>"
     },
     "execution_count": 156,
     "metadata": {},
     "output_type": "execute_result"
    }
   ],
   "source": [
    "df.head(10)"
   ],
   "metadata": {
    "collapsed": false,
    "pycharm": {
     "name": "#%%\n"
    }
   }
  },
  {
   "cell_type": "markdown",
   "source": [
    "## Add Task Level Business Data : User"
   ],
   "metadata": {
    "collapsed": false,
    "pycharm": {
     "name": "#%% md\n"
    }
   }
  },
  {
   "cell_type": "code",
   "execution_count": 157,
   "outputs": [],
   "source": [
    "\n",
    "# Add a column for User\n",
    "df[\"user\"] = \"\""
   ],
   "metadata": {
    "collapsed": false,
    "pycharm": {
     "name": "#%%\n"
    }
   }
  },
  {
   "cell_type": "code",
   "execution_count": 158,
   "outputs": [],
   "source": [
    "def setRandomUser(row):\n",
    "    match row[\"task\"]:\n",
    "        case \"Review Documents\":\n",
    "            return random.choice(['Rod','Jane','Freddy'])\n",
    "        case \"New Client Onboarding Request\":\n",
    "            return random.choice(['Clive','Francis','Nick','Seb','Tom'])\n",
    "        case \"Manual Scoreboarding\":\n",
    "            return random.choice(['Sharon','Susan', 'Sam'])\n",
    "        case \"Update Backend Systems\":\n",
    "            return \"RPA\"\n",
    "        case \"Automated Scoreboarding\":\n",
    "            return \"SYSTEM\"\n",
    "        case \"Notification Review Request Completed\":\n",
    "            return \"SYSTEM\"\n",
    "        case _:\n",
    "            return row[\"user\"]"
   ],
   "metadata": {
    "collapsed": false,
    "pycharm": {
     "name": "#%%\n"
    }
   }
  },
  {
   "cell_type": "code",
   "execution_count": 159,
   "outputs": [],
   "source": [
    "df[\"user\"] = df.apply(setRandomUser, axis=1)"
   ],
   "metadata": {
    "collapsed": false,
    "pycharm": {
     "name": "#%%\n"
    }
   }
  },
  {
   "cell_type": "code",
   "execution_count": 160,
   "outputs": [
    {
     "data": {
      "text/plain": "    process_id                                   task  \\\n0            1          New Client Onboarding Request   \n1            1                       Review Documents   \n2            1                Automated Scoreboarding   \n3            1                 Update Backend Systems   \n4            1  Notification Review Request Completed   \n5            2          New Client Onboarding Request   \n6            2                       Review Documents   \n7            2                Automated Scoreboarding   \n8            2                 Update Backend Systems   \n9            2  Notification Review Request Completed   \n10           3          New Client Onboarding Request   \n11           3                       Review Documents   \n12           3                Automated Scoreboarding   \n13           3                 Update Backend Systems   \n14           3  Notification Review Request Completed   \n15           4          New Client Onboarding Request   \n16           4                       Review Documents   \n17           4                Automated Scoreboarding   \n18           4                 Update Backend Systems   \n19           4  Notification Review Request Completed   \n\n                   start_time                   end_time    user  \n0  2017-11-28 18:00:00.000000 2017-11-28 19:10:42.056829    Nick  \n1  2017-11-28 19:15:42.056829 2017-11-28 19:34:23.279261     Rod  \n2  2017-11-28 19:39:23.279261 2017-11-28 19:46:24.140452  SYSTEM  \n3  2017-11-28 19:51:24.140452 2017-11-28 20:14:10.679723     RPA  \n4  2017-11-28 20:19:10.679723 2017-11-28 20:23:52.289747  SYSTEM  \n5  2017-11-29 18:00:00.000000 2017-11-29 18:30:49.766804   Clive  \n6  2017-11-29 18:35:49.766804 2017-11-29 18:47:05.447282     Rod  \n7  2017-11-29 18:52:05.447282 2017-11-29 19:00:33.064888  SYSTEM  \n8  2017-11-29 19:05:33.064888 2017-11-29 19:10:52.786846     RPA  \n9  2017-11-29 19:15:52.786846 2017-11-29 19:23:23.910859  SYSTEM  \n10 2017-11-30 18:00:00.000000 2017-11-30 19:07:24.374417    Nick  \n11 2017-11-30 19:12:24.374417 2017-11-30 19:46:00.489390     Rod  \n12 2017-11-30 19:51:00.489390 2017-11-30 19:58:33.659701  SYSTEM  \n13 2017-11-30 20:03:33.659701 2017-11-30 20:14:19.195110     RPA  \n14 2017-11-30 20:19:19.195110 2017-11-30 20:29:12.893983  SYSTEM  \n15 2017-12-01 18:00:00.000000 2017-12-01 18:04:49.268265   Clive  \n16 2017-12-01 18:09:49.268265 2017-12-01 18:20:39.116627    Jane  \n17 2017-12-01 18:25:39.116627 2017-12-01 18:37:00.153281  SYSTEM  \n18 2017-12-01 18:42:00.153281 2017-12-01 18:57:39.912749     RPA  \n19 2017-12-01 19:02:39.912749 2017-12-01 19:08:03.095553  SYSTEM  ",
      "text/html": "<div>\n<style scoped>\n    .dataframe tbody tr th:only-of-type {\n        vertical-align: middle;\n    }\n\n    .dataframe tbody tr th {\n        vertical-align: top;\n    }\n\n    .dataframe thead th {\n        text-align: right;\n    }\n</style>\n<table border=\"1\" class=\"dataframe\">\n  <thead>\n    <tr style=\"text-align: right;\">\n      <th></th>\n      <th>process_id</th>\n      <th>task</th>\n      <th>start_time</th>\n      <th>end_time</th>\n      <th>user</th>\n    </tr>\n  </thead>\n  <tbody>\n    <tr>\n      <th>0</th>\n      <td>1</td>\n      <td>New Client Onboarding Request</td>\n      <td>2017-11-28 18:00:00.000000</td>\n      <td>2017-11-28 19:10:42.056829</td>\n      <td>Nick</td>\n    </tr>\n    <tr>\n      <th>1</th>\n      <td>1</td>\n      <td>Review Documents</td>\n      <td>2017-11-28 19:15:42.056829</td>\n      <td>2017-11-28 19:34:23.279261</td>\n      <td>Rod</td>\n    </tr>\n    <tr>\n      <th>2</th>\n      <td>1</td>\n      <td>Automated Scoreboarding</td>\n      <td>2017-11-28 19:39:23.279261</td>\n      <td>2017-11-28 19:46:24.140452</td>\n      <td>SYSTEM</td>\n    </tr>\n    <tr>\n      <th>3</th>\n      <td>1</td>\n      <td>Update Backend Systems</td>\n      <td>2017-11-28 19:51:24.140452</td>\n      <td>2017-11-28 20:14:10.679723</td>\n      <td>RPA</td>\n    </tr>\n    <tr>\n      <th>4</th>\n      <td>1</td>\n      <td>Notification Review Request Completed</td>\n      <td>2017-11-28 20:19:10.679723</td>\n      <td>2017-11-28 20:23:52.289747</td>\n      <td>SYSTEM</td>\n    </tr>\n    <tr>\n      <th>5</th>\n      <td>2</td>\n      <td>New Client Onboarding Request</td>\n      <td>2017-11-29 18:00:00.000000</td>\n      <td>2017-11-29 18:30:49.766804</td>\n      <td>Clive</td>\n    </tr>\n    <tr>\n      <th>6</th>\n      <td>2</td>\n      <td>Review Documents</td>\n      <td>2017-11-29 18:35:49.766804</td>\n      <td>2017-11-29 18:47:05.447282</td>\n      <td>Rod</td>\n    </tr>\n    <tr>\n      <th>7</th>\n      <td>2</td>\n      <td>Automated Scoreboarding</td>\n      <td>2017-11-29 18:52:05.447282</td>\n      <td>2017-11-29 19:00:33.064888</td>\n      <td>SYSTEM</td>\n    </tr>\n    <tr>\n      <th>8</th>\n      <td>2</td>\n      <td>Update Backend Systems</td>\n      <td>2017-11-29 19:05:33.064888</td>\n      <td>2017-11-29 19:10:52.786846</td>\n      <td>RPA</td>\n    </tr>\n    <tr>\n      <th>9</th>\n      <td>2</td>\n      <td>Notification Review Request Completed</td>\n      <td>2017-11-29 19:15:52.786846</td>\n      <td>2017-11-29 19:23:23.910859</td>\n      <td>SYSTEM</td>\n    </tr>\n    <tr>\n      <th>10</th>\n      <td>3</td>\n      <td>New Client Onboarding Request</td>\n      <td>2017-11-30 18:00:00.000000</td>\n      <td>2017-11-30 19:07:24.374417</td>\n      <td>Nick</td>\n    </tr>\n    <tr>\n      <th>11</th>\n      <td>3</td>\n      <td>Review Documents</td>\n      <td>2017-11-30 19:12:24.374417</td>\n      <td>2017-11-30 19:46:00.489390</td>\n      <td>Rod</td>\n    </tr>\n    <tr>\n      <th>12</th>\n      <td>3</td>\n      <td>Automated Scoreboarding</td>\n      <td>2017-11-30 19:51:00.489390</td>\n      <td>2017-11-30 19:58:33.659701</td>\n      <td>SYSTEM</td>\n    </tr>\n    <tr>\n      <th>13</th>\n      <td>3</td>\n      <td>Update Backend Systems</td>\n      <td>2017-11-30 20:03:33.659701</td>\n      <td>2017-11-30 20:14:19.195110</td>\n      <td>RPA</td>\n    </tr>\n    <tr>\n      <th>14</th>\n      <td>3</td>\n      <td>Notification Review Request Completed</td>\n      <td>2017-11-30 20:19:19.195110</td>\n      <td>2017-11-30 20:29:12.893983</td>\n      <td>SYSTEM</td>\n    </tr>\n    <tr>\n      <th>15</th>\n      <td>4</td>\n      <td>New Client Onboarding Request</td>\n      <td>2017-12-01 18:00:00.000000</td>\n      <td>2017-12-01 18:04:49.268265</td>\n      <td>Clive</td>\n    </tr>\n    <tr>\n      <th>16</th>\n      <td>4</td>\n      <td>Review Documents</td>\n      <td>2017-12-01 18:09:49.268265</td>\n      <td>2017-12-01 18:20:39.116627</td>\n      <td>Jane</td>\n    </tr>\n    <tr>\n      <th>17</th>\n      <td>4</td>\n      <td>Automated Scoreboarding</td>\n      <td>2017-12-01 18:25:39.116627</td>\n      <td>2017-12-01 18:37:00.153281</td>\n      <td>SYSTEM</td>\n    </tr>\n    <tr>\n      <th>18</th>\n      <td>4</td>\n      <td>Update Backend Systems</td>\n      <td>2017-12-01 18:42:00.153281</td>\n      <td>2017-12-01 18:57:39.912749</td>\n      <td>RPA</td>\n    </tr>\n    <tr>\n      <th>19</th>\n      <td>4</td>\n      <td>Notification Review Request Completed</td>\n      <td>2017-12-01 19:02:39.912749</td>\n      <td>2017-12-01 19:08:03.095553</td>\n      <td>SYSTEM</td>\n    </tr>\n  </tbody>\n</table>\n</div>"
     },
     "execution_count": 160,
     "metadata": {},
     "output_type": "execute_result"
    }
   ],
   "source": [
    "df.head(20)"
   ],
   "metadata": {
    "collapsed": false,
    "pycharm": {
     "name": "#%%\n"
    }
   }
  },
  {
   "cell_type": "markdown",
   "source": [],
   "metadata": {
    "collapsed": false,
    "pycharm": {
     "name": "#%% md\n"
    }
   }
  },
  {
   "cell_type": "markdown",
   "source": [
    "## Add Task Level Business Data : UserGroup"
   ],
   "metadata": {
    "collapsed": false,
    "pycharm": {
     "name": "#%% md\n"
    }
   }
  },
  {
   "cell_type": "code",
   "execution_count": 161,
   "outputs": [],
   "source": [
    "# Add a column for UserGroup\n",
    "df[\"user_group\"] = \"\""
   ],
   "metadata": {
    "collapsed": false,
    "pycharm": {
     "name": "#%%\n"
    }
   }
  },
  {
   "cell_type": "code",
   "execution_count": 162,
   "outputs": [],
   "source": [
    "def setUserGroup(row):\n",
    "    match row[\"task\"]:\n",
    "        case \"Review Documents\":\n",
    "            return \"Operations\"\n",
    "        case \"New Client Onboarding Request\":\n",
    "            return \"Sales\" \n",
    "        case \"Manual Scoreboarding\":\n",
    "            return \"Risk\"\n",
    "        case \"Update Backend Systems\":\n",
    "            return \"SYSTEM\"\n",
    "        case \"Automated Scoreboarding\":\n",
    "            return \"SYSTEM\"\n",
    "        case \"Notification Review Request Completed\":\n",
    "            return \"SYSTEM\"\n",
    "        case _:\n",
    "            return \"\""
   ],
   "metadata": {
    "collapsed": false,
    "pycharm": {
     "name": "#%%\n"
    }
   }
  },
  {
   "cell_type": "code",
   "execution_count": 163,
   "outputs": [],
   "source": [
    "df[\"user_group\"] = df.apply(setUserGroup, axis=1)"
   ],
   "metadata": {
    "collapsed": false,
    "pycharm": {
     "name": "#%%\n"
    }
   }
  },
  {
   "cell_type": "code",
   "execution_count": 164,
   "outputs": [
    {
     "data": {
      "text/plain": "    process_id                                   task  \\\n0            1          New Client Onboarding Request   \n1            1                       Review Documents   \n2            1                Automated Scoreboarding   \n3            1                 Update Backend Systems   \n4            1  Notification Review Request Completed   \n5            2          New Client Onboarding Request   \n6            2                       Review Documents   \n7            2                Automated Scoreboarding   \n8            2                 Update Backend Systems   \n9            2  Notification Review Request Completed   \n10           3          New Client Onboarding Request   \n11           3                       Review Documents   \n12           3                Automated Scoreboarding   \n13           3                 Update Backend Systems   \n14           3  Notification Review Request Completed   \n15           4          New Client Onboarding Request   \n16           4                       Review Documents   \n17           4                Automated Scoreboarding   \n18           4                 Update Backend Systems   \n19           4  Notification Review Request Completed   \n\n                   start_time                   end_time    user  user_group  \n0  2017-11-28 18:00:00.000000 2017-11-28 19:10:42.056829    Nick       Sales  \n1  2017-11-28 19:15:42.056829 2017-11-28 19:34:23.279261     Rod  Operations  \n2  2017-11-28 19:39:23.279261 2017-11-28 19:46:24.140452  SYSTEM      SYSTEM  \n3  2017-11-28 19:51:24.140452 2017-11-28 20:14:10.679723     RPA      SYSTEM  \n4  2017-11-28 20:19:10.679723 2017-11-28 20:23:52.289747  SYSTEM      SYSTEM  \n5  2017-11-29 18:00:00.000000 2017-11-29 18:30:49.766804   Clive       Sales  \n6  2017-11-29 18:35:49.766804 2017-11-29 18:47:05.447282     Rod  Operations  \n7  2017-11-29 18:52:05.447282 2017-11-29 19:00:33.064888  SYSTEM      SYSTEM  \n8  2017-11-29 19:05:33.064888 2017-11-29 19:10:52.786846     RPA      SYSTEM  \n9  2017-11-29 19:15:52.786846 2017-11-29 19:23:23.910859  SYSTEM      SYSTEM  \n10 2017-11-30 18:00:00.000000 2017-11-30 19:07:24.374417    Nick       Sales  \n11 2017-11-30 19:12:24.374417 2017-11-30 19:46:00.489390     Rod  Operations  \n12 2017-11-30 19:51:00.489390 2017-11-30 19:58:33.659701  SYSTEM      SYSTEM  \n13 2017-11-30 20:03:33.659701 2017-11-30 20:14:19.195110     RPA      SYSTEM  \n14 2017-11-30 20:19:19.195110 2017-11-30 20:29:12.893983  SYSTEM      SYSTEM  \n15 2017-12-01 18:00:00.000000 2017-12-01 18:04:49.268265   Clive       Sales  \n16 2017-12-01 18:09:49.268265 2017-12-01 18:20:39.116627    Jane  Operations  \n17 2017-12-01 18:25:39.116627 2017-12-01 18:37:00.153281  SYSTEM      SYSTEM  \n18 2017-12-01 18:42:00.153281 2017-12-01 18:57:39.912749     RPA      SYSTEM  \n19 2017-12-01 19:02:39.912749 2017-12-01 19:08:03.095553  SYSTEM      SYSTEM  ",
      "text/html": "<div>\n<style scoped>\n    .dataframe tbody tr th:only-of-type {\n        vertical-align: middle;\n    }\n\n    .dataframe tbody tr th {\n        vertical-align: top;\n    }\n\n    .dataframe thead th {\n        text-align: right;\n    }\n</style>\n<table border=\"1\" class=\"dataframe\">\n  <thead>\n    <tr style=\"text-align: right;\">\n      <th></th>\n      <th>process_id</th>\n      <th>task</th>\n      <th>start_time</th>\n      <th>end_time</th>\n      <th>user</th>\n      <th>user_group</th>\n    </tr>\n  </thead>\n  <tbody>\n    <tr>\n      <th>0</th>\n      <td>1</td>\n      <td>New Client Onboarding Request</td>\n      <td>2017-11-28 18:00:00.000000</td>\n      <td>2017-11-28 19:10:42.056829</td>\n      <td>Nick</td>\n      <td>Sales</td>\n    </tr>\n    <tr>\n      <th>1</th>\n      <td>1</td>\n      <td>Review Documents</td>\n      <td>2017-11-28 19:15:42.056829</td>\n      <td>2017-11-28 19:34:23.279261</td>\n      <td>Rod</td>\n      <td>Operations</td>\n    </tr>\n    <tr>\n      <th>2</th>\n      <td>1</td>\n      <td>Automated Scoreboarding</td>\n      <td>2017-11-28 19:39:23.279261</td>\n      <td>2017-11-28 19:46:24.140452</td>\n      <td>SYSTEM</td>\n      <td>SYSTEM</td>\n    </tr>\n    <tr>\n      <th>3</th>\n      <td>1</td>\n      <td>Update Backend Systems</td>\n      <td>2017-11-28 19:51:24.140452</td>\n      <td>2017-11-28 20:14:10.679723</td>\n      <td>RPA</td>\n      <td>SYSTEM</td>\n    </tr>\n    <tr>\n      <th>4</th>\n      <td>1</td>\n      <td>Notification Review Request Completed</td>\n      <td>2017-11-28 20:19:10.679723</td>\n      <td>2017-11-28 20:23:52.289747</td>\n      <td>SYSTEM</td>\n      <td>SYSTEM</td>\n    </tr>\n    <tr>\n      <th>5</th>\n      <td>2</td>\n      <td>New Client Onboarding Request</td>\n      <td>2017-11-29 18:00:00.000000</td>\n      <td>2017-11-29 18:30:49.766804</td>\n      <td>Clive</td>\n      <td>Sales</td>\n    </tr>\n    <tr>\n      <th>6</th>\n      <td>2</td>\n      <td>Review Documents</td>\n      <td>2017-11-29 18:35:49.766804</td>\n      <td>2017-11-29 18:47:05.447282</td>\n      <td>Rod</td>\n      <td>Operations</td>\n    </tr>\n    <tr>\n      <th>7</th>\n      <td>2</td>\n      <td>Automated Scoreboarding</td>\n      <td>2017-11-29 18:52:05.447282</td>\n      <td>2017-11-29 19:00:33.064888</td>\n      <td>SYSTEM</td>\n      <td>SYSTEM</td>\n    </tr>\n    <tr>\n      <th>8</th>\n      <td>2</td>\n      <td>Update Backend Systems</td>\n      <td>2017-11-29 19:05:33.064888</td>\n      <td>2017-11-29 19:10:52.786846</td>\n      <td>RPA</td>\n      <td>SYSTEM</td>\n    </tr>\n    <tr>\n      <th>9</th>\n      <td>2</td>\n      <td>Notification Review Request Completed</td>\n      <td>2017-11-29 19:15:52.786846</td>\n      <td>2017-11-29 19:23:23.910859</td>\n      <td>SYSTEM</td>\n      <td>SYSTEM</td>\n    </tr>\n    <tr>\n      <th>10</th>\n      <td>3</td>\n      <td>New Client Onboarding Request</td>\n      <td>2017-11-30 18:00:00.000000</td>\n      <td>2017-11-30 19:07:24.374417</td>\n      <td>Nick</td>\n      <td>Sales</td>\n    </tr>\n    <tr>\n      <th>11</th>\n      <td>3</td>\n      <td>Review Documents</td>\n      <td>2017-11-30 19:12:24.374417</td>\n      <td>2017-11-30 19:46:00.489390</td>\n      <td>Rod</td>\n      <td>Operations</td>\n    </tr>\n    <tr>\n      <th>12</th>\n      <td>3</td>\n      <td>Automated Scoreboarding</td>\n      <td>2017-11-30 19:51:00.489390</td>\n      <td>2017-11-30 19:58:33.659701</td>\n      <td>SYSTEM</td>\n      <td>SYSTEM</td>\n    </tr>\n    <tr>\n      <th>13</th>\n      <td>3</td>\n      <td>Update Backend Systems</td>\n      <td>2017-11-30 20:03:33.659701</td>\n      <td>2017-11-30 20:14:19.195110</td>\n      <td>RPA</td>\n      <td>SYSTEM</td>\n    </tr>\n    <tr>\n      <th>14</th>\n      <td>3</td>\n      <td>Notification Review Request Completed</td>\n      <td>2017-11-30 20:19:19.195110</td>\n      <td>2017-11-30 20:29:12.893983</td>\n      <td>SYSTEM</td>\n      <td>SYSTEM</td>\n    </tr>\n    <tr>\n      <th>15</th>\n      <td>4</td>\n      <td>New Client Onboarding Request</td>\n      <td>2017-12-01 18:00:00.000000</td>\n      <td>2017-12-01 18:04:49.268265</td>\n      <td>Clive</td>\n      <td>Sales</td>\n    </tr>\n    <tr>\n      <th>16</th>\n      <td>4</td>\n      <td>Review Documents</td>\n      <td>2017-12-01 18:09:49.268265</td>\n      <td>2017-12-01 18:20:39.116627</td>\n      <td>Jane</td>\n      <td>Operations</td>\n    </tr>\n    <tr>\n      <th>17</th>\n      <td>4</td>\n      <td>Automated Scoreboarding</td>\n      <td>2017-12-01 18:25:39.116627</td>\n      <td>2017-12-01 18:37:00.153281</td>\n      <td>SYSTEM</td>\n      <td>SYSTEM</td>\n    </tr>\n    <tr>\n      <th>18</th>\n      <td>4</td>\n      <td>Update Backend Systems</td>\n      <td>2017-12-01 18:42:00.153281</td>\n      <td>2017-12-01 18:57:39.912749</td>\n      <td>RPA</td>\n      <td>SYSTEM</td>\n    </tr>\n    <tr>\n      <th>19</th>\n      <td>4</td>\n      <td>Notification Review Request Completed</td>\n      <td>2017-12-01 19:02:39.912749</td>\n      <td>2017-12-01 19:08:03.095553</td>\n      <td>SYSTEM</td>\n      <td>SYSTEM</td>\n    </tr>\n  </tbody>\n</table>\n</div>"
     },
     "execution_count": 164,
     "metadata": {},
     "output_type": "execute_result"
    }
   ],
   "source": [
    "df.head(20)"
   ],
   "metadata": {
    "collapsed": false,
    "pycharm": {
     "name": "#%%\n"
    }
   }
  },
  {
   "cell_type": "markdown",
   "source": [
    "## Add Process Instance Business Data : Industry\n",
    "Industy won't change during the process so all tasks for a given process ID must have the same value"
   ],
   "metadata": {
    "collapsed": false,
    "pycharm": {
     "name": "#%% md\n"
    }
   }
  },
  {
   "cell_type": "code",
   "execution_count": 165,
   "outputs": [],
   "source": [
    "df[\"industry\"] = \"\""
   ],
   "metadata": {
    "collapsed": false,
    "pycharm": {
     "name": "#%%\n"
    }
   }
  },
  {
   "cell_type": "code",
   "execution_count": 166,
   "outputs": [],
   "source": [
    "process_id_list = df[\"process_id\"].unique()\n",
    "\n",
    "for process_id in process_id_list:\n",
    "    industry = random.choice(['Federal','Finance','Healthcare','Insurance','Telecom'])\n",
    "    df.loc[df[\"process_id\"].eq(process_id), \"industry\"] = industry\n",
    "    \n",
    "                          \n",
    "    "
   ],
   "metadata": {
    "collapsed": false,
    "pycharm": {
     "name": "#%%\n"
    }
   }
  },
  {
   "cell_type": "code",
   "execution_count": 167,
   "outputs": [
    {
     "data": {
      "text/plain": "    process_id                                   task  \\\n0            1          New Client Onboarding Request   \n1            1                       Review Documents   \n2            1                Automated Scoreboarding   \n3            1                 Update Backend Systems   \n4            1  Notification Review Request Completed   \n5            2          New Client Onboarding Request   \n6            2                       Review Documents   \n7            2                Automated Scoreboarding   \n8            2                 Update Backend Systems   \n9            2  Notification Review Request Completed   \n10           3          New Client Onboarding Request   \n11           3                       Review Documents   \n12           3                Automated Scoreboarding   \n13           3                 Update Backend Systems   \n14           3  Notification Review Request Completed   \n15           4          New Client Onboarding Request   \n16           4                       Review Documents   \n17           4                Automated Scoreboarding   \n18           4                 Update Backend Systems   \n19           4  Notification Review Request Completed   \n\n                   start_time                   end_time    user  user_group  \\\n0  2017-11-28 18:00:00.000000 2017-11-28 19:10:42.056829    Nick       Sales   \n1  2017-11-28 19:15:42.056829 2017-11-28 19:34:23.279261     Rod  Operations   \n2  2017-11-28 19:39:23.279261 2017-11-28 19:46:24.140452  SYSTEM      SYSTEM   \n3  2017-11-28 19:51:24.140452 2017-11-28 20:14:10.679723     RPA      SYSTEM   \n4  2017-11-28 20:19:10.679723 2017-11-28 20:23:52.289747  SYSTEM      SYSTEM   \n5  2017-11-29 18:00:00.000000 2017-11-29 18:30:49.766804   Clive       Sales   \n6  2017-11-29 18:35:49.766804 2017-11-29 18:47:05.447282     Rod  Operations   \n7  2017-11-29 18:52:05.447282 2017-11-29 19:00:33.064888  SYSTEM      SYSTEM   \n8  2017-11-29 19:05:33.064888 2017-11-29 19:10:52.786846     RPA      SYSTEM   \n9  2017-11-29 19:15:52.786846 2017-11-29 19:23:23.910859  SYSTEM      SYSTEM   \n10 2017-11-30 18:00:00.000000 2017-11-30 19:07:24.374417    Nick       Sales   \n11 2017-11-30 19:12:24.374417 2017-11-30 19:46:00.489390     Rod  Operations   \n12 2017-11-30 19:51:00.489390 2017-11-30 19:58:33.659701  SYSTEM      SYSTEM   \n13 2017-11-30 20:03:33.659701 2017-11-30 20:14:19.195110     RPA      SYSTEM   \n14 2017-11-30 20:19:19.195110 2017-11-30 20:29:12.893983  SYSTEM      SYSTEM   \n15 2017-12-01 18:00:00.000000 2017-12-01 18:04:49.268265   Clive       Sales   \n16 2017-12-01 18:09:49.268265 2017-12-01 18:20:39.116627    Jane  Operations   \n17 2017-12-01 18:25:39.116627 2017-12-01 18:37:00.153281  SYSTEM      SYSTEM   \n18 2017-12-01 18:42:00.153281 2017-12-01 18:57:39.912749     RPA      SYSTEM   \n19 2017-12-01 19:02:39.912749 2017-12-01 19:08:03.095553  SYSTEM      SYSTEM   \n\n      industry  \n0      Telecom  \n1      Telecom  \n2      Telecom  \n3      Telecom  \n4      Telecom  \n5   Healthcare  \n6   Healthcare  \n7   Healthcare  \n8   Healthcare  \n9   Healthcare  \n10  Healthcare  \n11  Healthcare  \n12  Healthcare  \n13  Healthcare  \n14  Healthcare  \n15  Healthcare  \n16  Healthcare  \n17  Healthcare  \n18  Healthcare  \n19  Healthcare  ",
      "text/html": "<div>\n<style scoped>\n    .dataframe tbody tr th:only-of-type {\n        vertical-align: middle;\n    }\n\n    .dataframe tbody tr th {\n        vertical-align: top;\n    }\n\n    .dataframe thead th {\n        text-align: right;\n    }\n</style>\n<table border=\"1\" class=\"dataframe\">\n  <thead>\n    <tr style=\"text-align: right;\">\n      <th></th>\n      <th>process_id</th>\n      <th>task</th>\n      <th>start_time</th>\n      <th>end_time</th>\n      <th>user</th>\n      <th>user_group</th>\n      <th>industry</th>\n    </tr>\n  </thead>\n  <tbody>\n    <tr>\n      <th>0</th>\n      <td>1</td>\n      <td>New Client Onboarding Request</td>\n      <td>2017-11-28 18:00:00.000000</td>\n      <td>2017-11-28 19:10:42.056829</td>\n      <td>Nick</td>\n      <td>Sales</td>\n      <td>Telecom</td>\n    </tr>\n    <tr>\n      <th>1</th>\n      <td>1</td>\n      <td>Review Documents</td>\n      <td>2017-11-28 19:15:42.056829</td>\n      <td>2017-11-28 19:34:23.279261</td>\n      <td>Rod</td>\n      <td>Operations</td>\n      <td>Telecom</td>\n    </tr>\n    <tr>\n      <th>2</th>\n      <td>1</td>\n      <td>Automated Scoreboarding</td>\n      <td>2017-11-28 19:39:23.279261</td>\n      <td>2017-11-28 19:46:24.140452</td>\n      <td>SYSTEM</td>\n      <td>SYSTEM</td>\n      <td>Telecom</td>\n    </tr>\n    <tr>\n      <th>3</th>\n      <td>1</td>\n      <td>Update Backend Systems</td>\n      <td>2017-11-28 19:51:24.140452</td>\n      <td>2017-11-28 20:14:10.679723</td>\n      <td>RPA</td>\n      <td>SYSTEM</td>\n      <td>Telecom</td>\n    </tr>\n    <tr>\n      <th>4</th>\n      <td>1</td>\n      <td>Notification Review Request Completed</td>\n      <td>2017-11-28 20:19:10.679723</td>\n      <td>2017-11-28 20:23:52.289747</td>\n      <td>SYSTEM</td>\n      <td>SYSTEM</td>\n      <td>Telecom</td>\n    </tr>\n    <tr>\n      <th>5</th>\n      <td>2</td>\n      <td>New Client Onboarding Request</td>\n      <td>2017-11-29 18:00:00.000000</td>\n      <td>2017-11-29 18:30:49.766804</td>\n      <td>Clive</td>\n      <td>Sales</td>\n      <td>Healthcare</td>\n    </tr>\n    <tr>\n      <th>6</th>\n      <td>2</td>\n      <td>Review Documents</td>\n      <td>2017-11-29 18:35:49.766804</td>\n      <td>2017-11-29 18:47:05.447282</td>\n      <td>Rod</td>\n      <td>Operations</td>\n      <td>Healthcare</td>\n    </tr>\n    <tr>\n      <th>7</th>\n      <td>2</td>\n      <td>Automated Scoreboarding</td>\n      <td>2017-11-29 18:52:05.447282</td>\n      <td>2017-11-29 19:00:33.064888</td>\n      <td>SYSTEM</td>\n      <td>SYSTEM</td>\n      <td>Healthcare</td>\n    </tr>\n    <tr>\n      <th>8</th>\n      <td>2</td>\n      <td>Update Backend Systems</td>\n      <td>2017-11-29 19:05:33.064888</td>\n      <td>2017-11-29 19:10:52.786846</td>\n      <td>RPA</td>\n      <td>SYSTEM</td>\n      <td>Healthcare</td>\n    </tr>\n    <tr>\n      <th>9</th>\n      <td>2</td>\n      <td>Notification Review Request Completed</td>\n      <td>2017-11-29 19:15:52.786846</td>\n      <td>2017-11-29 19:23:23.910859</td>\n      <td>SYSTEM</td>\n      <td>SYSTEM</td>\n      <td>Healthcare</td>\n    </tr>\n    <tr>\n      <th>10</th>\n      <td>3</td>\n      <td>New Client Onboarding Request</td>\n      <td>2017-11-30 18:00:00.000000</td>\n      <td>2017-11-30 19:07:24.374417</td>\n      <td>Nick</td>\n      <td>Sales</td>\n      <td>Healthcare</td>\n    </tr>\n    <tr>\n      <th>11</th>\n      <td>3</td>\n      <td>Review Documents</td>\n      <td>2017-11-30 19:12:24.374417</td>\n      <td>2017-11-30 19:46:00.489390</td>\n      <td>Rod</td>\n      <td>Operations</td>\n      <td>Healthcare</td>\n    </tr>\n    <tr>\n      <th>12</th>\n      <td>3</td>\n      <td>Automated Scoreboarding</td>\n      <td>2017-11-30 19:51:00.489390</td>\n      <td>2017-11-30 19:58:33.659701</td>\n      <td>SYSTEM</td>\n      <td>SYSTEM</td>\n      <td>Healthcare</td>\n    </tr>\n    <tr>\n      <th>13</th>\n      <td>3</td>\n      <td>Update Backend Systems</td>\n      <td>2017-11-30 20:03:33.659701</td>\n      <td>2017-11-30 20:14:19.195110</td>\n      <td>RPA</td>\n      <td>SYSTEM</td>\n      <td>Healthcare</td>\n    </tr>\n    <tr>\n      <th>14</th>\n      <td>3</td>\n      <td>Notification Review Request Completed</td>\n      <td>2017-11-30 20:19:19.195110</td>\n      <td>2017-11-30 20:29:12.893983</td>\n      <td>SYSTEM</td>\n      <td>SYSTEM</td>\n      <td>Healthcare</td>\n    </tr>\n    <tr>\n      <th>15</th>\n      <td>4</td>\n      <td>New Client Onboarding Request</td>\n      <td>2017-12-01 18:00:00.000000</td>\n      <td>2017-12-01 18:04:49.268265</td>\n      <td>Clive</td>\n      <td>Sales</td>\n      <td>Healthcare</td>\n    </tr>\n    <tr>\n      <th>16</th>\n      <td>4</td>\n      <td>Review Documents</td>\n      <td>2017-12-01 18:09:49.268265</td>\n      <td>2017-12-01 18:20:39.116627</td>\n      <td>Jane</td>\n      <td>Operations</td>\n      <td>Healthcare</td>\n    </tr>\n    <tr>\n      <th>17</th>\n      <td>4</td>\n      <td>Automated Scoreboarding</td>\n      <td>2017-12-01 18:25:39.116627</td>\n      <td>2017-12-01 18:37:00.153281</td>\n      <td>SYSTEM</td>\n      <td>SYSTEM</td>\n      <td>Healthcare</td>\n    </tr>\n    <tr>\n      <th>18</th>\n      <td>4</td>\n      <td>Update Backend Systems</td>\n      <td>2017-12-01 18:42:00.153281</td>\n      <td>2017-12-01 18:57:39.912749</td>\n      <td>RPA</td>\n      <td>SYSTEM</td>\n      <td>Healthcare</td>\n    </tr>\n    <tr>\n      <th>19</th>\n      <td>4</td>\n      <td>Notification Review Request Completed</td>\n      <td>2017-12-01 19:02:39.912749</td>\n      <td>2017-12-01 19:08:03.095553</td>\n      <td>SYSTEM</td>\n      <td>SYSTEM</td>\n      <td>Healthcare</td>\n    </tr>\n  </tbody>\n</table>\n</div>"
     },
     "execution_count": 167,
     "metadata": {},
     "output_type": "execute_result"
    }
   ],
   "source": [
    "df.head(20)"
   ],
   "metadata": {
    "collapsed": false,
    "pycharm": {
     "name": "#%%\n"
    }
   }
  },
  {
   "cell_type": "markdown",
   "source": [
    "## Add Process Instance Business Data : Service Charge\n",
    "Service charge will be a random choice based on industry."
   ],
   "metadata": {
    "collapsed": false,
    "pycharm": {
     "name": "#%% md\n"
    }
   }
  },
  {
   "cell_type": "code",
   "execution_count": 168,
   "outputs": [],
   "source": [
    "df[\"service_charge\"] = 0"
   ],
   "metadata": {
    "collapsed": false,
    "pycharm": {
     "name": "#%%\n"
    }
   }
  },
  {
   "cell_type": "code",
   "execution_count": 169,
   "outputs": [],
   "source": [
    "def getServiceChargeByIndustry(industry):\n",
    "    match industry:\n",
    "        case \"Federal\":\n",
    "            return random.choice([3000, 6000, 8000])\n",
    "        case \"Finance\":\n",
    "            return random.choice([10000, 12000, 20000])\n",
    "        case \"Healthcare\":\n",
    "            return random.choice([15000, 20000, 25000])\n",
    "        case \"Insurance\":\n",
    "            return 45000\n",
    "        case \"Telecom\":\n",
    "            return 49000\n",
    "        case _:\n",
    "            return 64000"
   ],
   "metadata": {
    "collapsed": false,
    "pycharm": {
     "name": "#%%\n"
    }
   }
  },
  {
   "cell_type": "code",
   "execution_count": 170,
   "outputs": [],
   "source": [
    "last_process = -1\n",
    "service_charge = 0\n",
    "\n",
    "process_id_list = df[\"process_id\"].unique()\n",
    "\n",
    "for process_id in process_id_list:\n",
    "        # get the tasks for this process instance, use copy() to make it clear to the interpreter we know\n",
    "        # this is a copy to supress any warnings about updating copies\n",
    "        process_instance_tasks = df.loc[df.process_id == process_id].copy()\n",
    "        # Get the fir row out of the task list and get the industry value\n",
    "        industry = process_instance_tasks.iloc[0]['industry']\n",
    "        \n",
    "        # call function to get a semi-random service charge for the industry\n",
    "        service_charge = getServiceChargeByIndustry(industry)\n",
    "        \n",
    "        # set the service charge in every row for this process instance\n",
    "        df.loc[df.process_id == process_id, 'service_charge'] = service_charge\n",
    "    \n"
   ],
   "metadata": {
    "collapsed": false,
    "pycharm": {
     "name": "#%%\n"
    }
   }
  },
  {
   "cell_type": "code",
   "execution_count": 171,
   "outputs": [
    {
     "data": {
      "text/plain": "    process_id                                   task  \\\n0            1          New Client Onboarding Request   \n1            1                       Review Documents   \n2            1                Automated Scoreboarding   \n3            1                 Update Backend Systems   \n4            1  Notification Review Request Completed   \n5            2          New Client Onboarding Request   \n6            2                       Review Documents   \n7            2                Automated Scoreboarding   \n8            2                 Update Backend Systems   \n9            2  Notification Review Request Completed   \n10           3          New Client Onboarding Request   \n11           3                       Review Documents   \n12           3                Automated Scoreboarding   \n13           3                 Update Backend Systems   \n14           3  Notification Review Request Completed   \n15           4          New Client Onboarding Request   \n16           4                       Review Documents   \n17           4                Automated Scoreboarding   \n18           4                 Update Backend Systems   \n19           4  Notification Review Request Completed   \n20           5          New Client Onboarding Request   \n21           5                       Review Documents   \n22           5                Automated Scoreboarding   \n23           5                 Update Backend Systems   \n24           5  Notification Review Request Completed   \n25           6          New Client Onboarding Request   \n26           6                       Review Documents   \n27           6                Automated Scoreboarding   \n28           6                 Update Backend Systems   \n29           6  Notification Review Request Completed   \n30           7          New Client Onboarding Request   \n31           7                       Review Documents   \n32           7                Automated Scoreboarding   \n33           7                 Update Backend Systems   \n34           7  Notification Review Request Completed   \n35           8          New Client Onboarding Request   \n36           8                       Review Documents   \n37           8                Automated Scoreboarding   \n38           8                 Update Backend Systems   \n39           8  Notification Review Request Completed   \n40           9          New Client Onboarding Request   \n41           9                       Review Documents   \n42           9                Automated Scoreboarding   \n43           9                 Update Backend Systems   \n44           9  Notification Review Request Completed   \n45          10          New Client Onboarding Request   \n46          10                       Review Documents   \n47          10                Automated Scoreboarding   \n48          10                 Update Backend Systems   \n49          10  Notification Review Request Completed   \n\n                   start_time                   end_time     user  user_group  \\\n0  2017-11-28 18:00:00.000000 2017-11-28 19:10:42.056829     Nick       Sales   \n1  2017-11-28 19:15:42.056829 2017-11-28 19:34:23.279261      Rod  Operations   \n2  2017-11-28 19:39:23.279261 2017-11-28 19:46:24.140452   SYSTEM      SYSTEM   \n3  2017-11-28 19:51:24.140452 2017-11-28 20:14:10.679723      RPA      SYSTEM   \n4  2017-11-28 20:19:10.679723 2017-11-28 20:23:52.289747   SYSTEM      SYSTEM   \n5  2017-11-29 18:00:00.000000 2017-11-29 18:30:49.766804    Clive       Sales   \n6  2017-11-29 18:35:49.766804 2017-11-29 18:47:05.447282      Rod  Operations   \n7  2017-11-29 18:52:05.447282 2017-11-29 19:00:33.064888   SYSTEM      SYSTEM   \n8  2017-11-29 19:05:33.064888 2017-11-29 19:10:52.786846      RPA      SYSTEM   \n9  2017-11-29 19:15:52.786846 2017-11-29 19:23:23.910859   SYSTEM      SYSTEM   \n10 2017-11-30 18:00:00.000000 2017-11-30 19:07:24.374417     Nick       Sales   \n11 2017-11-30 19:12:24.374417 2017-11-30 19:46:00.489390      Rod  Operations   \n12 2017-11-30 19:51:00.489390 2017-11-30 19:58:33.659701   SYSTEM      SYSTEM   \n13 2017-11-30 20:03:33.659701 2017-11-30 20:14:19.195110      RPA      SYSTEM   \n14 2017-11-30 20:19:19.195110 2017-11-30 20:29:12.893983   SYSTEM      SYSTEM   \n15 2017-12-01 18:00:00.000000 2017-12-01 18:04:49.268265    Clive       Sales   \n16 2017-12-01 18:09:49.268265 2017-12-01 18:20:39.116627     Jane  Operations   \n17 2017-12-01 18:25:39.116627 2017-12-01 18:37:00.153281   SYSTEM      SYSTEM   \n18 2017-12-01 18:42:00.153281 2017-12-01 18:57:39.912749      RPA      SYSTEM   \n19 2017-12-01 19:02:39.912749 2017-12-01 19:08:03.095553   SYSTEM      SYSTEM   \n20 2017-12-02 18:00:00.000000 2017-12-02 18:38:32.156118    Clive       Sales   \n21 2017-12-02 18:43:32.156118 2017-12-02 18:44:25.990847     Jane  Operations   \n22 2017-12-02 18:49:25.990847 2017-12-02 18:54:13.842368   SYSTEM      SYSTEM   \n23 2017-12-02 18:59:13.842368 2017-12-02 19:09:28.006669      RPA      SYSTEM   \n24 2017-12-02 19:14:28.006669 2017-12-02 19:21:24.425299   SYSTEM      SYSTEM   \n25 2017-12-03 18:00:00.000000 2017-12-03 18:58:34.691217    Clive       Sales   \n26 2017-12-03 19:03:34.691217 2017-12-03 19:14:34.378461   Freddy  Operations   \n27 2017-12-03 19:19:34.378461 2017-12-03 19:25:49.716981   SYSTEM      SYSTEM   \n28 2017-12-03 19:30:49.716981 2017-12-03 19:48:29.141849      RPA      SYSTEM   \n29 2017-12-03 19:53:29.141849 2017-12-03 19:58:27.246607   SYSTEM      SYSTEM   \n30 2017-12-04 18:00:00.000000 2017-12-04 18:21:24.813985    Clive       Sales   \n31 2017-12-04 18:26:24.813985 2017-12-04 18:52:32.684653     Jane  Operations   \n32 2017-12-04 18:57:32.684653 2017-12-04 19:03:54.416181   SYSTEM      SYSTEM   \n33 2017-12-04 19:08:54.416181 2017-12-04 19:24:48.562166      RPA      SYSTEM   \n34 2017-12-04 19:29:48.562166 2017-12-04 19:39:59.599074   SYSTEM      SYSTEM   \n35 2017-12-05 18:00:00.000000 2017-12-05 18:56:27.536445  Francis       Sales   \n36 2017-12-05 19:01:27.536445 2017-12-05 19:08:23.137902      Rod  Operations   \n37 2017-12-05 19:13:23.137902 2017-12-05 19:17:43.106496   SYSTEM      SYSTEM   \n38 2017-12-05 19:22:43.106496 2017-12-05 19:53:39.267909      RPA      SYSTEM   \n39 2017-12-05 19:58:39.267909 2017-12-05 20:03:41.934813   SYSTEM      SYSTEM   \n40 2017-12-06 18:00:00.000000 2017-12-06 18:44:27.465612     Nick       Sales   \n41 2017-12-06 18:49:27.465612 2017-12-06 19:28:58.733745      Rod  Operations   \n42 2017-12-06 19:33:58.733745 2017-12-06 19:38:53.894321   SYSTEM      SYSTEM   \n43 2017-12-06 19:43:53.894321 2017-12-06 19:54:24.126231      RPA      SYSTEM   \n44 2017-12-06 19:59:24.126231 2017-12-06 20:05:33.108504   SYSTEM      SYSTEM   \n45 2017-12-07 18:00:00.000000 2017-12-07 18:17:58.813699     Nick       Sales   \n46 2017-12-07 18:22:58.813699 2017-12-07 19:38:04.836674     Jane  Operations   \n47 2017-12-07 19:43:04.836674 2017-12-07 19:50:07.023776   SYSTEM      SYSTEM   \n48 2017-12-07 19:55:07.023776 2017-12-07 20:07:09.970317      RPA      SYSTEM   \n49 2017-12-07 20:12:09.970317 2017-12-07 20:17:10.121803   SYSTEM      SYSTEM   \n\n      industry  service_charge  \n0      Telecom           49000  \n1      Telecom           49000  \n2      Telecom           49000  \n3      Telecom           49000  \n4      Telecom           49000  \n5   Healthcare           20000  \n6   Healthcare           20000  \n7   Healthcare           20000  \n8   Healthcare           20000  \n9   Healthcare           20000  \n10  Healthcare           20000  \n11  Healthcare           20000  \n12  Healthcare           20000  \n13  Healthcare           20000  \n14  Healthcare           20000  \n15  Healthcare           20000  \n16  Healthcare           20000  \n17  Healthcare           20000  \n18  Healthcare           20000  \n19  Healthcare           20000  \n20  Healthcare           15000  \n21  Healthcare           15000  \n22  Healthcare           15000  \n23  Healthcare           15000  \n24  Healthcare           15000  \n25   Insurance           45000  \n26   Insurance           45000  \n27   Insurance           45000  \n28   Insurance           45000  \n29   Insurance           45000  \n30  Healthcare           25000  \n31  Healthcare           25000  \n32  Healthcare           25000  \n33  Healthcare           25000  \n34  Healthcare           25000  \n35     Federal            3000  \n36     Federal            3000  \n37     Federal            3000  \n38     Federal            3000  \n39     Federal            3000  \n40     Telecom           49000  \n41     Telecom           49000  \n42     Telecom           49000  \n43     Telecom           49000  \n44     Telecom           49000  \n45     Telecom           49000  \n46     Telecom           49000  \n47     Telecom           49000  \n48     Telecom           49000  \n49     Telecom           49000  ",
      "text/html": "<div>\n<style scoped>\n    .dataframe tbody tr th:only-of-type {\n        vertical-align: middle;\n    }\n\n    .dataframe tbody tr th {\n        vertical-align: top;\n    }\n\n    .dataframe thead th {\n        text-align: right;\n    }\n</style>\n<table border=\"1\" class=\"dataframe\">\n  <thead>\n    <tr style=\"text-align: right;\">\n      <th></th>\n      <th>process_id</th>\n      <th>task</th>\n      <th>start_time</th>\n      <th>end_time</th>\n      <th>user</th>\n      <th>user_group</th>\n      <th>industry</th>\n      <th>service_charge</th>\n    </tr>\n  </thead>\n  <tbody>\n    <tr>\n      <th>0</th>\n      <td>1</td>\n      <td>New Client Onboarding Request</td>\n      <td>2017-11-28 18:00:00.000000</td>\n      <td>2017-11-28 19:10:42.056829</td>\n      <td>Nick</td>\n      <td>Sales</td>\n      <td>Telecom</td>\n      <td>49000</td>\n    </tr>\n    <tr>\n      <th>1</th>\n      <td>1</td>\n      <td>Review Documents</td>\n      <td>2017-11-28 19:15:42.056829</td>\n      <td>2017-11-28 19:34:23.279261</td>\n      <td>Rod</td>\n      <td>Operations</td>\n      <td>Telecom</td>\n      <td>49000</td>\n    </tr>\n    <tr>\n      <th>2</th>\n      <td>1</td>\n      <td>Automated Scoreboarding</td>\n      <td>2017-11-28 19:39:23.279261</td>\n      <td>2017-11-28 19:46:24.140452</td>\n      <td>SYSTEM</td>\n      <td>SYSTEM</td>\n      <td>Telecom</td>\n      <td>49000</td>\n    </tr>\n    <tr>\n      <th>3</th>\n      <td>1</td>\n      <td>Update Backend Systems</td>\n      <td>2017-11-28 19:51:24.140452</td>\n      <td>2017-11-28 20:14:10.679723</td>\n      <td>RPA</td>\n      <td>SYSTEM</td>\n      <td>Telecom</td>\n      <td>49000</td>\n    </tr>\n    <tr>\n      <th>4</th>\n      <td>1</td>\n      <td>Notification Review Request Completed</td>\n      <td>2017-11-28 20:19:10.679723</td>\n      <td>2017-11-28 20:23:52.289747</td>\n      <td>SYSTEM</td>\n      <td>SYSTEM</td>\n      <td>Telecom</td>\n      <td>49000</td>\n    </tr>\n    <tr>\n      <th>5</th>\n      <td>2</td>\n      <td>New Client Onboarding Request</td>\n      <td>2017-11-29 18:00:00.000000</td>\n      <td>2017-11-29 18:30:49.766804</td>\n      <td>Clive</td>\n      <td>Sales</td>\n      <td>Healthcare</td>\n      <td>20000</td>\n    </tr>\n    <tr>\n      <th>6</th>\n      <td>2</td>\n      <td>Review Documents</td>\n      <td>2017-11-29 18:35:49.766804</td>\n      <td>2017-11-29 18:47:05.447282</td>\n      <td>Rod</td>\n      <td>Operations</td>\n      <td>Healthcare</td>\n      <td>20000</td>\n    </tr>\n    <tr>\n      <th>7</th>\n      <td>2</td>\n      <td>Automated Scoreboarding</td>\n      <td>2017-11-29 18:52:05.447282</td>\n      <td>2017-11-29 19:00:33.064888</td>\n      <td>SYSTEM</td>\n      <td>SYSTEM</td>\n      <td>Healthcare</td>\n      <td>20000</td>\n    </tr>\n    <tr>\n      <th>8</th>\n      <td>2</td>\n      <td>Update Backend Systems</td>\n      <td>2017-11-29 19:05:33.064888</td>\n      <td>2017-11-29 19:10:52.786846</td>\n      <td>RPA</td>\n      <td>SYSTEM</td>\n      <td>Healthcare</td>\n      <td>20000</td>\n    </tr>\n    <tr>\n      <th>9</th>\n      <td>2</td>\n      <td>Notification Review Request Completed</td>\n      <td>2017-11-29 19:15:52.786846</td>\n      <td>2017-11-29 19:23:23.910859</td>\n      <td>SYSTEM</td>\n      <td>SYSTEM</td>\n      <td>Healthcare</td>\n      <td>20000</td>\n    </tr>\n    <tr>\n      <th>10</th>\n      <td>3</td>\n      <td>New Client Onboarding Request</td>\n      <td>2017-11-30 18:00:00.000000</td>\n      <td>2017-11-30 19:07:24.374417</td>\n      <td>Nick</td>\n      <td>Sales</td>\n      <td>Healthcare</td>\n      <td>20000</td>\n    </tr>\n    <tr>\n      <th>11</th>\n      <td>3</td>\n      <td>Review Documents</td>\n      <td>2017-11-30 19:12:24.374417</td>\n      <td>2017-11-30 19:46:00.489390</td>\n      <td>Rod</td>\n      <td>Operations</td>\n      <td>Healthcare</td>\n      <td>20000</td>\n    </tr>\n    <tr>\n      <th>12</th>\n      <td>3</td>\n      <td>Automated Scoreboarding</td>\n      <td>2017-11-30 19:51:00.489390</td>\n      <td>2017-11-30 19:58:33.659701</td>\n      <td>SYSTEM</td>\n      <td>SYSTEM</td>\n      <td>Healthcare</td>\n      <td>20000</td>\n    </tr>\n    <tr>\n      <th>13</th>\n      <td>3</td>\n      <td>Update Backend Systems</td>\n      <td>2017-11-30 20:03:33.659701</td>\n      <td>2017-11-30 20:14:19.195110</td>\n      <td>RPA</td>\n      <td>SYSTEM</td>\n      <td>Healthcare</td>\n      <td>20000</td>\n    </tr>\n    <tr>\n      <th>14</th>\n      <td>3</td>\n      <td>Notification Review Request Completed</td>\n      <td>2017-11-30 20:19:19.195110</td>\n      <td>2017-11-30 20:29:12.893983</td>\n      <td>SYSTEM</td>\n      <td>SYSTEM</td>\n      <td>Healthcare</td>\n      <td>20000</td>\n    </tr>\n    <tr>\n      <th>15</th>\n      <td>4</td>\n      <td>New Client Onboarding Request</td>\n      <td>2017-12-01 18:00:00.000000</td>\n      <td>2017-12-01 18:04:49.268265</td>\n      <td>Clive</td>\n      <td>Sales</td>\n      <td>Healthcare</td>\n      <td>20000</td>\n    </tr>\n    <tr>\n      <th>16</th>\n      <td>4</td>\n      <td>Review Documents</td>\n      <td>2017-12-01 18:09:49.268265</td>\n      <td>2017-12-01 18:20:39.116627</td>\n      <td>Jane</td>\n      <td>Operations</td>\n      <td>Healthcare</td>\n      <td>20000</td>\n    </tr>\n    <tr>\n      <th>17</th>\n      <td>4</td>\n      <td>Automated Scoreboarding</td>\n      <td>2017-12-01 18:25:39.116627</td>\n      <td>2017-12-01 18:37:00.153281</td>\n      <td>SYSTEM</td>\n      <td>SYSTEM</td>\n      <td>Healthcare</td>\n      <td>20000</td>\n    </tr>\n    <tr>\n      <th>18</th>\n      <td>4</td>\n      <td>Update Backend Systems</td>\n      <td>2017-12-01 18:42:00.153281</td>\n      <td>2017-12-01 18:57:39.912749</td>\n      <td>RPA</td>\n      <td>SYSTEM</td>\n      <td>Healthcare</td>\n      <td>20000</td>\n    </tr>\n    <tr>\n      <th>19</th>\n      <td>4</td>\n      <td>Notification Review Request Completed</td>\n      <td>2017-12-01 19:02:39.912749</td>\n      <td>2017-12-01 19:08:03.095553</td>\n      <td>SYSTEM</td>\n      <td>SYSTEM</td>\n      <td>Healthcare</td>\n      <td>20000</td>\n    </tr>\n    <tr>\n      <th>20</th>\n      <td>5</td>\n      <td>New Client Onboarding Request</td>\n      <td>2017-12-02 18:00:00.000000</td>\n      <td>2017-12-02 18:38:32.156118</td>\n      <td>Clive</td>\n      <td>Sales</td>\n      <td>Healthcare</td>\n      <td>15000</td>\n    </tr>\n    <tr>\n      <th>21</th>\n      <td>5</td>\n      <td>Review Documents</td>\n      <td>2017-12-02 18:43:32.156118</td>\n      <td>2017-12-02 18:44:25.990847</td>\n      <td>Jane</td>\n      <td>Operations</td>\n      <td>Healthcare</td>\n      <td>15000</td>\n    </tr>\n    <tr>\n      <th>22</th>\n      <td>5</td>\n      <td>Automated Scoreboarding</td>\n      <td>2017-12-02 18:49:25.990847</td>\n      <td>2017-12-02 18:54:13.842368</td>\n      <td>SYSTEM</td>\n      <td>SYSTEM</td>\n      <td>Healthcare</td>\n      <td>15000</td>\n    </tr>\n    <tr>\n      <th>23</th>\n      <td>5</td>\n      <td>Update Backend Systems</td>\n      <td>2017-12-02 18:59:13.842368</td>\n      <td>2017-12-02 19:09:28.006669</td>\n      <td>RPA</td>\n      <td>SYSTEM</td>\n      <td>Healthcare</td>\n      <td>15000</td>\n    </tr>\n    <tr>\n      <th>24</th>\n      <td>5</td>\n      <td>Notification Review Request Completed</td>\n      <td>2017-12-02 19:14:28.006669</td>\n      <td>2017-12-02 19:21:24.425299</td>\n      <td>SYSTEM</td>\n      <td>SYSTEM</td>\n      <td>Healthcare</td>\n      <td>15000</td>\n    </tr>\n    <tr>\n      <th>25</th>\n      <td>6</td>\n      <td>New Client Onboarding Request</td>\n      <td>2017-12-03 18:00:00.000000</td>\n      <td>2017-12-03 18:58:34.691217</td>\n      <td>Clive</td>\n      <td>Sales</td>\n      <td>Insurance</td>\n      <td>45000</td>\n    </tr>\n    <tr>\n      <th>26</th>\n      <td>6</td>\n      <td>Review Documents</td>\n      <td>2017-12-03 19:03:34.691217</td>\n      <td>2017-12-03 19:14:34.378461</td>\n      <td>Freddy</td>\n      <td>Operations</td>\n      <td>Insurance</td>\n      <td>45000</td>\n    </tr>\n    <tr>\n      <th>27</th>\n      <td>6</td>\n      <td>Automated Scoreboarding</td>\n      <td>2017-12-03 19:19:34.378461</td>\n      <td>2017-12-03 19:25:49.716981</td>\n      <td>SYSTEM</td>\n      <td>SYSTEM</td>\n      <td>Insurance</td>\n      <td>45000</td>\n    </tr>\n    <tr>\n      <th>28</th>\n      <td>6</td>\n      <td>Update Backend Systems</td>\n      <td>2017-12-03 19:30:49.716981</td>\n      <td>2017-12-03 19:48:29.141849</td>\n      <td>RPA</td>\n      <td>SYSTEM</td>\n      <td>Insurance</td>\n      <td>45000</td>\n    </tr>\n    <tr>\n      <th>29</th>\n      <td>6</td>\n      <td>Notification Review Request Completed</td>\n      <td>2017-12-03 19:53:29.141849</td>\n      <td>2017-12-03 19:58:27.246607</td>\n      <td>SYSTEM</td>\n      <td>SYSTEM</td>\n      <td>Insurance</td>\n      <td>45000</td>\n    </tr>\n    <tr>\n      <th>30</th>\n      <td>7</td>\n      <td>New Client Onboarding Request</td>\n      <td>2017-12-04 18:00:00.000000</td>\n      <td>2017-12-04 18:21:24.813985</td>\n      <td>Clive</td>\n      <td>Sales</td>\n      <td>Healthcare</td>\n      <td>25000</td>\n    </tr>\n    <tr>\n      <th>31</th>\n      <td>7</td>\n      <td>Review Documents</td>\n      <td>2017-12-04 18:26:24.813985</td>\n      <td>2017-12-04 18:52:32.684653</td>\n      <td>Jane</td>\n      <td>Operations</td>\n      <td>Healthcare</td>\n      <td>25000</td>\n    </tr>\n    <tr>\n      <th>32</th>\n      <td>7</td>\n      <td>Automated Scoreboarding</td>\n      <td>2017-12-04 18:57:32.684653</td>\n      <td>2017-12-04 19:03:54.416181</td>\n      <td>SYSTEM</td>\n      <td>SYSTEM</td>\n      <td>Healthcare</td>\n      <td>25000</td>\n    </tr>\n    <tr>\n      <th>33</th>\n      <td>7</td>\n      <td>Update Backend Systems</td>\n      <td>2017-12-04 19:08:54.416181</td>\n      <td>2017-12-04 19:24:48.562166</td>\n      <td>RPA</td>\n      <td>SYSTEM</td>\n      <td>Healthcare</td>\n      <td>25000</td>\n    </tr>\n    <tr>\n      <th>34</th>\n      <td>7</td>\n      <td>Notification Review Request Completed</td>\n      <td>2017-12-04 19:29:48.562166</td>\n      <td>2017-12-04 19:39:59.599074</td>\n      <td>SYSTEM</td>\n      <td>SYSTEM</td>\n      <td>Healthcare</td>\n      <td>25000</td>\n    </tr>\n    <tr>\n      <th>35</th>\n      <td>8</td>\n      <td>New Client Onboarding Request</td>\n      <td>2017-12-05 18:00:00.000000</td>\n      <td>2017-12-05 18:56:27.536445</td>\n      <td>Francis</td>\n      <td>Sales</td>\n      <td>Federal</td>\n      <td>3000</td>\n    </tr>\n    <tr>\n      <th>36</th>\n      <td>8</td>\n      <td>Review Documents</td>\n      <td>2017-12-05 19:01:27.536445</td>\n      <td>2017-12-05 19:08:23.137902</td>\n      <td>Rod</td>\n      <td>Operations</td>\n      <td>Federal</td>\n      <td>3000</td>\n    </tr>\n    <tr>\n      <th>37</th>\n      <td>8</td>\n      <td>Automated Scoreboarding</td>\n      <td>2017-12-05 19:13:23.137902</td>\n      <td>2017-12-05 19:17:43.106496</td>\n      <td>SYSTEM</td>\n      <td>SYSTEM</td>\n      <td>Federal</td>\n      <td>3000</td>\n    </tr>\n    <tr>\n      <th>38</th>\n      <td>8</td>\n      <td>Update Backend Systems</td>\n      <td>2017-12-05 19:22:43.106496</td>\n      <td>2017-12-05 19:53:39.267909</td>\n      <td>RPA</td>\n      <td>SYSTEM</td>\n      <td>Federal</td>\n      <td>3000</td>\n    </tr>\n    <tr>\n      <th>39</th>\n      <td>8</td>\n      <td>Notification Review Request Completed</td>\n      <td>2017-12-05 19:58:39.267909</td>\n      <td>2017-12-05 20:03:41.934813</td>\n      <td>SYSTEM</td>\n      <td>SYSTEM</td>\n      <td>Federal</td>\n      <td>3000</td>\n    </tr>\n    <tr>\n      <th>40</th>\n      <td>9</td>\n      <td>New Client Onboarding Request</td>\n      <td>2017-12-06 18:00:00.000000</td>\n      <td>2017-12-06 18:44:27.465612</td>\n      <td>Nick</td>\n      <td>Sales</td>\n      <td>Telecom</td>\n      <td>49000</td>\n    </tr>\n    <tr>\n      <th>41</th>\n      <td>9</td>\n      <td>Review Documents</td>\n      <td>2017-12-06 18:49:27.465612</td>\n      <td>2017-12-06 19:28:58.733745</td>\n      <td>Rod</td>\n      <td>Operations</td>\n      <td>Telecom</td>\n      <td>49000</td>\n    </tr>\n    <tr>\n      <th>42</th>\n      <td>9</td>\n      <td>Automated Scoreboarding</td>\n      <td>2017-12-06 19:33:58.733745</td>\n      <td>2017-12-06 19:38:53.894321</td>\n      <td>SYSTEM</td>\n      <td>SYSTEM</td>\n      <td>Telecom</td>\n      <td>49000</td>\n    </tr>\n    <tr>\n      <th>43</th>\n      <td>9</td>\n      <td>Update Backend Systems</td>\n      <td>2017-12-06 19:43:53.894321</td>\n      <td>2017-12-06 19:54:24.126231</td>\n      <td>RPA</td>\n      <td>SYSTEM</td>\n      <td>Telecom</td>\n      <td>49000</td>\n    </tr>\n    <tr>\n      <th>44</th>\n      <td>9</td>\n      <td>Notification Review Request Completed</td>\n      <td>2017-12-06 19:59:24.126231</td>\n      <td>2017-12-06 20:05:33.108504</td>\n      <td>SYSTEM</td>\n      <td>SYSTEM</td>\n      <td>Telecom</td>\n      <td>49000</td>\n    </tr>\n    <tr>\n      <th>45</th>\n      <td>10</td>\n      <td>New Client Onboarding Request</td>\n      <td>2017-12-07 18:00:00.000000</td>\n      <td>2017-12-07 18:17:58.813699</td>\n      <td>Nick</td>\n      <td>Sales</td>\n      <td>Telecom</td>\n      <td>49000</td>\n    </tr>\n    <tr>\n      <th>46</th>\n      <td>10</td>\n      <td>Review Documents</td>\n      <td>2017-12-07 18:22:58.813699</td>\n      <td>2017-12-07 19:38:04.836674</td>\n      <td>Jane</td>\n      <td>Operations</td>\n      <td>Telecom</td>\n      <td>49000</td>\n    </tr>\n    <tr>\n      <th>47</th>\n      <td>10</td>\n      <td>Automated Scoreboarding</td>\n      <td>2017-12-07 19:43:04.836674</td>\n      <td>2017-12-07 19:50:07.023776</td>\n      <td>SYSTEM</td>\n      <td>SYSTEM</td>\n      <td>Telecom</td>\n      <td>49000</td>\n    </tr>\n    <tr>\n      <th>48</th>\n      <td>10</td>\n      <td>Update Backend Systems</td>\n      <td>2017-12-07 19:55:07.023776</td>\n      <td>2017-12-07 20:07:09.970317</td>\n      <td>RPA</td>\n      <td>SYSTEM</td>\n      <td>Telecom</td>\n      <td>49000</td>\n    </tr>\n    <tr>\n      <th>49</th>\n      <td>10</td>\n      <td>Notification Review Request Completed</td>\n      <td>2017-12-07 20:12:09.970317</td>\n      <td>2017-12-07 20:17:10.121803</td>\n      <td>SYSTEM</td>\n      <td>SYSTEM</td>\n      <td>Telecom</td>\n      <td>49000</td>\n    </tr>\n  </tbody>\n</table>\n</div>"
     },
     "execution_count": 171,
     "metadata": {},
     "output_type": "execute_result"
    }
   ],
   "source": [
    "df.head(50)"
   ],
   "metadata": {
    "collapsed": false,
    "pycharm": {
     "name": "#%%\n"
    }
   }
  },
  {
   "cell_type": "markdown",
   "source": [
    "# Stories\n",
    "Make a copy of the dataframe so we can restart here if required."
   ],
   "metadata": {
    "collapsed": false,
    "pycharm": {
     "name": "#%% md\n"
    }
   }
  },
  {
   "cell_type": "code",
   "execution_count": 172,
   "outputs": [],
   "source": [
    "story_df = df.copy()"
   ],
   "metadata": {
    "collapsed": false,
    "pycharm": {
     "name": "#%%\n"
    }
   }
  },
  {
   "cell_type": "markdown",
   "source": [
    "## Story : 1 - Rod is Too Busy\n",
    "Rod is always very busy doing other work, so he may not be able to start right away.\n",
    "Lets take a look at two `Review Documents` tasks that have been done by Rod. "
   ],
   "metadata": {
    "collapsed": false,
    "pycharm": {
     "name": "#%% md\n"
    }
   }
  },
  {
   "cell_type": "code",
   "execution_count": 173,
   "outputs": [
    {
     "data": {
      "text/plain": "   process_id              task                 start_time  \\\n1           1  Review Documents 2017-11-28 19:15:42.056829   \n6           2  Review Documents 2017-11-29 18:35:49.766804   \n\n                    end_time user  user_group    industry  service_charge  \n1 2017-11-28 19:34:23.279261  Rod  Operations     Telecom           49000  \n6 2017-11-29 18:47:05.447282  Rod  Operations  Healthcare           20000  ",
      "text/html": "<div>\n<style scoped>\n    .dataframe tbody tr th:only-of-type {\n        vertical-align: middle;\n    }\n\n    .dataframe tbody tr th {\n        vertical-align: top;\n    }\n\n    .dataframe thead th {\n        text-align: right;\n    }\n</style>\n<table border=\"1\" class=\"dataframe\">\n  <thead>\n    <tr style=\"text-align: right;\">\n      <th></th>\n      <th>process_id</th>\n      <th>task</th>\n      <th>start_time</th>\n      <th>end_time</th>\n      <th>user</th>\n      <th>user_group</th>\n      <th>industry</th>\n      <th>service_charge</th>\n    </tr>\n  </thead>\n  <tbody>\n    <tr>\n      <th>1</th>\n      <td>1</td>\n      <td>Review Documents</td>\n      <td>2017-11-28 19:15:42.056829</td>\n      <td>2017-11-28 19:34:23.279261</td>\n      <td>Rod</td>\n      <td>Operations</td>\n      <td>Telecom</td>\n      <td>49000</td>\n    </tr>\n    <tr>\n      <th>6</th>\n      <td>2</td>\n      <td>Review Documents</td>\n      <td>2017-11-29 18:35:49.766804</td>\n      <td>2017-11-29 18:47:05.447282</td>\n      <td>Rod</td>\n      <td>Operations</td>\n      <td>Healthcare</td>\n      <td>20000</td>\n    </tr>\n  </tbody>\n</table>\n</div>"
     },
     "execution_count": 173,
     "metadata": {},
     "output_type": "execute_result"
    }
   ],
   "source": [
    "filter = (story_df['task'] == 'Review Documents') & (story_df['user'] == 'Rod')\n",
    "story_df[filter].head(2)"
   ],
   "metadata": {
    "collapsed": false,
    "pycharm": {
     "name": "#%%\n"
    }
   }
  },
  {
   "cell_type": "markdown",
   "source": [
    "Delay the start time of Rod's `Review Documents` tasks by 1 hour"
   ],
   "metadata": {
    "collapsed": false,
    "pycharm": {
     "name": "#%% md\n"
    }
   }
  },
  {
   "cell_type": "code",
   "execution_count": 174,
   "outputs": [],
   "source": [
    "# If user is Rod and activity is `Review Documents` shift the start_time by 1 hour\n",
    "# \n",
    "story_df = delayStartTime(story_df, 'user','Rod', 'Review Documents', 1)"
   ],
   "metadata": {
    "collapsed": false,
    "pycharm": {
     "name": "#%%\n"
    }
   }
  },
  {
   "cell_type": "markdown",
   "source": [
    "Lets see the result of this change:"
   ],
   "metadata": {
    "collapsed": false,
    "pycharm": {
     "name": "#%% md\n"
    }
   }
  },
  {
   "cell_type": "code",
   "execution_count": 175,
   "outputs": [
    {
     "data": {
      "text/plain": "   process_id              task                 start_time  \\\n1           1  Review Documents 2017-11-28 20:15:42.056829   \n6           2  Review Documents 2017-11-29 19:35:49.766804   \n\n                    end_time user  user_group    industry  service_charge  \n1 2017-11-28 20:34:23.279261  Rod  Operations     Telecom           49000  \n6 2017-11-29 19:47:05.447282  Rod  Operations  Healthcare           20000  ",
      "text/html": "<div>\n<style scoped>\n    .dataframe tbody tr th:only-of-type {\n        vertical-align: middle;\n    }\n\n    .dataframe tbody tr th {\n        vertical-align: top;\n    }\n\n    .dataframe thead th {\n        text-align: right;\n    }\n</style>\n<table border=\"1\" class=\"dataframe\">\n  <thead>\n    <tr style=\"text-align: right;\">\n      <th></th>\n      <th>process_id</th>\n      <th>task</th>\n      <th>start_time</th>\n      <th>end_time</th>\n      <th>user</th>\n      <th>user_group</th>\n      <th>industry</th>\n      <th>service_charge</th>\n    </tr>\n  </thead>\n  <tbody>\n    <tr>\n      <th>1</th>\n      <td>1</td>\n      <td>Review Documents</td>\n      <td>2017-11-28 20:15:42.056829</td>\n      <td>2017-11-28 20:34:23.279261</td>\n      <td>Rod</td>\n      <td>Operations</td>\n      <td>Telecom</td>\n      <td>49000</td>\n    </tr>\n    <tr>\n      <th>6</th>\n      <td>2</td>\n      <td>Review Documents</td>\n      <td>2017-11-29 19:35:49.766804</td>\n      <td>2017-11-29 19:47:05.447282</td>\n      <td>Rod</td>\n      <td>Operations</td>\n      <td>Healthcare</td>\n      <td>20000</td>\n    </tr>\n  </tbody>\n</table>\n</div>"
     },
     "execution_count": 175,
     "metadata": {},
     "output_type": "execute_result"
    }
   ],
   "source": [
    "filter = (story_df['task'] == 'Review Documents') & (story_df['user'] == 'Rod')\n",
    "story_df[filter].head(2)"
   ],
   "metadata": {
    "collapsed": false,
    "pycharm": {
     "name": "#%%\n"
    }
   }
  },
  {
   "cell_type": "markdown",
   "source": [
    "## Story : 2 - Complex Doc Review\n",
    "Increase the time taken for doc review by 2hrs when the industry is federal. \n",
    "The rationale here is that the documentation requirements are greater."
   ],
   "metadata": {
    "collapsed": false,
    "pycharm": {
     "name": "#%% md\n"
    }
   }
  },
  {
   "cell_type": "markdown",
   "source": [
    "Lets look at some `Review Documents` where the industry is `Federal`"
   ],
   "metadata": {
    "collapsed": false,
    "pycharm": {
     "name": "#%% md\n"
    }
   }
  },
  {
   "cell_type": "code",
   "execution_count": 176,
   "outputs": [
    {
     "data": {
      "text/plain": "    process_id              task                 start_time  \\\n36           8  Review Documents 2017-12-05 20:01:27.536445   \n81          17  Review Documents 2017-12-14 18:16:06.059101   \n\n                     end_time    user  user_group industry  service_charge  \n36 2017-12-05 20:08:23.137902     Rod  Operations  Federal            3000  \n81 2017-12-14 18:27:08.259339  Freddy  Operations  Federal            8000  ",
      "text/html": "<div>\n<style scoped>\n    .dataframe tbody tr th:only-of-type {\n        vertical-align: middle;\n    }\n\n    .dataframe tbody tr th {\n        vertical-align: top;\n    }\n\n    .dataframe thead th {\n        text-align: right;\n    }\n</style>\n<table border=\"1\" class=\"dataframe\">\n  <thead>\n    <tr style=\"text-align: right;\">\n      <th></th>\n      <th>process_id</th>\n      <th>task</th>\n      <th>start_time</th>\n      <th>end_time</th>\n      <th>user</th>\n      <th>user_group</th>\n      <th>industry</th>\n      <th>service_charge</th>\n    </tr>\n  </thead>\n  <tbody>\n    <tr>\n      <th>36</th>\n      <td>8</td>\n      <td>Review Documents</td>\n      <td>2017-12-05 20:01:27.536445</td>\n      <td>2017-12-05 20:08:23.137902</td>\n      <td>Rod</td>\n      <td>Operations</td>\n      <td>Federal</td>\n      <td>3000</td>\n    </tr>\n    <tr>\n      <th>81</th>\n      <td>17</td>\n      <td>Review Documents</td>\n      <td>2017-12-14 18:16:06.059101</td>\n      <td>2017-12-14 18:27:08.259339</td>\n      <td>Freddy</td>\n      <td>Operations</td>\n      <td>Federal</td>\n      <td>8000</td>\n    </tr>\n  </tbody>\n</table>\n</div>"
     },
     "execution_count": 176,
     "metadata": {},
     "output_type": "execute_result"
    }
   ],
   "source": [
    "filter = (story_df['task'] == 'Review Documents') & (story_df['industry'] == 'Federal')\n",
    "story_df[filter].head(2)"
   ],
   "metadata": {
    "collapsed": false,
    "pycharm": {
     "name": "#%%\n"
    }
   }
  },
  {
   "cell_type": "code",
   "execution_count": 177,
   "outputs": [
    {
     "data": {
      "text/plain": "    process_id                                   task  \\\n35           8          New Client Onboarding Request   \n36           8                       Review Documents   \n37           8                Automated Scoreboarding   \n38           8                 Update Backend Systems   \n39           8  Notification Review Request Completed   \n\n                   start_time                   end_time     user  user_group  \\\n35 2017-12-05 18:00:00.000000 2017-12-05 18:56:27.536445  Francis       Sales   \n36 2017-12-05 20:01:27.536445 2017-12-05 20:08:23.137902      Rod  Operations   \n37 2017-12-05 20:13:23.137902 2017-12-05 20:17:43.106496   SYSTEM      SYSTEM   \n38 2017-12-05 20:22:43.106496 2017-12-05 20:53:39.267909      RPA      SYSTEM   \n39 2017-12-05 20:58:39.267909 2017-12-05 21:03:41.934813   SYSTEM      SYSTEM   \n\n   industry  service_charge  \n35  Federal            3000  \n36  Federal            3000  \n37  Federal            3000  \n38  Federal            3000  \n39  Federal            3000  ",
      "text/html": "<div>\n<style scoped>\n    .dataframe tbody tr th:only-of-type {\n        vertical-align: middle;\n    }\n\n    .dataframe tbody tr th {\n        vertical-align: top;\n    }\n\n    .dataframe thead th {\n        text-align: right;\n    }\n</style>\n<table border=\"1\" class=\"dataframe\">\n  <thead>\n    <tr style=\"text-align: right;\">\n      <th></th>\n      <th>process_id</th>\n      <th>task</th>\n      <th>start_time</th>\n      <th>end_time</th>\n      <th>user</th>\n      <th>user_group</th>\n      <th>industry</th>\n      <th>service_charge</th>\n    </tr>\n  </thead>\n  <tbody>\n    <tr>\n      <th>35</th>\n      <td>8</td>\n      <td>New Client Onboarding Request</td>\n      <td>2017-12-05 18:00:00.000000</td>\n      <td>2017-12-05 18:56:27.536445</td>\n      <td>Francis</td>\n      <td>Sales</td>\n      <td>Federal</td>\n      <td>3000</td>\n    </tr>\n    <tr>\n      <th>36</th>\n      <td>8</td>\n      <td>Review Documents</td>\n      <td>2017-12-05 20:01:27.536445</td>\n      <td>2017-12-05 20:08:23.137902</td>\n      <td>Rod</td>\n      <td>Operations</td>\n      <td>Federal</td>\n      <td>3000</td>\n    </tr>\n    <tr>\n      <th>37</th>\n      <td>8</td>\n      <td>Automated Scoreboarding</td>\n      <td>2017-12-05 20:13:23.137902</td>\n      <td>2017-12-05 20:17:43.106496</td>\n      <td>SYSTEM</td>\n      <td>SYSTEM</td>\n      <td>Federal</td>\n      <td>3000</td>\n    </tr>\n    <tr>\n      <th>38</th>\n      <td>8</td>\n      <td>Update Backend Systems</td>\n      <td>2017-12-05 20:22:43.106496</td>\n      <td>2017-12-05 20:53:39.267909</td>\n      <td>RPA</td>\n      <td>SYSTEM</td>\n      <td>Federal</td>\n      <td>3000</td>\n    </tr>\n    <tr>\n      <th>39</th>\n      <td>8</td>\n      <td>Notification Review Request Completed</td>\n      <td>2017-12-05 20:58:39.267909</td>\n      <td>2017-12-05 21:03:41.934813</td>\n      <td>SYSTEM</td>\n      <td>SYSTEM</td>\n      <td>Federal</td>\n      <td>3000</td>\n    </tr>\n  </tbody>\n</table>\n</div>"
     },
     "execution_count": 177,
     "metadata": {},
     "output_type": "execute_result"
    }
   ],
   "source": [
    "story_df[story_df['process_id'] == 8]"
   ],
   "metadata": {
    "collapsed": false,
    "pycharm": {
     "name": "#%%\n"
    }
   }
  },
  {
   "cell_type": "code",
   "execution_count": 178,
   "outputs": [],
   "source": [
    "story_df = increaseDuration(story_df, 'industry','Federal', 'Review Documents', 2)"
   ],
   "metadata": {
    "collapsed": false,
    "pycharm": {
     "name": "#%%\n"
    }
   }
  },
  {
   "cell_type": "code",
   "execution_count": 179,
   "outputs": [
    {
     "data": {
      "text/plain": "    process_id                                   task  \\\n35           8          New Client Onboarding Request   \n36           8                       Review Documents   \n37           8                Automated Scoreboarding   \n38           8                 Update Backend Systems   \n39           8  Notification Review Request Completed   \n\n                   start_time                   end_time     user  user_group  \\\n35 2017-12-05 18:00:00.000000 2017-12-05 18:56:27.536445  Francis       Sales   \n36 2017-12-05 20:01:27.536445 2017-12-05 22:08:23.137902      Rod  Operations   \n37 2017-12-05 22:13:23.137902 2017-12-05 22:17:43.106496   SYSTEM      SYSTEM   \n38 2017-12-05 22:22:43.106496 2017-12-05 22:53:39.267909      RPA      SYSTEM   \n39 2017-12-05 22:58:39.267909 2017-12-05 23:03:41.934813   SYSTEM      SYSTEM   \n\n   industry  service_charge  \n35  Federal            3000  \n36  Federal            3000  \n37  Federal            3000  \n38  Federal            3000  \n39  Federal            3000  ",
      "text/html": "<div>\n<style scoped>\n    .dataframe tbody tr th:only-of-type {\n        vertical-align: middle;\n    }\n\n    .dataframe tbody tr th {\n        vertical-align: top;\n    }\n\n    .dataframe thead th {\n        text-align: right;\n    }\n</style>\n<table border=\"1\" class=\"dataframe\">\n  <thead>\n    <tr style=\"text-align: right;\">\n      <th></th>\n      <th>process_id</th>\n      <th>task</th>\n      <th>start_time</th>\n      <th>end_time</th>\n      <th>user</th>\n      <th>user_group</th>\n      <th>industry</th>\n      <th>service_charge</th>\n    </tr>\n  </thead>\n  <tbody>\n    <tr>\n      <th>35</th>\n      <td>8</td>\n      <td>New Client Onboarding Request</td>\n      <td>2017-12-05 18:00:00.000000</td>\n      <td>2017-12-05 18:56:27.536445</td>\n      <td>Francis</td>\n      <td>Sales</td>\n      <td>Federal</td>\n      <td>3000</td>\n    </tr>\n    <tr>\n      <th>36</th>\n      <td>8</td>\n      <td>Review Documents</td>\n      <td>2017-12-05 20:01:27.536445</td>\n      <td>2017-12-05 22:08:23.137902</td>\n      <td>Rod</td>\n      <td>Operations</td>\n      <td>Federal</td>\n      <td>3000</td>\n    </tr>\n    <tr>\n      <th>37</th>\n      <td>8</td>\n      <td>Automated Scoreboarding</td>\n      <td>2017-12-05 22:13:23.137902</td>\n      <td>2017-12-05 22:17:43.106496</td>\n      <td>SYSTEM</td>\n      <td>SYSTEM</td>\n      <td>Federal</td>\n      <td>3000</td>\n    </tr>\n    <tr>\n      <th>38</th>\n      <td>8</td>\n      <td>Update Backend Systems</td>\n      <td>2017-12-05 22:22:43.106496</td>\n      <td>2017-12-05 22:53:39.267909</td>\n      <td>RPA</td>\n      <td>SYSTEM</td>\n      <td>Federal</td>\n      <td>3000</td>\n    </tr>\n    <tr>\n      <th>39</th>\n      <td>8</td>\n      <td>Notification Review Request Completed</td>\n      <td>2017-12-05 22:58:39.267909</td>\n      <td>2017-12-05 23:03:41.934813</td>\n      <td>SYSTEM</td>\n      <td>SYSTEM</td>\n      <td>Federal</td>\n      <td>3000</td>\n    </tr>\n  </tbody>\n</table>\n</div>"
     },
     "execution_count": 179,
     "metadata": {},
     "output_type": "execute_result"
    }
   ],
   "source": [
    "story_df[story_df['process_id'] == 8]"
   ],
   "metadata": {
    "collapsed": false,
    "pycharm": {
     "name": "#%%\n"
    }
   }
  },
  {
   "cell_type": "markdown",
   "source": [
    "## Export Finished Dataset"
   ],
   "metadata": {
    "collapsed": false,
    "pycharm": {
     "name": "#%% md\n"
    }
   }
  },
  {
   "cell_type": "code",
   "execution_count": 180,
   "outputs": [],
   "source": [
    "story_df.to_csv('pm_tasks_1k.csv', index=False, date_format='%d-%m-%Y %H:%M:%S')"
   ],
   "metadata": {
    "collapsed": false,
    "pycharm": {
     "name": "#%%\n"
    }
   }
  },
  {
   "cell_type": "code",
   "execution_count": null,
   "id": "d7248223-a3cf-4268-99c8-fd2aec78ce74",
   "metadata": {
    "pycharm": {
     "name": "#%%\n"
    }
   },
   "outputs": [],
   "source": []
  }
 ],
 "metadata": {
  "kernelspec": {
   "display_name": "Python 3 (ipykernel)",
   "language": "python",
   "name": "python3"
  },
  "language_info": {
   "codemirror_mode": {
    "name": "ipython",
    "version": 3
   },
   "file_extension": ".py",
   "mimetype": "text/x-python",
   "name": "python",
   "nbconvert_exporter": "python",
   "pygments_lexer": "ipython3",
   "version": "3.10.5"
  }
 },
 "nbformat": 4,
 "nbformat_minor": 5
}