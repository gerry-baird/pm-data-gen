{
 "cells": [
  {
   "cell_type": "code",
   "execution_count": 1,
   "id": "342dfd3b-48e3-4008-8458-da4020f95bcd",
   "metadata": {
    "pycharm": {
     "name": "#%%\n"
    }
   },
   "outputs": [],
   "source": [
    "import pandas as pd\n",
    "import numpy as np\n",
    "import random\n",
    "from datetime import timedelta\n",
    "from datetime import datetime\n",
    "\n"
   ]
  },
  {
   "cell_type": "markdown",
   "id": "3485f5d5-3281-495f-8112-29c4c5d8989e",
   "metadata": {
    "pycharm": {
     "name": "#%% md\n"
    }
   },
   "source": [
    "## Load Task Duration Config\n",
    "For each task type that could be generated we need an average duration and a maximum duration."
   ]
  },
  {
   "cell_type": "code",
   "execution_count": 2,
   "id": "6fdd533e-7b55-4574-9d8e-55cd54441d2c",
   "metadata": {
    "pycharm": {
     "name": "#%%\n"
    },
    "tags": []
   },
   "outputs": [],
   "source": [
    "#Load task duration dataframe\n",
    "#task_duration_df = pd.read_csv('task_duration_config.csv')\n",
    "#task_duration_df.set_index('Task', inplace=True)\n",
    "\n",
    "data = [['New Client Onboarding Request', 0.5,1.5], \n",
    "        ['Review Documents', 0.25,  2.5], \n",
    "        ['Automated Scoreboarding', 0.1, 0.15],\n",
    "        ['Manual Scoreboarding', 1.0, 3.0],\n",
    "        ['Update Backend Systems', 0.25, 0.5],\n",
    "        ['Notification Review Request Completed', 0.1, 0.15]\n",
    "       ]\n",
    "\n",
    "task_duration_df = pd.DataFrame(data, columns=['Task', 'Avg', 'Max'])\n",
    "task_duration_df.set_index('Task', inplace=True)"
   ]
  },
  {
   "cell_type": "code",
   "execution_count": 3,
   "id": "d21a097b-e4f6-4108-9270-1d27249c99db",
   "metadata": {
    "pycharm": {
     "name": "#%%\n"
    },
    "scrolled": true,
    "tags": []
   },
   "outputs": [
    {
     "data": {
      "text/plain": "                                        Avg   Max\nTask                                             \nNew Client Onboarding Request          0.50  1.50\nReview Documents                       0.25  2.50\nAutomated Scoreboarding                0.10  0.15\nManual Scoreboarding                   1.00  3.00\nUpdate Backend Systems                 0.25  0.50\nNotification Review Request Completed  0.10  0.15",
      "text/html": "<div>\n<style scoped>\n    .dataframe tbody tr th:only-of-type {\n        vertical-align: middle;\n    }\n\n    .dataframe tbody tr th {\n        vertical-align: top;\n    }\n\n    .dataframe thead th {\n        text-align: right;\n    }\n</style>\n<table border=\"1\" class=\"dataframe\">\n  <thead>\n    <tr style=\"text-align: right;\">\n      <th></th>\n      <th>Avg</th>\n      <th>Max</th>\n    </tr>\n    <tr>\n      <th>Task</th>\n      <th></th>\n      <th></th>\n    </tr>\n  </thead>\n  <tbody>\n    <tr>\n      <th>New Client Onboarding Request</th>\n      <td>0.50</td>\n      <td>1.50</td>\n    </tr>\n    <tr>\n      <th>Review Documents</th>\n      <td>0.25</td>\n      <td>2.50</td>\n    </tr>\n    <tr>\n      <th>Automated Scoreboarding</th>\n      <td>0.10</td>\n      <td>0.15</td>\n    </tr>\n    <tr>\n      <th>Manual Scoreboarding</th>\n      <td>1.00</td>\n      <td>3.00</td>\n    </tr>\n    <tr>\n      <th>Update Backend Systems</th>\n      <td>0.25</td>\n      <td>0.50</td>\n    </tr>\n    <tr>\n      <th>Notification Review Request Completed</th>\n      <td>0.10</td>\n      <td>0.15</td>\n    </tr>\n  </tbody>\n</table>\n</div>"
     },
     "execution_count": 3,
     "metadata": {},
     "output_type": "execute_result"
    }
   ],
   "source": [
    "task_duration_df.head(10)"
   ]
  },
  {
   "cell_type": "markdown",
   "id": "355b283c",
   "metadata": {
    "pycharm": {
     "name": "#%% md\n"
    }
   },
   "source": [
    "## Utility Functions"
   ]
  },
  {
   "cell_type": "markdown",
   "id": "f953f41d",
   "metadata": {
    "pycharm": {
     "name": "#%% md\n"
    }
   },
   "source": [
    "### Generate Process Instances\n",
    "This function manages the creation of process instances for a specific process variant. A process variant is simply the list of tasks in execution order, including any loops. For example ['Wake Up', 'Breakfast', 'Work', 'Dinner' 'Sleep']"
   ]
  },
  {
   "cell_type": "code",
   "execution_count": 4,
   "id": "d9e25211",
   "metadata": {
    "pycharm": {
     "name": "#%%\n"
    }
   },
   "outputs": [],
   "source": [
    "def generate_process_instances(process_variant, qty):\n",
    "\n",
    "    global start_date_time\n",
    "    global instance_counter\n",
    "    task_list = []\n",
    "    for x in range(0, qty):\n",
    "        tasks = build_task_list(instance_counter, process_variant, start_date_time, task_duration_df)\n",
    "        for task in tasks:\n",
    "            task_list.append(task)\n",
    "\n",
    "        # Increment the start time by 24 hour\n",
    "        start_date_time = start_date_time + timedelta(hours=24)\n",
    "        # Increment the process_id\n",
    "        instance_counter = instance_counter +1\n",
    "        \n",
    "    return task_list"
   ]
  },
  {
   "cell_type": "markdown",
   "id": "45b76785-3ae6-4d95-aabf-f730fb83fa35",
   "metadata": {
    "pycharm": {
     "name": "#%% md\n"
    }
   },
   "source": [
    "## Build Task List\n",
    "The build_task_list function creates a list of tasks for a specific instance of a process. The sequence of tasks is defined in the variable called process_variant. Random task durations are calculated using the task_durations_df that contains the task name, the average duration and the max duration.  \n",
    "\n",
    "This code generates a random duration by leveraging the numpy lognormal function that gives a random\n",
    "number drawn from a log normal distribution. Look up a picture of log normal distributions and you'll see \n",
    "why this is useful for generating random durations based on a mean and std deviation.\n",
    "most samples are near the average with a long tail stretching towards infinity.\n"
   ]
  },
  {
   "cell_type": "code",
   "execution_count": 5,
   "id": "0e4b8baa-ca9a-4425-ac52-91ba6f9effe9",
   "metadata": {
    "pycharm": {
     "name": "#%%\n"
    }
   },
   "outputs": [],
   "source": [
    "def build_task_list(instance_id, process_variant, start_date_time, task_duration_df):\n",
    "    instance_task_list = []\n",
    "    rnd = np.random.default_rng()  # a random number generator\n",
    "\n",
    "    # process_variant is a series\n",
    "    for task_type in process_variant:\n",
    "        # get the avg and max durations from the task_df dataframe using task_type as the key\n",
    "        avg_dur = task_duration_df.loc[task_type, 'Avg']\n",
    "        max_dur = task_duration_df.loc[task_type, 'Max']\n",
    "\n",
    "        sigma = (max_dur - avg_dur) / max_dur  # std dev\n",
    "        log_mean = np.log(avg_dur)  # can't pass the mean duration into lognormal until it has been logged itself \n",
    "        delta = rnd.lognormal(log_mean, sigma)  # get a random sample from a log normal distribution with a std dev\n",
    "        end_time = start_date_time + timedelta(hours=delta)\n",
    "        task = [instance_id, task_type, start_date_time, end_time]\n",
    "        instance_task_list.append(task)\n",
    "\n",
    "        # set the start time of the next tasks to be 5 mins after the end time of this task\n",
    "        start_date_time = end_time + timedelta(minutes=5)\n",
    "\n",
    "    return instance_task_list"
   ]
  },
  {
   "cell_type": "markdown",
   "id": "3ca40d08",
   "metadata": {
    "pycharm": {
     "name": "#%% md\n"
    }
   },
   "source": [
    "## Delay Task Start Time\n",
    "This function shifts the task start time for a specific task with a specific attribute set to a specific value. For example, to delay the start time of breakfast by 1hour \"task_list, User, Gerry, Eat Breakfast, 1\"\n",
    "\n",
    "This function will apply the same delay to every subsequent task of the process instance. "
   ]
  },
  {
   "cell_type": "code",
   "execution_count": 6,
   "id": "4ddcee7b-e027-4b81-bfea-a0d79ff239aa",
   "metadata": {
    "pycharm": {
     "name": "#%%\n"
    }
   },
   "outputs": [],
   "source": [
    "def delayStartTime(tasks, target_attribute, target_value, target_task, timeShift):\n",
    "\n",
    "    # Logic requires we sort by process_id and start_date\n",
    "    tasks = tasks.sort_values(['process_id', 'start_time'])\n",
    "    tasks = tasks.reset_index(drop=True)\n",
    "    process_being_modified = -1\n",
    "\n",
    "    # iterate through the dataframe using the index value\n",
    "    for x in tasks.index:\n",
    "        row = tasks.loc[x]\n",
    "        task_attribute = row[target_attribute]\n",
    "        row_task = row['task']\n",
    "        current_process = row['process_id']\n",
    "\n",
    "\n",
    "        # Have we found the target activity\n",
    "        if row_task == target_task and task_attribute == target_value:\n",
    "            process_being_modified = current_process\n",
    "\n",
    "        # Are we still processing the same process that we were when we found the target activity ?\n",
    "        # If so we are moving all subsequent tasks back by the value of the timeshift parameter,\n",
    "        # this means shifting the start time and the end time\n",
    "        if current_process == process_being_modified:\n",
    "            # shift the start time\n",
    "            current_start = row['start_time']\n",
    "            shifted_start = current_start + timedelta(hours=timeShift)\n",
    "            tasks.loc[x, 'start_time'] = shifted_start\n",
    "            \n",
    "            # shift the end time\n",
    "            current_end = row['end_time']\n",
    "            shifted_end = current_end + timedelta(hours=timeShift)\n",
    "            tasks.loc[x, 'end_time'] = shifted_end\n",
    "            \n",
    "    return tasks"
   ]
  },
  {
   "cell_type": "markdown",
   "source": [
    "## Increase Duration\n",
    "This will increase the duration of the target task for each process and alter the timings of any subsequent tasks\n",
    "When iterating over tasks there are four potential conditions:\n",
    "1. We haven't found the target task in the tasks of a process - do nothing.\n",
    "2. We have found the target task so just increase the end time\n",
    "3. We have found another target task in the process due to a process loop, increase the start time by the time delta and end time by double the timedelta\n",
    "4. We have found a task the follows the target task, increase the start time and end time by the timedelta"
   ],
   "metadata": {
    "collapsed": false,
    "pycharm": {
     "name": "#%% md\n"
    }
   }
  },
  {
   "cell_type": "code",
   "execution_count": 48,
   "outputs": [],
   "source": [
    "def increaseDuration(tasks, target_attribute, target_value, target_task, timeShift):\n",
    "\n",
    "    # Logic requires we sort by process_id and start_date\n",
    "    tasks = tasks.sort_values(['process_id', 'start_time'])\n",
    "    tasks = tasks.reset_index(drop=True)\n",
    "    process_being_modified = -1\n",
    "    target_task_counter = 0\n",
    "    \n",
    "    # iterate through the dataframe using the index value\n",
    "    for x in tasks.index:\n",
    "        row = tasks.loc[x]\n",
    "        task_attribute = row[target_attribute]\n",
    "        row_task = row['task']\n",
    "        current_process = row['process_id']\n",
    "        processing_target_task = False\n",
    "        \n",
    "        # reset the target task counter when we come across a new process\n",
    "        if current_process !=  process_being_modified:\n",
    "            target_task_counter = 0\n",
    "\n",
    "        # Have we found a task of the target type with a target attribute matching the target value?\n",
    "        if row_task == target_task and task_attribute == target_value:\n",
    "            process_being_modified = current_process\n",
    "            target_task_counter = target_task_counter + 1\n",
    "            \n",
    "            # If this is the first target task in this process then\n",
    "            # just increase the duration by increasing the end_time\n",
    "            if target_task_counter == 1: \n",
    "                current_end = row['end_time']\n",
    "                shifted_end = current_end + timedelta(hours=timeShift)\n",
    "                tasks.loc[x, 'end_time'] = shifted_end\n",
    "                \n",
    "            # We've found a repeat target task in the process\n",
    "            # increase the start time by the timedelta \n",
    "            # and increase the end time by TWICE the timedelta    \n",
    "            else:                \n",
    "                current_start = row['start_time']\n",
    "                shifted_start = current_start + timedelta(hours=timeShift)\n",
    "                tasks.loc[x, 'start_time'] = shifted_start\n",
    "                    \n",
    "                # shift the end time\n",
    "                current_end = row['end_time']\n",
    "                shifted_end = current_end + timedelta(hours=timeShift * 2)\n",
    "                tasks.loc[x, 'end_time'] = shifted_end\n",
    "                \n",
    "        # If we are NOT processing the target task but the target task counter is > 0 then we are processing\n",
    "        # a task that comes after the target task in the same process instance. If so we\n",
    "        # this means shifting the start time and the end time\n",
    "        elif target_task_counter > 0:\n",
    "                current_start = row['start_time']\n",
    "                shifted_start = current_start + timedelta(hours=timeShift)\n",
    "                tasks.loc[x, 'start_time'] = shifted_start\n",
    "            \n",
    "                current_end = row['end_time']\n",
    "                shifted_end = current_end + timedelta(hours=timeShift)\n",
    "                tasks.loc[x, 'end_time'] = shifted_end\n",
    "            \n",
    "    return tasks"
   ],
   "metadata": {
    "collapsed": false,
    "pycharm": {
     "name": "#%%\n"
    }
   }
  },
  {
   "cell_type": "markdown",
   "source": [
    "## Initialise Data Generator"
   ],
   "metadata": {
    "collapsed": false,
    "pycharm": {
     "name": "#%% md\n"
    }
   }
  },
  {
   "cell_type": "code",
   "execution_count": 8,
   "outputs": [],
   "source": [
    "start_date_time = datetime(2017, 11, 28, 18, 00, 00)\n",
    "instance_time_offset = 24\n",
    "instance_counter = 1\n"
   ],
   "metadata": {
    "collapsed": false,
    "pycharm": {
     "name": "#%%\n"
    }
   }
  },
  {
   "cell_type": "markdown",
   "source": [
    "## Create Happy Path Instances"
   ],
   "metadata": {
    "collapsed": false,
    "pycharm": {
     "name": "#%% md\n"
    }
   }
  },
  {
   "cell_type": "code",
   "execution_count": 9,
   "outputs": [],
   "source": [
    "\n",
    "qty = 900\n",
    "happy_path = [\"New Client Onboarding Request\", \n",
    "               \"Review Documents\", \n",
    "               \"Automated Scoreboarding\",\n",
    "               \"Update Backend Systems\", \n",
    "               \"Notification Review Request Completed\"]\n",
    "\n",
    "happy_path_task_list = []\n",
    "happy_path_task_list = generate_process_instances(happy_path, qty)\n",
    "happy_path_task_list_df = pd.DataFrame(happy_path_task_list)\n",
    "\n",
    "# Increment the start time by 24 hour\n",
    "start_date_time = start_date_time + timedelta(hours=24)"
   ],
   "metadata": {
    "collapsed": false,
    "pycharm": {
     "name": "#%%\n"
    }
   }
  },
  {
   "cell_type": "code",
   "execution_count": 10,
   "outputs": [
    {
     "data": {
      "text/plain": "   0                                      1                          2  \\\n0  1          New Client Onboarding Request 2017-11-28 18:00:00.000000   \n1  1                       Review Documents 2017-11-28 19:54:06.323403   \n2  1                Automated Scoreboarding 2017-11-28 20:05:35.434633   \n3  1                 Update Backend Systems 2017-11-28 20:17:26.974855   \n4  1  Notification Review Request Completed 2017-11-28 20:43:39.422473   \n\n                           3  \n0 2017-11-28 19:49:06.323403  \n1 2017-11-28 20:00:35.434633  \n2 2017-11-28 20:12:26.974855  \n3 2017-11-28 20:38:39.422473  \n4 2017-11-28 20:49:11.745118  ",
      "text/html": "<div>\n<style scoped>\n    .dataframe tbody tr th:only-of-type {\n        vertical-align: middle;\n    }\n\n    .dataframe tbody tr th {\n        vertical-align: top;\n    }\n\n    .dataframe thead th {\n        text-align: right;\n    }\n</style>\n<table border=\"1\" class=\"dataframe\">\n  <thead>\n    <tr style=\"text-align: right;\">\n      <th></th>\n      <th>0</th>\n      <th>1</th>\n      <th>2</th>\n      <th>3</th>\n    </tr>\n  </thead>\n  <tbody>\n    <tr>\n      <th>0</th>\n      <td>1</td>\n      <td>New Client Onboarding Request</td>\n      <td>2017-11-28 18:00:00.000000</td>\n      <td>2017-11-28 19:49:06.323403</td>\n    </tr>\n    <tr>\n      <th>1</th>\n      <td>1</td>\n      <td>Review Documents</td>\n      <td>2017-11-28 19:54:06.323403</td>\n      <td>2017-11-28 20:00:35.434633</td>\n    </tr>\n    <tr>\n      <th>2</th>\n      <td>1</td>\n      <td>Automated Scoreboarding</td>\n      <td>2017-11-28 20:05:35.434633</td>\n      <td>2017-11-28 20:12:26.974855</td>\n    </tr>\n    <tr>\n      <th>3</th>\n      <td>1</td>\n      <td>Update Backend Systems</td>\n      <td>2017-11-28 20:17:26.974855</td>\n      <td>2017-11-28 20:38:39.422473</td>\n    </tr>\n    <tr>\n      <th>4</th>\n      <td>1</td>\n      <td>Notification Review Request Completed</td>\n      <td>2017-11-28 20:43:39.422473</td>\n      <td>2017-11-28 20:49:11.745118</td>\n    </tr>\n  </tbody>\n</table>\n</div>"
     },
     "execution_count": 10,
     "metadata": {},
     "output_type": "execute_result"
    }
   ],
   "source": [
    "happy_path_task_list_df.head()"
   ],
   "metadata": {
    "collapsed": false,
    "pycharm": {
     "name": "#%%\n"
    }
   }
  },
  {
   "cell_type": "markdown",
   "source": [
    "## Create Instances Requiring Manual Scoreboarding"
   ],
   "metadata": {
    "collapsed": false,
    "pycharm": {
     "name": "#%% md\n"
    }
   }
  },
  {
   "cell_type": "code",
   "execution_count": 11,
   "outputs": [],
   "source": [
    "\n",
    "qty = 80\n",
    "manual_path = [\"New Client Onboarding Request\", \n",
    "               \"Review Documents\", \n",
    "               \"Automated Scoreboarding\",\n",
    "               \"Manual Scoreboarding\",\n",
    "               \"Update Backend Systems\", \n",
    "               \"Notification Review Request Completed\"]\n",
    "\n",
    "manual_path_task_list = []\n",
    "manual_path_task_list = generate_process_instances(manual_path, qty)\n",
    "manual_path_task_list_df = pd.DataFrame(manual_path_task_list)\n",
    "\n",
    "# Increment the start time by 24 hour\n",
    "start_date_time = start_date_time + timedelta(hours=24)"
   ],
   "metadata": {
    "collapsed": false,
    "pycharm": {
     "name": "#%%\n"
    }
   }
  },
  {
   "cell_type": "code",
   "execution_count": 12,
   "outputs": [
    {
     "data": {
      "text/plain": "     0                              1                          2  \\\n0  901  New Client Onboarding Request 2020-05-17 18:00:00.000000   \n1  901               Review Documents 2020-05-17 19:12:32.437415   \n2  901        Automated Scoreboarding 2020-05-17 19:27:22.035088   \n3  901           Manual Scoreboarding 2020-05-17 19:38:10.974020   \n4  901         Update Backend Systems 2020-05-17 21:13:36.665124   \n\n                           3  \n0 2020-05-17 19:07:32.437415  \n1 2020-05-17 19:22:22.035088  \n2 2020-05-17 19:33:10.974020  \n3 2020-05-17 21:08:36.665124  \n4 2020-05-17 21:21:55.830352  ",
      "text/html": "<div>\n<style scoped>\n    .dataframe tbody tr th:only-of-type {\n        vertical-align: middle;\n    }\n\n    .dataframe tbody tr th {\n        vertical-align: top;\n    }\n\n    .dataframe thead th {\n        text-align: right;\n    }\n</style>\n<table border=\"1\" class=\"dataframe\">\n  <thead>\n    <tr style=\"text-align: right;\">\n      <th></th>\n      <th>0</th>\n      <th>1</th>\n      <th>2</th>\n      <th>3</th>\n    </tr>\n  </thead>\n  <tbody>\n    <tr>\n      <th>0</th>\n      <td>901</td>\n      <td>New Client Onboarding Request</td>\n      <td>2020-05-17 18:00:00.000000</td>\n      <td>2020-05-17 19:07:32.437415</td>\n    </tr>\n    <tr>\n      <th>1</th>\n      <td>901</td>\n      <td>Review Documents</td>\n      <td>2020-05-17 19:12:32.437415</td>\n      <td>2020-05-17 19:22:22.035088</td>\n    </tr>\n    <tr>\n      <th>2</th>\n      <td>901</td>\n      <td>Automated Scoreboarding</td>\n      <td>2020-05-17 19:27:22.035088</td>\n      <td>2020-05-17 19:33:10.974020</td>\n    </tr>\n    <tr>\n      <th>3</th>\n      <td>901</td>\n      <td>Manual Scoreboarding</td>\n      <td>2020-05-17 19:38:10.974020</td>\n      <td>2020-05-17 21:08:36.665124</td>\n    </tr>\n    <tr>\n      <th>4</th>\n      <td>901</td>\n      <td>Update Backend Systems</td>\n      <td>2020-05-17 21:13:36.665124</td>\n      <td>2020-05-17 21:21:55.830352</td>\n    </tr>\n  </tbody>\n</table>\n</div>"
     },
     "execution_count": 12,
     "metadata": {},
     "output_type": "execute_result"
    }
   ],
   "source": [
    "manual_path_task_list_df.head()"
   ],
   "metadata": {
    "collapsed": false,
    "pycharm": {
     "name": "#%%\n"
    }
   }
  },
  {
   "cell_type": "markdown",
   "source": [
    "## Create Instance that loop\n",
    "Create processes that loop back to Review Docs from Manual Scoreboarding."
   ],
   "metadata": {
    "collapsed": false,
    "pycharm": {
     "name": "#%% md\n"
    }
   }
  },
  {
   "cell_type": "code",
   "execution_count": 13,
   "outputs": [],
   "source": [
    "qty = 20\n",
    "loop_path = [\"New Client Onboarding Request\", \n",
    "               \"Review Documents\", \n",
    "               \"Automated Scoreboarding\",\n",
    "               \"Manual Scoreboarding\",\n",
    "               \"Review Documents\",\n",
    "               \"Update Backend Systems\", \n",
    "               \"Notification Review Request Completed\"]\n",
    "\n",
    "loop_path_task_list = []\n",
    "loop_path_task_list = generate_process_instances(loop_path, qty)\n",
    "loop_path_task_list_df = pd.DataFrame(loop_path_task_list)\n",
    "\n",
    "# Increment the start time by 24 hour\n",
    "start_date_time = start_date_time + timedelta(hours=24)"
   ],
   "metadata": {
    "collapsed": false,
    "pycharm": {
     "name": "#%%\n"
    }
   }
  },
  {
   "cell_type": "code",
   "execution_count": 14,
   "outputs": [],
   "source": [
    "# Can only concat two dataframes at a time\n",
    "df = pd.concat([happy_path_task_list_df,manual_path_task_list_df], axis=0)\n",
    "df = pd.concat([df,loop_path_task_list_df], axis=0)"
   ],
   "metadata": {
    "collapsed": false,
    "pycharm": {
     "name": "#%%\n"
    }
   }
  },
  {
   "cell_type": "code",
   "execution_count": 15,
   "outputs": [],
   "source": [
    "df.columns = ['process_id', 'task', 'start_time', 'end_time']"
   ],
   "metadata": {
    "collapsed": false,
    "pycharm": {
     "name": "#%%\n"
    }
   }
  },
  {
   "cell_type": "code",
   "execution_count": 16,
   "outputs": [
    {
     "name": "stdout",
     "output_type": "stream",
     "text": [
      "<class 'pandas.core.frame.DataFrame'>\n",
      "Int64Index: 5120 entries, 0 to 139\n",
      "Data columns (total 4 columns):\n",
      " #   Column      Non-Null Count  Dtype         \n",
      "---  ------      --------------  -----         \n",
      " 0   process_id  5120 non-null   int64         \n",
      " 1   task        5120 non-null   object        \n",
      " 2   start_time  5120 non-null   datetime64[ns]\n",
      " 3   end_time    5120 non-null   datetime64[ns]\n",
      "dtypes: datetime64[ns](2), int64(1), object(1)\n",
      "memory usage: 200.0+ KB\n"
     ]
    }
   ],
   "source": [
    "df.info()"
   ],
   "metadata": {
    "collapsed": false,
    "pycharm": {
     "name": "#%%\n"
    }
   }
  },
  {
   "cell_type": "code",
   "execution_count": 17,
   "outputs": [
    {
     "data": {
      "text/plain": "1000"
     },
     "execution_count": 17,
     "metadata": {},
     "output_type": "execute_result"
    }
   ],
   "source": [
    "# Confirm how many processes\n",
    "len(df[\"process_id\"].unique())"
   ],
   "metadata": {
    "collapsed": false,
    "pycharm": {
     "name": "#%%\n"
    }
   }
  },
  {
   "cell_type": "code",
   "execution_count": 18,
   "outputs": [
    {
     "data": {
      "text/plain": "   process_id                                   task  \\\n0           1          New Client Onboarding Request   \n1           1                       Review Documents   \n2           1                Automated Scoreboarding   \n3           1                 Update Backend Systems   \n4           1  Notification Review Request Completed   \n5           2          New Client Onboarding Request   \n6           2                       Review Documents   \n7           2                Automated Scoreboarding   \n8           2                 Update Backend Systems   \n9           2  Notification Review Request Completed   \n\n                  start_time                   end_time  \n0 2017-11-28 18:00:00.000000 2017-11-28 19:49:06.323403  \n1 2017-11-28 19:54:06.323403 2017-11-28 20:00:35.434633  \n2 2017-11-28 20:05:35.434633 2017-11-28 20:12:26.974855  \n3 2017-11-28 20:17:26.974855 2017-11-28 20:38:39.422473  \n4 2017-11-28 20:43:39.422473 2017-11-28 20:49:11.745118  \n5 2017-11-29 18:00:00.000000 2017-11-29 18:23:02.091096  \n6 2017-11-29 18:28:02.091096 2017-11-29 18:29:05.708198  \n7 2017-11-29 18:34:05.708198 2017-11-29 18:39:20.091209  \n8 2017-11-29 18:44:20.091209 2017-11-29 18:58:14.865513  \n9 2017-11-29 19:03:14.865513 2017-11-29 19:12:40.014976  ",
      "text/html": "<div>\n<style scoped>\n    .dataframe tbody tr th:only-of-type {\n        vertical-align: middle;\n    }\n\n    .dataframe tbody tr th {\n        vertical-align: top;\n    }\n\n    .dataframe thead th {\n        text-align: right;\n    }\n</style>\n<table border=\"1\" class=\"dataframe\">\n  <thead>\n    <tr style=\"text-align: right;\">\n      <th></th>\n      <th>process_id</th>\n      <th>task</th>\n      <th>start_time</th>\n      <th>end_time</th>\n    </tr>\n  </thead>\n  <tbody>\n    <tr>\n      <th>0</th>\n      <td>1</td>\n      <td>New Client Onboarding Request</td>\n      <td>2017-11-28 18:00:00.000000</td>\n      <td>2017-11-28 19:49:06.323403</td>\n    </tr>\n    <tr>\n      <th>1</th>\n      <td>1</td>\n      <td>Review Documents</td>\n      <td>2017-11-28 19:54:06.323403</td>\n      <td>2017-11-28 20:00:35.434633</td>\n    </tr>\n    <tr>\n      <th>2</th>\n      <td>1</td>\n      <td>Automated Scoreboarding</td>\n      <td>2017-11-28 20:05:35.434633</td>\n      <td>2017-11-28 20:12:26.974855</td>\n    </tr>\n    <tr>\n      <th>3</th>\n      <td>1</td>\n      <td>Update Backend Systems</td>\n      <td>2017-11-28 20:17:26.974855</td>\n      <td>2017-11-28 20:38:39.422473</td>\n    </tr>\n    <tr>\n      <th>4</th>\n      <td>1</td>\n      <td>Notification Review Request Completed</td>\n      <td>2017-11-28 20:43:39.422473</td>\n      <td>2017-11-28 20:49:11.745118</td>\n    </tr>\n    <tr>\n      <th>5</th>\n      <td>2</td>\n      <td>New Client Onboarding Request</td>\n      <td>2017-11-29 18:00:00.000000</td>\n      <td>2017-11-29 18:23:02.091096</td>\n    </tr>\n    <tr>\n      <th>6</th>\n      <td>2</td>\n      <td>Review Documents</td>\n      <td>2017-11-29 18:28:02.091096</td>\n      <td>2017-11-29 18:29:05.708198</td>\n    </tr>\n    <tr>\n      <th>7</th>\n      <td>2</td>\n      <td>Automated Scoreboarding</td>\n      <td>2017-11-29 18:34:05.708198</td>\n      <td>2017-11-29 18:39:20.091209</td>\n    </tr>\n    <tr>\n      <th>8</th>\n      <td>2</td>\n      <td>Update Backend Systems</td>\n      <td>2017-11-29 18:44:20.091209</td>\n      <td>2017-11-29 18:58:14.865513</td>\n    </tr>\n    <tr>\n      <th>9</th>\n      <td>2</td>\n      <td>Notification Review Request Completed</td>\n      <td>2017-11-29 19:03:14.865513</td>\n      <td>2017-11-29 19:12:40.014976</td>\n    </tr>\n  </tbody>\n</table>\n</div>"
     },
     "execution_count": 18,
     "metadata": {},
     "output_type": "execute_result"
    }
   ],
   "source": [
    "df.head(10)"
   ],
   "metadata": {
    "collapsed": false,
    "pycharm": {
     "name": "#%%\n"
    }
   }
  },
  {
   "cell_type": "markdown",
   "source": [
    "## Add Task Level Business Data : User"
   ],
   "metadata": {
    "collapsed": false,
    "pycharm": {
     "name": "#%% md\n"
    }
   }
  },
  {
   "cell_type": "code",
   "execution_count": 19,
   "outputs": [],
   "source": [
    "\n",
    "# Add a column for User\n",
    "df[\"user\"] = \"\""
   ],
   "metadata": {
    "collapsed": false,
    "pycharm": {
     "name": "#%%\n"
    }
   }
  },
  {
   "cell_type": "code",
   "execution_count": 20,
   "outputs": [],
   "source": [
    "def setRandomUser(row):\n",
    "    match row[\"task\"]:\n",
    "        case \"Review Documents\":\n",
    "            return random.choice(['Rod','Jane','Freddy'])\n",
    "        case \"New Client Onboarding Request\":\n",
    "            return random.choice(['Clive','Francis','Nick','Seb','Tom'])\n",
    "        case \"Manual Scoreboarding\":\n",
    "            return random.choice(['Sharon','Susan', 'Sam'])\n",
    "        case \"Update Backend Systems\":\n",
    "            return \"RPA\"\n",
    "        case \"Automated Scoreboarding\":\n",
    "            return \"SYSTEM\"\n",
    "        case \"Notification Review Request Completed\":\n",
    "            return \"SYSTEM\"\n",
    "        case _:\n",
    "            return row[\"user\"]"
   ],
   "metadata": {
    "collapsed": false,
    "pycharm": {
     "name": "#%%\n"
    }
   }
  },
  {
   "cell_type": "code",
   "execution_count": 21,
   "outputs": [],
   "source": [
    "df[\"user\"] = df.apply(setRandomUser, axis=1)"
   ],
   "metadata": {
    "collapsed": false,
    "pycharm": {
     "name": "#%%\n"
    }
   }
  },
  {
   "cell_type": "code",
   "execution_count": 22,
   "outputs": [
    {
     "data": {
      "text/plain": "    process_id                                   task  \\\n0            1          New Client Onboarding Request   \n1            1                       Review Documents   \n2            1                Automated Scoreboarding   \n3            1                 Update Backend Systems   \n4            1  Notification Review Request Completed   \n5            2          New Client Onboarding Request   \n6            2                       Review Documents   \n7            2                Automated Scoreboarding   \n8            2                 Update Backend Systems   \n9            2  Notification Review Request Completed   \n10           3          New Client Onboarding Request   \n11           3                       Review Documents   \n12           3                Automated Scoreboarding   \n13           3                 Update Backend Systems   \n14           3  Notification Review Request Completed   \n15           4          New Client Onboarding Request   \n16           4                       Review Documents   \n17           4                Automated Scoreboarding   \n18           4                 Update Backend Systems   \n19           4  Notification Review Request Completed   \n\n                   start_time                   end_time     user  \n0  2017-11-28 18:00:00.000000 2017-11-28 19:49:06.323403     Nick  \n1  2017-11-28 19:54:06.323403 2017-11-28 20:00:35.434633     Jane  \n2  2017-11-28 20:05:35.434633 2017-11-28 20:12:26.974855   SYSTEM  \n3  2017-11-28 20:17:26.974855 2017-11-28 20:38:39.422473      RPA  \n4  2017-11-28 20:43:39.422473 2017-11-28 20:49:11.745118   SYSTEM  \n5  2017-11-29 18:00:00.000000 2017-11-29 18:23:02.091096      Tom  \n6  2017-11-29 18:28:02.091096 2017-11-29 18:29:05.708198   Freddy  \n7  2017-11-29 18:34:05.708198 2017-11-29 18:39:20.091209   SYSTEM  \n8  2017-11-29 18:44:20.091209 2017-11-29 18:58:14.865513      RPA  \n9  2017-11-29 19:03:14.865513 2017-11-29 19:12:40.014976   SYSTEM  \n10 2017-11-30 18:00:00.000000 2017-11-30 18:34:05.891736  Francis  \n11 2017-11-30 18:39:05.891736 2017-11-30 18:43:37.625175   Freddy  \n12 2017-11-30 18:48:37.625175 2017-11-30 18:53:08.231929   SYSTEM  \n13 2017-11-30 18:58:08.231929 2017-11-30 19:18:53.152098      RPA  \n14 2017-11-30 19:23:53.152098 2017-11-30 19:32:10.899462   SYSTEM  \n15 2017-12-01 18:00:00.000000 2017-12-01 18:20:00.189916     Nick  \n16 2017-12-01 18:25:00.189916 2017-12-01 18:29:15.749883      Rod  \n17 2017-12-01 18:34:15.749883 2017-12-01 18:39:34.699110   SYSTEM  \n18 2017-12-01 18:44:34.699110 2017-12-01 18:56:49.170236      RPA  \n19 2017-12-01 19:01:49.170236 2017-12-01 19:07:32.641748   SYSTEM  ",
      "text/html": "<div>\n<style scoped>\n    .dataframe tbody tr th:only-of-type {\n        vertical-align: middle;\n    }\n\n    .dataframe tbody tr th {\n        vertical-align: top;\n    }\n\n    .dataframe thead th {\n        text-align: right;\n    }\n</style>\n<table border=\"1\" class=\"dataframe\">\n  <thead>\n    <tr style=\"text-align: right;\">\n      <th></th>\n      <th>process_id</th>\n      <th>task</th>\n      <th>start_time</th>\n      <th>end_time</th>\n      <th>user</th>\n    </tr>\n  </thead>\n  <tbody>\n    <tr>\n      <th>0</th>\n      <td>1</td>\n      <td>New Client Onboarding Request</td>\n      <td>2017-11-28 18:00:00.000000</td>\n      <td>2017-11-28 19:49:06.323403</td>\n      <td>Nick</td>\n    </tr>\n    <tr>\n      <th>1</th>\n      <td>1</td>\n      <td>Review Documents</td>\n      <td>2017-11-28 19:54:06.323403</td>\n      <td>2017-11-28 20:00:35.434633</td>\n      <td>Jane</td>\n    </tr>\n    <tr>\n      <th>2</th>\n      <td>1</td>\n      <td>Automated Scoreboarding</td>\n      <td>2017-11-28 20:05:35.434633</td>\n      <td>2017-11-28 20:12:26.974855</td>\n      <td>SYSTEM</td>\n    </tr>\n    <tr>\n      <th>3</th>\n      <td>1</td>\n      <td>Update Backend Systems</td>\n      <td>2017-11-28 20:17:26.974855</td>\n      <td>2017-11-28 20:38:39.422473</td>\n      <td>RPA</td>\n    </tr>\n    <tr>\n      <th>4</th>\n      <td>1</td>\n      <td>Notification Review Request Completed</td>\n      <td>2017-11-28 20:43:39.422473</td>\n      <td>2017-11-28 20:49:11.745118</td>\n      <td>SYSTEM</td>\n    </tr>\n    <tr>\n      <th>5</th>\n      <td>2</td>\n      <td>New Client Onboarding Request</td>\n      <td>2017-11-29 18:00:00.000000</td>\n      <td>2017-11-29 18:23:02.091096</td>\n      <td>Tom</td>\n    </tr>\n    <tr>\n      <th>6</th>\n      <td>2</td>\n      <td>Review Documents</td>\n      <td>2017-11-29 18:28:02.091096</td>\n      <td>2017-11-29 18:29:05.708198</td>\n      <td>Freddy</td>\n    </tr>\n    <tr>\n      <th>7</th>\n      <td>2</td>\n      <td>Automated Scoreboarding</td>\n      <td>2017-11-29 18:34:05.708198</td>\n      <td>2017-11-29 18:39:20.091209</td>\n      <td>SYSTEM</td>\n    </tr>\n    <tr>\n      <th>8</th>\n      <td>2</td>\n      <td>Update Backend Systems</td>\n      <td>2017-11-29 18:44:20.091209</td>\n      <td>2017-11-29 18:58:14.865513</td>\n      <td>RPA</td>\n    </tr>\n    <tr>\n      <th>9</th>\n      <td>2</td>\n      <td>Notification Review Request Completed</td>\n      <td>2017-11-29 19:03:14.865513</td>\n      <td>2017-11-29 19:12:40.014976</td>\n      <td>SYSTEM</td>\n    </tr>\n    <tr>\n      <th>10</th>\n      <td>3</td>\n      <td>New Client Onboarding Request</td>\n      <td>2017-11-30 18:00:00.000000</td>\n      <td>2017-11-30 18:34:05.891736</td>\n      <td>Francis</td>\n    </tr>\n    <tr>\n      <th>11</th>\n      <td>3</td>\n      <td>Review Documents</td>\n      <td>2017-11-30 18:39:05.891736</td>\n      <td>2017-11-30 18:43:37.625175</td>\n      <td>Freddy</td>\n    </tr>\n    <tr>\n      <th>12</th>\n      <td>3</td>\n      <td>Automated Scoreboarding</td>\n      <td>2017-11-30 18:48:37.625175</td>\n      <td>2017-11-30 18:53:08.231929</td>\n      <td>SYSTEM</td>\n    </tr>\n    <tr>\n      <th>13</th>\n      <td>3</td>\n      <td>Update Backend Systems</td>\n      <td>2017-11-30 18:58:08.231929</td>\n      <td>2017-11-30 19:18:53.152098</td>\n      <td>RPA</td>\n    </tr>\n    <tr>\n      <th>14</th>\n      <td>3</td>\n      <td>Notification Review Request Completed</td>\n      <td>2017-11-30 19:23:53.152098</td>\n      <td>2017-11-30 19:32:10.899462</td>\n      <td>SYSTEM</td>\n    </tr>\n    <tr>\n      <th>15</th>\n      <td>4</td>\n      <td>New Client Onboarding Request</td>\n      <td>2017-12-01 18:00:00.000000</td>\n      <td>2017-12-01 18:20:00.189916</td>\n      <td>Nick</td>\n    </tr>\n    <tr>\n      <th>16</th>\n      <td>4</td>\n      <td>Review Documents</td>\n      <td>2017-12-01 18:25:00.189916</td>\n      <td>2017-12-01 18:29:15.749883</td>\n      <td>Rod</td>\n    </tr>\n    <tr>\n      <th>17</th>\n      <td>4</td>\n      <td>Automated Scoreboarding</td>\n      <td>2017-12-01 18:34:15.749883</td>\n      <td>2017-12-01 18:39:34.699110</td>\n      <td>SYSTEM</td>\n    </tr>\n    <tr>\n      <th>18</th>\n      <td>4</td>\n      <td>Update Backend Systems</td>\n      <td>2017-12-01 18:44:34.699110</td>\n      <td>2017-12-01 18:56:49.170236</td>\n      <td>RPA</td>\n    </tr>\n    <tr>\n      <th>19</th>\n      <td>4</td>\n      <td>Notification Review Request Completed</td>\n      <td>2017-12-01 19:01:49.170236</td>\n      <td>2017-12-01 19:07:32.641748</td>\n      <td>SYSTEM</td>\n    </tr>\n  </tbody>\n</table>\n</div>"
     },
     "execution_count": 22,
     "metadata": {},
     "output_type": "execute_result"
    }
   ],
   "source": [
    "df.head(20)"
   ],
   "metadata": {
    "collapsed": false,
    "pycharm": {
     "name": "#%%\n"
    }
   }
  },
  {
   "cell_type": "markdown",
   "source": [],
   "metadata": {
    "collapsed": false,
    "pycharm": {
     "name": "#%% md\n"
    }
   }
  },
  {
   "cell_type": "markdown",
   "source": [
    "## Add Task Level Business Data : UserGroup"
   ],
   "metadata": {
    "collapsed": false,
    "pycharm": {
     "name": "#%% md\n"
    }
   }
  },
  {
   "cell_type": "code",
   "execution_count": 23,
   "outputs": [],
   "source": [
    "# Add a column for UserGroup\n",
    "df[\"user_group\"] = \"\""
   ],
   "metadata": {
    "collapsed": false,
    "pycharm": {
     "name": "#%%\n"
    }
   }
  },
  {
   "cell_type": "code",
   "execution_count": 24,
   "outputs": [],
   "source": [
    "def setUserGroup(row):\n",
    "    match row[\"task\"]:\n",
    "        case \"Review Documents\":\n",
    "            return \"Operations\"\n",
    "        case \"New Client Onboarding Request\":\n",
    "            return \"Sales\" \n",
    "        case \"Manual Scoreboarding\":\n",
    "            return \"Risk\"\n",
    "        case \"Update Backend Systems\":\n",
    "            return \"SYSTEM\"\n",
    "        case \"Automated Scoreboarding\":\n",
    "            return \"SYSTEM\"\n",
    "        case \"Notification Review Request Completed\":\n",
    "            return \"SYSTEM\"\n",
    "        case _:\n",
    "            return \"\""
   ],
   "metadata": {
    "collapsed": false,
    "pycharm": {
     "name": "#%%\n"
    }
   }
  },
  {
   "cell_type": "code",
   "execution_count": 25,
   "outputs": [],
   "source": [
    "df[\"user_group\"] = df.apply(setUserGroup, axis=1)"
   ],
   "metadata": {
    "collapsed": false,
    "pycharm": {
     "name": "#%%\n"
    }
   }
  },
  {
   "cell_type": "code",
   "execution_count": 26,
   "outputs": [
    {
     "data": {
      "text/plain": "    process_id                                   task  \\\n0            1          New Client Onboarding Request   \n1            1                       Review Documents   \n2            1                Automated Scoreboarding   \n3            1                 Update Backend Systems   \n4            1  Notification Review Request Completed   \n5            2          New Client Onboarding Request   \n6            2                       Review Documents   \n7            2                Automated Scoreboarding   \n8            2                 Update Backend Systems   \n9            2  Notification Review Request Completed   \n10           3          New Client Onboarding Request   \n11           3                       Review Documents   \n12           3                Automated Scoreboarding   \n13           3                 Update Backend Systems   \n14           3  Notification Review Request Completed   \n15           4          New Client Onboarding Request   \n16           4                       Review Documents   \n17           4                Automated Scoreboarding   \n18           4                 Update Backend Systems   \n19           4  Notification Review Request Completed   \n\n                   start_time                   end_time     user  user_group  \n0  2017-11-28 18:00:00.000000 2017-11-28 19:49:06.323403     Nick       Sales  \n1  2017-11-28 19:54:06.323403 2017-11-28 20:00:35.434633     Jane  Operations  \n2  2017-11-28 20:05:35.434633 2017-11-28 20:12:26.974855   SYSTEM      SYSTEM  \n3  2017-11-28 20:17:26.974855 2017-11-28 20:38:39.422473      RPA      SYSTEM  \n4  2017-11-28 20:43:39.422473 2017-11-28 20:49:11.745118   SYSTEM      SYSTEM  \n5  2017-11-29 18:00:00.000000 2017-11-29 18:23:02.091096      Tom       Sales  \n6  2017-11-29 18:28:02.091096 2017-11-29 18:29:05.708198   Freddy  Operations  \n7  2017-11-29 18:34:05.708198 2017-11-29 18:39:20.091209   SYSTEM      SYSTEM  \n8  2017-11-29 18:44:20.091209 2017-11-29 18:58:14.865513      RPA      SYSTEM  \n9  2017-11-29 19:03:14.865513 2017-11-29 19:12:40.014976   SYSTEM      SYSTEM  \n10 2017-11-30 18:00:00.000000 2017-11-30 18:34:05.891736  Francis       Sales  \n11 2017-11-30 18:39:05.891736 2017-11-30 18:43:37.625175   Freddy  Operations  \n12 2017-11-30 18:48:37.625175 2017-11-30 18:53:08.231929   SYSTEM      SYSTEM  \n13 2017-11-30 18:58:08.231929 2017-11-30 19:18:53.152098      RPA      SYSTEM  \n14 2017-11-30 19:23:53.152098 2017-11-30 19:32:10.899462   SYSTEM      SYSTEM  \n15 2017-12-01 18:00:00.000000 2017-12-01 18:20:00.189916     Nick       Sales  \n16 2017-12-01 18:25:00.189916 2017-12-01 18:29:15.749883      Rod  Operations  \n17 2017-12-01 18:34:15.749883 2017-12-01 18:39:34.699110   SYSTEM      SYSTEM  \n18 2017-12-01 18:44:34.699110 2017-12-01 18:56:49.170236      RPA      SYSTEM  \n19 2017-12-01 19:01:49.170236 2017-12-01 19:07:32.641748   SYSTEM      SYSTEM  ",
      "text/html": "<div>\n<style scoped>\n    .dataframe tbody tr th:only-of-type {\n        vertical-align: middle;\n    }\n\n    .dataframe tbody tr th {\n        vertical-align: top;\n    }\n\n    .dataframe thead th {\n        text-align: right;\n    }\n</style>\n<table border=\"1\" class=\"dataframe\">\n  <thead>\n    <tr style=\"text-align: right;\">\n      <th></th>\n      <th>process_id</th>\n      <th>task</th>\n      <th>start_time</th>\n      <th>end_time</th>\n      <th>user</th>\n      <th>user_group</th>\n    </tr>\n  </thead>\n  <tbody>\n    <tr>\n      <th>0</th>\n      <td>1</td>\n      <td>New Client Onboarding Request</td>\n      <td>2017-11-28 18:00:00.000000</td>\n      <td>2017-11-28 19:49:06.323403</td>\n      <td>Nick</td>\n      <td>Sales</td>\n    </tr>\n    <tr>\n      <th>1</th>\n      <td>1</td>\n      <td>Review Documents</td>\n      <td>2017-11-28 19:54:06.323403</td>\n      <td>2017-11-28 20:00:35.434633</td>\n      <td>Jane</td>\n      <td>Operations</td>\n    </tr>\n    <tr>\n      <th>2</th>\n      <td>1</td>\n      <td>Automated Scoreboarding</td>\n      <td>2017-11-28 20:05:35.434633</td>\n      <td>2017-11-28 20:12:26.974855</td>\n      <td>SYSTEM</td>\n      <td>SYSTEM</td>\n    </tr>\n    <tr>\n      <th>3</th>\n      <td>1</td>\n      <td>Update Backend Systems</td>\n      <td>2017-11-28 20:17:26.974855</td>\n      <td>2017-11-28 20:38:39.422473</td>\n      <td>RPA</td>\n      <td>SYSTEM</td>\n    </tr>\n    <tr>\n      <th>4</th>\n      <td>1</td>\n      <td>Notification Review Request Completed</td>\n      <td>2017-11-28 20:43:39.422473</td>\n      <td>2017-11-28 20:49:11.745118</td>\n      <td>SYSTEM</td>\n      <td>SYSTEM</td>\n    </tr>\n    <tr>\n      <th>5</th>\n      <td>2</td>\n      <td>New Client Onboarding Request</td>\n      <td>2017-11-29 18:00:00.000000</td>\n      <td>2017-11-29 18:23:02.091096</td>\n      <td>Tom</td>\n      <td>Sales</td>\n    </tr>\n    <tr>\n      <th>6</th>\n      <td>2</td>\n      <td>Review Documents</td>\n      <td>2017-11-29 18:28:02.091096</td>\n      <td>2017-11-29 18:29:05.708198</td>\n      <td>Freddy</td>\n      <td>Operations</td>\n    </tr>\n    <tr>\n      <th>7</th>\n      <td>2</td>\n      <td>Automated Scoreboarding</td>\n      <td>2017-11-29 18:34:05.708198</td>\n      <td>2017-11-29 18:39:20.091209</td>\n      <td>SYSTEM</td>\n      <td>SYSTEM</td>\n    </tr>\n    <tr>\n      <th>8</th>\n      <td>2</td>\n      <td>Update Backend Systems</td>\n      <td>2017-11-29 18:44:20.091209</td>\n      <td>2017-11-29 18:58:14.865513</td>\n      <td>RPA</td>\n      <td>SYSTEM</td>\n    </tr>\n    <tr>\n      <th>9</th>\n      <td>2</td>\n      <td>Notification Review Request Completed</td>\n      <td>2017-11-29 19:03:14.865513</td>\n      <td>2017-11-29 19:12:40.014976</td>\n      <td>SYSTEM</td>\n      <td>SYSTEM</td>\n    </tr>\n    <tr>\n      <th>10</th>\n      <td>3</td>\n      <td>New Client Onboarding Request</td>\n      <td>2017-11-30 18:00:00.000000</td>\n      <td>2017-11-30 18:34:05.891736</td>\n      <td>Francis</td>\n      <td>Sales</td>\n    </tr>\n    <tr>\n      <th>11</th>\n      <td>3</td>\n      <td>Review Documents</td>\n      <td>2017-11-30 18:39:05.891736</td>\n      <td>2017-11-30 18:43:37.625175</td>\n      <td>Freddy</td>\n      <td>Operations</td>\n    </tr>\n    <tr>\n      <th>12</th>\n      <td>3</td>\n      <td>Automated Scoreboarding</td>\n      <td>2017-11-30 18:48:37.625175</td>\n      <td>2017-11-30 18:53:08.231929</td>\n      <td>SYSTEM</td>\n      <td>SYSTEM</td>\n    </tr>\n    <tr>\n      <th>13</th>\n      <td>3</td>\n      <td>Update Backend Systems</td>\n      <td>2017-11-30 18:58:08.231929</td>\n      <td>2017-11-30 19:18:53.152098</td>\n      <td>RPA</td>\n      <td>SYSTEM</td>\n    </tr>\n    <tr>\n      <th>14</th>\n      <td>3</td>\n      <td>Notification Review Request Completed</td>\n      <td>2017-11-30 19:23:53.152098</td>\n      <td>2017-11-30 19:32:10.899462</td>\n      <td>SYSTEM</td>\n      <td>SYSTEM</td>\n    </tr>\n    <tr>\n      <th>15</th>\n      <td>4</td>\n      <td>New Client Onboarding Request</td>\n      <td>2017-12-01 18:00:00.000000</td>\n      <td>2017-12-01 18:20:00.189916</td>\n      <td>Nick</td>\n      <td>Sales</td>\n    </tr>\n    <tr>\n      <th>16</th>\n      <td>4</td>\n      <td>Review Documents</td>\n      <td>2017-12-01 18:25:00.189916</td>\n      <td>2017-12-01 18:29:15.749883</td>\n      <td>Rod</td>\n      <td>Operations</td>\n    </tr>\n    <tr>\n      <th>17</th>\n      <td>4</td>\n      <td>Automated Scoreboarding</td>\n      <td>2017-12-01 18:34:15.749883</td>\n      <td>2017-12-01 18:39:34.699110</td>\n      <td>SYSTEM</td>\n      <td>SYSTEM</td>\n    </tr>\n    <tr>\n      <th>18</th>\n      <td>4</td>\n      <td>Update Backend Systems</td>\n      <td>2017-12-01 18:44:34.699110</td>\n      <td>2017-12-01 18:56:49.170236</td>\n      <td>RPA</td>\n      <td>SYSTEM</td>\n    </tr>\n    <tr>\n      <th>19</th>\n      <td>4</td>\n      <td>Notification Review Request Completed</td>\n      <td>2017-12-01 19:01:49.170236</td>\n      <td>2017-12-01 19:07:32.641748</td>\n      <td>SYSTEM</td>\n      <td>SYSTEM</td>\n    </tr>\n  </tbody>\n</table>\n</div>"
     },
     "execution_count": 26,
     "metadata": {},
     "output_type": "execute_result"
    }
   ],
   "source": [
    "df.head(20)"
   ],
   "metadata": {
    "collapsed": false,
    "pycharm": {
     "name": "#%%\n"
    }
   }
  },
  {
   "cell_type": "markdown",
   "source": [
    "## Add Process Instance Business Data : Industry\n",
    "Industy won't change during the process so all tasks for a given process ID must have the same value"
   ],
   "metadata": {
    "collapsed": false,
    "pycharm": {
     "name": "#%% md\n"
    }
   }
  },
  {
   "cell_type": "code",
   "execution_count": 27,
   "outputs": [],
   "source": [
    "df[\"industry\"] = \"\""
   ],
   "metadata": {
    "collapsed": false,
    "pycharm": {
     "name": "#%%\n"
    }
   }
  },
  {
   "cell_type": "code",
   "execution_count": 28,
   "outputs": [],
   "source": [
    "process_id_list = df[\"process_id\"].unique()\n",
    "\n",
    "for process_id in process_id_list:\n",
    "    industry = random.choice(['Federal','Finance','Healthcare','Insurance','Telecom'])\n",
    "    df.loc[df[\"process_id\"].eq(process_id), \"industry\"] = industry\n",
    "    \n",
    "                          \n",
    "    "
   ],
   "metadata": {
    "collapsed": false,
    "pycharm": {
     "name": "#%%\n"
    }
   }
  },
  {
   "cell_type": "code",
   "execution_count": 29,
   "outputs": [
    {
     "data": {
      "text/plain": "    process_id                                   task  \\\n0            1          New Client Onboarding Request   \n1            1                       Review Documents   \n2            1                Automated Scoreboarding   \n3            1                 Update Backend Systems   \n4            1  Notification Review Request Completed   \n5            2          New Client Onboarding Request   \n6            2                       Review Documents   \n7            2                Automated Scoreboarding   \n8            2                 Update Backend Systems   \n9            2  Notification Review Request Completed   \n10           3          New Client Onboarding Request   \n11           3                       Review Documents   \n12           3                Automated Scoreboarding   \n13           3                 Update Backend Systems   \n14           3  Notification Review Request Completed   \n15           4          New Client Onboarding Request   \n16           4                       Review Documents   \n17           4                Automated Scoreboarding   \n18           4                 Update Backend Systems   \n19           4  Notification Review Request Completed   \n\n                   start_time                   end_time     user  user_group  \\\n0  2017-11-28 18:00:00.000000 2017-11-28 19:49:06.323403     Nick       Sales   \n1  2017-11-28 19:54:06.323403 2017-11-28 20:00:35.434633     Jane  Operations   \n2  2017-11-28 20:05:35.434633 2017-11-28 20:12:26.974855   SYSTEM      SYSTEM   \n3  2017-11-28 20:17:26.974855 2017-11-28 20:38:39.422473      RPA      SYSTEM   \n4  2017-11-28 20:43:39.422473 2017-11-28 20:49:11.745118   SYSTEM      SYSTEM   \n5  2017-11-29 18:00:00.000000 2017-11-29 18:23:02.091096      Tom       Sales   \n6  2017-11-29 18:28:02.091096 2017-11-29 18:29:05.708198   Freddy  Operations   \n7  2017-11-29 18:34:05.708198 2017-11-29 18:39:20.091209   SYSTEM      SYSTEM   \n8  2017-11-29 18:44:20.091209 2017-11-29 18:58:14.865513      RPA      SYSTEM   \n9  2017-11-29 19:03:14.865513 2017-11-29 19:12:40.014976   SYSTEM      SYSTEM   \n10 2017-11-30 18:00:00.000000 2017-11-30 18:34:05.891736  Francis       Sales   \n11 2017-11-30 18:39:05.891736 2017-11-30 18:43:37.625175   Freddy  Operations   \n12 2017-11-30 18:48:37.625175 2017-11-30 18:53:08.231929   SYSTEM      SYSTEM   \n13 2017-11-30 18:58:08.231929 2017-11-30 19:18:53.152098      RPA      SYSTEM   \n14 2017-11-30 19:23:53.152098 2017-11-30 19:32:10.899462   SYSTEM      SYSTEM   \n15 2017-12-01 18:00:00.000000 2017-12-01 18:20:00.189916     Nick       Sales   \n16 2017-12-01 18:25:00.189916 2017-12-01 18:29:15.749883      Rod  Operations   \n17 2017-12-01 18:34:15.749883 2017-12-01 18:39:34.699110   SYSTEM      SYSTEM   \n18 2017-12-01 18:44:34.699110 2017-12-01 18:56:49.170236      RPA      SYSTEM   \n19 2017-12-01 19:01:49.170236 2017-12-01 19:07:32.641748   SYSTEM      SYSTEM   \n\n      industry  \n0   Healthcare  \n1   Healthcare  \n2   Healthcare  \n3   Healthcare  \n4   Healthcare  \n5      Federal  \n6      Federal  \n7      Federal  \n8      Federal  \n9      Federal  \n10     Telecom  \n11     Telecom  \n12     Telecom  \n13     Telecom  \n14     Telecom  \n15  Healthcare  \n16  Healthcare  \n17  Healthcare  \n18  Healthcare  \n19  Healthcare  ",
      "text/html": "<div>\n<style scoped>\n    .dataframe tbody tr th:only-of-type {\n        vertical-align: middle;\n    }\n\n    .dataframe tbody tr th {\n        vertical-align: top;\n    }\n\n    .dataframe thead th {\n        text-align: right;\n    }\n</style>\n<table border=\"1\" class=\"dataframe\">\n  <thead>\n    <tr style=\"text-align: right;\">\n      <th></th>\n      <th>process_id</th>\n      <th>task</th>\n      <th>start_time</th>\n      <th>end_time</th>\n      <th>user</th>\n      <th>user_group</th>\n      <th>industry</th>\n    </tr>\n  </thead>\n  <tbody>\n    <tr>\n      <th>0</th>\n      <td>1</td>\n      <td>New Client Onboarding Request</td>\n      <td>2017-11-28 18:00:00.000000</td>\n      <td>2017-11-28 19:49:06.323403</td>\n      <td>Nick</td>\n      <td>Sales</td>\n      <td>Healthcare</td>\n    </tr>\n    <tr>\n      <th>1</th>\n      <td>1</td>\n      <td>Review Documents</td>\n      <td>2017-11-28 19:54:06.323403</td>\n      <td>2017-11-28 20:00:35.434633</td>\n      <td>Jane</td>\n      <td>Operations</td>\n      <td>Healthcare</td>\n    </tr>\n    <tr>\n      <th>2</th>\n      <td>1</td>\n      <td>Automated Scoreboarding</td>\n      <td>2017-11-28 20:05:35.434633</td>\n      <td>2017-11-28 20:12:26.974855</td>\n      <td>SYSTEM</td>\n      <td>SYSTEM</td>\n      <td>Healthcare</td>\n    </tr>\n    <tr>\n      <th>3</th>\n      <td>1</td>\n      <td>Update Backend Systems</td>\n      <td>2017-11-28 20:17:26.974855</td>\n      <td>2017-11-28 20:38:39.422473</td>\n      <td>RPA</td>\n      <td>SYSTEM</td>\n      <td>Healthcare</td>\n    </tr>\n    <tr>\n      <th>4</th>\n      <td>1</td>\n      <td>Notification Review Request Completed</td>\n      <td>2017-11-28 20:43:39.422473</td>\n      <td>2017-11-28 20:49:11.745118</td>\n      <td>SYSTEM</td>\n      <td>SYSTEM</td>\n      <td>Healthcare</td>\n    </tr>\n    <tr>\n      <th>5</th>\n      <td>2</td>\n      <td>New Client Onboarding Request</td>\n      <td>2017-11-29 18:00:00.000000</td>\n      <td>2017-11-29 18:23:02.091096</td>\n      <td>Tom</td>\n      <td>Sales</td>\n      <td>Federal</td>\n    </tr>\n    <tr>\n      <th>6</th>\n      <td>2</td>\n      <td>Review Documents</td>\n      <td>2017-11-29 18:28:02.091096</td>\n      <td>2017-11-29 18:29:05.708198</td>\n      <td>Freddy</td>\n      <td>Operations</td>\n      <td>Federal</td>\n    </tr>\n    <tr>\n      <th>7</th>\n      <td>2</td>\n      <td>Automated Scoreboarding</td>\n      <td>2017-11-29 18:34:05.708198</td>\n      <td>2017-11-29 18:39:20.091209</td>\n      <td>SYSTEM</td>\n      <td>SYSTEM</td>\n      <td>Federal</td>\n    </tr>\n    <tr>\n      <th>8</th>\n      <td>2</td>\n      <td>Update Backend Systems</td>\n      <td>2017-11-29 18:44:20.091209</td>\n      <td>2017-11-29 18:58:14.865513</td>\n      <td>RPA</td>\n      <td>SYSTEM</td>\n      <td>Federal</td>\n    </tr>\n    <tr>\n      <th>9</th>\n      <td>2</td>\n      <td>Notification Review Request Completed</td>\n      <td>2017-11-29 19:03:14.865513</td>\n      <td>2017-11-29 19:12:40.014976</td>\n      <td>SYSTEM</td>\n      <td>SYSTEM</td>\n      <td>Federal</td>\n    </tr>\n    <tr>\n      <th>10</th>\n      <td>3</td>\n      <td>New Client Onboarding Request</td>\n      <td>2017-11-30 18:00:00.000000</td>\n      <td>2017-11-30 18:34:05.891736</td>\n      <td>Francis</td>\n      <td>Sales</td>\n      <td>Telecom</td>\n    </tr>\n    <tr>\n      <th>11</th>\n      <td>3</td>\n      <td>Review Documents</td>\n      <td>2017-11-30 18:39:05.891736</td>\n      <td>2017-11-30 18:43:37.625175</td>\n      <td>Freddy</td>\n      <td>Operations</td>\n      <td>Telecom</td>\n    </tr>\n    <tr>\n      <th>12</th>\n      <td>3</td>\n      <td>Automated Scoreboarding</td>\n      <td>2017-11-30 18:48:37.625175</td>\n      <td>2017-11-30 18:53:08.231929</td>\n      <td>SYSTEM</td>\n      <td>SYSTEM</td>\n      <td>Telecom</td>\n    </tr>\n    <tr>\n      <th>13</th>\n      <td>3</td>\n      <td>Update Backend Systems</td>\n      <td>2017-11-30 18:58:08.231929</td>\n      <td>2017-11-30 19:18:53.152098</td>\n      <td>RPA</td>\n      <td>SYSTEM</td>\n      <td>Telecom</td>\n    </tr>\n    <tr>\n      <th>14</th>\n      <td>3</td>\n      <td>Notification Review Request Completed</td>\n      <td>2017-11-30 19:23:53.152098</td>\n      <td>2017-11-30 19:32:10.899462</td>\n      <td>SYSTEM</td>\n      <td>SYSTEM</td>\n      <td>Telecom</td>\n    </tr>\n    <tr>\n      <th>15</th>\n      <td>4</td>\n      <td>New Client Onboarding Request</td>\n      <td>2017-12-01 18:00:00.000000</td>\n      <td>2017-12-01 18:20:00.189916</td>\n      <td>Nick</td>\n      <td>Sales</td>\n      <td>Healthcare</td>\n    </tr>\n    <tr>\n      <th>16</th>\n      <td>4</td>\n      <td>Review Documents</td>\n      <td>2017-12-01 18:25:00.189916</td>\n      <td>2017-12-01 18:29:15.749883</td>\n      <td>Rod</td>\n      <td>Operations</td>\n      <td>Healthcare</td>\n    </tr>\n    <tr>\n      <th>17</th>\n      <td>4</td>\n      <td>Automated Scoreboarding</td>\n      <td>2017-12-01 18:34:15.749883</td>\n      <td>2017-12-01 18:39:34.699110</td>\n      <td>SYSTEM</td>\n      <td>SYSTEM</td>\n      <td>Healthcare</td>\n    </tr>\n    <tr>\n      <th>18</th>\n      <td>4</td>\n      <td>Update Backend Systems</td>\n      <td>2017-12-01 18:44:34.699110</td>\n      <td>2017-12-01 18:56:49.170236</td>\n      <td>RPA</td>\n      <td>SYSTEM</td>\n      <td>Healthcare</td>\n    </tr>\n    <tr>\n      <th>19</th>\n      <td>4</td>\n      <td>Notification Review Request Completed</td>\n      <td>2017-12-01 19:01:49.170236</td>\n      <td>2017-12-01 19:07:32.641748</td>\n      <td>SYSTEM</td>\n      <td>SYSTEM</td>\n      <td>Healthcare</td>\n    </tr>\n  </tbody>\n</table>\n</div>"
     },
     "execution_count": 29,
     "metadata": {},
     "output_type": "execute_result"
    }
   ],
   "source": [
    "df.head(20)"
   ],
   "metadata": {
    "collapsed": false,
    "pycharm": {
     "name": "#%%\n"
    }
   }
  },
  {
   "cell_type": "markdown",
   "source": [
    "## Add Process Instance Business Data : Service Charge\n",
    "Service charge will be a random choice based on industry."
   ],
   "metadata": {
    "collapsed": false,
    "pycharm": {
     "name": "#%% md\n"
    }
   }
  },
  {
   "cell_type": "code",
   "execution_count": 30,
   "outputs": [],
   "source": [
    "df[\"service_charge\"] = 0"
   ],
   "metadata": {
    "collapsed": false,
    "pycharm": {
     "name": "#%%\n"
    }
   }
  },
  {
   "cell_type": "code",
   "execution_count": 31,
   "outputs": [],
   "source": [
    "def getServiceChargeByIndustry(industry):\n",
    "    match industry:\n",
    "        case \"Federal\":\n",
    "            return random.choice([3000, 6000, 8000])\n",
    "        case \"Finance\":\n",
    "            return random.choice([10000, 12000, 20000])\n",
    "        case \"Healthcare\":\n",
    "            return random.choice([15000, 20000, 25000])\n",
    "        case \"Insurance\":\n",
    "            return 45000\n",
    "        case \"Telecom\":\n",
    "            return 49000\n",
    "        case _:\n",
    "            return 64000"
   ],
   "metadata": {
    "collapsed": false,
    "pycharm": {
     "name": "#%%\n"
    }
   }
  },
  {
   "cell_type": "code",
   "execution_count": 32,
   "outputs": [],
   "source": [
    "last_process = -1\n",
    "service_charge = 0\n",
    "\n",
    "process_id_list = df[\"process_id\"].unique()\n",
    "\n",
    "for process_id in process_id_list:\n",
    "        # get the tasks for this process instance, use copy() to make it clear to the interpreter we know\n",
    "        # this is a copy to supress any warnings about updating copies\n",
    "        process_instance_tasks = df.loc[df.process_id == process_id].copy()\n",
    "        # Get the fir row out of the task list and get the industry value\n",
    "        industry = process_instance_tasks.iloc[0]['industry']\n",
    "        \n",
    "        # call function to get a semi-random service charge for the industry\n",
    "        service_charge = getServiceChargeByIndustry(industry)\n",
    "        \n",
    "        # set the service charge in every row for this process instance\n",
    "        df.loc[df.process_id == process_id, 'service_charge'] = service_charge\n",
    "    \n"
   ],
   "metadata": {
    "collapsed": false,
    "pycharm": {
     "name": "#%%\n"
    }
   }
  },
  {
   "cell_type": "code",
   "execution_count": 33,
   "outputs": [
    {
     "data": {
      "text/plain": "    process_id                                   task  \\\n0            1          New Client Onboarding Request   \n1            1                       Review Documents   \n2            1                Automated Scoreboarding   \n3            1                 Update Backend Systems   \n4            1  Notification Review Request Completed   \n5            2          New Client Onboarding Request   \n6            2                       Review Documents   \n7            2                Automated Scoreboarding   \n8            2                 Update Backend Systems   \n9            2  Notification Review Request Completed   \n10           3          New Client Onboarding Request   \n11           3                       Review Documents   \n12           3                Automated Scoreboarding   \n13           3                 Update Backend Systems   \n14           3  Notification Review Request Completed   \n15           4          New Client Onboarding Request   \n16           4                       Review Documents   \n17           4                Automated Scoreboarding   \n18           4                 Update Backend Systems   \n19           4  Notification Review Request Completed   \n20           5          New Client Onboarding Request   \n21           5                       Review Documents   \n22           5                Automated Scoreboarding   \n23           5                 Update Backend Systems   \n24           5  Notification Review Request Completed   \n25           6          New Client Onboarding Request   \n26           6                       Review Documents   \n27           6                Automated Scoreboarding   \n28           6                 Update Backend Systems   \n29           6  Notification Review Request Completed   \n30           7          New Client Onboarding Request   \n31           7                       Review Documents   \n32           7                Automated Scoreboarding   \n33           7                 Update Backend Systems   \n34           7  Notification Review Request Completed   \n35           8          New Client Onboarding Request   \n36           8                       Review Documents   \n37           8                Automated Scoreboarding   \n38           8                 Update Backend Systems   \n39           8  Notification Review Request Completed   \n40           9          New Client Onboarding Request   \n41           9                       Review Documents   \n42           9                Automated Scoreboarding   \n43           9                 Update Backend Systems   \n44           9  Notification Review Request Completed   \n45          10          New Client Onboarding Request   \n46          10                       Review Documents   \n47          10                Automated Scoreboarding   \n48          10                 Update Backend Systems   \n49          10  Notification Review Request Completed   \n\n                   start_time                   end_time     user  user_group  \\\n0  2017-11-28 18:00:00.000000 2017-11-28 19:49:06.323403     Nick       Sales   \n1  2017-11-28 19:54:06.323403 2017-11-28 20:00:35.434633     Jane  Operations   \n2  2017-11-28 20:05:35.434633 2017-11-28 20:12:26.974855   SYSTEM      SYSTEM   \n3  2017-11-28 20:17:26.974855 2017-11-28 20:38:39.422473      RPA      SYSTEM   \n4  2017-11-28 20:43:39.422473 2017-11-28 20:49:11.745118   SYSTEM      SYSTEM   \n5  2017-11-29 18:00:00.000000 2017-11-29 18:23:02.091096      Tom       Sales   \n6  2017-11-29 18:28:02.091096 2017-11-29 18:29:05.708198   Freddy  Operations   \n7  2017-11-29 18:34:05.708198 2017-11-29 18:39:20.091209   SYSTEM      SYSTEM   \n8  2017-11-29 18:44:20.091209 2017-11-29 18:58:14.865513      RPA      SYSTEM   \n9  2017-11-29 19:03:14.865513 2017-11-29 19:12:40.014976   SYSTEM      SYSTEM   \n10 2017-11-30 18:00:00.000000 2017-11-30 18:34:05.891736  Francis       Sales   \n11 2017-11-30 18:39:05.891736 2017-11-30 18:43:37.625175   Freddy  Operations   \n12 2017-11-30 18:48:37.625175 2017-11-30 18:53:08.231929   SYSTEM      SYSTEM   \n13 2017-11-30 18:58:08.231929 2017-11-30 19:18:53.152098      RPA      SYSTEM   \n14 2017-11-30 19:23:53.152098 2017-11-30 19:32:10.899462   SYSTEM      SYSTEM   \n15 2017-12-01 18:00:00.000000 2017-12-01 18:20:00.189916     Nick       Sales   \n16 2017-12-01 18:25:00.189916 2017-12-01 18:29:15.749883      Rod  Operations   \n17 2017-12-01 18:34:15.749883 2017-12-01 18:39:34.699110   SYSTEM      SYSTEM   \n18 2017-12-01 18:44:34.699110 2017-12-01 18:56:49.170236      RPA      SYSTEM   \n19 2017-12-01 19:01:49.170236 2017-12-01 19:07:32.641748   SYSTEM      SYSTEM   \n20 2017-12-02 18:00:00.000000 2017-12-02 18:22:37.419945     Nick       Sales   \n21 2017-12-02 18:27:37.419945 2017-12-02 18:56:31.057802     Jane  Operations   \n22 2017-12-02 19:01:31.057802 2017-12-02 19:09:37.564407   SYSTEM      SYSTEM   \n23 2017-12-02 19:14:37.564407 2017-12-02 19:32:08.224070      RPA      SYSTEM   \n24 2017-12-02 19:37:08.224070 2017-12-02 19:38:48.459324   SYSTEM      SYSTEM   \n25 2017-12-03 18:00:00.000000 2017-12-03 18:27:16.797359  Francis       Sales   \n26 2017-12-03 18:32:16.797359 2017-12-03 18:44:31.036861     Jane  Operations   \n27 2017-12-03 18:49:31.036861 2017-12-03 18:53:23.024045   SYSTEM      SYSTEM   \n28 2017-12-03 18:58:23.024045 2017-12-03 19:13:52.887668      RPA      SYSTEM   \n29 2017-12-03 19:18:52.887668 2017-12-03 19:25:05.986719   SYSTEM      SYSTEM   \n30 2017-12-04 18:00:00.000000 2017-12-04 18:59:34.187432     Nick       Sales   \n31 2017-12-04 19:04:34.187432 2017-12-04 19:06:40.446952     Jane  Operations   \n32 2017-12-04 19:11:40.446952 2017-12-04 19:16:54.942233   SYSTEM      SYSTEM   \n33 2017-12-04 19:21:54.942233 2017-12-04 19:40:10.652582      RPA      SYSTEM   \n34 2017-12-04 19:45:10.652582 2017-12-04 19:50:43.898794   SYSTEM      SYSTEM   \n35 2017-12-05 18:00:00.000000 2017-12-05 18:24:35.348682    Clive       Sales   \n36 2017-12-05 18:29:35.348682 2017-12-05 18:40:24.465320     Jane  Operations   \n37 2017-12-05 18:45:24.465320 2017-12-05 18:49:45.799666   SYSTEM      SYSTEM   \n38 2017-12-05 18:54:45.799666 2017-12-05 19:06:52.327407      RPA      SYSTEM   \n39 2017-12-05 19:11:52.327407 2017-12-05 19:15:13.295747   SYSTEM      SYSTEM   \n40 2017-12-06 18:00:00.000000 2017-12-06 18:18:07.563780    Clive       Sales   \n41 2017-12-06 18:23:07.563780 2017-12-06 18:26:14.657418   Freddy  Operations   \n42 2017-12-06 18:31:14.657418 2017-12-06 18:36:29.773938   SYSTEM      SYSTEM   \n43 2017-12-06 18:41:29.773938 2017-12-06 19:01:15.377473      RPA      SYSTEM   \n44 2017-12-06 19:06:15.377473 2017-12-06 19:11:11.701366   SYSTEM      SYSTEM   \n45 2017-12-07 18:00:00.000000 2017-12-07 18:23:38.784246     Nick       Sales   \n46 2017-12-07 18:28:38.784246 2017-12-07 18:34:23.341921     Jane  Operations   \n47 2017-12-07 18:39:23.341921 2017-12-07 18:46:25.982874   SYSTEM      SYSTEM   \n48 2017-12-07 18:51:25.982874 2017-12-07 19:00:51.004752      RPA      SYSTEM   \n49 2017-12-07 19:05:51.004752 2017-12-07 19:13:22.472959   SYSTEM      SYSTEM   \n\n      industry  service_charge  \n0   Healthcare           25000  \n1   Healthcare           25000  \n2   Healthcare           25000  \n3   Healthcare           25000  \n4   Healthcare           25000  \n5      Federal            6000  \n6      Federal            6000  \n7      Federal            6000  \n8      Federal            6000  \n9      Federal            6000  \n10     Telecom           49000  \n11     Telecom           49000  \n12     Telecom           49000  \n13     Telecom           49000  \n14     Telecom           49000  \n15  Healthcare           25000  \n16  Healthcare           25000  \n17  Healthcare           25000  \n18  Healthcare           25000  \n19  Healthcare           25000  \n20   Insurance           45000  \n21   Insurance           45000  \n22   Insurance           45000  \n23   Insurance           45000  \n24   Insurance           45000  \n25  Healthcare           20000  \n26  Healthcare           20000  \n27  Healthcare           20000  \n28  Healthcare           20000  \n29  Healthcare           20000  \n30  Healthcare           25000  \n31  Healthcare           25000  \n32  Healthcare           25000  \n33  Healthcare           25000  \n34  Healthcare           25000  \n35     Telecom           49000  \n36     Telecom           49000  \n37     Telecom           49000  \n38     Telecom           49000  \n39     Telecom           49000  \n40     Federal            6000  \n41     Federal            6000  \n42     Federal            6000  \n43     Federal            6000  \n44     Federal            6000  \n45     Telecom           49000  \n46     Telecom           49000  \n47     Telecom           49000  \n48     Telecom           49000  \n49     Telecom           49000  ",
      "text/html": "<div>\n<style scoped>\n    .dataframe tbody tr th:only-of-type {\n        vertical-align: middle;\n    }\n\n    .dataframe tbody tr th {\n        vertical-align: top;\n    }\n\n    .dataframe thead th {\n        text-align: right;\n    }\n</style>\n<table border=\"1\" class=\"dataframe\">\n  <thead>\n    <tr style=\"text-align: right;\">\n      <th></th>\n      <th>process_id</th>\n      <th>task</th>\n      <th>start_time</th>\n      <th>end_time</th>\n      <th>user</th>\n      <th>user_group</th>\n      <th>industry</th>\n      <th>service_charge</th>\n    </tr>\n  </thead>\n  <tbody>\n    <tr>\n      <th>0</th>\n      <td>1</td>\n      <td>New Client Onboarding Request</td>\n      <td>2017-11-28 18:00:00.000000</td>\n      <td>2017-11-28 19:49:06.323403</td>\n      <td>Nick</td>\n      <td>Sales</td>\n      <td>Healthcare</td>\n      <td>25000</td>\n    </tr>\n    <tr>\n      <th>1</th>\n      <td>1</td>\n      <td>Review Documents</td>\n      <td>2017-11-28 19:54:06.323403</td>\n      <td>2017-11-28 20:00:35.434633</td>\n      <td>Jane</td>\n      <td>Operations</td>\n      <td>Healthcare</td>\n      <td>25000</td>\n    </tr>\n    <tr>\n      <th>2</th>\n      <td>1</td>\n      <td>Automated Scoreboarding</td>\n      <td>2017-11-28 20:05:35.434633</td>\n      <td>2017-11-28 20:12:26.974855</td>\n      <td>SYSTEM</td>\n      <td>SYSTEM</td>\n      <td>Healthcare</td>\n      <td>25000</td>\n    </tr>\n    <tr>\n      <th>3</th>\n      <td>1</td>\n      <td>Update Backend Systems</td>\n      <td>2017-11-28 20:17:26.974855</td>\n      <td>2017-11-28 20:38:39.422473</td>\n      <td>RPA</td>\n      <td>SYSTEM</td>\n      <td>Healthcare</td>\n      <td>25000</td>\n    </tr>\n    <tr>\n      <th>4</th>\n      <td>1</td>\n      <td>Notification Review Request Completed</td>\n      <td>2017-11-28 20:43:39.422473</td>\n      <td>2017-11-28 20:49:11.745118</td>\n      <td>SYSTEM</td>\n      <td>SYSTEM</td>\n      <td>Healthcare</td>\n      <td>25000</td>\n    </tr>\n    <tr>\n      <th>5</th>\n      <td>2</td>\n      <td>New Client Onboarding Request</td>\n      <td>2017-11-29 18:00:00.000000</td>\n      <td>2017-11-29 18:23:02.091096</td>\n      <td>Tom</td>\n      <td>Sales</td>\n      <td>Federal</td>\n      <td>6000</td>\n    </tr>\n    <tr>\n      <th>6</th>\n      <td>2</td>\n      <td>Review Documents</td>\n      <td>2017-11-29 18:28:02.091096</td>\n      <td>2017-11-29 18:29:05.708198</td>\n      <td>Freddy</td>\n      <td>Operations</td>\n      <td>Federal</td>\n      <td>6000</td>\n    </tr>\n    <tr>\n      <th>7</th>\n      <td>2</td>\n      <td>Automated Scoreboarding</td>\n      <td>2017-11-29 18:34:05.708198</td>\n      <td>2017-11-29 18:39:20.091209</td>\n      <td>SYSTEM</td>\n      <td>SYSTEM</td>\n      <td>Federal</td>\n      <td>6000</td>\n    </tr>\n    <tr>\n      <th>8</th>\n      <td>2</td>\n      <td>Update Backend Systems</td>\n      <td>2017-11-29 18:44:20.091209</td>\n      <td>2017-11-29 18:58:14.865513</td>\n      <td>RPA</td>\n      <td>SYSTEM</td>\n      <td>Federal</td>\n      <td>6000</td>\n    </tr>\n    <tr>\n      <th>9</th>\n      <td>2</td>\n      <td>Notification Review Request Completed</td>\n      <td>2017-11-29 19:03:14.865513</td>\n      <td>2017-11-29 19:12:40.014976</td>\n      <td>SYSTEM</td>\n      <td>SYSTEM</td>\n      <td>Federal</td>\n      <td>6000</td>\n    </tr>\n    <tr>\n      <th>10</th>\n      <td>3</td>\n      <td>New Client Onboarding Request</td>\n      <td>2017-11-30 18:00:00.000000</td>\n      <td>2017-11-30 18:34:05.891736</td>\n      <td>Francis</td>\n      <td>Sales</td>\n      <td>Telecom</td>\n      <td>49000</td>\n    </tr>\n    <tr>\n      <th>11</th>\n      <td>3</td>\n      <td>Review Documents</td>\n      <td>2017-11-30 18:39:05.891736</td>\n      <td>2017-11-30 18:43:37.625175</td>\n      <td>Freddy</td>\n      <td>Operations</td>\n      <td>Telecom</td>\n      <td>49000</td>\n    </tr>\n    <tr>\n      <th>12</th>\n      <td>3</td>\n      <td>Automated Scoreboarding</td>\n      <td>2017-11-30 18:48:37.625175</td>\n      <td>2017-11-30 18:53:08.231929</td>\n      <td>SYSTEM</td>\n      <td>SYSTEM</td>\n      <td>Telecom</td>\n      <td>49000</td>\n    </tr>\n    <tr>\n      <th>13</th>\n      <td>3</td>\n      <td>Update Backend Systems</td>\n      <td>2017-11-30 18:58:08.231929</td>\n      <td>2017-11-30 19:18:53.152098</td>\n      <td>RPA</td>\n      <td>SYSTEM</td>\n      <td>Telecom</td>\n      <td>49000</td>\n    </tr>\n    <tr>\n      <th>14</th>\n      <td>3</td>\n      <td>Notification Review Request Completed</td>\n      <td>2017-11-30 19:23:53.152098</td>\n      <td>2017-11-30 19:32:10.899462</td>\n      <td>SYSTEM</td>\n      <td>SYSTEM</td>\n      <td>Telecom</td>\n      <td>49000</td>\n    </tr>\n    <tr>\n      <th>15</th>\n      <td>4</td>\n      <td>New Client Onboarding Request</td>\n      <td>2017-12-01 18:00:00.000000</td>\n      <td>2017-12-01 18:20:00.189916</td>\n      <td>Nick</td>\n      <td>Sales</td>\n      <td>Healthcare</td>\n      <td>25000</td>\n    </tr>\n    <tr>\n      <th>16</th>\n      <td>4</td>\n      <td>Review Documents</td>\n      <td>2017-12-01 18:25:00.189916</td>\n      <td>2017-12-01 18:29:15.749883</td>\n      <td>Rod</td>\n      <td>Operations</td>\n      <td>Healthcare</td>\n      <td>25000</td>\n    </tr>\n    <tr>\n      <th>17</th>\n      <td>4</td>\n      <td>Automated Scoreboarding</td>\n      <td>2017-12-01 18:34:15.749883</td>\n      <td>2017-12-01 18:39:34.699110</td>\n      <td>SYSTEM</td>\n      <td>SYSTEM</td>\n      <td>Healthcare</td>\n      <td>25000</td>\n    </tr>\n    <tr>\n      <th>18</th>\n      <td>4</td>\n      <td>Update Backend Systems</td>\n      <td>2017-12-01 18:44:34.699110</td>\n      <td>2017-12-01 18:56:49.170236</td>\n      <td>RPA</td>\n      <td>SYSTEM</td>\n      <td>Healthcare</td>\n      <td>25000</td>\n    </tr>\n    <tr>\n      <th>19</th>\n      <td>4</td>\n      <td>Notification Review Request Completed</td>\n      <td>2017-12-01 19:01:49.170236</td>\n      <td>2017-12-01 19:07:32.641748</td>\n      <td>SYSTEM</td>\n      <td>SYSTEM</td>\n      <td>Healthcare</td>\n      <td>25000</td>\n    </tr>\n    <tr>\n      <th>20</th>\n      <td>5</td>\n      <td>New Client Onboarding Request</td>\n      <td>2017-12-02 18:00:00.000000</td>\n      <td>2017-12-02 18:22:37.419945</td>\n      <td>Nick</td>\n      <td>Sales</td>\n      <td>Insurance</td>\n      <td>45000</td>\n    </tr>\n    <tr>\n      <th>21</th>\n      <td>5</td>\n      <td>Review Documents</td>\n      <td>2017-12-02 18:27:37.419945</td>\n      <td>2017-12-02 18:56:31.057802</td>\n      <td>Jane</td>\n      <td>Operations</td>\n      <td>Insurance</td>\n      <td>45000</td>\n    </tr>\n    <tr>\n      <th>22</th>\n      <td>5</td>\n      <td>Automated Scoreboarding</td>\n      <td>2017-12-02 19:01:31.057802</td>\n      <td>2017-12-02 19:09:37.564407</td>\n      <td>SYSTEM</td>\n      <td>SYSTEM</td>\n      <td>Insurance</td>\n      <td>45000</td>\n    </tr>\n    <tr>\n      <th>23</th>\n      <td>5</td>\n      <td>Update Backend Systems</td>\n      <td>2017-12-02 19:14:37.564407</td>\n      <td>2017-12-02 19:32:08.224070</td>\n      <td>RPA</td>\n      <td>SYSTEM</td>\n      <td>Insurance</td>\n      <td>45000</td>\n    </tr>\n    <tr>\n      <th>24</th>\n      <td>5</td>\n      <td>Notification Review Request Completed</td>\n      <td>2017-12-02 19:37:08.224070</td>\n      <td>2017-12-02 19:38:48.459324</td>\n      <td>SYSTEM</td>\n      <td>SYSTEM</td>\n      <td>Insurance</td>\n      <td>45000</td>\n    </tr>\n    <tr>\n      <th>25</th>\n      <td>6</td>\n      <td>New Client Onboarding Request</td>\n      <td>2017-12-03 18:00:00.000000</td>\n      <td>2017-12-03 18:27:16.797359</td>\n      <td>Francis</td>\n      <td>Sales</td>\n      <td>Healthcare</td>\n      <td>20000</td>\n    </tr>\n    <tr>\n      <th>26</th>\n      <td>6</td>\n      <td>Review Documents</td>\n      <td>2017-12-03 18:32:16.797359</td>\n      <td>2017-12-03 18:44:31.036861</td>\n      <td>Jane</td>\n      <td>Operations</td>\n      <td>Healthcare</td>\n      <td>20000</td>\n    </tr>\n    <tr>\n      <th>27</th>\n      <td>6</td>\n      <td>Automated Scoreboarding</td>\n      <td>2017-12-03 18:49:31.036861</td>\n      <td>2017-12-03 18:53:23.024045</td>\n      <td>SYSTEM</td>\n      <td>SYSTEM</td>\n      <td>Healthcare</td>\n      <td>20000</td>\n    </tr>\n    <tr>\n      <th>28</th>\n      <td>6</td>\n      <td>Update Backend Systems</td>\n      <td>2017-12-03 18:58:23.024045</td>\n      <td>2017-12-03 19:13:52.887668</td>\n      <td>RPA</td>\n      <td>SYSTEM</td>\n      <td>Healthcare</td>\n      <td>20000</td>\n    </tr>\n    <tr>\n      <th>29</th>\n      <td>6</td>\n      <td>Notification Review Request Completed</td>\n      <td>2017-12-03 19:18:52.887668</td>\n      <td>2017-12-03 19:25:05.986719</td>\n      <td>SYSTEM</td>\n      <td>SYSTEM</td>\n      <td>Healthcare</td>\n      <td>20000</td>\n    </tr>\n    <tr>\n      <th>30</th>\n      <td>7</td>\n      <td>New Client Onboarding Request</td>\n      <td>2017-12-04 18:00:00.000000</td>\n      <td>2017-12-04 18:59:34.187432</td>\n      <td>Nick</td>\n      <td>Sales</td>\n      <td>Healthcare</td>\n      <td>25000</td>\n    </tr>\n    <tr>\n      <th>31</th>\n      <td>7</td>\n      <td>Review Documents</td>\n      <td>2017-12-04 19:04:34.187432</td>\n      <td>2017-12-04 19:06:40.446952</td>\n      <td>Jane</td>\n      <td>Operations</td>\n      <td>Healthcare</td>\n      <td>25000</td>\n    </tr>\n    <tr>\n      <th>32</th>\n      <td>7</td>\n      <td>Automated Scoreboarding</td>\n      <td>2017-12-04 19:11:40.446952</td>\n      <td>2017-12-04 19:16:54.942233</td>\n      <td>SYSTEM</td>\n      <td>SYSTEM</td>\n      <td>Healthcare</td>\n      <td>25000</td>\n    </tr>\n    <tr>\n      <th>33</th>\n      <td>7</td>\n      <td>Update Backend Systems</td>\n      <td>2017-12-04 19:21:54.942233</td>\n      <td>2017-12-04 19:40:10.652582</td>\n      <td>RPA</td>\n      <td>SYSTEM</td>\n      <td>Healthcare</td>\n      <td>25000</td>\n    </tr>\n    <tr>\n      <th>34</th>\n      <td>7</td>\n      <td>Notification Review Request Completed</td>\n      <td>2017-12-04 19:45:10.652582</td>\n      <td>2017-12-04 19:50:43.898794</td>\n      <td>SYSTEM</td>\n      <td>SYSTEM</td>\n      <td>Healthcare</td>\n      <td>25000</td>\n    </tr>\n    <tr>\n      <th>35</th>\n      <td>8</td>\n      <td>New Client Onboarding Request</td>\n      <td>2017-12-05 18:00:00.000000</td>\n      <td>2017-12-05 18:24:35.348682</td>\n      <td>Clive</td>\n      <td>Sales</td>\n      <td>Telecom</td>\n      <td>49000</td>\n    </tr>\n    <tr>\n      <th>36</th>\n      <td>8</td>\n      <td>Review Documents</td>\n      <td>2017-12-05 18:29:35.348682</td>\n      <td>2017-12-05 18:40:24.465320</td>\n      <td>Jane</td>\n      <td>Operations</td>\n      <td>Telecom</td>\n      <td>49000</td>\n    </tr>\n    <tr>\n      <th>37</th>\n      <td>8</td>\n      <td>Automated Scoreboarding</td>\n      <td>2017-12-05 18:45:24.465320</td>\n      <td>2017-12-05 18:49:45.799666</td>\n      <td>SYSTEM</td>\n      <td>SYSTEM</td>\n      <td>Telecom</td>\n      <td>49000</td>\n    </tr>\n    <tr>\n      <th>38</th>\n      <td>8</td>\n      <td>Update Backend Systems</td>\n      <td>2017-12-05 18:54:45.799666</td>\n      <td>2017-12-05 19:06:52.327407</td>\n      <td>RPA</td>\n      <td>SYSTEM</td>\n      <td>Telecom</td>\n      <td>49000</td>\n    </tr>\n    <tr>\n      <th>39</th>\n      <td>8</td>\n      <td>Notification Review Request Completed</td>\n      <td>2017-12-05 19:11:52.327407</td>\n      <td>2017-12-05 19:15:13.295747</td>\n      <td>SYSTEM</td>\n      <td>SYSTEM</td>\n      <td>Telecom</td>\n      <td>49000</td>\n    </tr>\n    <tr>\n      <th>40</th>\n      <td>9</td>\n      <td>New Client Onboarding Request</td>\n      <td>2017-12-06 18:00:00.000000</td>\n      <td>2017-12-06 18:18:07.563780</td>\n      <td>Clive</td>\n      <td>Sales</td>\n      <td>Federal</td>\n      <td>6000</td>\n    </tr>\n    <tr>\n      <th>41</th>\n      <td>9</td>\n      <td>Review Documents</td>\n      <td>2017-12-06 18:23:07.563780</td>\n      <td>2017-12-06 18:26:14.657418</td>\n      <td>Freddy</td>\n      <td>Operations</td>\n      <td>Federal</td>\n      <td>6000</td>\n    </tr>\n    <tr>\n      <th>42</th>\n      <td>9</td>\n      <td>Automated Scoreboarding</td>\n      <td>2017-12-06 18:31:14.657418</td>\n      <td>2017-12-06 18:36:29.773938</td>\n      <td>SYSTEM</td>\n      <td>SYSTEM</td>\n      <td>Federal</td>\n      <td>6000</td>\n    </tr>\n    <tr>\n      <th>43</th>\n      <td>9</td>\n      <td>Update Backend Systems</td>\n      <td>2017-12-06 18:41:29.773938</td>\n      <td>2017-12-06 19:01:15.377473</td>\n      <td>RPA</td>\n      <td>SYSTEM</td>\n      <td>Federal</td>\n      <td>6000</td>\n    </tr>\n    <tr>\n      <th>44</th>\n      <td>9</td>\n      <td>Notification Review Request Completed</td>\n      <td>2017-12-06 19:06:15.377473</td>\n      <td>2017-12-06 19:11:11.701366</td>\n      <td>SYSTEM</td>\n      <td>SYSTEM</td>\n      <td>Federal</td>\n      <td>6000</td>\n    </tr>\n    <tr>\n      <th>45</th>\n      <td>10</td>\n      <td>New Client Onboarding Request</td>\n      <td>2017-12-07 18:00:00.000000</td>\n      <td>2017-12-07 18:23:38.784246</td>\n      <td>Nick</td>\n      <td>Sales</td>\n      <td>Telecom</td>\n      <td>49000</td>\n    </tr>\n    <tr>\n      <th>46</th>\n      <td>10</td>\n      <td>Review Documents</td>\n      <td>2017-12-07 18:28:38.784246</td>\n      <td>2017-12-07 18:34:23.341921</td>\n      <td>Jane</td>\n      <td>Operations</td>\n      <td>Telecom</td>\n      <td>49000</td>\n    </tr>\n    <tr>\n      <th>47</th>\n      <td>10</td>\n      <td>Automated Scoreboarding</td>\n      <td>2017-12-07 18:39:23.341921</td>\n      <td>2017-12-07 18:46:25.982874</td>\n      <td>SYSTEM</td>\n      <td>SYSTEM</td>\n      <td>Telecom</td>\n      <td>49000</td>\n    </tr>\n    <tr>\n      <th>48</th>\n      <td>10</td>\n      <td>Update Backend Systems</td>\n      <td>2017-12-07 18:51:25.982874</td>\n      <td>2017-12-07 19:00:51.004752</td>\n      <td>RPA</td>\n      <td>SYSTEM</td>\n      <td>Telecom</td>\n      <td>49000</td>\n    </tr>\n    <tr>\n      <th>49</th>\n      <td>10</td>\n      <td>Notification Review Request Completed</td>\n      <td>2017-12-07 19:05:51.004752</td>\n      <td>2017-12-07 19:13:22.472959</td>\n      <td>SYSTEM</td>\n      <td>SYSTEM</td>\n      <td>Telecom</td>\n      <td>49000</td>\n    </tr>\n  </tbody>\n</table>\n</div>"
     },
     "execution_count": 33,
     "metadata": {},
     "output_type": "execute_result"
    }
   ],
   "source": [
    "df.head(50)"
   ],
   "metadata": {
    "collapsed": false,
    "pycharm": {
     "name": "#%%\n"
    }
   }
  },
  {
   "cell_type": "markdown",
   "source": [
    "# Stories\n",
    "Make a copy of the dataframe so we can restart here if required."
   ],
   "metadata": {
    "collapsed": false,
    "pycharm": {
     "name": "#%% md\n"
    }
   }
  },
  {
   "cell_type": "code",
   "execution_count": 49,
   "outputs": [],
   "source": [
    "story_df = df.copy()"
   ],
   "metadata": {
    "collapsed": false,
    "pycharm": {
     "name": "#%%\n"
    }
   }
  },
  {
   "cell_type": "markdown",
   "source": [
    "## Story : 1 - Rod is Too Busy\n",
    "Rod is always very busy doing other work, so he may not be able to start right away.\n",
    "Lets take a look at two `Review Documents` tasks that have been done by Rod. "
   ],
   "metadata": {
    "collapsed": false,
    "pycharm": {
     "name": "#%% md\n"
    }
   }
  },
  {
   "cell_type": "code",
   "execution_count": 35,
   "outputs": [
    {
     "data": {
      "text/plain": "    process_id              task                 start_time  \\\n16           4  Review Documents 2017-12-01 18:25:00.189916   \n51          11  Review Documents 2017-12-08 18:35:33.767682   \n\n                     end_time user  user_group    industry  service_charge  \n16 2017-12-01 18:29:15.749883  Rod  Operations  Healthcare           25000  \n51 2017-12-08 18:42:12.490946  Rod  Operations     Federal            8000  ",
      "text/html": "<div>\n<style scoped>\n    .dataframe tbody tr th:only-of-type {\n        vertical-align: middle;\n    }\n\n    .dataframe tbody tr th {\n        vertical-align: top;\n    }\n\n    .dataframe thead th {\n        text-align: right;\n    }\n</style>\n<table border=\"1\" class=\"dataframe\">\n  <thead>\n    <tr style=\"text-align: right;\">\n      <th></th>\n      <th>process_id</th>\n      <th>task</th>\n      <th>start_time</th>\n      <th>end_time</th>\n      <th>user</th>\n      <th>user_group</th>\n      <th>industry</th>\n      <th>service_charge</th>\n    </tr>\n  </thead>\n  <tbody>\n    <tr>\n      <th>16</th>\n      <td>4</td>\n      <td>Review Documents</td>\n      <td>2017-12-01 18:25:00.189916</td>\n      <td>2017-12-01 18:29:15.749883</td>\n      <td>Rod</td>\n      <td>Operations</td>\n      <td>Healthcare</td>\n      <td>25000</td>\n    </tr>\n    <tr>\n      <th>51</th>\n      <td>11</td>\n      <td>Review Documents</td>\n      <td>2017-12-08 18:35:33.767682</td>\n      <td>2017-12-08 18:42:12.490946</td>\n      <td>Rod</td>\n      <td>Operations</td>\n      <td>Federal</td>\n      <td>8000</td>\n    </tr>\n  </tbody>\n</table>\n</div>"
     },
     "execution_count": 35,
     "metadata": {},
     "output_type": "execute_result"
    }
   ],
   "source": [
    "filter = (story_df['task'] == 'Review Documents') & (story_df['user'] == 'Rod')\n",
    "story_df[filter].head(2)"
   ],
   "metadata": {
    "collapsed": false,
    "pycharm": {
     "name": "#%%\n"
    }
   }
  },
  {
   "cell_type": "markdown",
   "source": [
    "Delay the start time of Rod's `Review Documents` tasks by 1 hour"
   ],
   "metadata": {
    "collapsed": false,
    "pycharm": {
     "name": "#%% md\n"
    }
   }
  },
  {
   "cell_type": "code",
   "execution_count": 55,
   "outputs": [],
   "source": [
    "# If user is Rod and activity is `Review Documents` shift the start_time by 1 hour\n",
    "# \n",
    "story_df = delayStartTime(story_df, 'user','Rod', 'Review Documents', 1)"
   ],
   "metadata": {
    "collapsed": false,
    "pycharm": {
     "name": "#%%\n"
    }
   }
  },
  {
   "cell_type": "markdown",
   "source": [
    "Lets see the result of this change:"
   ],
   "metadata": {
    "collapsed": false,
    "pycharm": {
     "name": "#%% md\n"
    }
   }
  },
  {
   "cell_type": "code",
   "execution_count": 56,
   "outputs": [
    {
     "data": {
      "text/plain": "    process_id              task                 start_time  \\\n16           4  Review Documents 2017-12-01 19:25:00.189916   \n51          11  Review Documents 2017-12-08 19:35:33.767682   \n\n                     end_time user  user_group    industry  service_charge  \n16 2017-12-01 19:29:15.749883  Rod  Operations  Healthcare           25000  \n51 2017-12-08 21:42:12.490946  Rod  Operations     Federal            8000  ",
      "text/html": "<div>\n<style scoped>\n    .dataframe tbody tr th:only-of-type {\n        vertical-align: middle;\n    }\n\n    .dataframe tbody tr th {\n        vertical-align: top;\n    }\n\n    .dataframe thead th {\n        text-align: right;\n    }\n</style>\n<table border=\"1\" class=\"dataframe\">\n  <thead>\n    <tr style=\"text-align: right;\">\n      <th></th>\n      <th>process_id</th>\n      <th>task</th>\n      <th>start_time</th>\n      <th>end_time</th>\n      <th>user</th>\n      <th>user_group</th>\n      <th>industry</th>\n      <th>service_charge</th>\n    </tr>\n  </thead>\n  <tbody>\n    <tr>\n      <th>16</th>\n      <td>4</td>\n      <td>Review Documents</td>\n      <td>2017-12-01 19:25:00.189916</td>\n      <td>2017-12-01 19:29:15.749883</td>\n      <td>Rod</td>\n      <td>Operations</td>\n      <td>Healthcare</td>\n      <td>25000</td>\n    </tr>\n    <tr>\n      <th>51</th>\n      <td>11</td>\n      <td>Review Documents</td>\n      <td>2017-12-08 19:35:33.767682</td>\n      <td>2017-12-08 21:42:12.490946</td>\n      <td>Rod</td>\n      <td>Operations</td>\n      <td>Federal</td>\n      <td>8000</td>\n    </tr>\n  </tbody>\n</table>\n</div>"
     },
     "execution_count": 56,
     "metadata": {},
     "output_type": "execute_result"
    }
   ],
   "source": [
    "filter = (story_df['task'] == 'Review Documents') & (story_df['user'] == 'Rod')\n",
    "story_df[filter].head(2)"
   ],
   "metadata": {
    "collapsed": false,
    "pycharm": {
     "name": "#%%\n"
    }
   }
  },
  {
   "cell_type": "markdown",
   "source": [
    "## Story : 2 - Complex Doc Review\n",
    "Increase the time taken for doc review by 2hrs when the industry is federal. \n",
    "The rationale here is that the documentation requirements are greater."
   ],
   "metadata": {
    "collapsed": false,
    "pycharm": {
     "name": "#%% md\n"
    }
   }
  },
  {
   "cell_type": "markdown",
   "source": [
    "Lets look at some `Review Documents` where the industry is `Federal`"
   ],
   "metadata": {
    "collapsed": false,
    "pycharm": {
     "name": "#%% md\n"
    }
   }
  },
  {
   "cell_type": "code",
   "execution_count": 50,
   "outputs": [
    {
     "data": {
      "text/plain": "    process_id              task                 start_time  \\\n6            2  Review Documents 2017-11-29 18:28:02.091096   \n41           9  Review Documents 2017-12-06 18:23:07.563780   \n\n                     end_time    user  user_group industry  service_charge  \n6  2017-11-29 18:29:05.708198  Freddy  Operations  Federal            6000  \n41 2017-12-06 18:26:14.657418  Freddy  Operations  Federal            6000  ",
      "text/html": "<div>\n<style scoped>\n    .dataframe tbody tr th:only-of-type {\n        vertical-align: middle;\n    }\n\n    .dataframe tbody tr th {\n        vertical-align: top;\n    }\n\n    .dataframe thead th {\n        text-align: right;\n    }\n</style>\n<table border=\"1\" class=\"dataframe\">\n  <thead>\n    <tr style=\"text-align: right;\">\n      <th></th>\n      <th>process_id</th>\n      <th>task</th>\n      <th>start_time</th>\n      <th>end_time</th>\n      <th>user</th>\n      <th>user_group</th>\n      <th>industry</th>\n      <th>service_charge</th>\n    </tr>\n  </thead>\n  <tbody>\n    <tr>\n      <th>6</th>\n      <td>2</td>\n      <td>Review Documents</td>\n      <td>2017-11-29 18:28:02.091096</td>\n      <td>2017-11-29 18:29:05.708198</td>\n      <td>Freddy</td>\n      <td>Operations</td>\n      <td>Federal</td>\n      <td>6000</td>\n    </tr>\n    <tr>\n      <th>41</th>\n      <td>9</td>\n      <td>Review Documents</td>\n      <td>2017-12-06 18:23:07.563780</td>\n      <td>2017-12-06 18:26:14.657418</td>\n      <td>Freddy</td>\n      <td>Operations</td>\n      <td>Federal</td>\n      <td>6000</td>\n    </tr>\n  </tbody>\n</table>\n</div>"
     },
     "execution_count": 50,
     "metadata": {},
     "output_type": "execute_result"
    }
   ],
   "source": [
    "filter = (story_df['task'] == 'Review Documents') & (story_df['industry'] == 'Federal')\n",
    "story_df[filter].head(2)"
   ],
   "metadata": {
    "collapsed": false,
    "pycharm": {
     "name": "#%%\n"
    }
   }
  },
  {
   "cell_type": "code",
   "execution_count": 51,
   "outputs": [
    {
     "data": {
      "text/plain": "   process_id                                   task  \\\n5           2          New Client Onboarding Request   \n6           2                       Review Documents   \n7           2                Automated Scoreboarding   \n8           2                 Update Backend Systems   \n9           2  Notification Review Request Completed   \n\n                  start_time                   end_time    user  user_group  \\\n5 2017-11-29 18:00:00.000000 2017-11-29 18:23:02.091096     Tom       Sales   \n6 2017-11-29 18:28:02.091096 2017-11-29 18:29:05.708198  Freddy  Operations   \n7 2017-11-29 18:34:05.708198 2017-11-29 18:39:20.091209  SYSTEM      SYSTEM   \n8 2017-11-29 18:44:20.091209 2017-11-29 18:58:14.865513     RPA      SYSTEM   \n9 2017-11-29 19:03:14.865513 2017-11-29 19:12:40.014976  SYSTEM      SYSTEM   \n\n  industry  service_charge  \n5  Federal            6000  \n6  Federal            6000  \n7  Federal            6000  \n8  Federal            6000  \n9  Federal            6000  ",
      "text/html": "<div>\n<style scoped>\n    .dataframe tbody tr th:only-of-type {\n        vertical-align: middle;\n    }\n\n    .dataframe tbody tr th {\n        vertical-align: top;\n    }\n\n    .dataframe thead th {\n        text-align: right;\n    }\n</style>\n<table border=\"1\" class=\"dataframe\">\n  <thead>\n    <tr style=\"text-align: right;\">\n      <th></th>\n      <th>process_id</th>\n      <th>task</th>\n      <th>start_time</th>\n      <th>end_time</th>\n      <th>user</th>\n      <th>user_group</th>\n      <th>industry</th>\n      <th>service_charge</th>\n    </tr>\n  </thead>\n  <tbody>\n    <tr>\n      <th>5</th>\n      <td>2</td>\n      <td>New Client Onboarding Request</td>\n      <td>2017-11-29 18:00:00.000000</td>\n      <td>2017-11-29 18:23:02.091096</td>\n      <td>Tom</td>\n      <td>Sales</td>\n      <td>Federal</td>\n      <td>6000</td>\n    </tr>\n    <tr>\n      <th>6</th>\n      <td>2</td>\n      <td>Review Documents</td>\n      <td>2017-11-29 18:28:02.091096</td>\n      <td>2017-11-29 18:29:05.708198</td>\n      <td>Freddy</td>\n      <td>Operations</td>\n      <td>Federal</td>\n      <td>6000</td>\n    </tr>\n    <tr>\n      <th>7</th>\n      <td>2</td>\n      <td>Automated Scoreboarding</td>\n      <td>2017-11-29 18:34:05.708198</td>\n      <td>2017-11-29 18:39:20.091209</td>\n      <td>SYSTEM</td>\n      <td>SYSTEM</td>\n      <td>Federal</td>\n      <td>6000</td>\n    </tr>\n    <tr>\n      <th>8</th>\n      <td>2</td>\n      <td>Update Backend Systems</td>\n      <td>2017-11-29 18:44:20.091209</td>\n      <td>2017-11-29 18:58:14.865513</td>\n      <td>RPA</td>\n      <td>SYSTEM</td>\n      <td>Federal</td>\n      <td>6000</td>\n    </tr>\n    <tr>\n      <th>9</th>\n      <td>2</td>\n      <td>Notification Review Request Completed</td>\n      <td>2017-11-29 19:03:14.865513</td>\n      <td>2017-11-29 19:12:40.014976</td>\n      <td>SYSTEM</td>\n      <td>SYSTEM</td>\n      <td>Federal</td>\n      <td>6000</td>\n    </tr>\n  </tbody>\n</table>\n</div>"
     },
     "execution_count": 51,
     "metadata": {},
     "output_type": "execute_result"
    }
   ],
   "source": [
    "story_df[story_df['process_id'] == 2]"
   ],
   "metadata": {
    "collapsed": false,
    "pycharm": {
     "name": "#%%\n"
    }
   }
  },
  {
   "cell_type": "code",
   "execution_count": 52,
   "outputs": [],
   "source": [
    "story_df = increaseDuration(story_df, 'industry','Federal', 'Review Documents', 2)"
   ],
   "metadata": {
    "collapsed": false,
    "pycharm": {
     "name": "#%%\n"
    }
   }
  },
  {
   "cell_type": "code",
   "execution_count": 53,
   "outputs": [
    {
     "data": {
      "text/plain": "   process_id                                   task  \\\n5           2          New Client Onboarding Request   \n6           2                       Review Documents   \n7           2                Automated Scoreboarding   \n8           2                 Update Backend Systems   \n9           2  Notification Review Request Completed   \n\n                  start_time                   end_time    user  user_group  \\\n5 2017-11-29 18:00:00.000000 2017-11-29 18:23:02.091096     Tom       Sales   \n6 2017-11-29 18:28:02.091096 2017-11-29 20:29:05.708198  Freddy  Operations   \n7 2017-11-29 20:34:05.708198 2017-11-29 20:39:20.091209  SYSTEM      SYSTEM   \n8 2017-11-29 20:44:20.091209 2017-11-29 20:58:14.865513     RPA      SYSTEM   \n9 2017-11-29 21:03:14.865513 2017-11-29 21:12:40.014976  SYSTEM      SYSTEM   \n\n  industry  service_charge  \n5  Federal            6000  \n6  Federal            6000  \n7  Federal            6000  \n8  Federal            6000  \n9  Federal            6000  ",
      "text/html": "<div>\n<style scoped>\n    .dataframe tbody tr th:only-of-type {\n        vertical-align: middle;\n    }\n\n    .dataframe tbody tr th {\n        vertical-align: top;\n    }\n\n    .dataframe thead th {\n        text-align: right;\n    }\n</style>\n<table border=\"1\" class=\"dataframe\">\n  <thead>\n    <tr style=\"text-align: right;\">\n      <th></th>\n      <th>process_id</th>\n      <th>task</th>\n      <th>start_time</th>\n      <th>end_time</th>\n      <th>user</th>\n      <th>user_group</th>\n      <th>industry</th>\n      <th>service_charge</th>\n    </tr>\n  </thead>\n  <tbody>\n    <tr>\n      <th>5</th>\n      <td>2</td>\n      <td>New Client Onboarding Request</td>\n      <td>2017-11-29 18:00:00.000000</td>\n      <td>2017-11-29 18:23:02.091096</td>\n      <td>Tom</td>\n      <td>Sales</td>\n      <td>Federal</td>\n      <td>6000</td>\n    </tr>\n    <tr>\n      <th>6</th>\n      <td>2</td>\n      <td>Review Documents</td>\n      <td>2017-11-29 18:28:02.091096</td>\n      <td>2017-11-29 20:29:05.708198</td>\n      <td>Freddy</td>\n      <td>Operations</td>\n      <td>Federal</td>\n      <td>6000</td>\n    </tr>\n    <tr>\n      <th>7</th>\n      <td>2</td>\n      <td>Automated Scoreboarding</td>\n      <td>2017-11-29 20:34:05.708198</td>\n      <td>2017-11-29 20:39:20.091209</td>\n      <td>SYSTEM</td>\n      <td>SYSTEM</td>\n      <td>Federal</td>\n      <td>6000</td>\n    </tr>\n    <tr>\n      <th>8</th>\n      <td>2</td>\n      <td>Update Backend Systems</td>\n      <td>2017-11-29 20:44:20.091209</td>\n      <td>2017-11-29 20:58:14.865513</td>\n      <td>RPA</td>\n      <td>SYSTEM</td>\n      <td>Federal</td>\n      <td>6000</td>\n    </tr>\n    <tr>\n      <th>9</th>\n      <td>2</td>\n      <td>Notification Review Request Completed</td>\n      <td>2017-11-29 21:03:14.865513</td>\n      <td>2017-11-29 21:12:40.014976</td>\n      <td>SYSTEM</td>\n      <td>SYSTEM</td>\n      <td>Federal</td>\n      <td>6000</td>\n    </tr>\n  </tbody>\n</table>\n</div>"
     },
     "execution_count": 53,
     "metadata": {},
     "output_type": "execute_result"
    }
   ],
   "source": [
    "story_df[story_df['process_id'] == 2]"
   ],
   "metadata": {
    "collapsed": false,
    "pycharm": {
     "name": "#%%\n"
    }
   }
  },
  {
   "cell_type": "markdown",
   "source": [
    "## Export Finished Dataset"
   ],
   "metadata": {
    "collapsed": false,
    "pycharm": {
     "name": "#%% md\n"
    }
   }
  },
  {
   "cell_type": "code",
   "execution_count": 57,
   "outputs": [],
   "source": [
    "story_df.to_csv('pm_tasks_1k.csv', index=False, date_format='%d-%m-%Y %H:%M:%S')"
   ],
   "metadata": {
    "collapsed": false,
    "pycharm": {
     "name": "#%%\n"
    }
   }
  },
  {
   "cell_type": "code",
   "execution_count": null,
   "outputs": [],
   "source": [],
   "metadata": {
    "collapsed": false,
    "pycharm": {
     "name": "#%%\n"
    }
   }
  },
  {
   "cell_type": "code",
   "execution_count": null,
   "outputs": [],
   "source": [],
   "metadata": {
    "collapsed": false,
    "pycharm": {
     "name": "#%%\n"
    }
   }
  },
  {
   "cell_type": "code",
   "execution_count": null,
   "outputs": [],
   "source": [],
   "metadata": {
    "collapsed": false,
    "pycharm": {
     "name": "#%%\n"
    }
   }
  },
  {
   "cell_type": "code",
   "execution_count": null,
   "outputs": [],
   "source": [
    "story_df[story_df['process_id'] == 989]"
   ],
   "metadata": {
    "collapsed": false,
    "pycharm": {
     "name": "#%%\n"
    }
   }
  },
  {
   "cell_type": "code",
   "execution_count": null,
   "outputs": [],
   "source": [
    "df[df['process_id'] == 989]"
   ],
   "metadata": {
    "collapsed": false,
    "pycharm": {
     "name": "#%%\n"
    }
   }
  },
  {
   "cell_type": "code",
   "execution_count": null,
   "outputs": [],
   "source": [
    "story_df = df.copy()"
   ],
   "metadata": {
    "collapsed": false,
    "pycharm": {
     "name": "#%%\n"
    }
   }
  },
  {
   "cell_type": "code",
   "execution_count": null,
   "outputs": [],
   "source": [
    "story_df[story_df['process_id'] == 989]"
   ],
   "metadata": {
    "collapsed": false,
    "pycharm": {
     "name": "#%%\n"
    }
   }
  },
  {
   "cell_type": "code",
   "execution_count": null,
   "outputs": [],
   "source": [
    "story_df = delayStartTime(story_df, 'user','Rod', 'Review Documents', 1)"
   ],
   "metadata": {
    "collapsed": false,
    "pycharm": {
     "name": "#%%\n"
    }
   }
  },
  {
   "cell_type": "code",
   "execution_count": null,
   "outputs": [],
   "source": [
    "story_df[story_df['process_id'] == 989]"
   ],
   "metadata": {
    "collapsed": false,
    "pycharm": {
     "name": "#%%\n"
    }
   }
  },
  {
   "cell_type": "code",
   "execution_count": null,
   "outputs": [],
   "source": [
    "story_df = increaseDuration(story_df, 'industry','Federal', 'Review Documents', 2)"
   ],
   "metadata": {
    "collapsed": false,
    "pycharm": {
     "name": "#%%\n"
    }
   }
  },
  {
   "cell_type": "code",
   "execution_count": null,
   "outputs": [],
   "source": [
    "story_df[story_df['process_id'] == 989]"
   ],
   "metadata": {
    "collapsed": false,
    "pycharm": {
     "name": "#%%\n"
    }
   }
  },
  {
   "cell_type": "markdown",
   "id": "b26261f2",
   "metadata": {
    "pycharm": {
     "name": "#%% md\n"
    }
   },
   "source": [
    "## Export Finished Dataset"
   ]
  },
  {
   "cell_type": "code",
   "execution_count": 180,
   "id": "98c6eea9",
   "metadata": {
    "pycharm": {
     "name": "#%%\n"
    }
   },
   "outputs": [],
   "source": [
    "story_df.to_csv('pm_tasks_1k.csv', index=False, date_format='%d-%m-%Y %H:%M:%S')"
   ]
  },
  {
   "cell_type": "code",
   "execution_count": null,
   "id": "0451b2f1",
   "metadata": {
    "pycharm": {
     "name": "#%%\n"
    }
   },
   "outputs": [],
   "source": []
  },
  {
   "cell_type": "code",
   "execution_count": null,
   "id": "8bf220d1",
   "metadata": {
    "pycharm": {
     "name": "#%%\n"
    }
   },
   "outputs": [],
   "source": []
  },
  {
   "cell_type": "code",
   "execution_count": null,
   "id": "115fb670",
   "metadata": {
    "pycharm": {
     "name": "#%%\n"
    }
   },
   "outputs": [],
   "source": []
  },
  {
   "cell_type": "code",
   "execution_count": 182,
   "id": "d7248223-a3cf-4268-99c8-fd2aec78ce74",
   "metadata": {
    "pycharm": {
     "name": "#%%\n"
    }
   },
   "outputs": [
    {
     "data": {
      "text/html": [
       "<div>\n",
       "<style scoped>\n",
       "    .dataframe tbody tr th:only-of-type {\n",
       "        vertical-align: middle;\n",
       "    }\n",
       "\n",
       "    .dataframe tbody tr th {\n",
       "        vertical-align: top;\n",
       "    }\n",
       "\n",
       "    .dataframe thead th {\n",
       "        text-align: right;\n",
       "    }\n",
       "</style>\n",
       "<table border=\"1\" class=\"dataframe\">\n",
       "  <thead>\n",
       "    <tr style=\"text-align: right;\">\n",
       "      <th></th>\n",
       "      <th>process_id</th>\n",
       "      <th>task</th>\n",
       "      <th>start_time</th>\n",
       "      <th>end_time</th>\n",
       "      <th>user</th>\n",
       "      <th>user_group</th>\n",
       "      <th>industry</th>\n",
       "      <th>service_charge</th>\n",
       "    </tr>\n",
       "  </thead>\n",
       "  <tbody>\n",
       "    <tr>\n",
       "      <th>5036</th>\n",
       "      <td>989</td>\n",
       "      <td>New Client Onboarding Request</td>\n",
       "      <td>2020-08-14 18:00:00.000000</td>\n",
       "      <td>2020-08-14 18:49:19.148931</td>\n",
       "      <td>Francis</td>\n",
       "      <td>Sales</td>\n",
       "      <td>Federal</td>\n",
       "      <td>8000</td>\n",
       "    </tr>\n",
       "    <tr>\n",
       "      <th>5037</th>\n",
       "      <td>989</td>\n",
       "      <td>Review Documents</td>\n",
       "      <td>2020-08-14 19:54:19.148931</td>\n",
       "      <td>2020-08-14 22:01:22.108036</td>\n",
       "      <td>Rod</td>\n",
       "      <td>Operations</td>\n",
       "      <td>Federal</td>\n",
       "      <td>8000</td>\n",
       "    </tr>\n",
       "    <tr>\n",
       "      <th>5038</th>\n",
       "      <td>989</td>\n",
       "      <td>Automated Scoreboarding</td>\n",
       "      <td>2020-08-14 22:06:22.108036</td>\n",
       "      <td>2020-08-14 22:11:25.992981</td>\n",
       "      <td>SYSTEM</td>\n",
       "      <td>SYSTEM</td>\n",
       "      <td>Federal</td>\n",
       "      <td>8000</td>\n",
       "    </tr>\n",
       "    <tr>\n",
       "      <th>5039</th>\n",
       "      <td>989</td>\n",
       "      <td>Manual Scoreboarding</td>\n",
       "      <td>2020-08-14 22:16:25.992981</td>\n",
       "      <td>2020-08-15 01:11:14.190881</td>\n",
       "      <td>Sharon</td>\n",
       "      <td>Risk</td>\n",
       "      <td>Federal</td>\n",
       "      <td>8000</td>\n",
       "    </tr>\n",
       "    <tr>\n",
       "      <th>5040</th>\n",
       "      <td>989</td>\n",
       "      <td>Review Documents</td>\n",
       "      <td>2020-08-14 23:16:14.190881</td>\n",
       "      <td>2020-08-15 01:32:00.881721</td>\n",
       "      <td>Jane</td>\n",
       "      <td>Operations</td>\n",
       "      <td>Federal</td>\n",
       "      <td>8000</td>\n",
       "    </tr>\n",
       "    <tr>\n",
       "      <th>5041</th>\n",
       "      <td>989</td>\n",
       "      <td>Update Backend Systems</td>\n",
       "      <td>2020-08-15 01:37:00.881721</td>\n",
       "      <td>2020-08-15 01:57:08.289688</td>\n",
       "      <td>RPA</td>\n",
       "      <td>SYSTEM</td>\n",
       "      <td>Federal</td>\n",
       "      <td>8000</td>\n",
       "    </tr>\n",
       "    <tr>\n",
       "      <th>5042</th>\n",
       "      <td>989</td>\n",
       "      <td>Notification Review Request Completed</td>\n",
       "      <td>2020-08-15 02:02:08.289688</td>\n",
       "      <td>2020-08-15 02:08:32.102309</td>\n",
       "      <td>SYSTEM</td>\n",
       "      <td>SYSTEM</td>\n",
       "      <td>Federal</td>\n",
       "      <td>8000</td>\n",
       "    </tr>\n",
       "  </tbody>\n",
       "</table>\n",
       "</div>"
      ],
      "text/plain": [
       "      process_id                                   task  \\\n",
       "5036         989          New Client Onboarding Request   \n",
       "5037         989                       Review Documents   \n",
       "5038         989                Automated Scoreboarding   \n",
       "5039         989                   Manual Scoreboarding   \n",
       "5040         989                       Review Documents   \n",
       "5041         989                 Update Backend Systems   \n",
       "5042         989  Notification Review Request Completed   \n",
       "\n",
       "                     start_time                   end_time     user  \\\n",
       "5036 2020-08-14 18:00:00.000000 2020-08-14 18:49:19.148931  Francis   \n",
       "5037 2020-08-14 19:54:19.148931 2020-08-14 22:01:22.108036      Rod   \n",
       "5038 2020-08-14 22:06:22.108036 2020-08-14 22:11:25.992981   SYSTEM   \n",
       "5039 2020-08-14 22:16:25.992981 2020-08-15 01:11:14.190881   Sharon   \n",
       "5040 2020-08-14 23:16:14.190881 2020-08-15 01:32:00.881721     Jane   \n",
       "5041 2020-08-15 01:37:00.881721 2020-08-15 01:57:08.289688      RPA   \n",
       "5042 2020-08-15 02:02:08.289688 2020-08-15 02:08:32.102309   SYSTEM   \n",
       "\n",
       "      user_group industry  service_charge  \n",
       "5036       Sales  Federal            8000  \n",
       "5037  Operations  Federal            8000  \n",
       "5038      SYSTEM  Federal            8000  \n",
       "5039        Risk  Federal            8000  \n",
       "5040  Operations  Federal            8000  \n",
       "5041      SYSTEM  Federal            8000  \n",
       "5042      SYSTEM  Federal            8000  "
      ]
     },
     "execution_count": 182,
     "metadata": {},
     "output_type": "execute_result"
    }
   ],
   "source": [
    "story_df[story_df['process_id'] == 989]"
   ]
  },
  {
   "cell_type": "code",
   "execution_count": 183,
   "id": "269b3e1e",
   "metadata": {
    "pycharm": {
     "name": "#%%\n"
    }
   },
   "outputs": [
    {
     "data": {
      "text/html": [
       "<div>\n",
       "<style scoped>\n",
       "    .dataframe tbody tr th:only-of-type {\n",
       "        vertical-align: middle;\n",
       "    }\n",
       "\n",
       "    .dataframe tbody tr th {\n",
       "        vertical-align: top;\n",
       "    }\n",
       "\n",
       "    .dataframe thead th {\n",
       "        text-align: right;\n",
       "    }\n",
       "</style>\n",
       "<table border=\"1\" class=\"dataframe\">\n",
       "  <thead>\n",
       "    <tr style=\"text-align: right;\">\n",
       "      <th></th>\n",
       "      <th>process_id</th>\n",
       "      <th>task</th>\n",
       "      <th>start_time</th>\n",
       "      <th>end_time</th>\n",
       "      <th>user</th>\n",
       "      <th>user_group</th>\n",
       "      <th>industry</th>\n",
       "      <th>service_charge</th>\n",
       "    </tr>\n",
       "  </thead>\n",
       "  <tbody>\n",
       "    <tr>\n",
       "      <th>56</th>\n",
       "      <td>989</td>\n",
       "      <td>New Client Onboarding Request</td>\n",
       "      <td>2020-08-14 18:00:00.000000</td>\n",
       "      <td>2020-08-14 18:49:19.148931</td>\n",
       "      <td>Francis</td>\n",
       "      <td>Sales</td>\n",
       "      <td>Federal</td>\n",
       "      <td>8000</td>\n",
       "    </tr>\n",
       "    <tr>\n",
       "      <th>57</th>\n",
       "      <td>989</td>\n",
       "      <td>Review Documents</td>\n",
       "      <td>2020-08-14 18:54:19.148931</td>\n",
       "      <td>2020-08-14 19:01:22.108036</td>\n",
       "      <td>Rod</td>\n",
       "      <td>Operations</td>\n",
       "      <td>Federal</td>\n",
       "      <td>8000</td>\n",
       "    </tr>\n",
       "    <tr>\n",
       "      <th>58</th>\n",
       "      <td>989</td>\n",
       "      <td>Automated Scoreboarding</td>\n",
       "      <td>2020-08-14 19:06:22.108036</td>\n",
       "      <td>2020-08-14 19:11:25.992981</td>\n",
       "      <td>SYSTEM</td>\n",
       "      <td>SYSTEM</td>\n",
       "      <td>Federal</td>\n",
       "      <td>8000</td>\n",
       "    </tr>\n",
       "    <tr>\n",
       "      <th>59</th>\n",
       "      <td>989</td>\n",
       "      <td>Manual Scoreboarding</td>\n",
       "      <td>2020-08-14 19:16:25.992981</td>\n",
       "      <td>2020-08-14 22:11:14.190881</td>\n",
       "      <td>Sharon</td>\n",
       "      <td>Risk</td>\n",
       "      <td>Federal</td>\n",
       "      <td>8000</td>\n",
       "    </tr>\n",
       "    <tr>\n",
       "      <th>60</th>\n",
       "      <td>989</td>\n",
       "      <td>Review Documents</td>\n",
       "      <td>2020-08-14 22:16:14.190881</td>\n",
       "      <td>2020-08-14 22:32:00.881721</td>\n",
       "      <td>Jane</td>\n",
       "      <td>Operations</td>\n",
       "      <td>Federal</td>\n",
       "      <td>8000</td>\n",
       "    </tr>\n",
       "    <tr>\n",
       "      <th>61</th>\n",
       "      <td>989</td>\n",
       "      <td>Update Backend Systems</td>\n",
       "      <td>2020-08-14 22:37:00.881721</td>\n",
       "      <td>2020-08-14 22:57:08.289688</td>\n",
       "      <td>RPA</td>\n",
       "      <td>SYSTEM</td>\n",
       "      <td>Federal</td>\n",
       "      <td>8000</td>\n",
       "    </tr>\n",
       "    <tr>\n",
       "      <th>62</th>\n",
       "      <td>989</td>\n",
       "      <td>Notification Review Request Completed</td>\n",
       "      <td>2020-08-14 23:02:08.289688</td>\n",
       "      <td>2020-08-14 23:08:32.102309</td>\n",
       "      <td>SYSTEM</td>\n",
       "      <td>SYSTEM</td>\n",
       "      <td>Federal</td>\n",
       "      <td>8000</td>\n",
       "    </tr>\n",
       "  </tbody>\n",
       "</table>\n",
       "</div>"
      ],
      "text/plain": [
       "    process_id                                   task  \\\n",
       "56         989          New Client Onboarding Request   \n",
       "57         989                       Review Documents   \n",
       "58         989                Automated Scoreboarding   \n",
       "59         989                   Manual Scoreboarding   \n",
       "60         989                       Review Documents   \n",
       "61         989                 Update Backend Systems   \n",
       "62         989  Notification Review Request Completed   \n",
       "\n",
       "                   start_time                   end_time     user  user_group  \\\n",
       "56 2020-08-14 18:00:00.000000 2020-08-14 18:49:19.148931  Francis       Sales   \n",
       "57 2020-08-14 18:54:19.148931 2020-08-14 19:01:22.108036      Rod  Operations   \n",
       "58 2020-08-14 19:06:22.108036 2020-08-14 19:11:25.992981   SYSTEM      SYSTEM   \n",
       "59 2020-08-14 19:16:25.992981 2020-08-14 22:11:14.190881   Sharon        Risk   \n",
       "60 2020-08-14 22:16:14.190881 2020-08-14 22:32:00.881721     Jane  Operations   \n",
       "61 2020-08-14 22:37:00.881721 2020-08-14 22:57:08.289688      RPA      SYSTEM   \n",
       "62 2020-08-14 23:02:08.289688 2020-08-14 23:08:32.102309   SYSTEM      SYSTEM   \n",
       "\n",
       "   industry  service_charge  \n",
       "56  Federal            8000  \n",
       "57  Federal            8000  \n",
       "58  Federal            8000  \n",
       "59  Federal            8000  \n",
       "60  Federal            8000  \n",
       "61  Federal            8000  \n",
       "62  Federal            8000  "
      ]
     },
     "execution_count": 183,
     "metadata": {},
     "output_type": "execute_result"
    }
   ],
   "source": [
    "df[df['process_id'] == 989]"
   ]
  },
  {
   "cell_type": "code",
   "execution_count": 184,
   "id": "f3a41622",
   "metadata": {
    "pycharm": {
     "name": "#%%\n"
    }
   },
   "outputs": [],
   "source": [
    "story_df = df.copy()"
   ]
  },
  {
   "cell_type": "code",
   "execution_count": 185,
   "id": "78d2124b",
   "metadata": {
    "pycharm": {
     "name": "#%%\n"
    }
   },
   "outputs": [
    {
     "data": {
      "text/html": [
       "<div>\n",
       "<style scoped>\n",
       "    .dataframe tbody tr th:only-of-type {\n",
       "        vertical-align: middle;\n",
       "    }\n",
       "\n",
       "    .dataframe tbody tr th {\n",
       "        vertical-align: top;\n",
       "    }\n",
       "\n",
       "    .dataframe thead th {\n",
       "        text-align: right;\n",
       "    }\n",
       "</style>\n",
       "<table border=\"1\" class=\"dataframe\">\n",
       "  <thead>\n",
       "    <tr style=\"text-align: right;\">\n",
       "      <th></th>\n",
       "      <th>process_id</th>\n",
       "      <th>task</th>\n",
       "      <th>start_time</th>\n",
       "      <th>end_time</th>\n",
       "      <th>user</th>\n",
       "      <th>user_group</th>\n",
       "      <th>industry</th>\n",
       "      <th>service_charge</th>\n",
       "    </tr>\n",
       "  </thead>\n",
       "  <tbody>\n",
       "    <tr>\n",
       "      <th>56</th>\n",
       "      <td>989</td>\n",
       "      <td>New Client Onboarding Request</td>\n",
       "      <td>2020-08-14 18:00:00.000000</td>\n",
       "      <td>2020-08-14 18:49:19.148931</td>\n",
       "      <td>Francis</td>\n",
       "      <td>Sales</td>\n",
       "      <td>Federal</td>\n",
       "      <td>8000</td>\n",
       "    </tr>\n",
       "    <tr>\n",
       "      <th>57</th>\n",
       "      <td>989</td>\n",
       "      <td>Review Documents</td>\n",
       "      <td>2020-08-14 18:54:19.148931</td>\n",
       "      <td>2020-08-14 19:01:22.108036</td>\n",
       "      <td>Rod</td>\n",
       "      <td>Operations</td>\n",
       "      <td>Federal</td>\n",
       "      <td>8000</td>\n",
       "    </tr>\n",
       "    <tr>\n",
       "      <th>58</th>\n",
       "      <td>989</td>\n",
       "      <td>Automated Scoreboarding</td>\n",
       "      <td>2020-08-14 19:06:22.108036</td>\n",
       "      <td>2020-08-14 19:11:25.992981</td>\n",
       "      <td>SYSTEM</td>\n",
       "      <td>SYSTEM</td>\n",
       "      <td>Federal</td>\n",
       "      <td>8000</td>\n",
       "    </tr>\n",
       "    <tr>\n",
       "      <th>59</th>\n",
       "      <td>989</td>\n",
       "      <td>Manual Scoreboarding</td>\n",
       "      <td>2020-08-14 19:16:25.992981</td>\n",
       "      <td>2020-08-14 22:11:14.190881</td>\n",
       "      <td>Sharon</td>\n",
       "      <td>Risk</td>\n",
       "      <td>Federal</td>\n",
       "      <td>8000</td>\n",
       "    </tr>\n",
       "    <tr>\n",
       "      <th>60</th>\n",
       "      <td>989</td>\n",
       "      <td>Review Documents</td>\n",
       "      <td>2020-08-14 22:16:14.190881</td>\n",
       "      <td>2020-08-14 22:32:00.881721</td>\n",
       "      <td>Jane</td>\n",
       "      <td>Operations</td>\n",
       "      <td>Federal</td>\n",
       "      <td>8000</td>\n",
       "    </tr>\n",
       "    <tr>\n",
       "      <th>61</th>\n",
       "      <td>989</td>\n",
       "      <td>Update Backend Systems</td>\n",
       "      <td>2020-08-14 22:37:00.881721</td>\n",
       "      <td>2020-08-14 22:57:08.289688</td>\n",
       "      <td>RPA</td>\n",
       "      <td>SYSTEM</td>\n",
       "      <td>Federal</td>\n",
       "      <td>8000</td>\n",
       "    </tr>\n",
       "    <tr>\n",
       "      <th>62</th>\n",
       "      <td>989</td>\n",
       "      <td>Notification Review Request Completed</td>\n",
       "      <td>2020-08-14 23:02:08.289688</td>\n",
       "      <td>2020-08-14 23:08:32.102309</td>\n",
       "      <td>SYSTEM</td>\n",
       "      <td>SYSTEM</td>\n",
       "      <td>Federal</td>\n",
       "      <td>8000</td>\n",
       "    </tr>\n",
       "  </tbody>\n",
       "</table>\n",
       "</div>"
      ],
      "text/plain": [
       "    process_id                                   task  \\\n",
       "56         989          New Client Onboarding Request   \n",
       "57         989                       Review Documents   \n",
       "58         989                Automated Scoreboarding   \n",
       "59         989                   Manual Scoreboarding   \n",
       "60         989                       Review Documents   \n",
       "61         989                 Update Backend Systems   \n",
       "62         989  Notification Review Request Completed   \n",
       "\n",
       "                   start_time                   end_time     user  user_group  \\\n",
       "56 2020-08-14 18:00:00.000000 2020-08-14 18:49:19.148931  Francis       Sales   \n",
       "57 2020-08-14 18:54:19.148931 2020-08-14 19:01:22.108036      Rod  Operations   \n",
       "58 2020-08-14 19:06:22.108036 2020-08-14 19:11:25.992981   SYSTEM      SYSTEM   \n",
       "59 2020-08-14 19:16:25.992981 2020-08-14 22:11:14.190881   Sharon        Risk   \n",
       "60 2020-08-14 22:16:14.190881 2020-08-14 22:32:00.881721     Jane  Operations   \n",
       "61 2020-08-14 22:37:00.881721 2020-08-14 22:57:08.289688      RPA      SYSTEM   \n",
       "62 2020-08-14 23:02:08.289688 2020-08-14 23:08:32.102309   SYSTEM      SYSTEM   \n",
       "\n",
       "   industry  service_charge  \n",
       "56  Federal            8000  \n",
       "57  Federal            8000  \n",
       "58  Federal            8000  \n",
       "59  Federal            8000  \n",
       "60  Federal            8000  \n",
       "61  Federal            8000  \n",
       "62  Federal            8000  "
      ]
     },
     "execution_count": 185,
     "metadata": {},
     "output_type": "execute_result"
    }
   ],
   "source": [
    "story_df[story_df['process_id'] == 989]"
   ]
  },
  {
   "cell_type": "code",
   "execution_count": 186,
   "id": "a0f0fd35",
   "metadata": {
    "pycharm": {
     "name": "#%%\n"
    }
   },
   "outputs": [],
   "source": [
    "story_df = delayStartTime(story_df, 'user','Rod', 'Review Documents', 1)"
   ]
  },
  {
   "cell_type": "code",
   "execution_count": 187,
   "id": "644c9439",
   "metadata": {
    "pycharm": {
     "name": "#%%\n"
    }
   },
   "outputs": [
    {
     "data": {
      "text/html": [
       "<div>\n",
       "<style scoped>\n",
       "    .dataframe tbody tr th:only-of-type {\n",
       "        vertical-align: middle;\n",
       "    }\n",
       "\n",
       "    .dataframe tbody tr th {\n",
       "        vertical-align: top;\n",
       "    }\n",
       "\n",
       "    .dataframe thead th {\n",
       "        text-align: right;\n",
       "    }\n",
       "</style>\n",
       "<table border=\"1\" class=\"dataframe\">\n",
       "  <thead>\n",
       "    <tr style=\"text-align: right;\">\n",
       "      <th></th>\n",
       "      <th>process_id</th>\n",
       "      <th>task</th>\n",
       "      <th>start_time</th>\n",
       "      <th>end_time</th>\n",
       "      <th>user</th>\n",
       "      <th>user_group</th>\n",
       "      <th>industry</th>\n",
       "      <th>service_charge</th>\n",
       "    </tr>\n",
       "  </thead>\n",
       "  <tbody>\n",
       "    <tr>\n",
       "      <th>5036</th>\n",
       "      <td>989</td>\n",
       "      <td>New Client Onboarding Request</td>\n",
       "      <td>2020-08-14 18:00:00.000000</td>\n",
       "      <td>2020-08-14 18:49:19.148931</td>\n",
       "      <td>Francis</td>\n",
       "      <td>Sales</td>\n",
       "      <td>Federal</td>\n",
       "      <td>8000</td>\n",
       "    </tr>\n",
       "    <tr>\n",
       "      <th>5037</th>\n",
       "      <td>989</td>\n",
       "      <td>Review Documents</td>\n",
       "      <td>2020-08-14 19:54:19.148931</td>\n",
       "      <td>2020-08-14 20:01:22.108036</td>\n",
       "      <td>Rod</td>\n",
       "      <td>Operations</td>\n",
       "      <td>Federal</td>\n",
       "      <td>8000</td>\n",
       "    </tr>\n",
       "    <tr>\n",
       "      <th>5038</th>\n",
       "      <td>989</td>\n",
       "      <td>Automated Scoreboarding</td>\n",
       "      <td>2020-08-14 20:06:22.108036</td>\n",
       "      <td>2020-08-14 20:11:25.992981</td>\n",
       "      <td>SYSTEM</td>\n",
       "      <td>SYSTEM</td>\n",
       "      <td>Federal</td>\n",
       "      <td>8000</td>\n",
       "    </tr>\n",
       "    <tr>\n",
       "      <th>5039</th>\n",
       "      <td>989</td>\n",
       "      <td>Manual Scoreboarding</td>\n",
       "      <td>2020-08-14 20:16:25.992981</td>\n",
       "      <td>2020-08-14 23:11:14.190881</td>\n",
       "      <td>Sharon</td>\n",
       "      <td>Risk</td>\n",
       "      <td>Federal</td>\n",
       "      <td>8000</td>\n",
       "    </tr>\n",
       "    <tr>\n",
       "      <th>5040</th>\n",
       "      <td>989</td>\n",
       "      <td>Review Documents</td>\n",
       "      <td>2020-08-14 23:16:14.190881</td>\n",
       "      <td>2020-08-14 23:32:00.881721</td>\n",
       "      <td>Jane</td>\n",
       "      <td>Operations</td>\n",
       "      <td>Federal</td>\n",
       "      <td>8000</td>\n",
       "    </tr>\n",
       "    <tr>\n",
       "      <th>5041</th>\n",
       "      <td>989</td>\n",
       "      <td>Update Backend Systems</td>\n",
       "      <td>2020-08-14 23:37:00.881721</td>\n",
       "      <td>2020-08-14 23:57:08.289688</td>\n",
       "      <td>RPA</td>\n",
       "      <td>SYSTEM</td>\n",
       "      <td>Federal</td>\n",
       "      <td>8000</td>\n",
       "    </tr>\n",
       "    <tr>\n",
       "      <th>5042</th>\n",
       "      <td>989</td>\n",
       "      <td>Notification Review Request Completed</td>\n",
       "      <td>2020-08-15 00:02:08.289688</td>\n",
       "      <td>2020-08-15 00:08:32.102309</td>\n",
       "      <td>SYSTEM</td>\n",
       "      <td>SYSTEM</td>\n",
       "      <td>Federal</td>\n",
       "      <td>8000</td>\n",
       "    </tr>\n",
       "  </tbody>\n",
       "</table>\n",
       "</div>"
      ],
      "text/plain": [
       "      process_id                                   task  \\\n",
       "5036         989          New Client Onboarding Request   \n",
       "5037         989                       Review Documents   \n",
       "5038         989                Automated Scoreboarding   \n",
       "5039         989                   Manual Scoreboarding   \n",
       "5040         989                       Review Documents   \n",
       "5041         989                 Update Backend Systems   \n",
       "5042         989  Notification Review Request Completed   \n",
       "\n",
       "                     start_time                   end_time     user  \\\n",
       "5036 2020-08-14 18:00:00.000000 2020-08-14 18:49:19.148931  Francis   \n",
       "5037 2020-08-14 19:54:19.148931 2020-08-14 20:01:22.108036      Rod   \n",
       "5038 2020-08-14 20:06:22.108036 2020-08-14 20:11:25.992981   SYSTEM   \n",
       "5039 2020-08-14 20:16:25.992981 2020-08-14 23:11:14.190881   Sharon   \n",
       "5040 2020-08-14 23:16:14.190881 2020-08-14 23:32:00.881721     Jane   \n",
       "5041 2020-08-14 23:37:00.881721 2020-08-14 23:57:08.289688      RPA   \n",
       "5042 2020-08-15 00:02:08.289688 2020-08-15 00:08:32.102309   SYSTEM   \n",
       "\n",
       "      user_group industry  service_charge  \n",
       "5036       Sales  Federal            8000  \n",
       "5037  Operations  Federal            8000  \n",
       "5038      SYSTEM  Federal            8000  \n",
       "5039        Risk  Federal            8000  \n",
       "5040  Operations  Federal            8000  \n",
       "5041      SYSTEM  Federal            8000  \n",
       "5042      SYSTEM  Federal            8000  "
      ]
     },
     "execution_count": 187,
     "metadata": {},
     "output_type": "execute_result"
    }
   ],
   "source": [
    "story_df[story_df['process_id'] == 989]"
   ]
  },
  {
   "cell_type": "code",
   "execution_count": 188,
   "id": "9c02c227",
   "metadata": {
    "pycharm": {
     "name": "#%%\n"
    }
   },
   "outputs": [],
   "source": [
    "story_df = increaseDuration(story_df, 'industry','Federal', 'Review Documents', 2)"
   ]
  },
  {
   "cell_type": "code",
   "execution_count": 189,
   "id": "9b50658c",
   "metadata": {
    "pycharm": {
     "name": "#%%\n"
    }
   },
   "outputs": [
    {
     "data": {
      "text/html": [
       "<div>\n",
       "<style scoped>\n",
       "    .dataframe tbody tr th:only-of-type {\n",
       "        vertical-align: middle;\n",
       "    }\n",
       "\n",
       "    .dataframe tbody tr th {\n",
       "        vertical-align: top;\n",
       "    }\n",
       "\n",
       "    .dataframe thead th {\n",
       "        text-align: right;\n",
       "    }\n",
       "</style>\n",
       "<table border=\"1\" class=\"dataframe\">\n",
       "  <thead>\n",
       "    <tr style=\"text-align: right;\">\n",
       "      <th></th>\n",
       "      <th>process_id</th>\n",
       "      <th>task</th>\n",
       "      <th>start_time</th>\n",
       "      <th>end_time</th>\n",
       "      <th>user</th>\n",
       "      <th>user_group</th>\n",
       "      <th>industry</th>\n",
       "      <th>service_charge</th>\n",
       "    </tr>\n",
       "  </thead>\n",
       "  <tbody>\n",
       "    <tr>\n",
       "      <th>5036</th>\n",
       "      <td>989</td>\n",
       "      <td>New Client Onboarding Request</td>\n",
       "      <td>2020-08-14 18:00:00.000000</td>\n",
       "      <td>2020-08-14 18:49:19.148931</td>\n",
       "      <td>Francis</td>\n",
       "      <td>Sales</td>\n",
       "      <td>Federal</td>\n",
       "      <td>8000</td>\n",
       "    </tr>\n",
       "    <tr>\n",
       "      <th>5037</th>\n",
       "      <td>989</td>\n",
       "      <td>Review Documents</td>\n",
       "      <td>2020-08-14 19:54:19.148931</td>\n",
       "      <td>2020-08-14 22:01:22.108036</td>\n",
       "      <td>Rod</td>\n",
       "      <td>Operations</td>\n",
       "      <td>Federal</td>\n",
       "      <td>8000</td>\n",
       "    </tr>\n",
       "    <tr>\n",
       "      <th>5038</th>\n",
       "      <td>989</td>\n",
       "      <td>Automated Scoreboarding</td>\n",
       "      <td>2020-08-14 22:06:22.108036</td>\n",
       "      <td>2020-08-14 22:11:25.992981</td>\n",
       "      <td>SYSTEM</td>\n",
       "      <td>SYSTEM</td>\n",
       "      <td>Federal</td>\n",
       "      <td>8000</td>\n",
       "    </tr>\n",
       "    <tr>\n",
       "      <th>5039</th>\n",
       "      <td>989</td>\n",
       "      <td>Manual Scoreboarding</td>\n",
       "      <td>2020-08-14 22:16:25.992981</td>\n",
       "      <td>2020-08-15 01:11:14.190881</td>\n",
       "      <td>Sharon</td>\n",
       "      <td>Risk</td>\n",
       "      <td>Federal</td>\n",
       "      <td>8000</td>\n",
       "    </tr>\n",
       "    <tr>\n",
       "      <th>5040</th>\n",
       "      <td>989</td>\n",
       "      <td>Review Documents</td>\n",
       "      <td>2020-08-14 23:16:14.190881</td>\n",
       "      <td>2020-08-15 01:32:00.881721</td>\n",
       "      <td>Jane</td>\n",
       "      <td>Operations</td>\n",
       "      <td>Federal</td>\n",
       "      <td>8000</td>\n",
       "    </tr>\n",
       "    <tr>\n",
       "      <th>5041</th>\n",
       "      <td>989</td>\n",
       "      <td>Update Backend Systems</td>\n",
       "      <td>2020-08-15 01:37:00.881721</td>\n",
       "      <td>2020-08-15 01:57:08.289688</td>\n",
       "      <td>RPA</td>\n",
       "      <td>SYSTEM</td>\n",
       "      <td>Federal</td>\n",
       "      <td>8000</td>\n",
       "    </tr>\n",
       "    <tr>\n",
       "      <th>5042</th>\n",
       "      <td>989</td>\n",
       "      <td>Notification Review Request Completed</td>\n",
       "      <td>2020-08-15 02:02:08.289688</td>\n",
       "      <td>2020-08-15 02:08:32.102309</td>\n",
       "      <td>SYSTEM</td>\n",
       "      <td>SYSTEM</td>\n",
       "      <td>Federal</td>\n",
       "      <td>8000</td>\n",
       "    </tr>\n",
       "  </tbody>\n",
       "</table>\n",
       "</div>"
      ],
      "text/plain": [
       "      process_id                                   task  \\\n",
       "5036         989          New Client Onboarding Request   \n",
       "5037         989                       Review Documents   \n",
       "5038         989                Automated Scoreboarding   \n",
       "5039         989                   Manual Scoreboarding   \n",
       "5040         989                       Review Documents   \n",
       "5041         989                 Update Backend Systems   \n",
       "5042         989  Notification Review Request Completed   \n",
       "\n",
       "                     start_time                   end_time     user  \\\n",
       "5036 2020-08-14 18:00:00.000000 2020-08-14 18:49:19.148931  Francis   \n",
       "5037 2020-08-14 19:54:19.148931 2020-08-14 22:01:22.108036      Rod   \n",
       "5038 2020-08-14 22:06:22.108036 2020-08-14 22:11:25.992981   SYSTEM   \n",
       "5039 2020-08-14 22:16:25.992981 2020-08-15 01:11:14.190881   Sharon   \n",
       "5040 2020-08-14 23:16:14.190881 2020-08-15 01:32:00.881721     Jane   \n",
       "5041 2020-08-15 01:37:00.881721 2020-08-15 01:57:08.289688      RPA   \n",
       "5042 2020-08-15 02:02:08.289688 2020-08-15 02:08:32.102309   SYSTEM   \n",
       "\n",
       "      user_group industry  service_charge  \n",
       "5036       Sales  Federal            8000  \n",
       "5037  Operations  Federal            8000  \n",
       "5038      SYSTEM  Federal            8000  \n",
       "5039        Risk  Federal            8000  \n",
       "5040  Operations  Federal            8000  \n",
       "5041      SYSTEM  Federal            8000  \n",
       "5042      SYSTEM  Federal            8000  "
      ]
     },
     "execution_count": 189,
     "metadata": {},
     "output_type": "execute_result"
    }
   ],
   "source": [
    "story_df[story_df['process_id'] == 989]"
   ]
  },
  {
   "cell_type": "code",
   "execution_count": null,
   "id": "ab9f6911",
   "metadata": {
    "pycharm": {
     "name": "#%%\n"
    }
   },
   "outputs": [],
   "source": []
  }
 ],
 "metadata": {
  "kernelspec": {
   "display_name": "Python 3 (ipykernel)",
   "language": "python",
   "name": "python3"
  },
  "language_info": {
   "codemirror_mode": {
    "name": "ipython",
    "version": 3
   },
   "file_extension": ".py",
   "mimetype": "text/x-python",
   "name": "python",
   "nbconvert_exporter": "python",
   "pygments_lexer": "ipython3",
   "version": "3.10.5"
  }
 },
 "nbformat": 4,
 "nbformat_minor": 5
}